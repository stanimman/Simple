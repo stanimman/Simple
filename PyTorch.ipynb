{
  "nbformat": 4,
  "nbformat_minor": 0,
  "metadata": {
    "colab": {
      "name": "PyTorch.ipynb",
      "version": "0.3.2",
      "provenance": [],
      "collapsed_sections": []
    },
    "kernelspec": {
      "name": "python3",
      "display_name": "Python 3"
    },
    "accelerator": "GPU"
  },
  "cells": [
    {
      "cell_type": "markdown",
      "metadata": {
        "id": "view-in-github",
        "colab_type": "text"
      },
      "source": [
        "[View in Colaboratory](https://colab.research.google.com/github/stanimman/Simple/blob/master/PyTorch.ipynb)"
      ]
    },
    {
      "metadata": {
        "id": "kt0TVKP_szjj",
        "colab_type": "code",
        "colab": {
          "base_uri": "https://localhost:8080/",
          "height": 51
        },
        "outputId": "88a78c49-ba47-47ba-8ed1-d2ac0c0caffa"
      },
      "cell_type": "code",
      "source": [
        "from os import path\n",
        "from wheel.pep425tags import get_abbr_impl, get_impl_ver, get_abi_tag\n",
        "platform = '{}{}-{}'.format(get_abbr_impl(), get_impl_ver(), get_abi_tag())\n",
        "\n",
        "accelerator = 'cu80' if path.exists('/opt/bin/nvidia-smi') else 'cpu'\n",
        "\n",
        "!pip install -q http://download.pytorch.org/whl/{accelerator}/torch-0.4.0-{platform}-linux_x86_64.whl torchvision\n",
        "import torch\n",
        "print(torch.__version__)\n",
        "print(torch.cuda.is_available())"
      ],
      "execution_count": 1,
      "outputs": [
        {
          "output_type": "stream",
          "text": [
            "0.4.0\n",
            "True\n"
          ],
          "name": "stdout"
        }
      ]
    },
    {
      "metadata": {
        "id": "ENrSLx8ds7dv",
        "colab_type": "code",
        "colab": {}
      },
      "cell_type": "code",
      "source": [
        "import torch \n",
        "import torchvision\n",
        "import torch.nn as nn\n",
        "import numpy as np\n",
        "import torchvision.transforms as transforms"
      ],
      "execution_count": 0,
      "outputs": []
    },
    {
      "metadata": {
        "id": "IS9s1fRLtJCK",
        "colab_type": "code",
        "colab": {
          "base_uri": "https://localhost:8080/",
          "height": 68
        },
        "outputId": "5b98bce1-326a-4aad-d52d-5a9c77709ea4"
      },
      "cell_type": "code",
      "source": [
        "# Create tensors.\n",
        "x = torch.tensor(1, requires_grad=True)\n",
        "w = torch.tensor(2, requires_grad=True)\n",
        "b = torch.tensor(3, requires_grad=True)\n",
        "\n",
        "# Build a computational graph.\n",
        "y = w * x + b    # y = 2 * x + 3\n",
        "\n",
        "# Compute gradients.\n",
        "y.backward()\n",
        "\n",
        "# Print out the gradients.\n",
        "print(x.grad)    # x.grad = 2 \n",
        "print(w.grad)    # w.grad = 1 \n",
        "print(b.grad)    # b.grad = 1 "
      ],
      "execution_count": 3,
      "outputs": [
        {
          "output_type": "stream",
          "text": [
            "tensor(2)\n",
            "tensor(1)\n",
            "tensor(1)\n"
          ],
          "name": "stdout"
        }
      ]
    },
    {
      "metadata": {
        "id": "68eaXuuZtSZQ",
        "colab_type": "code",
        "colab": {
          "base_uri": "https://localhost:8080/",
          "height": 187
        },
        "outputId": "a14e1cbf-ef69-4f68-a079-b3688d2b8a65"
      },
      "cell_type": "code",
      "source": [
        "# Create tensors of shape (10, 3) and (10, 2).\n",
        "x = torch.randn(10, 3)\n",
        "y = torch.randn(10, 2)\n",
        "\n",
        "# Build a fully connected layer.\n",
        "linear = nn.Linear(3, 2)\n",
        "print ('w: ', linear.weight)\n",
        "print ('b: ', linear.bias)\n",
        "\n",
        "# Build loss function and optimizer.\n",
        "criterion = nn.MSELoss()\n",
        "optimizer = torch.optim.SGD(linear.parameters(), lr=0.01)\n",
        "\n",
        "# Forward pass.\n",
        "pred = linear(x)\n",
        "\n",
        "# Compute loss.\n",
        "loss = criterion(pred, y)\n",
        "print('loss: ', loss.item())\n",
        "\n",
        "# Backward pass.\n",
        "loss.backward()\n",
        "\n",
        "# Print out the gradients.\n",
        "print ('dL/dw: ', linear.weight.grad) \n",
        "print ('dL/db: ', linear.bias.grad)\n",
        "\n",
        "# 1-step gradient descent.\n",
        "optimizer.step()\n",
        "\n",
        "# You can also perform gradient descent at the low level.\n",
        "# linear.weight.data.sub_(0.01 * linear.weight.grad.data)\n",
        "# linear.bias.data.sub_(0.01 * linear.bias.grad.data)\n",
        "\n",
        "# Print out the loss after 1-step gradient descent.\n",
        "pred = linear(x)\n",
        "loss = criterion(pred, y)\n",
        "print('loss after 1 step optimization: ', loss.item())"
      ],
      "execution_count": 4,
      "outputs": [
        {
          "output_type": "stream",
          "text": [
            "w:  Parameter containing:\n",
            "tensor([[ 0.3198,  0.4820, -0.2685],\n",
            "        [ 0.1167,  0.3881,  0.1796]])\n",
            "b:  Parameter containing:\n",
            "tensor([-0.3936,  0.3638])\n",
            "loss:  0.8711881637573242\n",
            "dL/dw:  tensor([[ 0.4784,  0.0350, -0.2091],\n",
            "        [ 0.1972,  0.0892,  0.5245]])\n",
            "dL/db:  tensor([-0.8244,  0.3222])\n",
            "loss after 1 step optimization:  0.8574962615966797\n"
          ],
          "name": "stdout"
        }
      ]
    },
    {
      "metadata": {
        "id": "x6I81upeuBV2",
        "colab_type": "code",
        "colab": {
          "base_uri": "https://localhost:8080/",
          "height": 306
        },
        "outputId": "10c74eac-a467-4d3a-fbf1-bd49d0187ac6"
      },
      "cell_type": "code",
      "source": [
        "# My Code of Linear regression - Define sample with increasing y\n",
        "np.random.seed(5)\n",
        "a = np.random.randn(5,4)\n",
        "print('a :', a)\n",
        "x = torch.from_numpy(a)\n",
        "x = x.type(torch.float)\n",
        "#x = torch.randn(10,4)\n",
        "y = torch.tensor([[2.0],[4.0], [6.0],[10.0],[12.0]])\n",
        "\n",
        "print('x : ', x)\n",
        "print('y : ', y)\n",
        "print('x_shape : ', x.shape)\n",
        "print('y_shape : ', y.shape) \n"
      ],
      "execution_count": 41,
      "outputs": [
        {
          "output_type": "stream",
          "text": [
            "a : [[ 0.44122749 -0.33087015  2.43077119 -0.25209213]\n",
            " [ 0.10960984  1.58248112 -0.9092324  -0.59163666]\n",
            " [ 0.18760323 -0.32986996 -1.19276461 -0.20487651]\n",
            " [-0.35882895  0.6034716  -1.66478853 -0.70017904]\n",
            " [ 1.15139101  1.85733101 -1.51117956  0.64484751]]\n",
            "x :  tensor([[ 0.4412, -0.3309,  2.4308, -0.2521],\n",
            "        [ 0.1096,  1.5825, -0.9092, -0.5916],\n",
            "        [ 0.1876, -0.3299, -1.1928, -0.2049],\n",
            "        [-0.3588,  0.6035, -1.6648, -0.7002],\n",
            "        [ 1.1514,  1.8573, -1.5112,  0.6448]])\n",
            "y :  tensor([[  2.],\n",
            "        [  4.],\n",
            "        [  6.],\n",
            "        [ 10.],\n",
            "        [ 12.]])\n",
            "x_shape :  torch.Size([5, 4])\n",
            "y_shape :  torch.Size([5, 1])\n"
          ],
          "name": "stdout"
        }
      ]
    },
    {
      "metadata": {
        "id": "s1BNh3V7zvL3",
        "colab_type": "code",
        "colab": {
          "base_uri": "https://localhost:8080/",
          "height": 85
        },
        "outputId": "b9dfa023-d700-484c-a2f9-d2397f9fc22d"
      },
      "cell_type": "code",
      "source": [
        "# Define Linear Model give Input(No. of feature) and output \n",
        "\n",
        "model = nn.Linear(4,1) # We try to predict the value on output (eg: House price ) with four given feature (room size, etc..)\n",
        "criterion = nn.MSELoss()\n",
        "optimizer = torch.optim.SGD(linear.parameters(),lr=.001) # linear parameters are w, b which we get using linear.weight , linear.bias\n",
        "print ('Weight & Bias Before Training ',model.weight,'&', model.bias)\n",
        "for epoch in range(700):\n",
        "  # Forward_pass\n",
        "  pred = model(x) # give the data to calculate forward linear layer\n",
        "\n",
        "  loss = criterion(pred,y) # compare prediction vs actuals\n",
        "  if epoch == 699 :\n",
        "    print ('Epoch : loss ' , epoch, loss.item())\n",
        "\n",
        "  # Make gradient to be zero\n",
        "  optimizer.zero_grad()\n",
        "\n",
        "  # Backward pass  Auto differntiation not much of an worry\n",
        "  loss.backward()\n",
        "\n",
        "  #Update using optimizer after calculating loss\n",
        "  optimizer.step()\n"
      ],
      "execution_count": 42,
      "outputs": [
        {
          "output_type": "stream",
          "text": [
            "Weight & Bias Before Training  Parameter containing:\n",
            "tensor([[ 0.4892, -0.3781,  0.2221, -0.0857]]) & Parameter containing:\n",
            "tensor([ 0.4086])\n",
            "Epoch : loss  699 60.71684646606445\n"
          ],
          "name": "stdout"
        }
      ]
    },
    {
      "metadata": {
        "id": "jewAgYsqzpsj",
        "colab_type": "code",
        "colab": {
          "base_uri": "https://localhost:8080/",
          "height": 102
        },
        "outputId": "3797a311-6bc8-49b8-e422-102d85a7f79f"
      },
      "cell_type": "code",
      "source": [
        "# After Training I am trying to predict for a known x = 0.4412, -0.3309,  2.4308, -0.2521\n",
        "\n",
        "x_test = torch.tensor([[0.4412, -0.3309,  2.4308, -0.2521]])\n",
        "print (x_test.shape)\n",
        "x_test = x_test.type(torch.float)\n",
        "y_test = model(x_test)\n",
        "print (x_test , y_test)\n",
        "print (model.weight, model.bias)"
      ],
      "execution_count": 43,
      "outputs": [
        {
          "output_type": "stream",
          "text": [
            "torch.Size([1, 4])\n",
            "tensor([[ 0.4412, -0.3309,  2.4308, -0.2521]]) tensor([[ 1.3111]])\n",
            "Parameter containing:\n",
            "tensor([[ 0.4892, -0.3781,  0.2221, -0.0857]]) Parameter containing:\n",
            "tensor([ 0.4086])\n"
          ],
          "name": "stdout"
        }
      ]
    },
    {
      "metadata": {
        "id": "b-_ODgwj9QCG",
        "colab_type": "code",
        "colab": {
          "base_uri": "https://localhost:8080/",
          "height": 347
        },
        "outputId": "944db54d-ca7c-417a-e426-d00eeb353f51"
      },
      "cell_type": "code",
      "source": [
        "# Verification using Graph\n",
        "import matplotlib.pyplot as plt\n",
        "Predicted_y = model(x)\n",
        "predicted = Predicted_y.detach().numpy() # converting to numpy\n",
        "y_new = np.array([[2.0],[4.0], [6.0],[10.0],[12.0]])\n",
        "plt.plot(a, y_new, 'ro', label='Original data')\n",
        "plt.plot(a, predicted, label='Fitted line')\n",
        "plt.legend()\n",
        "plt.show()"
      ],
      "execution_count": 53,
      "outputs": [
        {
          "output_type": "display_data",
          "data": {
            "image/png": "[encoded data removed]",
            "text/plain": [
              "<matplotlib.figure.Figure at 0x7f76e3e5f3c8>"
            ]
          },
          "metadata": {
            "tags": []
          }
        }
      ]
    },
    {
      "metadata": {
        "id": "JFvgQjmi_J9m",
        "colab_type": "code",
        "colab": {}
      },
      "cell_type": "code",
      "source": [
        "# Should not have tried for more than 2 dimensions still good to see some weird visualiazation"
      ],
      "execution_count": 0,
      "outputs": []
    },
    {
      "metadata": {
        "id": "RwSrUjBI_aWJ",
        "colab_type": "code",
        "colab": {}
      },
      "cell_type": "code",
      "source": [
        "# Save the model checkpoint\n",
        "torch.save(model.state_dict(), 'model.ckpt')"
      ],
      "execution_count": 0,
      "outputs": []
    },
    {
      "metadata": {
        "id": "aqy5AtBw_uft",
        "colab_type": "code",
        "colab": {}
      },
      "cell_type": "code",
      "source": [
        "# Logistic Regression for MNIST\n",
        "# Hyper-parameters \n",
        "input_size = 784\n",
        "num_classes = 10\n",
        "num_epochs = 5\n",
        "batch_size = 100\n",
        "learning_rate = 0.001"
      ],
      "execution_count": 0,
      "outputs": []
    },
    {
      "metadata": {
        "id": "B5bqFL2KACtH",
        "colab_type": "code",
        "colab": {
          "base_uri": "https://localhost:8080/",
          "height": 119
        },
        "outputId": "ef74048e-1b6e-467b-948a-73e1b4e2ef61"
      },
      "cell_type": "code",
      "source": [
        "# MNIST dataset (images and labels)\n",
        "train_dataset = torchvision.datasets.MNIST(root='../../data', \n",
        "                                           train=True, \n",
        "                                           transform=transforms.ToTensor(),\n",
        "                                           download=True)\n",
        "\n",
        "test_dataset = torchvision.datasets.MNIST(root='../../data', \n",
        "                                          train=False, \n",
        "                                          transform=transforms.ToTensor())\n",
        "\n",
        "# Data loader (input pipeline)\n",
        "train_loader = torch.utils.data.DataLoader(dataset=train_dataset, \n",
        "                                           batch_size=batch_size, \n",
        "                                           shuffle=True)\n",
        "\n",
        "test_loader = torch.utils.data.DataLoader(dataset=test_dataset, \n",
        "                                          batch_size=batch_size, \n",
        "                                          shuffle=False)"
      ],
      "execution_count": 56,
      "outputs": [
        {
          "output_type": "stream",
          "text": [
            "Downloading http://yann.lecun.com/exdb/mnist/train-images-idx3-ubyte.gz\n",
            "Downloading http://yann.lecun.com/exdb/mnist/train-labels-idx1-ubyte.gz\n",
            "Downloading http://yann.lecun.com/exdb/mnist/t10k-images-idx3-ubyte.gz\n",
            "Downloading http://yann.lecun.com/exdb/mnist/t10k-labels-idx1-ubyte.gz\n",
            "Processing...\n",
            "Done!\n"
          ],
          "name": "stdout"
        }
      ]
    },
    {
      "metadata": {
        "id": "hNUC3ezSMOpe",
        "colab_type": "code",
        "colab": {
          "base_uri": "https://localhost:8080/",
          "height": 500
        },
        "outputId": "5b91480b-3a84-4295-d8e0-df78d1ac99f1"
      },
      "cell_type": "code",
      "source": [
        "# Our data is in dataset as a tuple , x(images) , y(labels) \n",
        "for i in range(len(train_dataset)):\n",
        "    sample = train_dataset[i]\n",
        "\n",
        "    print(i, sample[0].size(), sample[1].size())\n",
        "    print(sample[1])\n",
        "    reshaped_Image = sample[0].reshape(-1,28*28)\n",
        "    print(reshaped_Image.shape)\n",
        "    img = sample[0].numpy()\n",
        "    two_d = (np.reshape(img, (28, 28)) * 255).astype(np.uint8)\n",
        "    plt.imshow(two_d, interpolation='nearest')\n",
        "    #imgplot = plt.imshow(img)\n",
        "    if i == 2:\n",
        "        break"
      ],
      "execution_count": 80,
      "outputs": [
        {
          "output_type": "stream",
          "text": [
            "0 torch.Size([1, 28, 28]) torch.Size([])\n",
            "tensor(5)\n",
            "torch.Size([1, 784])\n",
            "1 torch.Size([1, 28, 28]) torch.Size([])\n",
            "tensor(0)\n",
            "torch.Size([1, 784])\n",
            "2 torch.Size([1, 28, 28]) torch.Size([])\n",
            "tensor(4)\n",
            "torch.Size([1, 784])\n"
          ],
          "name": "stdout"
        },
        {
          "output_type": "display_data",
          "data": {
            "image/png": "[encoded data removed]",
            "text/plain": [
              "<matplotlib.figure.Figure at 0x7f76e3636978>"
            ]
          },
          "metadata": {
            "tags": []
          }
        }
      ]
    },
    {
      "metadata": {
        "id": "06zSuY-FD0nP",
        "colab_type": "code",
        "colab": {
          "base_uri": "https://localhost:8080/",
          "height": 198
        },
        "outputId": "68e37318-e955-4381-de3c-2cc2e37fbd08"
      },
      "cell_type": "code",
      "source": [
        "# https://www.youtube.com/watch?v=zN49HdDxHi8&list=PLYhW1ajuwgHdF9tWF_QfjcgGkK4C2rcYv&index=6 \n",
        "# Know about data loader A format to process the dataset very fast \n",
        "# Define Dataset in a specific format from the dataset use a dataloader to feed in data in batch \n",
        "for i, (imageslearn, labelslearn) in enumerate(train_loader):\n",
        "  imageslearn, labelslearn = train_loader\n",
        "  break "
      ],
      "execution_count": 68,
      "outputs": [
        {
          "output_type": "error",
          "ename": "ValueError",
          "evalue": "ignored",
          "traceback": [
            "\u001b[0;31m---------------------------------------------------------------------------\u001b[0m",
            "\u001b[0;31mValueError\u001b[0m                                Traceback (most recent call last)",
            "\u001b[0;32m<ipython-input-68-b5d39c534aaa>\u001b[0m in \u001b[0;36m<module>\u001b[0;34m()\u001b[0m\n\u001b[1;32m      1\u001b[0m \u001b[0;32mfor\u001b[0m \u001b[0mi\u001b[0m\u001b[0;34m,\u001b[0m \u001b[0;34m(\u001b[0m\u001b[0mimageslearn\u001b[0m\u001b[0;34m,\u001b[0m \u001b[0mlabelslearn\u001b[0m\u001b[0;34m)\u001b[0m \u001b[0;32min\u001b[0m \u001b[0menumerate\u001b[0m\u001b[0;34m(\u001b[0m\u001b[0mtrain_loader\u001b[0m\u001b[0;34m)\u001b[0m\u001b[0;34m:\u001b[0m\u001b[0;34m\u001b[0m\u001b[0m\n\u001b[0;32m----> 2\u001b[0;31m   \u001b[0mimageslearn\u001b[0m\u001b[0;34m,\u001b[0m \u001b[0mlabelslearn\u001b[0m \u001b[0;34m=\u001b[0m \u001b[0mtrain_loader\u001b[0m\u001b[0;34m\u001b[0m\u001b[0m\n\u001b[0m\u001b[1;32m      3\u001b[0m   \u001b[0;32mbreak\u001b[0m\u001b[0;34m\u001b[0m\u001b[0m\n",
            "\u001b[0;31mValueError\u001b[0m: too many values to unpack (expected 2)"
          ]
        }
      ]
    },
    {
      "metadata": {
        "id": "jpPS8AP2Cuzm",
        "colab_type": "code",
        "colab": {}
      },
      "cell_type": "code",
      "source": [
        ""
      ],
      "execution_count": 0,
      "outputs": []
    },
    {
      "metadata": {
        "id": "oAzYLQagDN7w",
        "colab_type": "code",
        "colab": {}
      },
      "cell_type": "code",
      "source": [
        ""
      ],
      "execution_count": 0,
      "outputs": []
    },
    {
      "metadata": {
        "id": "QhmoeOs8AIZ1",
        "colab_type": "code",
        "colab": {}
      },
      "cell_type": "code",
      "source": [
        "# Logistic regression model No change in forward path\n",
        "model = nn.Linear(input_size, num_classes)"
      ],
      "execution_count": 0,
      "outputs": []
    },
    {
      "metadata": {
        "id": "j0nFNUr3AXmY",
        "colab_type": "code",
        "colab": {}
      },
      "cell_type": "code",
      "source": [
        "# Loss and optimizer\n",
        "# nn.CrossEntropyLoss() computes softmax internally \n",
        "criterion = nn.CrossEntropyLoss()  \n",
        "optimizer = torch.optim.SGD(model.parameters(), lr=learning_rate)  \n"
      ],
      "execution_count": 0,
      "outputs": []
    },
    {
      "metadata": {
        "id": "QXKccZrkA-Bx",
        "colab_type": "code",
        "colab": {
          "base_uri": "https://localhost:8080/",
          "height": 527
        },
        "outputId": "b903ab8f-ab25-4160-8cf0-66f2d2986091"
      },
      "cell_type": "code",
      "source": [
        "# Train the model\n",
        "total_step = len(train_loader)\n",
        "for epoch in range(num_epochs):\n",
        "    for i, (images, labels) in enumerate(train_loader):\n",
        "        # Reshape images to (batch_size, input_size)\n",
        "        images = images.reshape(-1, 28*28)\n",
        "        \n",
        "        # Forward pass\n",
        "        outputs = model(images)\n",
        "        loss = criterion(outputs, labels)\n",
        "        \n",
        "        # Backward and optimize\n",
        "        optimizer.zero_grad()\n",
        "        loss.backward()\n",
        "        optimizer.step()\n",
        "        \n",
        "        if (i+1) % 100 == 0:\n",
        "            print ('Epoch [{}/{}], Step [{}/{}], Loss: {:.4f}' \n",
        "                   .format(epoch+1, num_epochs, i+1, total_step, loss.item()))"
      ],
      "execution_count": 59,
      "outputs": [
        {
          "output_type": "stream",
          "text": [
            "Epoch [1/5], Step [100/600], Loss: 2.2349\n",
            "Epoch [1/5], Step [200/600], Loss: 2.1444\n",
            "Epoch [1/5], Step [300/600], Loss: 2.0707\n",
            "Epoch [1/5], Step [400/600], Loss: 1.9911\n",
            "Epoch [1/5], Step [500/600], Loss: 1.9063\n",
            "Epoch [1/5], Step [600/600], Loss: 1.7988\n",
            "Epoch [2/5], Step [100/600], Loss: 1.7157\n",
            "Epoch [2/5], Step [200/600], Loss: 1.5781\n",
            "Epoch [2/5], Step [300/600], Loss: 1.6202\n",
            "Epoch [2/5], Step [400/600], Loss: 1.5734\n",
            "Epoch [2/5], Step [500/600], Loss: 1.6033\n",
            "Epoch [2/5], Step [600/600], Loss: 1.5234\n",
            "Epoch [3/5], Step [100/600], Loss: 1.4260\n",
            "Epoch [3/5], Step [200/600], Loss: 1.3569\n",
            "Epoch [3/5], Step [300/600], Loss: 1.4186\n",
            "Epoch [3/5], Step [400/600], Loss: 1.2569\n",
            "Epoch [3/5], Step [500/600], Loss: 1.2653\n",
            "Epoch [3/5], Step [600/600], Loss: 1.1690\n",
            "Epoch [4/5], Step [100/600], Loss: 1.2391\n",
            "Epoch [4/5], Step [200/600], Loss: 1.1172\n",
            "Epoch [4/5], Step [300/600], Loss: 1.1254\n",
            "Epoch [4/5], Step [400/600], Loss: 1.1859\n",
            "Epoch [4/5], Step [500/600], Loss: 1.1405\n",
            "Epoch [4/5], Step [600/600], Loss: 1.1090\n",
            "Epoch [5/5], Step [100/600], Loss: 1.1752\n",
            "Epoch [5/5], Step [200/600], Loss: 1.0755\n",
            "Epoch [5/5], Step [300/600], Loss: 1.0453\n",
            "Epoch [5/5], Step [400/600], Loss: 1.0233\n",
            "Epoch [5/5], Step [500/600], Loss: 0.9576\n",
            "Epoch [5/5], Step [600/600], Loss: 1.0513\n"
          ],
          "name": "stdout"
        }
      ]
    },
    {
      "metadata": {
        "id": "t4VjCIkhBOX7",
        "colab_type": "code",
        "colab": {
          "base_uri": "https://localhost:8080/",
          "height": 34
        },
        "outputId": "49a9542c-d924-4e17-f17d-b054ae94a4cd"
      },
      "cell_type": "code",
      "source": [
        "# Test the model\n",
        "# In test phase, we don't need to compute gradients (for memory efficiency)\n",
        "with torch.no_grad():\n",
        "    correct = 0\n",
        "    total = 0\n",
        "    for images, labels in test_loader:\n",
        "        images = images.reshape(-1, 28*28)\n",
        "        outputs = model(images)\n",
        "        _, predicted = torch.max(outputs.data, 1)\n",
        "        total += labels.size(0)\n",
        "        correct += (predicted == labels).sum()\n",
        "\n",
        "    print('Accuracy of the model on the 10000 test images: {} %'.format(100 * correct / total))\n"
      ],
      "execution_count": 60,
      "outputs": [
        {
          "output_type": "stream",
          "text": [
            "Accuracy of the model on the 10000 test images: 83 %\n"
          ],
          "name": "stdout"
        }
      ]
    },
    {
      "metadata": {
        "id": "vzYEypWVBl5E",
        "colab_type": "code",
        "colab": {}
      },
      "cell_type": "code",
      "source": [
        "# Save the model checkpoint\n",
        "torch.save(model.state_dict(), 'model1.ckpt')"
      ],
      "execution_count": 0,
      "outputs": []
    },
    {
      "metadata": {
        "id": "A3EnLp6vCta3",
        "colab_type": "code",
        "colab": {}
      },
      "cell_type": "code",
      "source": [
        ""
      ],
      "execution_count": 0,
      "outputs": []
    }
  ]
}