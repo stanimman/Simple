{
  "nbformat": 4,
  "nbformat_minor": 0,
  "metadata": {
    "colab": {
      "name": "Entity_Embedding.ipynb",
      "version": "0.3.2",
      "provenance": [],
      "collapsed_sections": []
    },
    "kernelspec": {
      "name": "python3",
      "display_name": "Python 3"
    },
    "accelerator": "GPU"
  },
  "cells": [
    {
      "cell_type": "markdown",
      "metadata": {
        "id": "view-in-github",
        "colab_type": "text"
      },
      "source": [
        "[View in Colaboratory](https://colab.research.google.com/github/stanimman/Simple/blob/master/Entity_Embedding.ipynb)"
      ]
    },
    {
      "metadata": {
        "id": "WjJ2sy-r8pyh",
        "colab_type": "code",
        "colab": {
          "base_uri": "https://localhost:8080/",
          "height": 105
        },
        "outputId": "62ccd293-de37-4471-cca7-4ebf76f1ad1b"
      },
      "cell_type": "code",
      "source": [
        "!apt-get install  -y -qq software-properties-common python-software-properties module-init-tools\n",
        "!add-apt-repository -y ppa:alessandro-strada/ppa 2>&1 > /dev/null\n",
        "!apt-get update -qq 2>&1 > /dev/null\n",
        "!apt-get -y install -qq google-drive-ocamlfuse fuse\n",
        "from google.colab import auth\n",
        "auth.authenticate_user()\n",
        "from oauth2client.client import GoogleCredentials\n",
        "creds = GoogleCredentials.get_application_default()\n",
        "import getpass\n",
        "!google-drive-ocamlfuse -headless -id={creds.client_id} -secret={creds.client_secret} < /dev/null 2>&1 | grep URL\n",
        "vcode = getpass.getpass()\n",
        "!echo {vcode} | google-drive-ocamlfuse -headless -id={creds.client_id} -secret={creds.client_secret}"
      ],
      "execution_count": 1,
      "outputs": [
        {
          "output_type": "stream",
          "text": [
            "Please, open the following URL in a web browser: https://accounts.google.com/o/oauth2/auth?client_id=32555940559.apps.googleusercontent.com&redirect_uri=urn%3Aietf%3Awg%3Aoauth%3A2.0%3Aoob&scope=https%3A%2F%2Fwww.googleapis.com%2Fauth%2Fdrive&response_type=code&access_type=offline&approval_prompt=force\r\n",
            "··········\n",
            "Please, open the following URL in a web browser: https://accounts.google.com/o/oauth2/auth?client_id=32555940559.apps.googleusercontent.com&redirect_uri=urn%3Aietf%3Awg%3Aoauth%3A2.0%3Aoob&scope=https%3A%2F%2Fwww.googleapis.com%2Fauth%2Fdrive&response_type=code&access_type=offline&approval_prompt=force\n",
            "Please enter the verification code: Access token retrieved correctly.\n"
          ],
          "name": "stdout"
        }
      ]
    },
    {
      "metadata": {
        "id": "oVss_z6z88u2",
        "colab_type": "code",
        "colab": {
          "base_uri": "https://localhost:8080/",
          "height": 1618
        },
        "outputId": "7466a3fe-a52c-4a40-f706-01010b76588c"
      },
      "cell_type": "code",
      "source": [
        "!mkdir data\n",
        "!cd data\n",
        "!pip install kaggle-cli\n",
        "!kg download -u 'stanimman' -p '***' -c 'home-credit-default-risk'"
      ],
      "execution_count": 3,
      "outputs": [
        {
          "output_type": "stream",
          "text": [
            "mkdir: cannot create directory ‘data’: File exists\n",
            "Collecting kaggle-cli\n",
            "  Using cached https://files.pythonhosted.org/packages/67/61/710d02460bc4367ffd1f5e71cd9c031fb278f78aa0e8e32ca9dd99a2add8/kaggle-cli-0.12.13.tar.gz\n",
            "Collecting cliff<2.9,>=2.8.0 (from kaggle-cli)\n",
            "  Using cached https://files.pythonhosted.org/packages/ee/e8/140ad9b5826920a8b85c187095e7725b87b913fc40243aa66dd04e9d82d6/cliff-2.8.1.tar.gz\n",
            "Collecting MechanicalSoup<0.9,>=0.7.0 (from kaggle-cli)\n",
            "  Using cached https://files.pythonhosted.org/packages/5c/2e/f63ed26b51e36efa4cc22cad18187fcb0a253f756d548c96bb931f13de98/MechanicalSoup-0.8.0-py2.py3-none-any.whl\n",
            "Collecting lxml<4.1,>=4.0.0 (from kaggle-cli)\n",
            "  Using cached https://files.pythonhosted.org/packages/a0/b5/4c6995f8f259f0858f79460e6d277888f8498ce1c1a466dfbb24f06ba83f/lxml-4.0.0-cp36-cp36m-manylinux1_x86_64.whl\n",
            "Collecting cssselect<1.1,>=1.0.1 (from kaggle-cli)\n",
            "  Using cached https://files.pythonhosted.org/packages/7b/44/25b7283e50585f0b4156960691d951b05d061abf4a714078393e51929b30/cssselect-1.0.3-py2.py3-none-any.whl\n",
            "Collecting configparser (from kaggle-cli)\n",
            "  Using cached https://files.pythonhosted.org/packages/7c/69/c2ce7e91c89dc073eb1aa74c0621c3eefbffe8216b3f9af9d3885265c01c/configparser-3.5.0.tar.gz\n",
            "Collecting progressbar2<3.35,>=3.34.3 (from kaggle-cli)\n",
            "  Using cached https://files.pythonhosted.org/packages/87/31/b984e17bcc7491c1baeda3906fe3abc14cb5cd5dbd046ab46d9fc7a2edfd/progressbar2-3.34.3-py2.py3-none-any.whl\n",
            "Requirement already satisfied: beautifulsoup4<4.7,>=4.6.0 in /usr/local/lib/python3.6/dist-packages (from kaggle-cli) (4.6.0)\n",
            "Collecting pbr!=2.1.0,>=2.0.0 (from cliff<2.9,>=2.8.0->kaggle-cli)\n",
            "  Using cached https://files.pythonhosted.org/packages/2d/9d/7bfab757977067556c7ca5fe437f28e8b8843c95564fca504de79df63b25/pbr-4.0.3-py2.py3-none-any.whl\n",
            "Collecting cmd2>=0.6.7 (from cliff<2.9,>=2.8.0->kaggle-cli)\n",
            "  Using cached https://files.pythonhosted.org/packages/21/17/76a4dc6ac0e0281d87387fd2cbb9cc92ece379c590d9acb7a1693e4aebd8/cmd2-0.9.1-py3-none-any.whl\n",
            "Collecting PrettyTable<0.8,>=0.7.1 (from cliff<2.9,>=2.8.0->kaggle-cli)\n",
            "  Using cached https://files.pythonhosted.org/packages/ef/30/4b0746848746ed5941f052479e7c23d2b56d174b82f4fd34a25e389831f5/prettytable-0.7.2.tar.bz2\n",
            "Requirement already satisfied: pyparsing>=2.1.0 in /usr/local/lib/python3.6/dist-packages (from cliff<2.9,>=2.8.0->kaggle-cli) (2.2.0)\n",
            "Requirement already satisfied: six>=1.9.0 in /usr/local/lib/python3.6/dist-packages (from cliff<2.9,>=2.8.0->kaggle-cli) (1.11.0)\n",
            "Collecting stevedore>=1.20.0 (from cliff<2.9,>=2.8.0->kaggle-cli)\n",
            "  Using cached https://files.pythonhosted.org/packages/17/6b/3b7d6d08b2ab3e5ef09e01c9f7b3b590ee135f289bb94553419e40922c25/stevedore-1.28.0-py2.py3-none-any.whl\n",
            "Requirement already satisfied: PyYAML>=3.10.0 in /usr/local/lib/python3.6/dist-packages (from cliff<2.9,>=2.8.0->kaggle-cli) (3.12)\n",
            "Requirement already satisfied: requests>=2.0 in /usr/local/lib/python3.6/dist-packages (from MechanicalSoup<0.9,>=0.7.0->kaggle-cli) (2.18.4)\n",
            "Collecting python-utils>=2.1.0 (from progressbar2<3.35,>=3.34.3->kaggle-cli)\n",
            "  Using cached https://files.pythonhosted.org/packages/eb/a0/19119d8b7c05be49baf6c593f11c432d571b70d805f2fe94c0585e55e4c8/python_utils-2.3.0-py2.py3-none-any.whl\n",
            "Requirement already satisfied: wcwidth; sys_platform != \"win32\" in /usr/local/lib/python3.6/dist-packages (from cmd2>=0.6.7->cliff<2.9,>=2.8.0->kaggle-cli) (0.1.7)\n",
            "Collecting colorama (from cmd2>=0.6.7->cliff<2.9,>=2.8.0->kaggle-cli)\n",
            "  Using cached https://files.pythonhosted.org/packages/db/c8/7dcf9dbcb22429512708fe3a547f8b6101c0d02137acbd892505aee57adf/colorama-0.3.9-py2.py3-none-any.whl\n",
            "Collecting pyperclip>=1.5.27 (from cmd2>=0.6.7->cliff<2.9,>=2.8.0->kaggle-cli)\n",
            "  Using cached https://files.pythonhosted.org/packages/33/15/f3c29b381815ae75e27589583655f4a8567721c541b8ba8cd52f76868655/pyperclip-1.6.2.tar.gz\n",
            "Requirement already satisfied: chardet<3.1.0,>=3.0.2 in /usr/local/lib/python3.6/dist-packages (from requests>=2.0->MechanicalSoup<0.9,>=0.7.0->kaggle-cli) (3.0.4)\n",
            "Requirement already satisfied: certifi>=2017.4.17 in /usr/local/lib/python3.6/dist-packages (from requests>=2.0->MechanicalSoup<0.9,>=0.7.0->kaggle-cli) (2018.4.16)\n",
            "Requirement already satisfied: urllib3<1.23,>=1.21.1 in /usr/local/lib/python3.6/dist-packages (from requests>=2.0->MechanicalSoup<0.9,>=0.7.0->kaggle-cli) (1.22)\n",
            "Requirement already satisfied: idna<2.7,>=2.5 in /usr/local/lib/python3.6/dist-packages (from requests>=2.0->MechanicalSoup<0.9,>=0.7.0->kaggle-cli) (2.6)\n",
            "Building wheels for collected packages: kaggle-cli, cliff, configparser, PrettyTable, pyperclip\n",
            "  Running setup.py bdist_wheel for kaggle-cli ... \u001b[?25l-\b \bdone\n",
            "\u001b[?25h  Stored in directory: /content/.cache/pip/wheels/d5/bb/10/c1dd1b08c7433c943cb55c46367ae3f891415e8a37300ff8a7\n",
            "  Running setup.py bdist_wheel for cliff ... \u001b[?25l-\b \b\\\b \bdone\n",
            "\u001b[?25h  Stored in directory: /content/.cache/pip/wheels/50/00/6d/d4aeb5ccdd47dd76800592b26f943e4959bc705b2d4e6e54e1\n",
            "  Running setup.py bdist_wheel for configparser ... \u001b[?25l-\b \bdone\n",
            "\u001b[?25h  Stored in directory: /content/.cache/pip/wheels/a3/61/79/424ef897a2f3b14684a7de5d89e8600b460b89663e6ce9d17c\n",
            "  Running setup.py bdist_wheel for PrettyTable ... \u001b[?25l-\b \bdone\n",
            "\u001b[?25h  Stored in directory: /content/.cache/pip/wheels/80/34/1c/3967380d9676d162cb59513bd9dc862d0584e045a162095606\n",
            "  Running setup.py bdist_wheel for pyperclip ... \u001b[?25l-"
          ],
          "name": "stdout"
        },
        {
          "output_type": "stream",
          "text": [
            "\b \bdone\r\n",
            "\u001b[?25h  Stored in directory: /content/.cache/pip/wheels/58/32/92/2227fba72f0702e4168f084c6dfc2d6d3fd1904634ab61ca6a\r\n",
            "Successfully built kaggle-cli cliff configparser PrettyTable pyperclip\n",
            "Installing collected packages: pbr, colorama, pyperclip, cmd2, PrettyTable, stevedore, cliff, MechanicalSoup, lxml, cssselect, configparser, python-utils, progressbar2, kaggle-cli\n",
            "Successfully installed MechanicalSoup-0.8.0 PrettyTable-0.7.2 cliff-2.8.1 cmd2-0.9.1 colorama-0.3.9 configparser-3.5.0 cssselect-1.0.3 kaggle-cli-0.12.13 lxml-4.0.0 pbr-4.0.3 progressbar2-3.34.3 pyperclip-1.6.2 python-utils-2.3.0 stevedore-1.28.0\n",
            "downloading https://www.kaggle.com/c/home-credit-default-risk/download/sample_submission.csv.zip\n",
            "\n",
            "sample_submission.csv.zip 100% |####################| Time: 0:00:00 176.8 KiB/s\n",
            "\n",
            "downloading https://www.kaggle.com/c/home-credit-default-risk/download/application_test.csv.zip\n",
            "\n",
            "application_test.csv.zip 100% |#####################| Time: 0:00:00   6.8 MiB/s\n",
            "\n",
            "downloading https://www.kaggle.com/c/home-credit-default-risk/download/application_train.csv.zip\n",
            "\n",
            "application_train.csv.zip 100% |####################| Time: 0:00:01  18.8 MiB/s\n",
            "\n",
            "downloading https://www.kaggle.com/c/home-credit-default-risk/download/bureau.csv.zip\n",
            "\n",
            "bureau.csv.zip 100% |###############################| Time: 0:00:01  18.4 MiB/s\n",
            "\n",
            "downloading https://www.kaggle.com/c/home-credit-default-risk/download/bureau_balance.csv.zip\n",
            "\n",
            "bureau_balance.csv.zip 100% |#######################| Time: 0:00:02  24.8 MiB/s\n",
            "\n",
            "downloading https://www.kaggle.com/c/home-credit-default-risk/download/previous_application.csv.zip\n",
            "\n"
          ],
          "name": "stdout"
        },
        {
          "output_type": "stream",
          "text": [
            "previous_application.csv.zip 100% |#################| Time: 0:00:03  21.0 MiB/s\n",
            "\n",
            "downloading https://www.kaggle.com/c/home-credit-default-risk/download/credit_card_balance.csv.zip\n",
            "\n",
            "credit_card_balance.csv.zip 100% |##################| Time: 0:00:04  19.7 MiB/s\n",
            "\n",
            "downloading https://www.kaggle.com/c/home-credit-default-risk/download/POS_CASH_balance.csv.zip\n",
            "\n",
            "POS_CASH_balance.csv.zip 100% |#####################| Time: 0:00:04  25.1 MiB/s\n",
            "\n",
            "downloading https://www.kaggle.com/c/home-credit-default-risk/download/installments_payments.csv.zip\n",
            "\n",
            "installments_payments.csv.zip 100% |################| Time: 0:00:10  25.8 MiB/s\n",
            "\n",
            "downloading https://www.kaggle.com/c/home-credit-default-risk/download/HomeCredit_columns_description.csv\n",
            "\n",
            "HomeCredit_columns_description.csv 100% |###########| Time: 0:00:01  31.6 KiB/s\n",
            "\n"
          ],
          "name": "stdout"
        }
      ]
    },
    {
      "metadata": {
        "id": "aR5rIJJ39Rxb",
        "colab_type": "code",
        "colab": {
          "base_uri": "https://localhost:8080/",
          "height": 170
        },
        "outputId": "5ea49bc9-7f14-4c41-ee7c-1bd7ab0038e6"
      },
      "cell_type": "code",
      "source": [
        "! apt install unzip\n"
      ],
      "execution_count": 4,
      "outputs": [
        {
          "output_type": "stream",
          "text": [
            "Reading package lists... Done\n",
            "Building dependency tree       \n",
            "Reading state information... Done\n",
            "unzip is already the newest version (6.0-21ubuntu1).\n",
            "0 upgraded, 0 newly installed, 0 to remove and 12 not upgraded.\n",
            "Archive:  application_train.csv.zip\n",
            "  inflating: application_train.csv   \n",
            "Archive:  application_test.csv.zip\n",
            "  inflating: application_test.csv    \n"
          ],
          "name": "stdout"
        }
      ]
    },
    {
      "metadata": {
        "id": "2_V3vNRW9qfF",
        "colab_type": "code",
        "colab": {}
      },
      "cell_type": "code",
      "source": [
        "# numpy and pandas for data manipulation\n",
        "import numpy as np\n",
        "import pandas as pd \n",
        "\n",
        "# sklearn preprocessing for dealing with categorical variables\n",
        "from sklearn.preprocessing import LabelEncoder\n",
        "\n",
        "# File system manangement\n",
        "import os"
      ],
      "execution_count": 0,
      "outputs": []
    },
    {
      "metadata": {
        "id": "IBQdp2hq-uD9",
        "colab_type": "code",
        "colab": {
          "base_uri": "https://localhost:8080/",
          "height": 85
        },
        "outputId": "cdef7c6f-f611-4f45-b27b-4496916e51bb"
      },
      "cell_type": "code",
      "source": [
        "!unzip application_train.csv.zip\n",
        "!unzip application_test.csv.zip"
      ],
      "execution_count": 9,
      "outputs": [
        {
          "output_type": "stream",
          "text": [
            "Archive:  application_train.csv.zip\n",
            "  inflating: application_train.csv   \n",
            "Archive:  application_test.csv.zip\n",
            "  inflating: application_test.csv    \n"
          ],
          "name": "stdout"
        }
      ]
    },
    {
      "metadata": {
        "id": "3b7jjvKr-mnr",
        "colab_type": "code",
        "colab": {
          "base_uri": "https://localhost:8080/",
          "height": 119
        },
        "outputId": "243d8868-3393-434d-f229-0a9dd5f3d822"
      },
      "cell_type": "code",
      "source": [
        "!ls"
      ],
      "execution_count": 8,
      "outputs": [
        {
          "output_type": "stream",
          "text": [
            "application_test.csv.zip     datalab\r\n",
            "application_train.csv.zip    HomeCredit_columns_description.csv\r\n",
            "bureau_balance.csv.zip\t     installments_payments.csv.zip\r\n",
            "bureau.csv.zip\t\t     POS_CASH_balance.csv.zip\r\n",
            "credit_card_balance.csv.zip  previous_application.csv.zip\r\n",
            "data\t\t\t     sample_submission.csv.zip\r\n"
          ],
          "name": "stdout"
        }
      ]
    },
    {
      "metadata": {
        "id": "Sq4EnHKc996W",
        "colab_type": "code",
        "colab": {}
      },
      "cell_type": "code",
      "source": [
        "app_train = pd.read_csv('/content/application_train.csv')\n",
        "app_test = pd.read_csv('/content/application_test.csv')"
      ],
      "execution_count": 0,
      "outputs": []
    },
    {
      "metadata": {
        "id": "GuhJPdGX-Zyf",
        "colab_type": "code",
        "colab": {
          "base_uri": "https://localhost:8080/",
          "height": 177
        },
        "outputId": "798d1499-f158-4213-f0ff-d498b6290c9e"
      },
      "cell_type": "code",
      "source": [
        "app_train.head(2)"
      ],
      "execution_count": 16,
      "outputs": [
        {
          "output_type": "execute_result",
          "data": {
            "text/html": [
              "<div>\n",
              "<style scoped>\n",
              "    .dataframe tbody tr th:only-of-type {\n",
              "        vertical-align: middle;\n",
              "    }\n",
              "\n",
              "    .dataframe tbody tr th {\n",
              "        vertical-align: top;\n",
              "    }\n",
              "\n",
              "    .dataframe thead th {\n",
              "        text-align: right;\n",
              "    }\n",
              "</style>\n",
              "<table border=\"1\" class=\"dataframe\">\n",
              "  <thead>\n",
              "    <tr style=\"text-align: right;\">\n",
              "      <th></th>\n",
              "      <th>SK_ID_CURR</th>\n",
              "      <th>NAME_CONTRACT_TYPE</th>\n",
              "      <th>FLAG_OWN_CAR</th>\n",
              "      <th>FLAG_OWN_REALTY</th>\n",
              "      <th>CNT_CHILDREN</th>\n",
              "      <th>AMT_INCOME_TOTAL</th>\n",
              "      <th>AMT_CREDIT</th>\n",
              "      <th>AMT_ANNUITY</th>\n",
              "      <th>AMT_GOODS_PRICE</th>\n",
              "      <th>REGION_POPULATION_RELATIVE</th>\n",
              "      <th>...</th>\n",
              "      <th>HOUSETYPE_MODE_terraced house</th>\n",
              "      <th>WALLSMATERIAL_MODE_Block</th>\n",
              "      <th>WALLSMATERIAL_MODE_Mixed</th>\n",
              "      <th>WALLSMATERIAL_MODE_Monolithic</th>\n",
              "      <th>WALLSMATERIAL_MODE_Others</th>\n",
              "      <th>WALLSMATERIAL_MODE_Panel</th>\n",
              "      <th>WALLSMATERIAL_MODE_Stone, brick</th>\n",
              "      <th>WALLSMATERIAL_MODE_Wooden</th>\n",
              "      <th>EMERGENCYSTATE_MODE_No</th>\n",
              "      <th>EMERGENCYSTATE_MODE_Yes</th>\n",
              "    </tr>\n",
              "  </thead>\n",
              "  <tbody>\n",
              "    <tr>\n",
              "      <th>0</th>\n",
              "      <td>100002</td>\n",
              "      <td>0</td>\n",
              "      <td>0</td>\n",
              "      <td>1</td>\n",
              "      <td>0</td>\n",
              "      <td>202500.0</td>\n",
              "      <td>406597.5</td>\n",
              "      <td>24700.5</td>\n",
              "      <td>351000.0</td>\n",
              "      <td>0.018801</td>\n",
              "      <td>...</td>\n",
              "      <td>0</td>\n",
              "      <td>0</td>\n",
              "      <td>0</td>\n",
              "      <td>0</td>\n",
              "      <td>0</td>\n",
              "      <td>0</td>\n",
              "      <td>1</td>\n",
              "      <td>0</td>\n",
              "      <td>1</td>\n",
              "      <td>0</td>\n",
              "    </tr>\n",
              "    <tr>\n",
              "      <th>1</th>\n",
              "      <td>100003</td>\n",
              "      <td>0</td>\n",
              "      <td>0</td>\n",
              "      <td>0</td>\n",
              "      <td>0</td>\n",
              "      <td>270000.0</td>\n",
              "      <td>1293502.5</td>\n",
              "      <td>35698.5</td>\n",
              "      <td>1129500.0</td>\n",
              "      <td>0.003541</td>\n",
              "      <td>...</td>\n",
              "      <td>0</td>\n",
              "      <td>1</td>\n",
              "      <td>0</td>\n",
              "      <td>0</td>\n",
              "      <td>0</td>\n",
              "      <td>0</td>\n",
              "      <td>0</td>\n",
              "      <td>0</td>\n",
              "      <td>1</td>\n",
              "      <td>0</td>\n",
              "    </tr>\n",
              "  </tbody>\n",
              "</table>\n",
              "<p>2 rows × 239 columns</p>\n",
              "</div>"
            ],
            "text/plain": [
              "   SK_ID_CURR  NAME_CONTRACT_TYPE  FLAG_OWN_CAR  FLAG_OWN_REALTY  \\\n",
              "0      100002                   0             0                1   \n",
              "1      100003                   0             0                0   \n",
              "\n",
              "   CNT_CHILDREN  AMT_INCOME_TOTAL  AMT_CREDIT  AMT_ANNUITY  AMT_GOODS_PRICE  \\\n",
              "0             0          202500.0    406597.5      24700.5         351000.0   \n",
              "1             0          270000.0   1293502.5      35698.5        1129500.0   \n",
              "\n",
              "   REGION_POPULATION_RELATIVE           ...             \\\n",
              "0                    0.018801           ...              \n",
              "1                    0.003541           ...              \n",
              "\n",
              "   HOUSETYPE_MODE_terraced house  WALLSMATERIAL_MODE_Block  \\\n",
              "0                              0                         0   \n",
              "1                              0                         1   \n",
              "\n",
              "   WALLSMATERIAL_MODE_Mixed  WALLSMATERIAL_MODE_Monolithic  \\\n",
              "0                         0                              0   \n",
              "1                         0                              0   \n",
              "\n",
              "   WALLSMATERIAL_MODE_Others  WALLSMATERIAL_MODE_Panel  \\\n",
              "0                          0                         0   \n",
              "1                          0                         0   \n",
              "\n",
              "   WALLSMATERIAL_MODE_Stone, brick  WALLSMATERIAL_MODE_Wooden  \\\n",
              "0                                1                          0   \n",
              "1                                0                          0   \n",
              "\n",
              "   EMERGENCYSTATE_MODE_No  EMERGENCYSTATE_MODE_Yes  \n",
              "0                       1                        0  \n",
              "1                       1                        0  \n",
              "\n",
              "[2 rows x 239 columns]"
            ]
          },
          "metadata": {
            "tags": []
          },
          "execution_count": 16
        }
      ]
    },
    {
      "metadata": {
        "id": "I7CnWMlb-ea7",
        "colab_type": "code",
        "colab": {
          "base_uri": "https://localhost:8080/",
          "height": 34
        },
        "outputId": "2b98f542-5044-4d53-d17d-3511a3644480"
      },
      "cell_type": "code",
      "source": [
        "# Create a label encoder object\n",
        "le = LabelEncoder()\n",
        "le_count = 0\n",
        "\n",
        "# Iterate through the columns\n",
        "for col in app_train:\n",
        "    if app_train[col].dtype == 'object':\n",
        "        # If 2 or fewer unique categories\n",
        "        if len(list(app_train[col].unique())) <= 2:\n",
        "            # Train on the training data\n",
        "            le.fit(app_train[col])\n",
        "            # Transform both training and testing data\n",
        "            app_train[col] = le.transform(app_train[col])\n",
        "            app_test[col] = le.transform(app_test[col])\n",
        "            \n",
        "            # Keep track of how many columns were label encoded\n",
        "            le_count += 1\n",
        "            \n",
        "print('%d columns were label encoded.' % le_count)"
      ],
      "execution_count": 55,
      "outputs": [
        {
          "output_type": "stream",
          "text": [
            "3 columns were label encoded.\n"
          ],
          "name": "stdout"
        }
      ]
    },
    {
      "metadata": {
        "id": "M3lMdtgK_8MP",
        "colab_type": "code",
        "colab": {
          "base_uri": "https://localhost:8080/",
          "height": 51
        },
        "outputId": "19604d58-23bc-43ca-df01-b0d2ccde6d15"
      },
      "cell_type": "code",
      "source": [
        "# one-hot encoding of categorical variables\n",
        "app_train = pd.get_dummies(app_train)\n",
        "app_test = pd.get_dummies(app_test)\n",
        "\n",
        "print('Training Features shape: ', app_train.shape)\n",
        "print('Testing Features shape: ', app_test.shape)"
      ],
      "execution_count": 56,
      "outputs": [
        {
          "output_type": "stream",
          "text": [
            "Training Features shape:  (307511, 243)\n",
            "Testing Features shape:  (48744, 239)\n"
          ],
          "name": "stdout"
        }
      ]
    },
    {
      "metadata": {
        "id": "GPYznHefAAht",
        "colab_type": "code",
        "colab": {
          "base_uri": "https://localhost:8080/",
          "height": 51
        },
        "outputId": "13a8a0a4-e117-4690-9edb-eecd4a71dd4c"
      },
      "cell_type": "code",
      "source": [
        "train_labels = app_train['TARGET']\n",
        "\n",
        "# Align the training and testing data, keep only columns present in both dataframes\n",
        "app_train, app_test = app_train.align(app_test, join = 'inner', axis = 1)\n",
        "\n",
        "print('Training Features shape: ', app_train.shape)\n",
        "print('Testing Features shape: ', app_test.shape)"
      ],
      "execution_count": 57,
      "outputs": [
        {
          "output_type": "stream",
          "text": [
            "Training Features shape:  (307511, 239)\n",
            "Testing Features shape:  (48744, 239)\n"
          ],
          "name": "stdout"
        }
      ]
    },
    {
      "metadata": {
        "id": "pf9q2HQtIoEb",
        "colab_type": "code",
        "colab": {
          "base_uri": "https://localhost:8080/",
          "height": 51
        },
        "outputId": "03d5da05-13ea-4571-8b3f-0c881e1f2b9f"
      },
      "cell_type": "code",
      "source": [
        "from sklearn.preprocessing import MinMaxScaler, Imputer\n",
        "\n",
        "# Drop the target from the training data\n",
        "if 'TARGET' in app_train:\n",
        "    train = app_train.drop(columns = ['TARGET'])\n",
        "else:\n",
        "    train = app_train.copy()\n",
        "features = list(train.columns)\n",
        "\n",
        "# Copy of the testing data\n",
        "test = app_test.copy()\n",
        "\n",
        "# Median imputation of missing values\n",
        "imputer = Imputer(strategy = 'median')\n",
        "\n",
        "# Scale each feature to 0-1\n",
        "scaler = MinMaxScaler(feature_range = (0, 1))\n",
        "\n",
        "# Fit on the training data\n",
        "imputer.fit(train)\n",
        "\n",
        "# Transform both training and testing data\n",
        "train = imputer.transform(train)\n",
        "test = imputer.transform(app_test)\n",
        "\n",
        "# Repeat with the scaler\n",
        "scaler.fit(train)\n",
        "train = scaler.transform(train)\n",
        "test = scaler.transform(test)\n",
        "\n",
        "print('Training data shape: ', train.shape)\n",
        "print('Testing data shape: ', test.shape)"
      ],
      "execution_count": 60,
      "outputs": [
        {
          "output_type": "stream",
          "text": [
            "Training data shape:  (307511, 239)\n",
            "Testing data shape:  (48744, 239)\n"
          ],
          "name": "stdout"
        }
      ]
    },
    {
      "metadata": {
        "id": "XfAraOTHJKwn",
        "colab_type": "code",
        "colab": {
          "base_uri": "https://localhost:8080/",
          "height": 51
        },
        "outputId": "285c6870-1774-4cfd-ee5a-e42f7b31beee"
      },
      "cell_type": "code",
      "source": [
        "val = train[246009:]\n",
        "train = train[:246009]\n",
        "print(train.shape)\n",
        "print(val.shape)"
      ],
      "execution_count": 61,
      "outputs": [
        {
          "output_type": "stream",
          "text": [
            "(246009, 239)\n",
            "(61502, 239)\n"
          ],
          "name": "stdout"
        }
      ]
    },
    {
      "metadata": {
        "id": "j5m_QVLbO7Ca",
        "colab_type": "code",
        "colab": {
          "base_uri": "https://localhost:8080/",
          "height": 34
        },
        "outputId": "f0470ea9-cf97-4621-cdcf-6c454e0a5a55"
      },
      "cell_type": "code",
      "source": [
        "print(val.shape)"
      ],
      "execution_count": 53,
      "outputs": [
        {
          "output_type": "stream",
          "text": [
            "(0, 239)\n"
          ],
          "name": "stdout"
        }
      ]
    },
    {
      "metadata": {
        "id": "sFfCr-DLL38K",
        "colab_type": "code",
        "colab": {
          "base_uri": "https://localhost:8080/",
          "height": 215
        },
        "outputId": "a6a935e4-4333-414f-d11a-6c217a02f5f1"
      },
      "cell_type": "code",
      "source": [
        "train_label = train_labels[:246009] #80% Need to randomize / Highly imbalanced\n",
        "val_label = train_labels[246009:] \n",
        "print(train_label.shape)\n",
        "print(val_label.shape)"
      ],
      "execution_count": 24,
      "outputs": [
        {
          "output_type": "stream",
          "text": [
            "(246009,)\n"
          ],
          "name": "stdout"
        },
        {
          "output_type": "error",
          "ename": "NameError",
          "evalue": "ignored",
          "traceback": [
            "\u001b[0;31m---------------------------------------------------------------------------\u001b[0m",
            "\u001b[0;31mNameError\u001b[0m                                 Traceback (most recent call last)",
            "\u001b[0;32m<ipython-input-24-60b724a162cc>\u001b[0m in \u001b[0;36m<module>\u001b[0;34m()\u001b[0m\n\u001b[1;32m      2\u001b[0m \u001b[0mval_label\u001b[0m \u001b[0;34m=\u001b[0m \u001b[0mtrain_labels\u001b[0m\u001b[0;34m[\u001b[0m\u001b[0;36m246009\u001b[0m\u001b[0;34m:\u001b[0m\u001b[0;34m]\u001b[0m\u001b[0;34m\u001b[0m\u001b[0m\n\u001b[1;32m      3\u001b[0m \u001b[0mprint\u001b[0m\u001b[0;34m(\u001b[0m\u001b[0mtrain_label\u001b[0m\u001b[0;34m.\u001b[0m\u001b[0mshape\u001b[0m\u001b[0;34m)\u001b[0m\u001b[0;34m\u001b[0m\u001b[0m\n\u001b[0;32m----> 4\u001b[0;31m \u001b[0mprint\u001b[0m\u001b[0;34m(\u001b[0m\u001b[0mtest_label\u001b[0m\u001b[0;34m.\u001b[0m\u001b[0mshape\u001b[0m\u001b[0;34m)\u001b[0m\u001b[0;34m\u001b[0m\u001b[0m\n\u001b[0m",
            "\u001b[0;31mNameError\u001b[0m: name 'test_label' is not defined"
          ]
        }
      ]
    },
    {
      "metadata": {
        "id": "UhQ4FKG9BNSg",
        "colab_type": "code",
        "colab": {}
      },
      "cell_type": "code",
      "source": [
        "#Split into Train / Validation - Not Now\n",
        "#train=app_train.sample(frac=0.8,random_state=200)\n",
        "#Validation=app_train.drop(train.index)"
      ],
      "execution_count": 0,
      "outputs": []
    },
    {
      "metadata": {
        "id": "ubdFlCD9E-WE",
        "colab_type": "code",
        "colab": {
          "base_uri": "https://localhost:8080/",
          "height": 88
        },
        "outputId": "4eb37ca2-c99d-42e2-ea33-ebf82b65508d"
      },
      "cell_type": "code",
      "source": [
        "from os import path\n",
        "from wheel.pep425tags import get_abbr_impl, get_impl_ver, get_abi_tag\n",
        "platform = '{}{}-{}'.format(get_abbr_impl(), get_impl_ver(), get_abi_tag())\n",
        "\n",
        "accelerator = 'cu80' if path.exists('/opt/bin/nvidia-smi') else 'cpu'\n",
        "\n",
        "!pip install -q http://download.pytorch.org/whl/{accelerator}/torch-0.4.0-{platform}-linux_x86_64.whl torchvision\n",
        "import torch\n",
        "print(torch.__version__)\n",
        "print(torch.cuda.is_available())"
      ],
      "execution_count": 25,
      "outputs": [
        {
          "output_type": "stream",
          "text": [
            "tcmalloc: large alloc 1073750016 bytes == 0x5bc06000 @  0x7fabc2bc21c4 0x46d6a4 0x5fcbcc 0x4c494d 0x54f3c4 0x553aaf 0x54e4c8 0x54f4f6 0x553aaf 0x54efc1 0x54f24d 0x553aaf 0x54efc1 0x54f24d 0x553aaf 0x54efc1 0x54f24d 0x551ee0 0x54e4c8 0x54f4f6 0x553aaf 0x54efc1 0x54f24d 0x551ee0 0x54efc1 0x54f24d 0x551ee0 0x54e4c8 0x54f4f6 0x553aaf 0x54e4c8\r\n",
            "0.4.0\n",
            "True\n"
          ],
          "name": "stdout"
        }
      ]
    },
    {
      "metadata": {
        "id": "Q0ni0th4EXNs",
        "colab_type": "code",
        "colab": {}
      },
      "cell_type": "code",
      "source": [
        "import torch \n",
        "import torch.nn as nn"
      ],
      "execution_count": 0,
      "outputs": []
    },
    {
      "metadata": {
        "id": "yUHuveajILG8",
        "colab_type": "code",
        "colab": {}
      },
      "cell_type": "code",
      "source": [
        ""
      ],
      "execution_count": 0,
      "outputs": []
    },
    {
      "metadata": {
        "id": "5qQPtbl7DucJ",
        "colab_type": "code",
        "colab": {}
      },
      "cell_type": "code",
      "source": [
        "# Logistic Regression for MNIST\n",
        "# Hyper-parameters \n",
        "input_size = 239\n",
        "num_classes = 2\n",
        "num_epochs = 5\n",
        "batch_size = 1000\n",
        "learning_rate = 0.001"
      ],
      "execution_count": 0,
      "outputs": []
    },
    {
      "metadata": {
        "id": "kO-NbjqVPFT3",
        "colab_type": "code",
        "colab": {}
      },
      "cell_type": "code",
      "source": [
        "train_torch = torch.from_numpy(train)\n",
        "train_torch = train_torch.type(torch.float)\n",
        "\n",
        "\n"
      ],
      "execution_count": 0,
      "outputs": []
    },
    {
      "metadata": {
        "id": "9XPQjvhUPkzu",
        "colab_type": "code",
        "colab": {}
      },
      "cell_type": "code",
      "source": [
        "val_torch = torch.from_numpy(val)\n",
        "val_torch = val_torch.type(torch.float)"
      ],
      "execution_count": 0,
      "outputs": []
    },
    {
      "metadata": {
        "id": "DNbeQDVDRULI",
        "colab_type": "code",
        "colab": {}
      },
      "cell_type": "code",
      "source": [
        "train_torch_label = train_label.astype('float32')\n",
        "val_torch_label = val_label.astype('float32')\n"
      ],
      "execution_count": 0,
      "outputs": []
    },
    {
      "metadata": {
        "id": "O3FpOG6oS8Cp",
        "colab_type": "code",
        "colab": {}
      },
      "cell_type": "code",
      "source": [
        "#train_torch_label = torch.from_numpy(np.array(train_label.astype('int32')))\n",
        "#train_torch_label = train_torch_label.type(torch.FloatTensor)"
      ],
      "execution_count": 0,
      "outputs": []
    },
    {
      "metadata": {
        "id": "wTUeiHdpVfxi",
        "colab_type": "code",
        "colab": {
          "base_uri": "https://localhost:8080/",
          "height": 51
        },
        "outputId": "d207e642-2c51-4c71-c472-48c0c85de41b"
      },
      "cell_type": "code",
      "source": [
        "shape_check = np.array(train_label.values.reshape(-1,1))\n",
        "print(shape_check.shape)\n",
        "print(shape_check.dtype)"
      ],
      "execution_count": 41,
      "outputs": [
        {
          "output_type": "stream",
          "text": [
            "(246009, 1)\n",
            "int64\n"
          ],
          "name": "stdout"
        }
      ]
    },
    {
      "metadata": {
        "id": "Ccmf79hYWXZV",
        "colab_type": "code",
        "colab": {}
      },
      "cell_type": "code",
      "source": [
        "train_torch_label = torch.from_numpy(shape_check)\n",
        "#train_torch_label = train_torch_label.type(torch.FloatTensor)\n"
      ],
      "execution_count": 0,
      "outputs": []
    },
    {
      "metadata": {
        "id": "N3G8n98qSN2u",
        "colab_type": "code",
        "colab": {
          "base_uri": "https://localhost:8080/",
          "height": 34
        },
        "outputId": "e39313d2-d95f-4efc-b01d-0dddbf9c6392"
      },
      "cell_type": "code",
      "source": [
        "shape_check_en = np.array(train_label.values.reshape(-1))\n",
        "print(shape_check_en.shape)\n",
        "train_torch_label = torch.from_numpy(shape_check_en)\n",
        "train_torch_label = train_torch_label.type(torch.LongTensor) #Entropy Loss"
      ],
      "execution_count": 74,
      "outputs": [
        {
          "output_type": "stream",
          "text": [
            "(246009,)\n"
          ],
          "name": "stdout"
        }
      ]
    },
    {
      "metadata": {
        "id": "GEbpGXjLSwVg",
        "colab_type": "code",
        "colab": {
          "base_uri": "https://localhost:8080/",
          "height": 153
        },
        "outputId": "254c888c-7d3d-451d-c3aa-2ec20c4c5612"
      },
      "cell_type": "code",
      "source": [
        "train_torch_label[1:100]"
      ],
      "execution_count": 75,
      "outputs": [
        {
          "output_type": "execute_result",
          "data": {
            "text/plain": [
              "tensor([ 0,  0,  0,  0,  0,  0,  0,  0,  0,  0,  0,  0,  0,  0,\n",
              "         0,  0,  0,  0,  0,  0,  0,  0,  0,  0,  0,  1,  0,  0,\n",
              "         0,  0,  0,  0,  0,  0,  0,  0,  0,  0,  0,  1,  0,  1,\n",
              "         0,  0,  0,  0,  0,  0,  0,  0,  0,  0,  0,  0,  0,  0,\n",
              "         0,  0,  0,  0,  0,  0,  0,  0,  0,  0,  0,  0,  0,  0,\n",
              "         0,  0,  0,  0,  0,  0,  0,  0,  0,  0,  1,  0,  0,  0,\n",
              "         0,  0,  0,  0,  0,  0,  0,  0,  0,  1,  0,  0,  0,  0,\n",
              "         0])"
            ]
          },
          "metadata": {
            "tags": []
          },
          "execution_count": 75
        }
      ]
    },
    {
      "metadata": {
        "id": "KOC8Vo0ZVF2m",
        "colab_type": "code",
        "colab": {
          "base_uri": "https://localhost:8080/",
          "height": 51
        },
        "outputId": "b05dc97b-4da7-4d03-d5ef-dcdbfe5e74ac"
      },
      "cell_type": "code",
      "source": [
        "print(train_torch_label.shape)\n",
        "print(train_torch.shape)"
      ],
      "execution_count": 34,
      "outputs": [
        {
          "output_type": "stream",
          "text": [
            "torch.Size([246009, 1])\n",
            "torch.Size([246009, 239])\n"
          ],
          "name": "stdout"
        }
      ]
    },
    {
      "metadata": {
        "id": "aPioZOL3E2at",
        "colab_type": "code",
        "colab": {
          "base_uri": "https://localhost:8080/",
          "height": 1717
        },
        "outputId": "09c8ed0b-16c3-403c-d513-e5f3d3c3e20f"
      },
      "cell_type": "code",
      "source": [
        "model = nn.Linear(input_size,2) # We try to predict the value on output (eg: House price ) with four given feature (room size, etc..)\n",
        "#criterion = nn.BCEWithLogitsLoss()\n",
        "criterion = nn.CrossEntropyLoss()  #- Not working need to know why \n",
        "optimizer = torch.optim.SGD(model.parameters(),lr=.001) # linear parameters are w, b which we get using linear.weight , linear.bias\n",
        "#print ('Weight & Bias Before Training ',model.weight,'&', model.bias)\n",
        "for epoch in range(1000):\n",
        "  # Forward_pass\n",
        "  pred = model(train_torch) # give the data to calculate forward linear layer\n",
        "\n",
        "  loss = criterion(pred,train_torch_label) # compare prediction vs actuals\n",
        "  if (epoch + 1) % 10 == 0 :\n",
        "    print ('Epoch : loss ' , epoch, loss.item())\n",
        "\n",
        "  # Make gradient to be zero\n",
        "  optimizer.zero_grad()\n",
        "\n",
        "  # Backward pass  Auto differntiation not much of an worry\n",
        "  loss.backward()\n",
        "\n",
        "  #Update using optimizer after calculating loss\n",
        "  optimizer.step()"
      ],
      "execution_count": 78,
      "outputs": [
        {
          "output_type": "stream",
          "text": [
            "Epoch : loss  9 0.7202233672142029\n",
            "Epoch : loss  19 0.656916081905365\n",
            "Epoch : loss  29 0.6042614579200745\n",
            "Epoch : loss  39 0.5603563189506531\n",
            "Epoch : loss  49 0.523647665977478\n",
            "Epoch : loss  59 0.49281832575798035\n",
            "Epoch : loss  69 0.4667985439300537\n",
            "Epoch : loss  79 0.44472846388816833\n",
            "Epoch : loss  89 0.4259069859981537\n",
            "Epoch : loss  99 0.4097803235054016\n",
            "Epoch : loss  109 0.39588966965675354\n",
            "Epoch : loss  119 0.3838669955730438\n",
            "Epoch : loss  129 0.373418927192688\n",
            "Epoch : loss  139 0.36429110169410706\n",
            "Epoch : loss  149 0.35629841685295105\n",
            "Epoch : loss  159 0.34924760460853577\n",
            "Epoch : loss  169 0.34302955865859985\n",
            "Epoch : loss  179 0.337514191865921\n",
            "Epoch : loss  189 0.3326060473918915\n",
            "Epoch : loss  199 0.32822930812835693\n",
            "Epoch : loss  209 0.32431474328041077\n",
            "Epoch : loss  219 0.32080078125\n",
            "Epoch : loss  229 0.3176402747631073\n",
            "Epoch : loss  239 0.31479012966156006\n",
            "Epoch : loss  249 0.31221550703048706\n",
            "Epoch : loss  259 0.3098870813846588\n",
            "Epoch : loss  269 0.3077670931816101\n",
            "Epoch : loss  279 0.30584242939949036\n",
            "Epoch : loss  289 0.3040943145751953\n",
            "Epoch : loss  299 0.3024941682815552\n",
            "Epoch : loss  309 0.3010302484035492\n",
            "Epoch : loss  319 0.299690306186676\n",
            "Epoch : loss  329 0.2984620928764343\n",
            "Epoch : loss  339 0.2973388135433197\n",
            "Epoch : loss  349 0.2963007092475891\n",
            "Epoch : loss  359 0.29534783959388733\n",
            "Epoch : loss  369 0.2944687604904175\n",
            "Epoch : loss  379 0.2936602830886841\n",
            "Epoch : loss  389 0.2929108440876007\n",
            "Epoch : loss  399 0.2922075390815735\n",
            "Epoch : loss  409 0.29157382249832153\n",
            "Epoch : loss  419 0.2909772992134094\n",
            "Epoch : loss  429 0.29042571783065796\n",
            "Epoch : loss  439 0.2899099886417389\n",
            "Epoch : loss  449 0.2894282937049866\n",
            "Epoch : loss  459 0.2889890670776367\n",
            "Epoch : loss  469 0.2885796129703522\n",
            "Epoch : loss  479 0.28818655014038086\n",
            "Epoch : loss  489 0.28782758116722107\n",
            "Epoch : loss  499 0.28749147057533264\n",
            "Epoch : loss  509 0.28717294335365295\n",
            "Epoch : loss  519 0.28688836097717285\n",
            "Epoch : loss  529 0.2866109311580658\n",
            "Epoch : loss  539 0.2863512933254242\n",
            "Epoch : loss  549 0.286105215549469\n",
            "Epoch : loss  559 0.2858771085739136\n",
            "Epoch : loss  569 0.2856631875038147\n",
            "Epoch : loss  579 0.2854643166065216\n",
            "Epoch : loss  589 0.2852798104286194\n",
            "Epoch : loss  599 0.28510117530822754\n",
            "Epoch : loss  609 0.2849358022212982\n",
            "Epoch : loss  619 0.28477486968040466\n",
            "Epoch : loss  629 0.2846245765686035\n",
            "Epoch : loss  639 0.28448542952537537\n",
            "Epoch : loss  649 0.28435197472572327\n",
            "Epoch : loss  659 0.2842229902744293\n",
            "Epoch : loss  669 0.28410544991493225\n",
            "Epoch : loss  679 0.28399136662483215\n",
            "Epoch : loss  689 0.2838841378688812\n",
            "Epoch : loss  699 0.2837834060192108\n",
            "Epoch : loss  709 0.28368839621543884\n",
            "Epoch : loss  719 0.2835983633995056\n",
            "Epoch : loss  729 0.28350943326950073\n"
          ],
          "name": "stdout"
        },
        {
          "output_type": "stream",
          "text": [
            "Epoch : loss  739 0.2834256887435913\n",
            "Epoch : loss  749 0.28334590792655945\n",
            "Epoch : loss  759 0.28326845169067383\n",
            "Epoch : loss  769 0.28320080041885376\n",
            "Epoch : loss  779 0.2831307649612427\n",
            "Epoch : loss  789 0.2830653786659241\n",
            "Epoch : loss  799 0.2829993665218353\n",
            "Epoch : loss  809 0.282941073179245\n",
            "Epoch : loss  819 0.2828829884529114\n",
            "Epoch : loss  829 0.28282636404037476\n",
            "Epoch : loss  839 0.28277233242988586\n",
            "Epoch : loss  849 0.28271737694740295\n",
            "Epoch : loss  859 0.28267261385917664\n",
            "Epoch : loss  869 0.28262361884117126\n",
            "Epoch : loss  879 0.282578706741333\n",
            "Epoch : loss  889 0.2825348377227783\n",
            "Epoch : loss  899 0.2824908494949341\n",
            "Epoch : loss  909 0.2824496328830719\n",
            "Epoch : loss  919 0.2824104130268097\n",
            "Epoch : loss  929 0.2823731303215027\n",
            "Epoch : loss  939 0.2823340892791748\n",
            "Epoch : loss  949 0.28229907155036926\n",
            "Epoch : loss  959 0.28226059675216675\n",
            "Epoch : loss  969 0.28222551941871643\n",
            "Epoch : loss  979 0.28219348192214966\n",
            "Epoch : loss  989 0.2821611166000366\n",
            "Epoch : loss  999 0.28213241696357727\n"
          ],
          "name": "stdout"
        }
      ]
    },
    {
      "metadata": {
        "id": "NqEHbEH3MTVv",
        "colab_type": "code",
        "colab": {}
      },
      "cell_type": "code",
      "source": [
        "shape_check_1 = np.array(val_label.values.reshape(-1,1))\n",
        "val_torch_label = torch.from_numpy(shape_check_1)\n",
        "val_torch_label = val_torch_label.type(torch.FloatTensor)"
      ],
      "execution_count": 0,
      "outputs": []
    },
    {
      "metadata": {
        "id": "GsGKGbVkN6mR",
        "colab_type": "code",
        "colab": {
          "base_uri": "https://localhost:8080/",
          "height": 34
        },
        "outputId": "de8d4f55-6aeb-4c4f-8001-9c1d90fb7497"
      },
      "cell_type": "code",
      "source": [
        "print(len(val_torch_label))"
      ],
      "execution_count": 50,
      "outputs": [
        {
          "output_type": "stream",
          "text": [
            "61502\n"
          ],
          "name": "stdout"
        }
      ]
    },
    {
      "metadata": {
        "id": "GkhD3XK2Otvd",
        "colab_type": "code",
        "colab": {
          "base_uri": "https://localhost:8080/",
          "height": 34
        },
        "outputId": "25c78711-0560-4f79-8662-176e84ec10f6"
      },
      "cell_type": "code",
      "source": [
        "val_torch.shape"
      ],
      "execution_count": 52,
      "outputs": [
        {
          "output_type": "execute_result",
          "data": {
            "text/plain": [
              "torch.Size([0])"
            ]
          },
          "metadata": {
            "tags": []
          },
          "execution_count": 52
        }
      ]
    },
    {
      "metadata": {
        "id": "e7_7vrp7Onut",
        "colab_type": "code",
        "colab": {}
      },
      "cell_type": "code",
      "source": [
        "outputs = model(val_torch)"
      ],
      "execution_count": 0,
      "outputs": []
    },
    {
      "metadata": {
        "id": "R6F1k2bnPqLx",
        "colab_type": "code",
        "colab": {
          "base_uri": "https://localhost:8080/",
          "height": 1700
        },
        "outputId": "daf0f41c-08d5-40e2-c5ea-7c3fea4aacf3"
      },
      "cell_type": "code",
      "source": [
        "outputs.data[1:100]"
      ],
      "execution_count": 80,
      "outputs": [
        {
          "output_type": "execute_result",
          "data": {
            "text/plain": [
              "tensor([[ 1.3158, -1.0888],\n",
              "        [ 1.2086, -1.4148],\n",
              "        [ 1.1513, -1.4100],\n",
              "        [ 0.9837, -1.2315],\n",
              "        [ 0.9273, -1.2824],\n",
              "        [ 1.1998, -1.4108],\n",
              "        [ 1.1628, -1.4402],\n",
              "        [ 1.0884, -1.2363],\n",
              "        [ 1.2043, -1.1194],\n",
              "        [ 1.1667, -1.1946],\n",
              "        [ 0.9191, -1.3910],\n",
              "        [ 1.3064, -1.0397],\n",
              "        [ 0.9005, -1.5179],\n",
              "        [ 1.3576, -1.0511],\n",
              "        [ 1.3109, -1.1683],\n",
              "        [ 0.9735, -1.2716],\n",
              "        [ 0.9415, -1.1160],\n",
              "        [ 1.1832, -1.4745],\n",
              "        [ 1.0139, -1.0569],\n",
              "        [ 1.1154, -1.2072],\n",
              "        [ 1.0687, -1.0962],\n",
              "        [ 1.0566, -1.1157],\n",
              "        [ 1.0747, -1.1220],\n",
              "        [ 1.0723, -1.2843],\n",
              "        [ 1.1602, -1.0342],\n",
              "        [ 1.1457, -1.1542],\n",
              "        [ 1.1119, -1.1272],\n",
              "        [ 1.1443, -1.3893],\n",
              "        [ 1.1321, -1.1698],\n",
              "        [ 1.1718, -1.1324],\n",
              "        [ 1.2228, -1.1434],\n",
              "        [ 1.0078, -1.0492],\n",
              "        [ 0.9604, -1.1373],\n",
              "        [ 1.1994, -1.2910],\n",
              "        [ 1.0849, -1.4739],\n",
              "        [ 0.9986, -1.3694],\n",
              "        [ 1.0268, -1.3813],\n",
              "        [ 1.0987, -1.2673],\n",
              "        [ 1.1686, -1.2997],\n",
              "        [ 1.1056, -1.3197],\n",
              "        [ 1.1618, -1.2069],\n",
              "        [ 1.2685, -0.9794],\n",
              "        [ 0.9469, -1.2588],\n",
              "        [ 1.2225, -1.1632],\n",
              "        [ 1.1574, -1.4480],\n",
              "        [ 1.3090, -1.1260],\n",
              "        [ 1.0938, -1.4843],\n",
              "        [ 1.2439, -1.3240],\n",
              "        [ 0.9560, -1.2383],\n",
              "        [ 1.5330, -1.3525],\n",
              "        [ 1.1922, -1.0040],\n",
              "        [ 1.1809, -1.4352],\n",
              "        [ 1.3401, -1.0369],\n",
              "        [ 1.2138, -0.9315],\n",
              "        [ 1.0997, -1.0611],\n",
              "        [ 1.0198, -1.0715],\n",
              "        [ 1.0782, -1.2490],\n",
              "        [ 1.1281, -1.1869],\n",
              "        [ 1.1717, -1.1912],\n",
              "        [ 1.0214, -1.4568],\n",
              "        [ 1.2713, -1.0641],\n",
              "        [ 1.0202, -1.3433],\n",
              "        [ 1.0319, -1.1838],\n",
              "        [ 1.4132, -1.1469],\n",
              "        [ 1.4470, -1.2606],\n",
              "        [ 1.1155, -1.3089],\n",
              "        [ 1.1309, -1.1747],\n",
              "        [ 1.1261, -1.2887],\n",
              "        [ 1.1493, -1.2142],\n",
              "        [ 1.2427, -1.1704],\n",
              "        [ 1.0721, -1.2951],\n",
              "        [ 1.0933, -1.4343],\n",
              "        [ 0.9727, -1.3197],\n",
              "        [ 1.2852, -1.4059],\n",
              "        [ 1.1075, -1.0960],\n",
              "        [ 1.2035, -1.3552],\n",
              "        [ 1.1615, -1.2508],\n",
              "        [ 1.2457, -1.1187],\n",
              "        [ 1.1773, -1.1104],\n",
              "        [ 1.0331, -1.1547],\n",
              "        [ 1.3021, -1.2615],\n",
              "        [ 0.9889, -1.2412],\n",
              "        [ 1.2504, -1.4474],\n",
              "        [ 1.2825, -1.1012],\n",
              "        [ 1.0348, -1.3156],\n",
              "        [ 1.2879, -1.1205],\n",
              "        [ 1.1340, -1.1404],\n",
              "        [ 1.0179, -1.1694],\n",
              "        [ 1.1150, -1.1525],\n",
              "        [ 0.9566, -1.2742],\n",
              "        [ 0.9976, -1.1744],\n",
              "        [ 1.0772, -1.3224],\n",
              "        [ 1.3098, -1.4174],\n",
              "        [ 1.1828, -1.0319],\n",
              "        [ 1.2744, -0.9787],\n",
              "        [ 1.2456, -1.2733],\n",
              "        [ 0.8971, -1.2791],\n",
              "        [ 1.2194, -0.9128],\n",
              "        [ 1.1538, -1.2365]])"
            ]
          },
          "metadata": {
            "tags": []
          },
          "execution_count": 80
        }
      ]
    },
    {
      "metadata": {
        "id": "eldlX_lGUm1E",
        "colab_type": "code",
        "colab": {}
      },
      "cell_type": "code",
      "source": [
        "_, predicted = torch.max(outputs.data, 1)"
      ],
      "execution_count": 0,
      "outputs": []
    },
    {
      "metadata": {
        "id": "O8ShaCGpUrcE",
        "colab_type": "code",
        "colab": {
          "base_uri": "https://localhost:8080/",
          "height": 153
        },
        "outputId": "df008e64-8274-4d23-d729-77283a231427"
      },
      "cell_type": "code",
      "source": [
        "predicted[1:100]"
      ],
      "execution_count": 82,
      "outputs": [
        {
          "output_type": "execute_result",
          "data": {
            "text/plain": [
              "tensor([ 0,  0,  0,  0,  0,  0,  0,  0,  0,  0,  0,  0,  0,  0,\n",
              "         0,  0,  0,  0,  0,  0,  0,  0,  0,  0,  0,  0,  0,  0,\n",
              "         0,  0,  0,  0,  0,  0,  0,  0,  0,  0,  0,  0,  0,  0,\n",
              "         0,  0,  0,  0,  0,  0,  0,  0,  0,  0,  0,  0,  0,  0,\n",
              "         0,  0,  0,  0,  0,  0,  0,  0,  0,  0,  0,  0,  0,  0,\n",
              "         0,  0,  0,  0,  0,  0,  0,  0,  0,  0,  0,  0,  0,  0,\n",
              "         0,  0,  0,  0,  0,  0,  0,  0,  0,  0,  0,  0,  0,  0,\n",
              "         0])"
            ]
          },
          "metadata": {
            "tags": []
          },
          "execution_count": 82
        }
      ]
    },
    {
      "metadata": {
        "id": "z4K6PxJwXGCk",
        "colab_type": "code",
        "colab": {
          "base_uri": "https://localhost:8080/",
          "height": 34
        },
        "outputId": "653643fb-027c-49ee-e0b1-ef2fbfe6ee35"
      },
      "cell_type": "code",
      "source": [
        "with torch.no_grad():\n",
        "    correct = 0\n",
        "    total = 61502\n",
        "    outputs = model(val_torch)\n",
        "    for i in range(len(val_torch_label)):\n",
        "      _, predicted = torch.max(outputs.data, 1)\n",
        "      correct += (predicted[i] == val_torch_label[i].type(torch.LongTensor)).sum()\n",
        "      \n",
        "    print('Accuracy of the model on the 10000 test images: {} %'.format(100 * correct / total))\n",
        "      "
      ],
      "execution_count": 85,
      "outputs": [
        {
          "output_type": "stream",
          "text": [
            "Accuracy of the model on the 10000 test images: 92 %\n"
          ],
          "name": "stdout"
        }
      ]
    },
    {
      "metadata": {
        "id": "0M2oc6yhXGP8",
        "colab_type": "code",
        "colab": {}
      },
      "cell_type": "code",
      "source": [
        "#_, predicted = torch.max(outputs.data, 1)\n",
        "y_pred = predicted.detach().numpy()\n",
        "y = val_torch_label.type(torch.LongTensor).detach().numpy()"
      ],
      "execution_count": 0,
      "outputs": []
    },
    {
      "metadata": {
        "id": "lSuXL9cnYGRZ",
        "colab_type": "code",
        "colab": {}
      },
      "cell_type": "code",
      "source": [
        "from sklearn import metrics"
      ],
      "execution_count": 0,
      "outputs": []
    },
    {
      "metadata": {
        "id": "TbPlQd1uYTSt",
        "colab_type": "code",
        "colab": {
          "base_uri": "https://localhost:8080/",
          "height": 34
        },
        "outputId": "6bf2f362-2c47-4f4c-d873-5510b7bbae65"
      },
      "cell_type": "code",
      "source": [
        "y_pred.shape"
      ],
      "execution_count": 97,
      "outputs": [
        {
          "output_type": "execute_result",
          "data": {
            "text/plain": [
              "(61502,)"
            ]
          },
          "metadata": {
            "tags": []
          },
          "execution_count": 97
        }
      ]
    },
    {
      "metadata": {
        "id": "khglG4BbX2hd",
        "colab_type": "code",
        "colab": {
          "base_uri": "https://localhost:8080/",
          "height": 88
        },
        "outputId": "0e3a264c-436e-4c6d-8d95-8e4448f3ece5"
      },
      "cell_type": "code",
      "source": [
        "fpr, tpr, thresholds = metrics.roc_curve(y, y_pred, pos_label=2)\n",
        "metrics.auc(fpr, tpr)"
      ],
      "execution_count": 98,
      "outputs": [
        {
          "output_type": "stream",
          "text": [
            "/usr/local/lib/python3.6/dist-packages/sklearn/metrics/ranking.py:571: UndefinedMetricWarning: No positive samples in y_true, true positive value should be meaningless\n",
            "  UndefinedMetricWarning)\n"
          ],
          "name": "stderr"
        },
        {
          "output_type": "execute_result",
          "data": {
            "text/plain": [
              "nan"
            ]
          },
          "metadata": {
            "tags": []
          },
          "execution_count": 98
        }
      ]
    },
    {
      "metadata": {
        "id": "FU0RogKdXXPn",
        "colab_type": "code",
        "colab": {}
      },
      "cell_type": "code",
      "source": [
        "aucmeter = AUCMeter()\n",
        "aucmeter.add(y_pred, y)\n",
        "print(aucmeter.value()[0], sklearn.metrics.roc_auc_score(y_true,y_pred))\n"
      ],
      "execution_count": 0,
      "outputs": []
    }
  ]
}
