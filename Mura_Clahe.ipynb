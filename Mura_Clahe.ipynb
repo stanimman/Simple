{
  "nbformat": 4,
  "nbformat_minor": 0,
  "metadata": {
    "colab": {
      "name": "Hello, Colaboratory",
      "version": "0.3.2",
      "provenance": [],
      "collapsed_sections": [],
      "toc_visible": true,
      "include_colab_link": true
    },
    "kernelspec": {
      "display_name": "Python 3",
      "name": "python3"
    },
    "accelerator": "GPU"
  },
  "cells": [
    {
      "cell_type": "markdown",
      "metadata": {
        "id": "view-in-github",
        "colab_type": "text"
      },
      "source": [
        "[View in Colaboratory](https://colab.research.google.com/github/stanimman/Simple/blob/master/Mura_Clahe.ipynb)"
      ]
    },
    {
      "metadata": {
        "id": "9J7p406abzgl",
        "colab_type": "text"
      },
      "cell_type": "markdown",
      "source": [
        "<img height=\"60px\" src=\"https://colab.research.google.com/img/colab_favicon.ico\" align=\"left\" hspace=\"20px\" vspace=\"5px\">\n",
        "\n",
        "## Welcome to Colaboratory!\n",
        "\n",
        "Colaboratory is a free Jupyter notebook environment that requires no setup and runs entirely in the cloud. See our [FAQ](https://research.google.com/colaboratory/faq.html) for more info."
      ]
    },
    {
      "metadata": {
        "id": "-Rh3-Vt9Nev9",
        "colab_type": "text"
      },
      "cell_type": "markdown",
      "source": [
        "## Getting Started\n",
        "- [Overview of Colaboratory](/notebooks/basic_features_overview.ipynb)\n",
        "- [Loading and saving data: Local files, Drive, Sheets, Google Cloud Storage](/notebooks/io.ipynb)\n",
        "- [Importing libraries and installing dependencies](/notebooks/snippets/importing_libraries.ipynb)\n",
        "- [Using Google Cloud BigQuery](/notebooks/bigquery.ipynb)\n",
        "- [Forms](/notebooks/forms.ipynb), [Charts](/notebooks/charts.ipynb), [Markdown](/notebooks/markdown_guide.ipynb), & [Widgets](/notebooks/widgets.ipynb)\n",
        "- [TensorFlow with GPU](/notebooks/gpu.ipynb)\n",
        "- [Machine Learning Crash Course](https://developers.google.com/machine-learning/crash-course/): [Intro to Pandas](/notebooks/mlcc/intro_to_pandas.ipynb) & [First Steps with TensorFlow](/notebooks/mlcc/first_steps_with_tensor_flow.ipynb)\n"
      ]
    },
    {
      "metadata": {
        "id": "1fr51oVCHRZU",
        "colab_type": "text"
      },
      "cell_type": "markdown",
      "source": [
        "## Highlighted Features\n",
        "### Seedbank\n",
        "\n",
        "Looking for Colab notebooks to learn from? Check out [Seedbank](https://tools.google.com/seedbank/), a place to discover interactive machine learning examples."
      ]
    },
    {
      "metadata": {
        "id": "9wi5kfGdhK0R",
        "colab_type": "text"
      },
      "cell_type": "markdown",
      "source": [
        "### TensorFlow execution"
      ]
    },
    {
      "metadata": {
        "id": "S9GW-n-oYWIj",
        "colab_type": "text"
      },
      "cell_type": "markdown",
      "source": [
        "Colaboratory allows you to execute TensorFlow code in your browser with a single click. The example below adds two matrices.\n",
        "\n",
        "$\\begin{bmatrix}\n",
        "  1. & 1. & 1. \\\\\n",
        "  1. & 1. & 1. \\\\\n",
        "\\end{bmatrix} +\n",
        "\\begin{bmatrix}\n",
        "  1. & 2. & 3. \\\\\n",
        "  4. & 5. & 6. \\\\\n",
        "\\end{bmatrix} =\n",
        "\\begin{bmatrix}\n",
        "  2. & 3. & 4. \\\\\n",
        "  5. & 6. & 7. \\\\\n",
        "\\end{bmatrix}$"
      ]
    },
    {
      "metadata": {
        "id": "oYZkU7ZN3CL0",
        "colab_type": "code",
        "colab": {
          "base_uri": "https://localhost:8080/",
          "height": 204
        },
        "outputId": "e71ff4cd-f746-4f1e-e5a7-7c82863647d4"
      },
      "cell_type": "code",
      "source": [
        "!wget https://fs6.transfernow.net/download/5b6149f282693/master/MURA-v1.1.zip"
      ],
      "execution_count": 2,
      "outputs": [
        {
          "output_type": "stream",
          "text": [
            "--2018-08-02 07:25:37--  https://fs6.transfernow.net/download/5b6149f282693/master/MURA-v1.1.zip\n",
            "Resolving fs6.transfernow.net (fs6.transfernow.net)... 163.172.20.194\n",
            "Connecting to fs6.transfernow.net (fs6.transfernow.net)|163.172.20.194|:443... connected.\n",
            "HTTP request sent, awaiting response... 200 OK\n",
            "Length: 383652532 (366M) [application/zip]\n",
            "Saving to: ‘MURA-v1.1.zip’\n",
            "\n",
            "MURA-v1.1.zip        51%[=========>          ] 189.31M  2.44MB/s    eta 45s    "
          ],
          "name": "stdout"
        },
        {
          "output_type": "stream",
          "text": [
            "MURA-v1.1.zip       100%[===================>] 365.88M  4.71MB/s    in 90s     \n",
            "\n",
            "2018-08-02 07:27:07 (4.09 MB/s) - ‘MURA-v1.1.zip’ saved [383652532/383652532]\n",
            "\n"
          ],
          "name": "stdout"
        }
      ]
    },
    {
      "metadata": {
        "id": "o6fD8K100Bt6",
        "colab_type": "code",
        "colab": {
          "base_uri": "https://localhost:8080/",
          "height": 136
        },
        "outputId": "9aea63cb-294b-4c35-c809-806de42b6541"
      },
      "cell_type": "code",
      "source": [
        "!pip uninstall Pillow -y\n",
        "\n",
        "!pip install Pillow"
      ],
      "execution_count": 3,
      "outputs": [
        {
          "output_type": "stream",
          "text": [
            "Uninstalling Pillow-4.0.0:\n",
            "  Successfully uninstalled Pillow-4.0.0\n",
            "Collecting Pillow\n",
            "\u001b[?25l  Downloading https://files.pythonhosted.org/packages/d1/24/f53ff6b61b3d728b90934bddb4f03f8ab584a7f49299bf3bde56e2952612/Pillow-5.2.0-cp36-cp36m-manylinux1_x86_64.whl (2.0MB)\n",
            "\u001b[K    100% |████████████████████████████████| 2.0MB 10.3MB/s \n",
            "\u001b[?25hInstalling collected packages: Pillow\n",
            "Successfully installed Pillow-5.2.0\n"
          ],
          "name": "stdout"
        }
      ]
    },
    {
      "metadata": {
        "id": "NZAUDWV10Y2N",
        "colab_type": "code",
        "colab": {
          "base_uri": "https://localhost:8080/",
          "height": 68
        },
        "outputId": "c2709834-fb22-4f97-bf6a-37ae49d859ad"
      },
      "cell_type": "code",
      "source": [
        "import PIL\n",
        "print(PIL.PILLOW_VERSION)\n",
        "from os import path\n",
        "from wheel.pep425tags import get_abbr_impl, get_impl_ver, get_abi_tag\n",
        "platform = '{}{}-{}'.format(get_abbr_impl(), get_impl_ver(), get_abi_tag())\n",
        "\n",
        "accelerator = 'cu80' if path.exists('/opt/bin/nvidia-smi') else 'cpu'\n",
        "\n",
        "!pip install -q http://download.pytorch.org/whl/{accelerator}/torch-0.4.0-{platform}-linux_x86_64.whl torchvision\n",
        "import torch\n",
        "print(torch.__version__)\n",
        "print(torch.cuda.is_available())\n",
        "\n",
        "import torch \n",
        "import torchvision\n",
        "import torch.nn as nn\n",
        "import numpy as np\n",
        "import torchvision.transforms as transforms\n",
        "\n",
        "from torch.utils.data import DataLoader, Dataset\n",
        "from torchvision.datasets.folder import pil_loader\n",
        "from torchvision import transforms, utils\n",
        "import pandas as pd\n",
        "import matplotlib.pyplot as plt\n",
        "from skimage import io, transform\n",
        "import matplotlib.pyplot as plt\n",
        "import os\n",
        "from torchvision import  models\n",
        "import torch.nn as nn\n",
        "import torch.optim as optim\n",
        "import copy\n",
        "from torch.optim import lr_scheduler\n",
        "import time\n",
        "import datetime as dt\n",
        "from PIL import Image\n",
        "import cv2"
      ],
      "execution_count": 3,
      "outputs": [
        {
          "output_type": "stream",
          "text": [
            "5.2.0\n",
            "0.4.0\n",
            "True\n"
          ],
          "name": "stdout"
        }
      ]
    },
    {
      "metadata": {
        "id": "8eGn5Igp1rVo",
        "colab_type": "code",
        "colab": {}
      },
      "cell_type": "code",
      "source": [
        "%%capture\n",
        "!unzip MURA-v1.1.zip\n"
      ],
      "execution_count": 0,
      "outputs": []
    },
    {
      "metadata": {
        "id": "GL59SifMhtQu",
        "colab_type": "code",
        "colab": {
          "base_uri": "https://localhost:8080/",
          "height": 34
        },
        "outputId": "b791f947-93ae-4e65-9555-3bcae31f79f8"
      },
      "cell_type": "code",
      "source": [
        "!ls"
      ],
      "execution_count": 3,
      "outputs": [
        {
          "output_type": "stream",
          "text": [
            "datalab  __MACOSX  MURA-v1.1  MURA-v1.1.zip\r\n"
          ],
          "name": "stdout"
        }
      ]
    },
    {
      "metadata": {
        "id": "kkxtqSJM1rxY",
        "colab_type": "code",
        "colab": {}
      },
      "cell_type": "code",
      "source": [
        "train_path_df = pd.read_csv('MURA-v1.1/train/train_XR_FINGER.csv')\n",
        "valid_path_df = pd.read_csv('MURA-v1.1/valid/valid_XR_FINGER.csv')"
      ],
      "execution_count": 0,
      "outputs": []
    },
    {
      "metadata": {
        "id": "_W-tz9Ue2Af7",
        "colab_type": "code",
        "colab": {}
      },
      "cell_type": "code",
      "source": [
        "image_list = train_path_df.iloc[1000:1015,0]\n",
        "im_path = image_list.iloc[2]"
      ],
      "execution_count": 0,
      "outputs": []
    },
    {
      "metadata": {
        "id": "PDhwVOXh2aL2",
        "colab_type": "code",
        "colab": {
          "base_uri": "https://localhost:8080/",
          "height": 34
        },
        "outputId": "0951694d-4ef5-4e71-f72f-792749462ddd"
      },
      "cell_type": "code",
      "source": [
        "im_path"
      ],
      "execution_count": 27,
      "outputs": [
        {
          "output_type": "execute_result",
          "data": {
            "text/plain": [
              "'MURA-v1.1/train/XR_FINGER/patient03512/study1_positive/image2.png'"
            ]
          },
          "metadata": {
            "tags": []
          },
          "execution_count": 27
        }
      ]
    },
    {
      "metadata": {
        "id": "LlUwiVCN1sIv",
        "colab_type": "code",
        "colab": {}
      },
      "cell_type": "code",
      "source": [
        "im = cv2.imread(im_path)"
      ],
      "execution_count": 0,
      "outputs": []
    },
    {
      "metadata": {
        "id": "p-Vg4tEH2xOP",
        "colab_type": "code",
        "colab": {}
      },
      "cell_type": "code",
      "source": [
        "def channel_check(im):\n",
        "  channel0 = im[:,:,0]\n",
        "  channel1 = im[:,:,1]\n",
        "  channel2 = im[:,:,2]\n",
        "  diff = channel0 - channel1\n",
        "  print(channel0.sum(),channel1.sum(),channel2.sum())\n",
        "  print(diff.sum())"
      ],
      "execution_count": 0,
      "outputs": []
    },
    {
      "metadata": {
        "id": "FwLOdNLB3M-P",
        "colab_type": "code",
        "colab": {
          "base_uri": "https://localhost:8080/",
          "height": 51
        },
        "outputId": "a8f1a9e8-3c30-421c-a96f-297361b710d2"
      },
      "cell_type": "code",
      "source": [
        "diff = channel0 - channel1\n",
        "print(channel0.sum(),channel1.sum(),channel2.sum())\n",
        "print(diff.sum())"
      ],
      "execution_count": 30,
      "outputs": [
        {
          "output_type": "stream",
          "text": [
            "5557954 5557954 5557954\n",
            "0\n"
          ],
          "name": "stdout"
        }
      ]
    },
    {
      "metadata": {
        "id": "rmcnsXyD35zX",
        "colab_type": "code",
        "colab": {}
      },
      "cell_type": "code",
      "source": [
        "def refix(image_path) :\n",
        "  desired_size = 512\n",
        "  im_pth = image_path\n",
        "  #img = cv2.imread(image_path,0)\n",
        "  # create a CLAHE object (Arguments are optional).\n",
        "  #clahe = cv2.createCLAHE(clipLimit=2.0, tileGridSize=(8,8))\n",
        "  #img = clahe.apply(img)\n",
        "  #im = np.stack((img,)*3, -1)\n",
        "  im = cv2.imread(im_pth)\n",
        "  #im = im_pth\n",
        "  original_im = im\n",
        "  old_size = im.shape[:2] # old_size is in (height, width) format\n",
        "\n",
        "  ratio = float(desired_size)/max(old_size)\n",
        "  new_size = tuple([int(x*ratio) for x in old_size])\n",
        "\n",
        "  # new_size should be in (width, height) format\n",
        "\n",
        "  im = cv2.resize(im, (new_size[1], new_size[0]))\n",
        "\n",
        "  delta_w = desired_size - new_size[1]\n",
        "  delta_h = desired_size - new_size[0]\n",
        "  top, bottom = delta_h//2, delta_h-(delta_h//2)\n",
        "  left, right = delta_w//2, delta_w-(delta_w//2)\n",
        "\n",
        "  color = [0, 0, 0]\n",
        "  new_im = cv2.copyMakeBorder(im, top, bottom, left, right, cv2.BORDER_CONSTANT,\n",
        "      value=color)\n",
        "  return original_im, new_im"
      ],
      "execution_count": 0,
      "outputs": []
    },
    {
      "metadata": {
        "id": "i6j-QyAP4Mkl",
        "colab_type": "code",
        "colab": {}
      },
      "cell_type": "code",
      "source": [
        "x,y = refix(im_path)"
      ],
      "execution_count": 0,
      "outputs": []
    },
    {
      "metadata": {
        "id": "AjSmtbqN4W5s",
        "colab_type": "code",
        "colab": {
          "base_uri": "https://localhost:8080/",
          "height": 51
        },
        "outputId": "c7abcabf-8df7-47dd-913d-915d90f13eec"
      },
      "cell_type": "code",
      "source": [
        "channel_check(y)"
      ],
      "execution_count": 35,
      "outputs": [
        {
          "output_type": "stream",
          "text": [
            "1062666 1062666 1062666\n",
            "0\n"
          ],
          "name": "stdout"
        }
      ]
    },
    {
      "metadata": {
        "id": "XSh7Fc5b4qvV",
        "colab_type": "code",
        "colab": {}
      },
      "cell_type": "code",
      "source": [
        "img = cv2.imread(im_path,0)"
      ],
      "execution_count": 0,
      "outputs": []
    },
    {
      "metadata": {
        "id": "VcuLQxv24us7",
        "colab_type": "code",
        "colab": {
          "base_uri": "https://localhost:8080/",
          "height": 34
        },
        "outputId": "061a2248-3d0e-4c24-a094-d1c93505dd6e"
      },
      "cell_type": "code",
      "source": [
        "img.shape"
      ],
      "execution_count": 37,
      "outputs": [
        {
          "output_type": "execute_result",
          "data": {
            "text/plain": [
              "(512, 208)"
            ]
          },
          "metadata": {
            "tags": []
          },
          "execution_count": 37
        }
      ]
    },
    {
      "metadata": {
        "id": "KRJjkJ4C41K7",
        "colab_type": "code",
        "colab": {
          "base_uri": "https://localhost:8080/",
          "height": 34
        },
        "outputId": "3d0c7e57-098c-4356-df5b-7f3acf6289da"
      },
      "cell_type": "code",
      "source": [
        "y.shape"
      ],
      "execution_count": 39,
      "outputs": [
        {
          "output_type": "execute_result",
          "data": {
            "text/plain": [
              "(224, 224, 3)"
            ]
          },
          "metadata": {
            "tags": []
          },
          "execution_count": 39
        }
      ]
    },
    {
      "metadata": {
        "id": "P6xPJj0t438d",
        "colab_type": "code",
        "colab": {
          "base_uri": "https://localhost:8080/",
          "height": 34
        },
        "outputId": "f0f16c42-1604-4303-de48-5e1879de7603"
      },
      "cell_type": "code",
      "source": [
        "new_x = y[:,:,0]\n",
        "new_x.shape"
      ],
      "execution_count": 42,
      "outputs": [
        {
          "output_type": "execute_result",
          "data": {
            "text/plain": [
              "(224, 224)"
            ]
          },
          "metadata": {
            "tags": []
          },
          "execution_count": 42
        }
      ]
    },
    {
      "metadata": {
        "id": "E5K_FX6K79H_",
        "colab_type": "code",
        "colab": {}
      },
      "cell_type": "code",
      "source": [
        "def Clahe(img,ind):\n",
        "  if ind == 0:\n",
        "    img = cv2.imread(img,0)\n",
        "  if ind == 1:\n",
        "    img = img \n",
        "    # create a CLAHE object (Arguments are optional).\n",
        "  clahe = cv2.createCLAHE(clipLimit=2.0, tileGridSize=(8,8))\n",
        "  img = clahe.apply(img)\n",
        "  image = np.stack((img,)*3, -1)\n",
        "  return image\n",
        "        \n",
        "\n",
        "  "
      ],
      "execution_count": 0,
      "outputs": []
    },
    {
      "metadata": {
        "id": "zPG06FWT9RqI",
        "colab_type": "code",
        "colab": {}
      },
      "cell_type": "code",
      "source": [
        "#Clahe and then Refix\n",
        "Clahe_Image = Clahe(im_path,0)\n",
        "x,y = refix(Clahe_Image)\n",
        "im_to_see_1 = y"
      ],
      "execution_count": 0,
      "outputs": []
    },
    {
      "metadata": {
        "id": "QkwqQJQY-MWB",
        "colab_type": "code",
        "colab": {
          "base_uri": "https://localhost:8080/",
          "height": 51
        },
        "outputId": "6fed746e-eb5d-41d3-a598-582c6810e85f"
      },
      "cell_type": "code",
      "source": [
        "channel_check(im_to_see_1)"
      ],
      "execution_count": 50,
      "outputs": [
        {
          "output_type": "stream",
          "text": [
            "1248041 1248041 1248041\n",
            "0\n"
          ],
          "name": "stdout"
        }
      ]
    },
    {
      "metadata": {
        "id": "o961qW89-Xmy",
        "colab_type": "code",
        "colab": {}
      },
      "cell_type": "code",
      "source": [
        "#Refix and then Clahe\n",
        "x,y = refix(im_path)\n",
        "img_refix = y[:,:,0]\n",
        "Clahe_Image = Clahe(img_refix,1)\n",
        "im_to_see_2 = Clahe_Image"
      ],
      "execution_count": 0,
      "outputs": []
    },
    {
      "metadata": {
        "id": "_CNvZxj2DBq8",
        "colab_type": "code",
        "colab": {}
      },
      "cell_type": "code",
      "source": [
        "#Refix and then Clahe\n",
        "x,y = refix(im_path)\n",
        "img_refix = y[:,:,0]\n",
        "Clahe_Image = Clahe(img_refix,1)\n",
        "im_to_see_3 = Clahe_Image"
      ],
      "execution_count": 0,
      "outputs": []
    },
    {
      "metadata": {
        "id": "lRNnOvaP_Ml-",
        "colab_type": "code",
        "colab": {
          "base_uri": "https://localhost:8080/",
          "height": 51
        },
        "outputId": "6e9138bb-eb7b-494b-c7f4-642ef98924f5"
      },
      "cell_type": "code",
      "source": [
        "channel_check(im_to_see_2)"
      ],
      "execution_count": 56,
      "outputs": [
        {
          "output_type": "stream",
          "text": [
            "1425856 1425856 1425856\n",
            "0\n"
          ],
          "name": "stdout"
        }
      ]
    },
    {
      "metadata": {
        "id": "aBeuC5sD_2rq",
        "colab_type": "code",
        "colab": {}
      },
      "cell_type": "code",
      "source": [
        "transform=transforms.Compose([transforms.ToPILImage(),\n",
        "                              #transforms.Resize((224,224)),\n",
        "                              transforms.CenterCrop(224),\n",
        "                              transforms.ToTensor()\n",
        "                                                                            \n",
        "                                           ])"
      ],
      "execution_count": 0,
      "outputs": []
    },
    {
      "metadata": {
        "id": "ozAStIN1AnJT",
        "colab_type": "code",
        "colab": {}
      },
      "cell_type": "code",
      "source": [
        "transformed_x = transform(im_to_see_3)"
      ],
      "execution_count": 0,
      "outputs": []
    },
    {
      "metadata": {
        "id": "JrIn96DAArLs",
        "colab_type": "code",
        "colab": {
          "base_uri": "https://localhost:8080/",
          "height": 34
        },
        "outputId": "b98e8b42-1ada-45b4-9bfc-7f3f4cb2b66a"
      },
      "cell_type": "code",
      "source": [
        "transformed_x.shape"
      ],
      "execution_count": 90,
      "outputs": [
        {
          "output_type": "execute_result",
          "data": {
            "text/plain": [
              "torch.Size([3, 224, 224])"
            ]
          },
          "metadata": {
            "tags": []
          },
          "execution_count": 90
        }
      ]
    },
    {
      "metadata": {
        "id": "FjChdv2mA5La",
        "colab_type": "code",
        "colab": {}
      },
      "cell_type": "code",
      "source": [
        "inp = transformed_x.numpy().transpose((1, 2, 0))\n"
      ],
      "execution_count": 0,
      "outputs": []
    },
    {
      "metadata": {
        "id": "nRCbJYmSBZ3M",
        "colab_type": "code",
        "colab": {
          "base_uri": "https://localhost:8080/",
          "height": 34
        },
        "outputId": "9a6263ea-bb1c-46ae-c08a-21b037a9d9f8"
      },
      "cell_type": "code",
      "source": [
        "inp.shape"
      ],
      "execution_count": 92,
      "outputs": [
        {
          "output_type": "execute_result",
          "data": {
            "text/plain": [
              "(224, 224, 3)"
            ]
          },
          "metadata": {
            "tags": []
          },
          "execution_count": 92
        }
      ]
    },
    {
      "metadata": {
        "id": "F6EMzK6KCKXw",
        "colab_type": "code",
        "colab": {
          "base_uri": "https://localhost:8080/",
          "height": 34
        },
        "outputId": "e2bc6b47-7dac-46c1-aa11-41cd1946f238"
      },
      "cell_type": "code",
      "source": [
        "x.shape\n"
      ],
      "execution_count": 82,
      "outputs": [
        {
          "output_type": "execute_result",
          "data": {
            "text/plain": [
              "(512, 208, 3)"
            ]
          },
          "metadata": {
            "tags": []
          },
          "execution_count": 82
        }
      ]
    },
    {
      "metadata": {
        "id": "DHGs11_H7vIp",
        "colab_type": "code",
        "colab": {}
      },
      "cell_type": "code",
      "source": [
        "def imshow(axis, inp):\n",
        "  \n",
        "    \"\"\"Denormalize and show\"\"\"\n",
        "    #inp = inp.numpy()\n",
        "    #mean = np.array([0.485, 0.456, 0.406])\n",
        "    #std = np.array([0.229, 0.224, 0.225])\n",
        "    #inp = std * inp + mean\n",
        "    #inp = np.clip(inp, 0, 1)\n",
        "    axis.imshow(inp)"
      ],
      "execution_count": 0,
      "outputs": []
    },
    {
      "metadata": {
        "id": "6jBOtpLg76Xx",
        "colab_type": "code",
        "colab": {
          "base_uri": "https://localhost:8080/",
          "height": 637
        },
        "outputId": "c8d6bea6-0492-43c2-dec3-318816e2b26a"
      },
      "cell_type": "code",
      "source": [
        "from mpl_toolkits.axes_grid1 import AxesGrid, ImageGrid\n",
        "fig = plt.figure(1, figsize=(10, 10))\n",
        "grid = ImageGrid(fig, 111, nrows_ncols=(2, 3), axes_pad=0.05)\n",
        "ax = grid[0]\n",
        "imshow(ax,im_to_see_1)\n",
        "ax = grid[1]\n",
        "imshow(ax,im_to_see_2)\n",
        "ax = grid[3]\n",
        "imshow(ax,x)\n",
        "ax = grid[2]\n",
        "imshow(ax,inp)\n",
        "ax = grid[4]\n",
        "imshow(ax,im_to_see_3)"
      ],
      "execution_count": 47,
      "outputs": [
        {
          "output_type": "error",
          "ename": "NameError",
          "evalue": "ignored",
          "traceback": [
            "\u001b[0;31m---------------------------------------------------------------------------\u001b[0m",
            "\u001b[0;31mNameError\u001b[0m                                 Traceback (most recent call last)",
            "\u001b[0;32m<ipython-input-47-7e9cd7bb24d9>\u001b[0m in \u001b[0;36m<module>\u001b[0;34m()\u001b[0m\n\u001b[1;32m      3\u001b[0m \u001b[0mgrid\u001b[0m \u001b[0;34m=\u001b[0m \u001b[0mImageGrid\u001b[0m\u001b[0;34m(\u001b[0m\u001b[0mfig\u001b[0m\u001b[0;34m,\u001b[0m \u001b[0;36m111\u001b[0m\u001b[0;34m,\u001b[0m \u001b[0mnrows_ncols\u001b[0m\u001b[0;34m=\u001b[0m\u001b[0;34m(\u001b[0m\u001b[0;36m2\u001b[0m\u001b[0;34m,\u001b[0m \u001b[0;36m3\u001b[0m\u001b[0;34m)\u001b[0m\u001b[0;34m,\u001b[0m \u001b[0maxes_pad\u001b[0m\u001b[0;34m=\u001b[0m\u001b[0;36m0.05\u001b[0m\u001b[0;34m)\u001b[0m\u001b[0;34m\u001b[0m\u001b[0m\n\u001b[1;32m      4\u001b[0m \u001b[0max\u001b[0m \u001b[0;34m=\u001b[0m \u001b[0mgrid\u001b[0m\u001b[0;34m[\u001b[0m\u001b[0;36m0\u001b[0m\u001b[0;34m]\u001b[0m\u001b[0;34m\u001b[0m\u001b[0m\n\u001b[0;32m----> 5\u001b[0;31m \u001b[0mimshow\u001b[0m\u001b[0;34m(\u001b[0m\u001b[0max\u001b[0m\u001b[0;34m,\u001b[0m\u001b[0mim_to_see_1\u001b[0m\u001b[0;34m)\u001b[0m\u001b[0;34m\u001b[0m\u001b[0m\n\u001b[0m\u001b[1;32m      6\u001b[0m \u001b[0max\u001b[0m \u001b[0;34m=\u001b[0m \u001b[0mgrid\u001b[0m\u001b[0;34m[\u001b[0m\u001b[0;36m1\u001b[0m\u001b[0;34m]\u001b[0m\u001b[0;34m\u001b[0m\u001b[0m\n\u001b[1;32m      7\u001b[0m \u001b[0mimshow\u001b[0m\u001b[0;34m(\u001b[0m\u001b[0max\u001b[0m\u001b[0;34m,\u001b[0m\u001b[0mim_to_see_2\u001b[0m\u001b[0;34m)\u001b[0m\u001b[0;34m\u001b[0m\u001b[0m\n",
            "\u001b[0;31mNameError\u001b[0m: name 'im_to_see_1' is not defined"
          ]
        },
        {
          "output_type": "display_data",
          "data": {
            "image/png": "[encoded data removed]",
            "text/plain": [
              "<matplotlib.figure.Figure at 0x7f167cae65c0>"
            ]
          },
          "metadata": {
            "tags": []
          }
        }
      ]
    },
    {
      "metadata": {
        "id": "98DgJGA5h4CY",
        "colab_type": "code",
        "colab": {}
      },
      "cell_type": "code",
      "source": [
        "class MuraImageDataset(Dataset):\n",
        "    \"\"\"Mura dataset.\"\"\"\n",
        "    def __init__(self, df, root_dir, transform=None):\n",
        "        \"\"\"\n",
        "        Args:\n",
        "            df (dataframe): Path to the image file with annotations.\n",
        "            root_dir (string): Directory with all the images.\n",
        "            transform (callable, optional): Optional transform to be applied\n",
        "                on a sample.\n",
        "        \"\"\"\n",
        "        self.df = df\n",
        "        self.root_dir = root_dir\n",
        "        self.transform = transform\n",
        "    def __len__(self):\n",
        "        return len(self.df)\n",
        "    def __getitem__(self, idx):\n",
        "        img_name = os.path.join(self.root_dir,\n",
        "                                self.df.iloc[idx, 0])\n",
        "        ###-- Try refix at the centre -- ##\n",
        "        #desired_size = 512\n",
        "        #im = cv2.imread(img_name)\n",
        "        #old_size = im.shape[:2] # old_size is in (height, width) format\n",
        "\n",
        "        #ratio = float(desired_size)/max(old_size)\n",
        "        #new_size = tuple([int(x*ratio) for x in old_size])\n",
        "\n",
        "        # new_size should be in (width, height) format\n",
        "\n",
        "        #im = cv2.resize(im, (new_size[1], new_size[0]))\n",
        "\n",
        "        #delta_w = desired_size - new_size[1]\n",
        "        #delta_h = desired_size - new_size[0]\n",
        "        #top, bottom = delta_h//2, delta_h-(delta_h//2)\n",
        "        #left, right = delta_w//2, delta_w-(delta_w//2)\n",
        "\n",
        "        #color = [0, 0, 0]\n",
        "        #image = cv2.copyMakeBorder(im, top, bottom, left, right, cv2.BORDER_CONSTANT,\n",
        "        #    value=color)\n",
        "        #image = image[:,:,0]\n",
        "        # create a CLAHE object (Arguments are optional).\n",
        "        #clahe = cv2.createCLAHE(clipLimit=2.0, tileGridSize=(8,8))\n",
        "        #image = clahe.apply(image)\n",
        "        #image = np.stack((image,)*3, -1)\n",
        "        \n",
        "        ###-- Refix at the centre Ends -- ##\n",
        "        \n",
        "        #print(img_name)\n",
        "        #image = pil_loader(img_name)\n",
        "        ### -- Try Clahe Transformation -- ##\n",
        "        img = cv2.imread(img_name,0)\n",
        "        #create a CLAHE object (Arguments are optional).\n",
        "        clahe = cv2.createCLAHE(clipLimit=2.0, tileGridSize=(8,8))\n",
        "        img = clahe.apply(img)\n",
        "        image = np.stack((img,)*3, -1)\n",
        "        ### -- Clahe Transformation Ends -- ##\n",
        "        \n",
        "        labels = self.df.iloc[idx, 2]\n",
        "        labels = labels.astype('float')\n",
        "        if self.transform:\n",
        "            image = self.transform(image)\n",
        "        return [image, labels]"
      ],
      "execution_count": 0,
      "outputs": []
    },
    {
      "metadata": {
        "id": "x8woKhYzh5RE",
        "colab_type": "code",
        "colab": {}
      },
      "cell_type": "code",
      "source": [
        "transformed_train_dataset = MuraImageDataset(df=train_path_df,\n",
        "                                    root_dir='/content',\n",
        "                                    transform=transforms.Compose([\n",
        "                                               transforms.ToPILImage(),\n",
        "                                               transforms.RandomRotation(10),\n",
        "                                               #transforms.Resize(224),\n",
        "                                               transforms.CenterCrop(224),\n",
        "                                               transforms.RandomHorizontalFlip(),\n",
        "                                               transforms.ToTensor(),\n",
        "                                               transforms.Normalize([0.485, 0.456, 0.406], [0.229, 0.224, 0.225])\n",
        "                                               \n",
        "                                           ]))\n",
        "\n",
        "transformed_valid_dataset = MuraImageDataset(df=valid_path_df,\n",
        "                                    root_dir='/content',\n",
        "                                    transform=transforms.Compose([\n",
        "                                               transforms.ToPILImage(),\n",
        "                                               transforms.RandomRotation(10),\n",
        "                                               #transforms.Resize(224),\n",
        "                                               transforms.CenterCrop(224),\n",
        "                                               transforms.RandomHorizontalFlip(),\n",
        "                                               transforms.ToTensor(),\n",
        "                                               transforms.Normalize([0.485, 0.456, 0.406], [0.229, 0.224, 0.225])\n",
        "                                               \n",
        "                                           ]))"
      ],
      "execution_count": 0,
      "outputs": []
    },
    {
      "metadata": {
        "id": "CKfIyclFkiyy",
        "colab_type": "code",
        "colab": {}
      },
      "cell_type": "code",
      "source": [
        "transformed_train_dl = DataLoader(transformed_train_dataset,batch_size=8,shuffle=True)\n",
        "transformed_valid_dl = DataLoader(transformed_valid_dataset,batch_size=8,shuffle=True)"
      ],
      "execution_count": 0,
      "outputs": []
    },
    {
      "metadata": {
        "id": "OeBq-Eakl4tT",
        "colab_type": "code",
        "colab": {}
      },
      "cell_type": "code",
      "source": [
        "from mpl_toolkits.axes_grid1 import AxesGrid, ImageGrid\n",
        "#@title Default title text\n",
        "## imshow works when we have transformed the image using some transformation\n",
        "def imshow(axis, inp):\n",
        "    \"\"\"Denormalize and show\"\"\"\n",
        "    inp = inp.numpy().transpose((1, 2, 0)) ## This line of code corrects the dimension issue that occurs during transformation \n",
        "    mean = np.array([0.485, 0.456, 0.406])\n",
        "    std = np.array([0.229, 0.224, 0.225])\n",
        "    inp = std * inp + mean\n",
        "    inp = np.clip(inp, 0, 1)\n",
        "    axis.imshow(inp)"
      ],
      "execution_count": 0,
      "outputs": []
    },
    {
      "metadata": {
        "id": "brhZa0IXl6bs",
        "colab_type": "code",
        "colab": {
          "base_uri": "https://localhost:8080/",
          "height": 432
        },
        "outputId": "b72307d8-eb29-4de2-c23f-fadc960c9ea7"
      },
      "cell_type": "code",
      "source": [
        "imgview, label = next(iter(transformed_valid_dl))\n",
        "#print(img, label.size())\n",
        "fig = plt.figure(1, figsize=(16, 8))\n",
        "grid = ImageGrid(fig, 111, nrows_ncols=(1, 8), axes_pad=0.05)  \n",
        "for i in range(imgview.size()[0]):\n",
        "  #print(img)\n",
        "  ax = grid[i]\n",
        "  print(imgview.shape)\n",
        "  imshow(ax,imgview[i])\n",
        "  print(label[i])"
      ],
      "execution_count": 9,
      "outputs": [
        {
          "output_type": "stream",
          "text": [
            "torch.Size([8, 3, 224, 224])\n",
            "tensor(1., dtype=torch.float64)\n",
            "torch.Size([8, 3, 224, 224])\n",
            "tensor(0., dtype=torch.float64)\n",
            "torch.Size([8, 3, 224, 224])\n",
            "tensor(1., dtype=torch.float64)\n",
            "torch.Size([8, 3, 224, 224])\n",
            "tensor(0., dtype=torch.float64)\n",
            "torch.Size([8, 3, 224, 224])\n",
            "tensor(1., dtype=torch.float64)\n",
            "torch.Size([8, 3, 224, 224])\n",
            "tensor(0., dtype=torch.float64)\n",
            "torch.Size([8, 3, 224, 224])\n",
            "tensor(1., dtype=torch.float64)\n",
            "torch.Size([8, 3, 224, 224])\n",
            "tensor(1., dtype=torch.float64)\n"
          ],
          "name": "stdout"
        },
        {
          "output_type": "display_data",
          "data": {
            "image/png": "[encoded data removed]",
            "text/plain": [
              "<matplotlib.figure.Figure at 0x7fbee2fc0e48>"
            ]
          },
          "metadata": {
            "tags": []
          }
        }
      ]
    },
    {
      "metadata": {
        "id": "IRf3o4Qgkl8G",
        "colab_type": "code",
        "colab": {
          "base_uri": "https://localhost:8080/",
          "height": 34
        },
        "outputId": "44914650-5f26-4c0e-c9da-517ba99538cf"
      },
      "cell_type": "code",
      "source": [
        "def get_count(layer_name,model_name):\n",
        "  ct  = 0 \n",
        "  layer_count ={}\n",
        "  for name, child in model_name.named_children():\n",
        "      for name2, params in child.named_parameters():\n",
        "        layer_count[name2] = ct\n",
        "        ct +=1\n",
        "  return layer_count[layer_name]\n",
        "\n",
        "def freeze_till(layer_name,model_name):\n",
        "  ct  = 0 \n",
        "  count = get_count(layer_name,model_name)\n",
        "  \n",
        "  for name, child in model_name.named_children():\n",
        "    for name2, params in child.named_parameters():\n",
        "      \n",
        "      if ct > count :\n",
        "          \n",
        "            params.requires_grad = True\n",
        "      else :\n",
        "            params.requires_grad = False\n",
        "      ct +=1\n",
        "\n",
        "device = torch.device(\"cuda:0\" if torch.cuda.is_available() else \"cpu\")\n",
        "\n",
        "dataloaders = {\"train\": transformed_train_dl, \"val\": transformed_valid_dl}\n",
        "dataset_sizes = {\"train\": len(transformed_train_dataset),\"val\":len(transformed_valid_dataset)}\n",
        "print(dataset_sizes)\n",
        "\n",
        "## This function just evaluate the loss / optimize  and returns model and the weight of the epoch which has highest accuracy\n",
        "def train_model(model, criterion, optimizer, scheduler, num_epochs=25):\n",
        "    since = time.time()\n",
        "    best_model_wts = copy.deepcopy(model.state_dict())\n",
        "    best_acc = 0.0\n",
        "    for epoch in range(num_epochs):\n",
        "        print('Epoch {}/{}'.format(epoch, num_epochs - 1))\n",
        "        print('-' * 10)\n",
        "        # Each epoch has a training and validation phase\n",
        "        # In train phase they are settting 2 variable in model class - train() and schedular  = step()\n",
        "        # In Validation phase setting the model class - eval()\n",
        "        for phase in ['train', 'val']:\n",
        "            if phase == 'train':\n",
        "                scheduler.step()\n",
        "                model.train()  # Set model to training mode\n",
        "            else:\n",
        "                model.eval()   # Set model to evaluate mode\n",
        "            running_loss = 0.0\n",
        "            running_corrects = 0\n",
        "            # Iterate over data.# phase - train or validation\n",
        "            for inputs, labels in dataloaders[phase]:\n",
        "                inputs = inputs.to(device)\n",
        "                labels = labels.to(device)\n",
        "                labels = labels.type(torch.cuda.LongTensor)\n",
        "                # zero the parameter gradients\n",
        "                optimizer.zero_grad()\n",
        "                # forward\n",
        "                # track history if only in train\n",
        "                with torch.set_grad_enabled(phase == 'train'):\n",
        "                    outputs = model(inputs)\n",
        "                    \n",
        "                    #print(outputs.shape)\n",
        "                    _, preds = torch.max(outputs, 1)\n",
        "                    loss = criterion(outputs, labels)\n",
        "                    # backward + optimize only if in training phase\n",
        "                    if phase == 'train':\n",
        "                        loss.backward()\n",
        "                        optimizer.step()\n",
        "                # statistics\n",
        "                running_loss += loss.item() * inputs.size(0)\n",
        "                running_corrects += torch.sum(preds == labels.data)\n",
        "                #print(phase,preds,labels.data)\n",
        "            epoch_loss = running_loss / dataset_sizes[phase]\n",
        "            epoch_acc = running_corrects.double() / dataset_sizes[phase]\n",
        "            print('{} Loss: {:.4f} Acc: {:.4f}'.format(\n",
        "                phase, epoch_loss, epoch_acc))\n",
        "            #print(preds[1:10],labels.data[1:10])\n",
        "            # deep copy the model\n",
        "            if phase == 'val' and epoch_acc > best_acc:\n",
        "                best_acc = epoch_acc\n",
        "                best_model_wts = copy.deepcopy(model.state_dict())\n",
        "        #print()\n",
        "    time_elapsed = time.time() - since\n",
        "    print('Training complete in {:.0f}m {:.0f}s'.format(\n",
        "        time_elapsed // 60, time_elapsed % 60))\n",
        "    print('Best val Acc: {:4f}'.format(best_acc))\n",
        "    # load best model weights\n",
        "    model.load_state_dict(best_model_wts)\n",
        "    return model"
      ],
      "execution_count": 10,
      "outputs": [
        {
          "output_type": "stream",
          "text": [
            "{'train': 5106, 'val': 461}\n"
          ],
          "name": "stdout"
        }
      ]
    },
    {
      "metadata": {
        "id": "-JTh0EuEkrXd",
        "colab_type": "code",
        "colab": {
          "base_uri": "https://localhost:8080/",
          "height": 51
        },
        "outputId": "84e5990a-29d7-4baf-c7e8-828b1b6cce2a"
      },
      "cell_type": "code",
      "source": [
        "# Load Pretrained model\n",
        "\n",
        "#model_ft = models.resnet18(pretrained=True)\n",
        "model_ft = models.densenet169(pretrained=True)\n",
        "\n",
        "# Freeze specific layers of the model\n",
        "\n",
        "freeze_till('transition2.conv.weight',model_ft)\n",
        "\n",
        "# num_ftrs = model_ft.fc.in_features # fc for resnet\n",
        "num_ftrs = model_ft.classifier.in_features\n",
        "model_ft.classifier = nn.Linear(num_ftrs, 2)\n",
        "model_ft = model_ft.to(device)\n",
        "\n",
        "criterion = nn.CrossEntropyLoss(weight = torch.tensor([1, 1.05]).type(torch.cuda.FloatTensor))"
      ],
      "execution_count": 69,
      "outputs": [
        {
          "output_type": "stream",
          "text": [
            "/usr/local/lib/python3.6/dist-packages/torchvision/models/densenet.py:212: UserWarning: nn.init.kaiming_normal is now deprecated in favor of nn.init.kaiming_normal_.\n",
            "  nn.init.kaiming_normal(m.weight.data)\n"
          ],
          "name": "stderr"
        }
      ]
    },
    {
      "metadata": {
        "id": "jp3IOUEX_dxb",
        "colab_type": "code",
        "colab": {
          "base_uri": "https://localhost:8080/",
          "height": 51
        },
        "outputId": "66b86c44-47f6-48bc-c94e-229adc02abdc"
      },
      "cell_type": "code",
      "source": [
        "model_res = models.resnet18(pretrained=True)\n",
        "num_ftrs = model_res.fc.in_features # fc for resnet\n",
        "model_res.in_features = nn.Linear(num_ftrs, 2)\n",
        "model_res = model_res.to(device)\n",
        "criterion = nn.CrossEntropyLoss(weight = torch.tensor([1, 1.05]).type(torch.cuda.FloatTensor))"
      ],
      "execution_count": 11,
      "outputs": [
        {
          "output_type": "stream",
          "text": [
            "Downloading: \"https://download.pytorch.org/models/resnet18-5c106cde.pth\" to /content/.torch/models/resnet18-5c106cde.pth\n",
            "14.0%"
          ],
          "name": "stderr"
        },
        {
          "output_type": "stream",
          "text": [
            "100.0%\n"
          ],
          "name": "stderr"
        }
      ]
    },
    {
      "metadata": {
        "id": "WSZZvq6qkzDP",
        "colab_type": "code",
        "colab": {}
      },
      "cell_type": "code",
      "source": [
        "learning_rates = [1e-4, 1e-3, 1e-2]\n",
        "for lr in learning_rates:\n",
        "    #optimizer_ft = optim.SGD(model_ft.classifier.parameters(),lr, momentum=0.9)\n",
        "    optimizer_ft = optim.Adam(list(filter(lambda p: p.requires_grad, model_ft.parameters())), lr = lr, betas=(0.9, 0.999), eps=1e-08, weight_decay=0, amsgrad=False)\n",
        "    model_ft = train_model(model_ft, criterion, optimizer_ft, exp_lr_scheduler,\n",
        "                       num_epochs=3)"
      ],
      "execution_count": 0,
      "outputs": []
    },
    {
      "metadata": {
        "id": "Jogs_GFCk4Gu",
        "colab_type": "code",
        "colab": {
          "base_uri": "https://localhost:8080/",
          "height": 187
        },
        "outputId": "12af1882-77c7-4e7a-eeaa-12f325b31635"
      },
      "cell_type": "code",
      "source": [
        "optimizer_ft = optim.Adam(list(filter(lambda p: p.requires_grad, model_ft.parameters())), lr = 1e-4, betas=(0.9, 0.999), eps=1e-08, weight_decay=0, amsgrad=False)\n",
        "exp_lr_scheduler = lr_scheduler.StepLR(optimizer_ft, step_size=5, gamma=0.1)\n",
        "model_ft = train_model(model_ft, criterion, optimizer_ft, exp_lr_scheduler,\n",
        "                       num_epochs=15)"
      ],
      "execution_count": 0,
      "outputs": [
        {
          "output_type": "stream",
          "text": [
            "Epoch 0/14\n",
            "----------\n",
            "train Loss: 0.5598 Acc: 0.7170\n",
            "val Loss: 0.5356 Acc: 0.7549\n",
            "Epoch 1/14\n",
            "----------\n",
            "train Loss: 0.4844 Acc: 0.7705\n",
            "val Loss: 0.4986 Acc: 0.7679\n",
            "Epoch 2/14\n",
            "----------\n"
          ],
          "name": "stdout"
        }
      ]
    },
    {
      "metadata": {
        "id": "KDpOlCjTMMLA",
        "colab_type": "code",
        "colab": {
          "base_uri": "https://localhost:8080/",
          "height": 282
        },
        "outputId": "4812c386-8093-4574-b20b-694f3ba359d0"
      },
      "cell_type": "code",
      "source": [
        "summary(model_ft,224)"
      ],
      "execution_count": 62,
      "outputs": [
        {
          "output_type": "error",
          "ename": "TypeError",
          "evalue": "ignored",
          "traceback": [
            "\u001b[0;31m---------------------------------------------------------------------------\u001b[0m",
            "\u001b[0;31mTypeError\u001b[0m                                 Traceback (most recent call last)",
            "\u001b[0;32m<ipython-input-62-ab8a69019f55>\u001b[0m in \u001b[0;36m<module>\u001b[0;34m()\u001b[0m\n\u001b[0;32m----> 1\u001b[0;31m \u001b[0msummary\u001b[0m\u001b[0;34m(\u001b[0m\u001b[0mmodel_ft\u001b[0m\u001b[0;34m,\u001b[0m\u001b[0;36m224\u001b[0m\u001b[0;34m)\u001b[0m\u001b[0;34m\u001b[0m\u001b[0m\n\u001b[0m",
            "\u001b[0;32m<ipython-input-61-5fe5c32068ec>\u001b[0m in \u001b[0;36msummary\u001b[0;34m(input_size, model)\u001b[0m\n\u001b[1;32m     27\u001b[0m \u001b[0;34m\u001b[0m\u001b[0m\n\u001b[1;32m     28\u001b[0m         \u001b[0;31m# check if there are multiple inputs to the network\u001b[0m\u001b[0;34m\u001b[0m\u001b[0;34m\u001b[0m\u001b[0m\n\u001b[0;32m---> 29\u001b[0;31m         \u001b[0;32mif\u001b[0m \u001b[0misinstance\u001b[0m\u001b[0;34m(\u001b[0m\u001b[0minput_size\u001b[0m\u001b[0;34m[\u001b[0m\u001b[0;36m0\u001b[0m\u001b[0;34m]\u001b[0m\u001b[0;34m,\u001b[0m \u001b[0;34m(\u001b[0m\u001b[0mlist\u001b[0m\u001b[0;34m,\u001b[0m \u001b[0mtuple\u001b[0m\u001b[0;34m)\u001b[0m\u001b[0;34m)\u001b[0m\u001b[0;34m:\u001b[0m\u001b[0;34m\u001b[0m\u001b[0m\n\u001b[0m\u001b[1;32m     30\u001b[0m             \u001b[0mx\u001b[0m \u001b[0;34m=\u001b[0m \u001b[0;34m[\u001b[0m\u001b[0mVariable\u001b[0m\u001b[0;34m(\u001b[0m\u001b[0mth\u001b[0m\u001b[0;34m.\u001b[0m\u001b[0mrand\u001b[0m\u001b[0;34m(\u001b[0m\u001b[0;36m1\u001b[0m\u001b[0;34m,\u001b[0m\u001b[0;34m*\u001b[0m\u001b[0min_size\u001b[0m\u001b[0;34m)\u001b[0m\u001b[0;34m)\u001b[0m \u001b[0;32mfor\u001b[0m \u001b[0min_size\u001b[0m \u001b[0;32min\u001b[0m \u001b[0minput_size\u001b[0m\u001b[0;34m]\u001b[0m\u001b[0;34m\u001b[0m\u001b[0m\n\u001b[1;32m     31\u001b[0m         \u001b[0;32melse\u001b[0m\u001b[0;34m:\u001b[0m\u001b[0;34m\u001b[0m\u001b[0m\n",
            "\u001b[0;31mTypeError\u001b[0m: 'DenseNet' object does not support indexing"
          ]
        }
      ]
    },
    {
      "metadata": {
        "id": "QHmghFwz9xr3",
        "colab_type": "code",
        "colab": {}
      },
      "cell_type": "code",
      "source": [
        "def summary(input_size, model):\n",
        "        def register_hook(module):\n",
        "            def hook(module, input, output):\n",
        "                class_name = str(module.__class__).split('.')[-1].split(\"'\")[0]\n",
        "                module_idx = len(summary)\n",
        "\n",
        "                m_key = '%s-%i' % (class_name, module_idx+1)\n",
        "                summary[m_key] = OrderedDict()\n",
        "                summary[m_key]['input_shape'] = list(input[0].size())\n",
        "                summary[m_key]['input_shape'][0] = -1\n",
        "                summary[m_key]['output_shape'] = list(output.size())\n",
        "                summary[m_key]['output_shape'][0] = -1\n",
        "\n",
        "                params = 0\n",
        "                if hasattr(module, 'weight'):\n",
        "                    params += th.prod(th.LongTensor(list(module.weight.size())))\n",
        "                    if module.weight.requires_grad:\n",
        "                        summary[m_key]['trainable'] = True\n",
        "                    else:\n",
        "                        summary[m_key]['trainable'] = False\n",
        "                if hasattr(module, 'bias'):\n",
        "                    params +=  th.prod(th.LongTensor(list(module.bias.size())))\n",
        "                summary[m_key]['nb_params'] = params\n",
        "                \n",
        "            if not isinstance(module, nn.Sequential) and \\\n",
        "               not isinstance(module, nn.ModuleList) and \\\n",
        "               not (module == model):\n",
        "                hooks.append(module.register_forward_hook(hook))\n",
        "        \n",
        "        # check if there are multiple inputs to the network\n",
        "        if isinstance(input_size[0], (list, tuple)):\n",
        "            x = [Variable(th.rand(1,*in_size)) for in_size in input_size]\n",
        "        else:\n",
        "            x = Variable(th.rand(1,*input_size))\n",
        "\n",
        "        # create properties\n",
        "        summary = OrderedDict()\n",
        "        hooks = []\n",
        "        # register hook\n",
        "        model.apply(register_hook)\n",
        "        # make a forward pass\n",
        "        model(x)\n",
        "        # remove these hooks\n",
        "        for h in hooks:\n",
        "            h.remove()\n",
        "\n",
        "        return summary"
      ],
      "execution_count": 0,
      "outputs": []
    },
    {
      "metadata": {
        "id": "nwYF0E3Sjiy4",
        "colab_type": "text"
      },
      "cell_type": "markdown",
      "source": [
        "### GitHub\n",
        "\n",
        "You can save a copy of your Colab notebook to Github by using File > Save a copy to GitHub…\n",
        "\n",
        "You can load any .ipynb on GitHub by just adding the path to colab.research.google.com/github/ . For example, [colab.research.google.com/github/tensorflow/models/blob/master/samples/core/get_started/_index.ipynb](https://colab.research.google.com/github/tensorflow/models/blob/master/samples/core/get_started/_index.ipynb) will load [this .ipynb](https://github.com/tensorflow/models/blob/master/samples/core/get_started/_index.ipynb) on GitHub.\n",
        "\n"
      ]
    },
    {
      "metadata": {
        "id": "yv2XIwi5hQ_g",
        "colab_type": "text"
      },
      "cell_type": "markdown",
      "source": [
        "### Visualization"
      ]
    },
    {
      "metadata": {
        "id": "rYs5mx2JZkmy",
        "colab_type": "text"
      },
      "cell_type": "markdown",
      "source": [
        "Colaboratory includes widely used libraries like [matplotlib](https://matplotlib.org/), simplifying visualization."
      ]
    },
    {
      "metadata": {
        "id": "xqrc5C-IaA5J",
        "colab_type": "code",
        "colab": {
          "height": 360
        },
        "outputId": "3460cc84-faf8-4d8c-a4e6-96a6809c389a"
      },
      "cell_type": "code",
      "source": [
        "import matplotlib.pyplot as plt\n",
        "import numpy as np\n",
        "\n",
        "x = np.arange(20)\n",
        "y = [x_i + np.random.randn(1) for x_i in x]\n",
        "a, b = np.polyfit(x, y, 1)\n",
        "_ = plt.plot(x, y, 'o', np.arange(20), a*np.arange(20)+b, '-')"
      ],
      "execution_count": 0,
      "outputs": [
        {
          "output_type": "display_data",
          "data": {
            "image/png": "[encoded data removed]",
            "text/plain": [
              "<matplotlib.figure.Figure at 0x562d64cf1b10>"
            ]
          },
          "metadata": {
            "tags": []
          }
        }
      ]
    },
    {
      "metadata": {
        "id": "AN_LRQ9NkOjs",
        "colab_type": "text"
      },
      "cell_type": "markdown",
      "source": [
        "Want to use a new library?  `pip install` it at the top of the notebook. Then that library can be used anywhere else in the notebook. For recipes to import commonly used libraries, refer to the [importing libraries example notebook](/notebooks/snippets/importing_libraries.ipynb)."
      ]
    },
    {
      "metadata": {
        "id": "FlQq0SUepQbd",
        "colab_type": "code",
        "colab": {
          "base_uri": "https://localhost:8080/",
          "height": 349
        },
        "outputId": "6e404831-3336-4633-b76f-c6313ecdd356"
      },
      "cell_type": "code",
      "source": [
        "!pip install -q matplotlib-venn\n",
        "\n",
        "from matplotlib_venn import venn2\n",
        "_ = venn2(subsets = (3, 2, 1))"
      ],
      "execution_count": 0,
      "outputs": [
        {
          "output_type": "display_data",
          "data": {
            "image/png": "[encoded data removed]",
            "text/plain": [
              "<matplotlib.figure.Figure at 0x7f48ff99ff10>"
            ]
          },
          "metadata": {
            "tags": []
          }
        }
      ]
    },
    {
      "metadata": {
        "id": "LxZ3dPzYnyNF",
        "colab_type": "text"
      },
      "cell_type": "markdown",
      "source": [
        "### Forms\n",
        "\n",
        "Forms can be used to parameterize code. See the [forms example notebook](/notebooks/forms.ipynb) for more details."
      ]
    },
    {
      "metadata": {
        "id": "FQ_Hx_9tn7uF",
        "colab_type": "code",
        "colab": {}
      },
      "cell_type": "code",
      "source": [
        "#@title Examples\n",
        "\n",
        "text = 'value' #@param \n",
        "date_input = '2018-03-22' #@param {type:\"date\"}\n",
        "number_slider = 0 #@param {type:\"slider\", min:-1, max:1, step:0.1}\n",
        "dropdown = '1st option' #@param [\"1st option\", \"2nd option\", \"3rd option\"]\n"
      ],
      "execution_count": 0,
      "outputs": []
    },
    {
      "metadata": {
        "id": "rTX3heEtu0b2",
        "colab_type": "text"
      },
      "cell_type": "markdown",
      "source": [
        "### Local runtime support\n",
        "\n",
        "Colab  supports connecting to a Jupyter runtime on your local machine. For more information, see our [documentation](https://research.google.com/colaboratory/local-runtimes.html)."
      ]
    }
  ]
}