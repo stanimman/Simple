{
  "nbformat": 4,
  "nbformat_minor": 0,
  "metadata": {
    "colab": {
      "name": "Hello, Colaboratory",
      "version": "0.3.2",
      "provenance": [],
      "collapsed_sections": [],
      "toc_visible": true,
      "include_colab_link": true
    },
    "kernelspec": {
      "display_name": "Python 3",
      "name": "python3"
    },
    "accelerator": "GPU"
  },
  "cells": [
    {
      "cell_type": "markdown",
      "metadata": {
        "id": "view-in-github",
        "colab_type": "text"
      },
      "source": [
        "[View in Colaboratory](https://colab.research.google.com/github/stanimman/Simple/blob/master/Mura_All_Study_type.ipynb)"
      ]
    },
    {
      "metadata": {
        "id": "9J7p406abzgl",
        "colab_type": "text"
      },
      "cell_type": "markdown",
      "source": [
        "<img height=\"60px\" src=\"https://colab.research.google.com/img/colab_favicon.ico\" align=\"left\" hspace=\"20px\" vspace=\"5px\">\n",
        "\n",
        "## Welcome to Colaboratory!\n",
        "\n",
        "Colaboratory is a free Jupyter notebook environment that requires no setup and runs entirely in the cloud. See our [FAQ](https://research.google.com/colaboratory/faq.html) for more info."
      ]
    },
    {
      "metadata": {
        "id": "-Rh3-Vt9Nev9",
        "colab_type": "text"
      },
      "cell_type": "markdown",
      "source": [
        "## Getting Started\n",
        "- [Overview of Colaboratory](/notebooks/basic_features_overview.ipynb)\n",
        "- [Loading and saving data: Local files, Drive, Sheets, Google Cloud Storage](/notebooks/io.ipynb)\n",
        "- [Importing libraries and installing dependencies](/notebooks/snippets/importing_libraries.ipynb)\n",
        "- [Using Google Cloud BigQuery](/notebooks/bigquery.ipynb)\n",
        "- [Forms](/notebooks/forms.ipynb), [Charts](/notebooks/charts.ipynb), [Markdown](/notebooks/markdown_guide.ipynb), & [Widgets](/notebooks/widgets.ipynb)\n",
        "- [TensorFlow with GPU](/notebooks/gpu.ipynb)\n",
        "- [Machine Learning Crash Course](https://developers.google.com/machine-learning/crash-course/): [Intro to Pandas](/notebooks/mlcc/intro_to_pandas.ipynb) & [First Steps with TensorFlow](/notebooks/mlcc/first_steps_with_tensor_flow.ipynb)\n"
      ]
    },
    {
      "metadata": {
        "id": "1fr51oVCHRZU",
        "colab_type": "text"
      },
      "cell_type": "markdown",
      "source": [
        "## Highlighted Features\n",
        "### Seedbank\n",
        "\n",
        "Looking for Colab notebooks to learn from? Check out [Seedbank](https://tools.google.com/seedbank/), a place to discover interactive machine learning examples."
      ]
    },
    {
      "metadata": {
        "id": "9wi5kfGdhK0R",
        "colab_type": "text"
      },
      "cell_type": "markdown",
      "source": [
        "### TensorFlow execution"
      ]
    },
    {
      "metadata": {
        "id": "S9GW-n-oYWIj",
        "colab_type": "text"
      },
      "cell_type": "markdown",
      "source": [
        "Colaboratory allows you to execute TensorFlow code in your browser with a single click. The example below adds two matrices.\n",
        "\n",
        "$\\begin{bmatrix}\n",
        "  1. & 1. & 1. \\\\\n",
        "  1. & 1. & 1. \\\\\n",
        "\\end{bmatrix} +\n",
        "\\begin{bmatrix}\n",
        "  1. & 2. & 3. \\\\\n",
        "  4. & 5. & 6. \\\\\n",
        "\\end{bmatrix} =\n",
        "\\begin{bmatrix}\n",
        "  2. & 3. & 4. \\\\\n",
        "  5. & 6. & 7. \\\\\n",
        "\\end{bmatrix}$"
      ]
    },
    {
      "metadata": {
        "id": "oYZkU7ZN3CL0",
        "colab_type": "code",
        "colab": {
          "base_uri": "https://localhost:8080/",
          "height": 204
        },
        "outputId": "3e763495-7579-4a51-d77d-a9a46b8d3c11"
      },
      "cell_type": "code",
      "source": [
        "!wget https://fs6.transfernow.net/download/5b73efb30d903/master/XR_FOREARM.zip"
      ],
      "execution_count": 9,
      "outputs": [
        {
          "output_type": "stream",
          "text": [
            "--2018-08-20 08:45:39--  https://fs6.transfernow.net/download/5b73efb30d903/master/XR_FOREARM.zip\r\n",
            "Resolving fs6.transfernow.net (fs6.transfernow.net)... 163.172.20.194\r\n",
            "Connecting to fs6.transfernow.net (fs6.transfernow.net)|163.172.20.194|:443... connected.\n",
            "HTTP request sent, awaiting response... 200 OK\n",
            "Length: 209855004 (200M) [application/zip]\n",
            "Saving to: ‘XR_FOREARM.zip’\n",
            "\n",
            "XR_FOREARM.zip      100%[===================>] 200.13M  1.40MB/s    in 2m 19s  \n",
            "\n",
            "2018-08-20 08:47:59 (1.44 MB/s) - ‘XR_FOREARM.zip’ saved [209855004/209855004]\n",
            "\n"
          ],
          "name": "stdout"
        }
      ]
    },
    {
      "metadata": {
        "id": "EVj9QXyeOlxI",
        "colab_type": "code",
        "colab": {}
      },
      "cell_type": "code",
      "source": [
        "#!wget https://fs5.transfernow.net/download/5b73c4464b5cc/master/Image_Path.zip"
      ],
      "execution_count": 0,
      "outputs": []
    },
    {
      "metadata": {
        "id": "u__OdhTxPyov",
        "colab_type": "code",
        "colab": {}
      },
      "cell_type": "code",
      "source": [
        "#!unzip Image_Path"
      ],
      "execution_count": 0,
      "outputs": []
    },
    {
      "metadata": {
        "id": "PuPxn9jL1WQa",
        "colab_type": "code",
        "colab": {}
      },
      "cell_type": "code",
      "source": [
        "%%capture\n",
        "!unzip XR_FOREARM.zip"
      ],
      "execution_count": 0,
      "outputs": []
    },
    {
      "metadata": {
        "id": "Qiycsx124XNJ",
        "colab_type": "code",
        "colab": {}
      },
      "cell_type": "code",
      "source": [
        "#rm -r __MACOSX"
      ],
      "execution_count": 0,
      "outputs": []
    },
    {
      "metadata": {
        "id": "JcuJVfZ-1zbX",
        "colab_type": "code",
        "colab": {
          "base_uri": "https://localhost:8080/",
          "height": 34
        },
        "outputId": "f216783e-ab02-4f1e-dd14-48f97739d794"
      },
      "cell_type": "code",
      "source": [
        "!ls "
      ],
      "execution_count": 1,
      "outputs": [
        {
          "output_type": "stream",
          "text": [
            "datalab  __MACOSX  sample_data\tXR_FOREARM  XR_FOREARM.zip\r\n"
          ],
          "name": "stdout"
        }
      ]
    },
    {
      "metadata": {
        "id": "gu1yxs2oSOgB",
        "colab_type": "code",
        "colab": {
          "base_uri": "https://localhost:8080/",
          "height": 122
        },
        "outputId": "fe945068-0a5b-480d-b6b6-624a894e57b0"
      },
      "cell_type": "code",
      "source": [
        "!pip install xlrd"
      ],
      "execution_count": 0,
      "outputs": [
        {
          "output_type": "stream",
          "text": [
            "Collecting xlrd\n",
            "\u001b[?25l  Downloading https://files.pythonhosted.org/packages/07/e6/e95c4eec6221bfd8528bcc4ea252a850bffcc4be88ebc367e23a1a84b0bb/xlrd-1.1.0-py2.py3-none-any.whl (108kB)\n",
            "\u001b[K    100% |████████████████████████████████| 112kB 4.3MB/s \n",
            "\u001b[?25hInstalling collected packages: xlrd\n",
            "Successfully installed xlrd-1.1.0\n"
          ],
          "name": "stdout"
        }
      ]
    },
    {
      "metadata": {
        "id": "oGcFutWI1j0U",
        "colab_type": "code",
        "colab": {}
      },
      "cell_type": "code",
      "source": [
        "import pandas as pd \n",
        "train_set = pd.read_csv('XR_FOREARM/train_lmagepath_label.csv')\n",
        "valid_set = pd.read_csv('XR_FOREARM/valid_imagepath_label.csv')"
      ],
      "execution_count": 0,
      "outputs": []
    },
    {
      "metadata": {
        "id": "iDf1zYzrhiu1",
        "colab_type": "code",
        "colab": {}
      },
      "cell_type": "code",
      "source": [
        "train_set['Unique_Id'] = train_set.index\n",
        "valid_set['Unique_Id'] = valid_set.index"
      ],
      "execution_count": 0,
      "outputs": []
    },
    {
      "metadata": {
        "id": "RRuA78Gj-ca9",
        "colab_type": "code",
        "colab": {
          "base_uri": "https://localhost:8080/",
          "height": 204
        },
        "outputId": "809f9f2a-d231-4eba-dbdd-6017ae17638e"
      },
      "cell_type": "code",
      "source": [
        "#train_set.head()\n",
        "valid_set.head()"
      ],
      "execution_count": 4,
      "outputs": [
        {
          "output_type": "execute_result",
          "data": {
            "text/html": [
              "<div>\n",
              "<style scoped>\n",
              "    .dataframe tbody tr th:only-of-type {\n",
              "        vertical-align: middle;\n",
              "    }\n",
              "\n",
              "    .dataframe tbody tr th {\n",
              "        vertical-align: top;\n",
              "    }\n",
              "\n",
              "    .dataframe thead th {\n",
              "        text-align: right;\n",
              "    }\n",
              "</style>\n",
              "<table border=\"1\" class=\"dataframe\">\n",
              "  <thead>\n",
              "    <tr style=\"text-align: right;\">\n",
              "      <th></th>\n",
              "      <th>path</th>\n",
              "      <th>label_string</th>\n",
              "      <th>label</th>\n",
              "      <th>Unique_Id</th>\n",
              "    </tr>\n",
              "  </thead>\n",
              "  <tbody>\n",
              "    <tr>\n",
              "      <th>0</th>\n",
              "      <td>MURA-v1.1/valid/XR_WRIST/patient11185/study1_p...</td>\n",
              "      <td>positive</td>\n",
              "      <td>1</td>\n",
              "      <td>0</td>\n",
              "    </tr>\n",
              "    <tr>\n",
              "      <th>1</th>\n",
              "      <td>MURA-v1.1/valid/XR_WRIST/patient11185/study1_p...</td>\n",
              "      <td>positive</td>\n",
              "      <td>1</td>\n",
              "      <td>1</td>\n",
              "    </tr>\n",
              "    <tr>\n",
              "      <th>2</th>\n",
              "      <td>MURA-v1.1/valid/XR_WRIST/patient11185/study1_p...</td>\n",
              "      <td>positive</td>\n",
              "      <td>1</td>\n",
              "      <td>2</td>\n",
              "    </tr>\n",
              "    <tr>\n",
              "      <th>3</th>\n",
              "      <td>MURA-v1.1/valid/XR_WRIST/patient11185/study1_p...</td>\n",
              "      <td>positive</td>\n",
              "      <td>1</td>\n",
              "      <td>3</td>\n",
              "    </tr>\n",
              "    <tr>\n",
              "      <th>4</th>\n",
              "      <td>MURA-v1.1/valid/XR_WRIST/patient11186/study1_p...</td>\n",
              "      <td>positive</td>\n",
              "      <td>1</td>\n",
              "      <td>4</td>\n",
              "    </tr>\n",
              "  </tbody>\n",
              "</table>\n",
              "</div>"
            ],
            "text/plain": [
              "                                                path label_string  label  \\\n",
              "0  MURA-v1.1/valid/XR_WRIST/patient11185/study1_p...     positive      1   \n",
              "1  MURA-v1.1/valid/XR_WRIST/patient11185/study1_p...     positive      1   \n",
              "2  MURA-v1.1/valid/XR_WRIST/patient11185/study1_p...     positive      1   \n",
              "3  MURA-v1.1/valid/XR_WRIST/patient11185/study1_p...     positive      1   \n",
              "4  MURA-v1.1/valid/XR_WRIST/patient11186/study1_p...     positive      1   \n",
              "\n",
              "   Unique_Id  \n",
              "0          0  \n",
              "1          1  \n",
              "2          2  \n",
              "3          3  \n",
              "4          4  "
            ]
          },
          "metadata": {
            "tags": []
          },
          "execution_count": 4
        }
      ]
    },
    {
      "metadata": {
        "id": "shJs16vVTdJx",
        "colab_type": "code",
        "colab": {}
      },
      "cell_type": "code",
      "source": [
        ""
      ],
      "execution_count": 0,
      "outputs": []
    },
    {
      "metadata": {
        "id": "43jIDk1tMixe",
        "colab_type": "code",
        "colab": {
          "base_uri": "https://localhost:8080/",
          "height": 51
        },
        "outputId": "1dfd2382-8920-40c0-e7d6-a29f1f94a7ae"
      },
      "cell_type": "code",
      "source": [
        "print(train_set.paths.astype(str).str[16:26][0])\n",
        "print(valid_set.path.astype(str).str[16:26][0])"
      ],
      "execution_count": 0,
      "outputs": [
        {
          "output_type": "stream",
          "text": [
            "XR_SHOULDE\n",
            "XR_WRIST/p\n"
          ],
          "name": "stdout"
        }
      ]
    },
    {
      "metadata": {
        "id": "2Y-8umfOO1va",
        "colab_type": "code",
        "colab": {}
      },
      "cell_type": "code",
      "source": [
        "train_forearm = train_set.loc[train_set.paths.astype(str).str[16:26].isin(['XR_FOREARM'])]\n",
        "valid_forearm = valid_set.loc[valid_set.path.astype(str).str[16:26].isin(['XR_FOREARM'])]"
      ],
      "execution_count": 0,
      "outputs": []
    },
    {
      "metadata": {
        "id": "QI-9Yn31S7-8",
        "colab_type": "code",
        "colab": {
          "base_uri": "https://localhost:8080/",
          "height": 34
        },
        "outputId": "21cbf72c-4050-47d6-eed0-558ebc25862f"
      },
      "cell_type": "code",
      "source": [
        "train_forearm.shape"
      ],
      "execution_count": 8,
      "outputs": [
        {
          "output_type": "execute_result",
          "data": {
            "text/plain": [
              "(1825, 4)"
            ]
          },
          "metadata": {
            "tags": []
          },
          "execution_count": 8
        }
      ]
    },
    {
      "metadata": {
        "id": "9A0V9R-6ROsl",
        "colab_type": "code",
        "colab": {
          "base_uri": "https://localhost:8080/",
          "height": 34
        },
        "outputId": "837100b8-81ae-4a82-8a5f-dbcb93d33f61"
      },
      "cell_type": "code",
      "source": [
        "train_forearm.iloc[0,0]"
      ],
      "execution_count": 7,
      "outputs": [
        {
          "output_type": "execute_result",
          "data": {
            "text/plain": [
              "'MURA-v1.1/train/XR_FOREARM/patient09083/study1_positive/image1.png'"
            ]
          },
          "metadata": {
            "tags": []
          },
          "execution_count": 7
        }
      ]
    },
    {
      "metadata": {
        "id": "6nGKzobXSL7v",
        "colab_type": "code",
        "colab": {
          "base_uri": "https://localhost:8080/",
          "height": 221
        },
        "outputId": "45f9db57-4700-457c-c0ee-1cdc384c6617"
      },
      "cell_type": "code",
      "source": [
        "train_forearm['paths'] = train_forearm['paths'].str[0:9].replace(to_replace='MURA-v1.1',value='XR_FOREARM'+train_forearm['paths'].str[9:])\n",
        "valid_forearm['path'] = valid_forearm['path'].str[0:9].replace(to_replace='MURA-v1.1',value='XR_FOREARM'+valid_forearm['path'].str[9:])"
      ],
      "execution_count": 9,
      "outputs": [
        {
          "output_type": "stream",
          "text": [
            "/usr/local/lib/python3.6/dist-packages/ipykernel_launcher.py:1: SettingWithCopyWarning: \n",
            "A value is trying to be set on a copy of a slice from a DataFrame.\n",
            "Try using .loc[row_indexer,col_indexer] = value instead\n",
            "\n",
            "See the caveats in the documentation: http://pandas.pydata.org/pandas-docs/stable/indexing.html#indexing-view-versus-copy\n",
            "  \"\"\"Entry point for launching an IPython kernel.\n",
            "/usr/local/lib/python3.6/dist-packages/ipykernel_launcher.py:2: SettingWithCopyWarning: \n",
            "A value is trying to be set on a copy of a slice from a DataFrame.\n",
            "Try using .loc[row_indexer,col_indexer] = value instead\n",
            "\n",
            "See the caveats in the documentation: http://pandas.pydata.org/pandas-docs/stable/indexing.html#indexing-view-versus-copy\n",
            "  \n"
          ],
          "name": "stderr"
        }
      ]
    },
    {
      "metadata": {
        "id": "ILZvB2HSQNA9",
        "colab_type": "code",
        "colab": {
          "base_uri": "https://localhost:8080/",
          "height": 34
        },
        "outputId": "62cc364b-d2b8-4418-914c-b3901c92bc50"
      },
      "cell_type": "code",
      "source": [
        "train_set.shape"
      ],
      "execution_count": 10,
      "outputs": [
        {
          "output_type": "execute_result",
          "data": {
            "text/plain": [
              "(36808, 4)"
            ]
          },
          "metadata": {
            "tags": []
          },
          "execution_count": 10
        }
      ]
    },
    {
      "metadata": {
        "id": "o6fD8K100Bt6",
        "colab_type": "code",
        "colab": {
          "base_uri": "https://localhost:8080/",
          "height": 136
        },
        "outputId": "43876164-1303-49b6-f8eb-0849afd100bd"
      },
      "cell_type": "code",
      "source": [
        "!pip uninstall Pillow -y\n",
        "\n",
        "!pip install Pillow"
      ],
      "execution_count": 16,
      "outputs": [
        {
          "output_type": "stream",
          "text": [
            "Uninstalling Pillow-4.0.0:\n",
            "  Successfully uninstalled Pillow-4.0.0\n",
            "Collecting Pillow\n",
            "\u001b[?25l  Downloading https://files.pythonhosted.org/packages/d1/24/f53ff6b61b3d728b90934bddb4f03f8ab584a7f49299bf3bde56e2952612/Pillow-5.2.0-cp36-cp36m-manylinux1_x86_64.whl (2.0MB)\n",
            "\u001b[K    100% |████████████████████████████████| 2.0MB 12.1MB/s \n",
            "\u001b[?25hInstalling collected packages: Pillow\n",
            "Successfully installed Pillow-5.2.0\n"
          ],
          "name": "stdout"
        }
      ]
    },
    {
      "metadata": {
        "id": "2tKP1gNl1U96",
        "colab_type": "code",
        "colab": {}
      },
      "cell_type": "code",
      "source": [
        "#%%capture\n",
        "#!unzip MURA-v1.1.zip"
      ],
      "execution_count": 0,
      "outputs": []
    },
    {
      "metadata": {
        "id": "NZAUDWV10Y2N",
        "colab_type": "code",
        "colab": {
          "base_uri": "https://localhost:8080/",
          "height": 105
        },
        "outputId": "d5e2f48e-601a-44ec-f190-9d209ee2fa73"
      },
      "cell_type": "code",
      "source": [
        "import PIL\n",
        "print(PIL.PILLOW_VERSION)\n",
        "from os import path\n",
        "from wheel.pep425tags import get_abbr_impl, get_impl_ver, get_abi_tag\n",
        "platform = '{}{}-{}'.format(get_abbr_impl(), get_impl_ver(), get_abi_tag())\n",
        "\n",
        "accelerator = 'cu80' if path.exists('/opt/bin/nvidia-smi') else 'cpu'\n",
        "\n",
        "!pip install -q http://download.pytorch.org/whl/{accelerator}/torch-0.4.0-{platform}-linux_x86_64.whl torchvision\n",
        "import torch\n",
        "print(torch.__version__)\n",
        "print(torch.cuda.is_available())\n",
        "\n",
        "import torch \n",
        "import torchvision\n",
        "import torch.nn as nn\n",
        "import numpy as np\n",
        "import torchvision.transforms as transforms\n",
        "\n",
        "from torch.utils.data import DataLoader, Dataset\n",
        "from torchvision.datasets.folder import pil_loader\n",
        "from torchvision import transforms, utils\n",
        "import pandas as pd\n",
        "import matplotlib.pyplot as plt\n",
        "from skimage import io, transform\n",
        "import matplotlib.pyplot as plt\n",
        "import os\n",
        "from torchvision import  models\n",
        "import torch.nn as nn\n",
        "import torch.optim as optim\n",
        "import copy\n",
        "from torch.optim import lr_scheduler\n",
        "import time\n",
        "import datetime as dt\n",
        "from PIL import Image\n",
        "import cv2"
      ],
      "execution_count": 11,
      "outputs": [
        {
          "output_type": "stream",
          "text": [
            "5.2.0\n",
            "tcmalloc: large alloc 1073750016 bytes == 0x5bb62000 @  0x7ff7027f91c4 0x46d6a4 0x5fcbcc 0x4c494d 0x54f3c4 0x553aaf 0x54e4c8 0x54f4f6 0x553aaf 0x54efc1 0x54f24d 0x553aaf 0x54efc1 0x54f24d 0x553aaf 0x54efc1 0x54f24d 0x551ee0 0x54e4c8 0x54f4f6 0x553aaf 0x54efc1 0x54f24d 0x551ee0 0x54efc1 0x54f24d 0x551ee0 0x54e4c8 0x54f4f6 0x553aaf 0x54e4c8\n",
            "0.4.0\n",
            "True\n"
          ],
          "name": "stdout"
        }
      ]
    },
    {
      "metadata": {
        "id": "8eGn5Igp1rVo",
        "colab_type": "code",
        "colab": {}
      },
      "cell_type": "code",
      "source": [
        "#%%capture\n",
        "#!unzip MURA-v1.1.zip\n"
      ],
      "execution_count": 0,
      "outputs": []
    },
    {
      "metadata": {
        "id": "GL59SifMhtQu",
        "colab_type": "code",
        "colab": {
          "base_uri": "https://localhost:8080/",
          "height": 34
        },
        "outputId": "185fb71a-1c5a-4584-c72c-3b35f51a541e"
      },
      "cell_type": "code",
      "source": [
        "!ls"
      ],
      "execution_count": 12,
      "outputs": [
        {
          "output_type": "stream",
          "text": [
            "datalab  __MACOSX  sample_data\tXR_FOREARM  XR_FOREARM.zip\r\n"
          ],
          "name": "stdout"
        }
      ]
    },
    {
      "metadata": {
        "id": "kkxtqSJM1rxY",
        "colab_type": "code",
        "colab": {}
      },
      "cell_type": "code",
      "source": [
        "train_path_df = train_forearm\n",
        "valid_path_df = valid_forearm"
      ],
      "execution_count": 0,
      "outputs": []
    },
    {
      "metadata": {
        "id": "_W-tz9Ue2Af7",
        "colab_type": "code",
        "colab": {}
      },
      "cell_type": "code",
      "source": [
        "#image_list = train_path_df.iloc[1000:1015,0]\n",
        "#im_path = image_list.iloc[2]"
      ],
      "execution_count": 0,
      "outputs": []
    },
    {
      "metadata": {
        "id": "PDhwVOXh2aL2",
        "colab_type": "code",
        "colab": {}
      },
      "cell_type": "code",
      "source": [
        "#im_path"
      ],
      "execution_count": 0,
      "outputs": []
    },
    {
      "metadata": {
        "id": "LlUwiVCN1sIv",
        "colab_type": "code",
        "colab": {}
      },
      "cell_type": "code",
      "source": [
        "#im = cv2.imread(im_path)"
      ],
      "execution_count": 0,
      "outputs": []
    },
    {
      "metadata": {
        "id": "p-Vg4tEH2xOP",
        "colab_type": "code",
        "colab": {
          "base_uri": "https://localhost:8080/",
          "height": 54
        },
        "outputId": "9979bfdc-2ce7-42d9-fa99-191151d3ec0d"
      },
      "cell_type": "code",
      "source": [
        "'''def channel_check(im):\n",
        "  channel0 = im[:,:,0]\n",
        "  channel1 = im[:,:,1]\n",
        "  channel2 = im[:,:,2]\n",
        "  diff = channel0 - channel1\n",
        "  print(channel0.sum(),channel1.sum(),channel2.sum())\n",
        "  print(diff.sum())'''"
      ],
      "execution_count": 0,
      "outputs": [
        {
          "output_type": "execute_result",
          "data": {
            "text/plain": [
              "'def channel_check(im):\\n  channel0 = im[:,:,0]\\n  channel1 = im[:,:,1]\\n  channel2 = im[:,:,2]\\n  diff = channel0 - channel1\\n  print(channel0.sum(),channel1.sum(),channel2.sum())\\n  print(diff.sum())'"
            ]
          },
          "metadata": {
            "tags": []
          },
          "execution_count": 9
        }
      ]
    },
    {
      "metadata": {
        "id": "FwLOdNLB3M-P",
        "colab_type": "code",
        "colab": {}
      },
      "cell_type": "code",
      "source": [
        "#diff = channel0 - channel1\n",
        "#print(channel0.sum(),channel1.sum(),channel2.sum())\n",
        "#print(diff.sum())"
      ],
      "execution_count": 0,
      "outputs": []
    },
    {
      "metadata": {
        "id": "rmcnsXyD35zX",
        "colab_type": "code",
        "colab": {
          "base_uri": "https://localhost:8080/",
          "height": 54
        },
        "outputId": "1ca72e6c-7ea1-4e41-bb33-7ea1b0b838b5"
      },
      "cell_type": "code",
      "source": [
        "'''def refix(image_path) :\n",
        "  desired_size = 512\n",
        "  im_pth = image_path\n",
        "  #img = cv2.imread(image_path,0)\n",
        "  # create a CLAHE object (Arguments are optional).\n",
        "  #clahe = cv2.createCLAHE(clipLimit=2.0, tileGridSize=(8,8))\n",
        "  #img = clahe.apply(img)\n",
        "  #im = np.stack((img,)*3, -1)\n",
        "  im = cv2.imread(im_pth)\n",
        "  #im = im_pth\n",
        "  original_im = im\n",
        "  old_size = im.shape[:2] # old_size is in (height, width) format\n",
        "\n",
        "  ratio = float(desired_size)/max(old_size)\n",
        "  new_size = tuple([int(x*ratio) for x in old_size])\n",
        "\n",
        "  # new_size should be in (width, height) format\n",
        "\n",
        "  im = cv2.resize(im, (new_size[1], new_size[0]))\n",
        "\n",
        "  delta_w = desired_size - new_size[1]\n",
        "  delta_h = desired_size - new_size[0]\n",
        "  top, bottom = delta_h//2, delta_h-(delta_h//2)\n",
        "  left, right = delta_w//2, delta_w-(delta_w//2)\n",
        "\n",
        "  color = [0, 0, 0]\n",
        "  new_im = cv2.copyMakeBorder(im, top, bottom, left, right, cv2.BORDER_CONSTANT,\n",
        "      value=color)\n",
        "  return original_im, new_im'''"
      ],
      "execution_count": 0,
      "outputs": [
        {
          "output_type": "execute_result",
          "data": {
            "text/plain": [
              "'def refix(image_path) :\\n  desired_size = 512\\n  im_pth = image_path\\n  #img = cv2.imread(image_path,0)\\n  # create a CLAHE object (Arguments are optional).\\n  #clahe = cv2.createCLAHE(clipLimit=2.0, tileGridSize=(8,8))\\n  #img = clahe.apply(img)\\n  #im = np.stack((img,)*3, -1)\\n  im = cv2.imread(im_pth)\\n  #im = im_pth\\n  original_im = im\\n  old_size = im.shape[:2] # old_size is in (height, width) format\\n\\n  ratio = float(desired_size)/max(old_size)\\n  new_size = tuple([int(x*ratio) for x in old_size])\\n\\n  # new_size should be in (width, height) format\\n\\n  im = cv2.resize(im, (new_size[1], new_size[0]))\\n\\n  delta_w = desired_size - new_size[1]\\n  delta_h = desired_size - new_size[0]\\n  top, bottom = delta_h//2, delta_h-(delta_h//2)\\n  left, right = delta_w//2, delta_w-(delta_w//2)\\n\\n  color = [0, 0, 0]\\n  new_im = cv2.copyMakeBorder(im, top, bottom, left, right, cv2.BORDER_CONSTANT,\\n      value=color)\\n  return original_im, new_im'"
            ]
          },
          "metadata": {
            "tags": []
          },
          "execution_count": 11
        }
      ]
    },
    {
      "metadata": {
        "id": "i6j-QyAP4Mkl",
        "colab_type": "code",
        "colab": {}
      },
      "cell_type": "code",
      "source": [
        "#x,y = refix(im_path)"
      ],
      "execution_count": 0,
      "outputs": []
    },
    {
      "metadata": {
        "id": "AjSmtbqN4W5s",
        "colab_type": "code",
        "colab": {}
      },
      "cell_type": "code",
      "source": [
        "#channel_check(y)"
      ],
      "execution_count": 0,
      "outputs": []
    },
    {
      "metadata": {
        "id": "XSh7Fc5b4qvV",
        "colab_type": "code",
        "colab": {}
      },
      "cell_type": "code",
      "source": [
        "#img = cv2.imread(im_path,0)"
      ],
      "execution_count": 0,
      "outputs": []
    },
    {
      "metadata": {
        "id": "VcuLQxv24us7",
        "colab_type": "code",
        "colab": {}
      },
      "cell_type": "code",
      "source": [
        "#img.shape"
      ],
      "execution_count": 0,
      "outputs": []
    },
    {
      "metadata": {
        "id": "KRJjkJ4C41K7",
        "colab_type": "code",
        "colab": {}
      },
      "cell_type": "code",
      "source": [
        "#y.shape"
      ],
      "execution_count": 0,
      "outputs": []
    },
    {
      "metadata": {
        "id": "P6xPJj0t438d",
        "colab_type": "code",
        "colab": {}
      },
      "cell_type": "code",
      "source": [
        "#new_x = y[:,:,0]\n",
        "#new_x.shape"
      ],
      "execution_count": 0,
      "outputs": []
    },
    {
      "metadata": {
        "id": "E5K_FX6K79H_",
        "colab_type": "code",
        "colab": {
          "base_uri": "https://localhost:8080/",
          "height": 54
        },
        "outputId": "35af8806-538d-4ac5-c130-d08422a8b16a"
      },
      "cell_type": "code",
      "source": [
        "'''def Clahe(img,ind):\n",
        "  if ind == 0:\n",
        "    img = cv2.imread(img,0)\n",
        "  if ind == 1:\n",
        "    img = img \n",
        "    # create a CLAHE object (Arguments are optional).\n",
        "  clahe = cv2.createCLAHE(clipLimit=2.0, tileGridSize=(8,8))\n",
        "  img = clahe.apply(img)\n",
        "  image = np.stack((img,)*3, -1)\n",
        "  return image\n",
        "        '''\n",
        "\n",
        "  "
      ],
      "execution_count": 0,
      "outputs": [
        {
          "output_type": "execute_result",
          "data": {
            "text/plain": [
              "'def Clahe(img,ind):\\n  if ind == 0:\\n    img = cv2.imread(img,0)\\n  if ind == 1:\\n    img = img \\n    # create a CLAHE object (Arguments are optional).\\n  clahe = cv2.createCLAHE(clipLimit=2.0, tileGridSize=(8,8))\\n  img = clahe.apply(img)\\n  image = np.stack((img,)*3, -1)\\n  return image\\n        '"
            ]
          },
          "metadata": {
            "tags": []
          },
          "execution_count": 18
        }
      ]
    },
    {
      "metadata": {
        "id": "zPG06FWT9RqI",
        "colab_type": "code",
        "colab": {}
      },
      "cell_type": "code",
      "source": [
        "#Clahe and then Refix\n",
        "#Clahe_Image = Clahe(im_path,0)\n",
        "#x,y = refix(Clahe_Image)\n",
        "#im_to_see_1 = y"
      ],
      "execution_count": 0,
      "outputs": []
    },
    {
      "metadata": {
        "id": "QkwqQJQY-MWB",
        "colab_type": "code",
        "colab": {}
      },
      "cell_type": "code",
      "source": [
        "#channel_check(im_to_see_1)"
      ],
      "execution_count": 0,
      "outputs": []
    },
    {
      "metadata": {
        "id": "o961qW89-Xmy",
        "colab_type": "code",
        "colab": {}
      },
      "cell_type": "code",
      "source": [
        "#Refix and then Clahe\n",
        "#x,y = refix(im_path)\n",
        "#img_refix = y[:,:,0]\n",
        "#Clahe_Image = Clahe(img_refix,1)\n",
        "#im_to_see_2 = Clahe_Image"
      ],
      "execution_count": 0,
      "outputs": []
    },
    {
      "metadata": {
        "id": "_CNvZxj2DBq8",
        "colab_type": "code",
        "colab": {}
      },
      "cell_type": "code",
      "source": [
        "#Refix and then Clahe\n",
        "#x,y = refix(im_path)\n",
        "#img_refix = y[:,:,0]\n",
        "#Clahe_Image = Clahe(img_refix,1)\n",
        "#im_to_see_3 = Clahe_Image"
      ],
      "execution_count": 0,
      "outputs": []
    },
    {
      "metadata": {
        "id": "lRNnOvaP_Ml-",
        "colab_type": "code",
        "colab": {}
      },
      "cell_type": "code",
      "source": [
        "#channel_check(im_to_see_2)"
      ],
      "execution_count": 0,
      "outputs": []
    },
    {
      "metadata": {
        "id": "aBeuC5sD_2rq",
        "colab_type": "code",
        "colab": {}
      },
      "cell_type": "code",
      "source": [
        "#transform=transforms.Compose([transforms.ToPILImage(),\n",
        "                              #transforms.Resize((224,224)),\n",
        " #                             transforms.CenterCrop(224),\n",
        " #                             transforms.ToTensor()\n",
        " #                                                                           \n",
        " #                                          ])"
      ],
      "execution_count": 0,
      "outputs": []
    },
    {
      "metadata": {
        "id": "ozAStIN1AnJT",
        "colab_type": "code",
        "colab": {}
      },
      "cell_type": "code",
      "source": [
        "#transformed_x = transform(im_to_see_3)"
      ],
      "execution_count": 0,
      "outputs": []
    },
    {
      "metadata": {
        "id": "JrIn96DAArLs",
        "colab_type": "code",
        "colab": {}
      },
      "cell_type": "code",
      "source": [
        "#transformed_x.shape"
      ],
      "execution_count": 0,
      "outputs": []
    },
    {
      "metadata": {
        "id": "FjChdv2mA5La",
        "colab_type": "code",
        "colab": {}
      },
      "cell_type": "code",
      "source": [
        "#inp = transformed_x.numpy().transpose((1, 2, 0))\n"
      ],
      "execution_count": 0,
      "outputs": []
    },
    {
      "metadata": {
        "id": "nRCbJYmSBZ3M",
        "colab_type": "code",
        "colab": {}
      },
      "cell_type": "code",
      "source": [
        "#inp.shape"
      ],
      "execution_count": 0,
      "outputs": []
    },
    {
      "metadata": {
        "id": "F6EMzK6KCKXw",
        "colab_type": "code",
        "colab": {}
      },
      "cell_type": "code",
      "source": [
        "#x.shape\n"
      ],
      "execution_count": 0,
      "outputs": []
    },
    {
      "metadata": {
        "id": "DHGs11_H7vIp",
        "colab_type": "code",
        "colab": {
          "base_uri": "https://localhost:8080/",
          "height": 54
        },
        "outputId": "87533cb6-50c7-4bee-d61a-dbca364b0171"
      },
      "cell_type": "code",
      "source": [
        "'''def imshow(axis, inp):\n",
        "  \n",
        "    \"\"\"Denormalize and show\"\"\"\n",
        "    #inp = inp.numpy()\n",
        "    #mean = np.array([0.485, 0.456, 0.406])\n",
        "    #std = np.array([0.229, 0.224, 0.225])\n",
        "    #inp = std * inp + mean\n",
        "    #inp = np.clip(inp, 0, 1)\n",
        "    axis.imshow(inp)'''"
      ],
      "execution_count": 0,
      "outputs": [
        {
          "output_type": "execute_result",
          "data": {
            "text/plain": [
              "'def imshow(axis, inp):\\n  \\n    \"\"\"Denormalize and show\"\"\"\\n    #inp = inp.numpy()\\n    #mean = np.array([0.485, 0.456, 0.406])\\n    #std = np.array([0.229, 0.224, 0.225])\\n    #inp = std * inp + mean\\n    #inp = np.clip(inp, 0, 1)\\n    axis.imshow(inp)'"
            ]
          },
          "metadata": {
            "tags": []
          },
          "execution_count": 29
        }
      ]
    },
    {
      "metadata": {
        "id": "6jBOtpLg76Xx",
        "colab_type": "code",
        "colab": {
          "base_uri": "https://localhost:8080/",
          "height": 54
        },
        "outputId": "17ea12b8-7d98-448f-d330-74fb2ed95b7e"
      },
      "cell_type": "code",
      "source": [
        "'''from mpl_toolkits.axes_grid1 import AxesGrid, ImageGrid\n",
        "fig = plt.figure(1, figsize=(10, 10))\n",
        "grid = ImageGrid(fig, 111, nrows_ncols=(2, 3), axes_pad=0.05)\n",
        "ax = grid[0]\n",
        "imshow(ax,im_to_see_1)\n",
        "ax = grid[1]\n",
        "imshow(ax,im_to_see_2)\n",
        "ax = grid[3]\n",
        "imshow(ax,x)\n",
        "ax = grid[2]\n",
        "imshow(ax,inp)\n",
        "ax = grid[4]\n",
        "imshow(ax,im_to_see_3)'''"
      ],
      "execution_count": 0,
      "outputs": [
        {
          "output_type": "execute_result",
          "data": {
            "text/plain": [
              "'from mpl_toolkits.axes_grid1 import AxesGrid, ImageGrid\\nfig = plt.figure(1, figsize=(10, 10))\\ngrid = ImageGrid(fig, 111, nrows_ncols=(2, 3), axes_pad=0.05)\\nax = grid[0]\\nimshow(ax,im_to_see_1)\\nax = grid[1]\\nimshow(ax,im_to_see_2)\\nax = grid[3]\\nimshow(ax,x)\\nax = grid[2]\\nimshow(ax,inp)\\nax = grid[4]\\nimshow(ax,im_to_see_3)'"
            ]
          },
          "metadata": {
            "tags": []
          },
          "execution_count": 30
        }
      ]
    },
    {
      "metadata": {
        "id": "98DgJGA5h4CY",
        "colab_type": "code",
        "colab": {}
      },
      "cell_type": "code",
      "source": [
        "class MuraImageDataset(Dataset):\n",
        "    \"\"\"Mura dataset.\"\"\"\n",
        "    def __init__(self, df, root_dir, transform=None):\n",
        "        \"\"\"\n",
        "        Args:\n",
        "            df (dataframe): Path to the image file with annotations.\n",
        "            root_dir (string): Directory with all the images.\n",
        "            transform (callable, optional): Optional transform to be applied\n",
        "                on a sample.\n",
        "        \"\"\"\n",
        "        self.df = df\n",
        "        self.root_dir = root_dir\n",
        "        self.transform = transform\n",
        "    def __len__(self):\n",
        "        return len(self.df)\n",
        "    def __getitem__(self, idx):\n",
        "        img_name = os.path.join(self.root_dir,\n",
        "                                self.df.iloc[idx, 0])\n",
        "        ###-- Try refix at the centre -- ##\n",
        "        #desired_size = 512\n",
        "        #im = cv2.imread(img_name)\n",
        "        #old_size = im.shape[:2] # old_size is in (height, width) format\n",
        "\n",
        "        #ratio = float(desired_size)/max(old_size)\n",
        "        #new_size = tuple([int(x*ratio) for x in old_size])\n",
        "\n",
        "        # new_size should be in (width, height) format\n",
        "\n",
        "        #im = cv2.resize(im, (new_size[1], new_size[0]))\n",
        "\n",
        "        #delta_w = desired_size - new_size[1]\n",
        "        #delta_h = desired_size - new_size[0]\n",
        "        #top, bottom = delta_h//2, delta_h-(delta_h//2)\n",
        "        #left, right = delta_w//2, delta_w-(delta_w//2)\n",
        "\n",
        "        #color = [0, 0, 0]\n",
        "        #image = cv2.copyMakeBorder(im, top, bottom, left, right, cv2.BORDER_CONSTANT,\n",
        "        #    value=color)\n",
        "        #image = image[:,:,0]\n",
        "        # create a CLAHE object (Arguments are optional).\n",
        "        #clahe = cv2.createCLAHE(clipLimit=2.0, tileGridSize=(8,8))\n",
        "        #image = clahe.apply(image)\n",
        "        #image = np.stack((image,)*3, -1)\n",
        "        \n",
        "        ###-- Refix at the centre Ends -- ##\n",
        "        \n",
        "        #print(img_name)\n",
        "        #image = pil_loader(img_name)\n",
        "        ### -- Try Clahe Transformation -- ##\n",
        "        img = cv2.imread(img_name,0)\n",
        "        #create a CLAHE object (Arguments are optional).\n",
        "        clahe = cv2.createCLAHE(clipLimit=2.0, tileGridSize=(8,8))\n",
        "        img = clahe.apply(img)\n",
        "        image = np.stack((img,)*3, -1)\n",
        "        ### -- Clahe Transformation Ends -- ##\n",
        "        Id = labels = self.df.iloc[idx, 3]\n",
        "        labels = self.df.iloc[idx, 2]\n",
        "        labels = labels.astype('float')\n",
        "        if self.transform:\n",
        "            image = self.transform(image)\n",
        "        return [image, labels,Id]"
      ],
      "execution_count": 0,
      "outputs": []
    },
    {
      "metadata": {
        "id": "x8woKhYzh5RE",
        "colab_type": "code",
        "colab": {}
      },
      "cell_type": "code",
      "source": [
        "transformed_train_dataset = MuraImageDataset(df=train_path_df,\n",
        "                                    root_dir='/content',\n",
        "                                    transform=transforms.Compose([\n",
        "                                               transforms.ToPILImage(),\n",
        "                                               transforms.RandomRotation(10),\n",
        "                                               #transforms.Resize(224),\n",
        "                                               transforms.CenterCrop(224),\n",
        "                                               transforms.RandomHorizontalFlip(),\n",
        "                                               transforms.ToTensor(),\n",
        "                                               transforms.Normalize([0.485, 0.456, 0.406], [0.229, 0.224, 0.225])\n",
        "                                               \n",
        "                                           ]))\n",
        "\n",
        "transformed_valid_dataset = MuraImageDataset(df=valid_path_df,\n",
        "                                    root_dir='/content',\n",
        "                                    transform=transforms.Compose([\n",
        "                                               transforms.ToPILImage(),\n",
        "                                               transforms.RandomRotation(10),\n",
        "                                               #transforms.Resize(224),\n",
        "                                               transforms.CenterCrop(224),\n",
        "                                               transforms.RandomHorizontalFlip(),\n",
        "                                               transforms.ToTensor(),\n",
        "                                               transforms.Normalize([0.485, 0.456, 0.406], [0.229, 0.224, 0.225])\n",
        "                                               \n",
        "                                           ]))"
      ],
      "execution_count": 0,
      "outputs": []
    },
    {
      "metadata": {
        "id": "CKfIyclFkiyy",
        "colab_type": "code",
        "colab": {}
      },
      "cell_type": "code",
      "source": [
        "transformed_train_dl = DataLoader(transformed_train_dataset,batch_size=24,shuffle=True)\n",
        "transformed_valid_dl = DataLoader(transformed_valid_dataset,batch_size=24,shuffle=True)"
      ],
      "execution_count": 0,
      "outputs": []
    },
    {
      "metadata": {
        "id": "OeBq-Eakl4tT",
        "colab_type": "code",
        "colab": {}
      },
      "cell_type": "code",
      "source": [
        "from mpl_toolkits.axes_grid1 import AxesGrid, ImageGrid\n",
        "#@title Default title text\n",
        "## imshow works when we have transformed the image using some transformation\n",
        "def imshow(axis, inp):\n",
        "    \"\"\"Denormalize and show\"\"\"\n",
        "    inp = inp.numpy().transpose((1, 2, 0)) ## This line of code corrects the dimension issue that occurs during transformation \n",
        "    mean = np.array([0.485, 0.456, 0.406])\n",
        "    std = np.array([0.229, 0.224, 0.225])\n",
        "    inp = std * inp + mean\n",
        "    inp = np.clip(inp, 0, 1)\n",
        "    axis.imshow(inp)"
      ],
      "execution_count": 0,
      "outputs": []
    },
    {
      "metadata": {
        "id": "brhZa0IXl6bs",
        "colab_type": "code",
        "colab": {
          "base_uri": "https://localhost:8080/",
          "height": 1608
        },
        "outputId": "0af5e881-231f-407f-e7c6-943c8f1a2d6d"
      },
      "cell_type": "code",
      "source": [
        "imgview, label,Id = next(iter(transformed_valid_dl))\n",
        "#print(img, label.size())\n",
        "fig = plt.figure(1, figsize=(16, 8))\n",
        "grid = ImageGrid(fig, 111, nrows_ncols=(3, 8), axes_pad=0.05)  \n",
        "for i in range(imgview.size()[0]):\n",
        "  #print(img)\n",
        "  ax = grid[i]\n",
        "  print(imgview.shape)\n",
        "  imshow(ax,imgview[i])\n",
        "  print(label[i])\n",
        "  print(Id[i])"
      ],
      "execution_count": 27,
      "outputs": [
        {
          "output_type": "stream",
          "text": [
            "torch.Size([24, 3, 224, 224])\n",
            "tensor(0., dtype=torch.float64)\n",
            "tensor(935)\n",
            "torch.Size([24, 3, 224, 224])\n",
            "tensor(1., dtype=torch.float64)\n",
            "tensor(778)\n",
            "torch.Size([24, 3, 224, 224])\n",
            "tensor(0., dtype=torch.float64)\n",
            "tensor(862)\n",
            "torch.Size([24, 3, 224, 224])\n",
            "tensor(0., dtype=torch.float64)\n",
            "tensor(905)\n",
            "torch.Size([24, 3, 224, 224])\n",
            "tensor(0., dtype=torch.float64)\n",
            "tensor(847)\n",
            "torch.Size([24, 3, 224, 224])\n",
            "tensor(0., dtype=torch.float64)\n",
            "tensor(890)\n",
            "torch.Size([24, 3, 224, 224])\n",
            "tensor(1., dtype=torch.float64)\n",
            "tensor(708)\n",
            "torch.Size([24, 3, 224, 224])\n",
            "tensor(1., dtype=torch.float64)\n",
            "tensor(795)\n",
            "torch.Size([24, 3, 224, 224])\n",
            "tensor(1., dtype=torch.float64)\n",
            "tensor(807)\n",
            "torch.Size([24, 3, 224, 224])\n",
            "tensor(1., dtype=torch.float64)\n",
            "tensor(703)\n",
            "torch.Size([24, 3, 224, 224])\n",
            "tensor(0., dtype=torch.float64)\n",
            "tensor(906)\n",
            "torch.Size([24, 3, 224, 224])\n",
            "tensor(1., dtype=torch.float64)\n",
            "tensor(805)\n",
            "torch.Size([24, 3, 224, 224])\n",
            "tensor(0., dtype=torch.float64)\n",
            "tensor(952)\n",
            "torch.Size([24, 3, 224, 224])\n",
            "tensor(0., dtype=torch.float64)\n",
            "tensor(918)\n",
            "torch.Size([24, 3, 224, 224])\n",
            "tensor(0., dtype=torch.float64)\n",
            "tensor(930)\n",
            "torch.Size([24, 3, 224, 224])\n",
            "tensor(0., dtype=torch.float64)\n",
            "tensor(947)\n",
            "torch.Size([24, 3, 224, 224])\n",
            "tensor(0., dtype=torch.float64)\n",
            "tensor(851)\n",
            "torch.Size([24, 3, 224, 224])\n",
            "tensor(0., dtype=torch.float64)\n",
            "tensor(917)\n",
            "torch.Size([24, 3, 224, 224])\n",
            "tensor(0., dtype=torch.float64)\n",
            "tensor(945)\n",
            "torch.Size([24, 3, 224, 224])\n",
            "tensor(0., dtype=torch.float64)\n",
            "tensor(913)\n",
            "torch.Size([24, 3, 224, 224])\n",
            "tensor(1., dtype=torch.float64)\n",
            "tensor(747)\n",
            "torch.Size([24, 3, 224, 224])\n",
            "tensor(1., dtype=torch.float64)\n",
            "tensor(784)\n",
            "torch.Size([24, 3, 224, 224])\n",
            "tensor(0., dtype=torch.float64)\n",
            "tensor(897)\n",
            "torch.Size([24, 3, 224, 224])\n",
            "tensor(0., dtype=torch.float64)\n",
            "tensor(892)\n"
          ],
          "name": "stdout"
        },
        {
          "output_type": "display_data",
          "data": {
            "image/png": "[encoded data removed]",
            "text/plain": [
              "<matplotlib.figure.Figure at 0x7f6dce6bd710>"
            ]
          },
          "metadata": {
            "tags": []
          }
        }
      ]
    },
    {
      "metadata": {
        "id": "IRf3o4Qgkl8G",
        "colab_type": "code",
        "colab": {
          "base_uri": "https://localhost:8080/",
          "height": 34
        },
        "outputId": "999cdf7f-87f5-4cbd-fb62-6c77e280c8a5"
      },
      "cell_type": "code",
      "source": [
        "def get_count(layer_name,model_name):\n",
        "  ct  = 0 \n",
        "  layer_count ={}\n",
        "  for name, child in model_name.named_children():\n",
        "      for name2, params in child.named_parameters():\n",
        "        layer_count[name2] = ct\n",
        "        ct +=1\n",
        "  return layer_count[layer_name]\n",
        "\n",
        "def freeze_till(layer_name,model_name):\n",
        "  ct  = 0 \n",
        "  count = get_count(layer_name,model_name)\n",
        "  \n",
        "  for name, child in model_name.named_children():\n",
        "    for name2, params in child.named_parameters():\n",
        "      \n",
        "      if ct > count :\n",
        "          \n",
        "            params.requires_grad = True\n",
        "      else :\n",
        "            params.requires_grad = False\n",
        "      ct +=1\n",
        "\n",
        "device = torch.device(\"cuda:0\" if torch.cuda.is_available() else \"cpu\")\n",
        "\n",
        "dataloaders = {\"train\": transformed_train_dl, \"val\": transformed_valid_dl}\n",
        "dataset_sizes = {\"train\": len(transformed_train_dataset),\"val\":len(transformed_valid_dataset)}\n",
        "print(dataset_sizes)\n",
        "\n",
        "## This function just evaluate the loss / optimize  and returns model and the weight of the epoch which has highest accuracy\n",
        "def train_model(model, criterion, optimizer, scheduler, num_epochs=25):\n",
        "    since = time.time()\n",
        "    best_model_wts = copy.deepcopy(model.state_dict())\n",
        "    best_acc = 0.0\n",
        "    for epoch in range(num_epochs):\n",
        "        print('Epoch {}/{}'.format(epoch, num_epochs - 1))\n",
        "        print('-' * 10)\n",
        "        # Each epoch has a training and validation phase\n",
        "        # In train phase they are settting 2 variable in model class - train() and schedular  = step()\n",
        "        # In Validation phase setting the model class - eval()\n",
        "        for phase in ['train', 'val']:\n",
        "            if phase == 'train':\n",
        "                scheduler.step()\n",
        "                model.train()  # Set model to training mode\n",
        "            else:\n",
        "                model.eval()   # Set model to evaluate mode\n",
        "            running_loss = 0.0\n",
        "            running_corrects = 0\n",
        "            # Iterate over data.# phase - train or validation\n",
        "            for inputs, labels,Id in dataloaders[phase]:\n",
        "                inputs = inputs.to(device)\n",
        "                labels = labels.to(device)\n",
        "                labels = labels.type(torch.cuda.LongTensor)\n",
        "                InputId = Id.to(device)\n",
        "                InputId = InputId.type(torch.cuda.LongTensor)\n",
        "                # zero the parameter gradients\n",
        "                optimizer.zero_grad()\n",
        "                # forward\n",
        "                # track history if only in train\n",
        "                with torch.set_grad_enabled(phase == 'train'):\n",
        "                    outputs = model(inputs)\n",
        "                    \n",
        "                    #print(outputs.shape)\n",
        "                    _, preds = torch.max(outputs, 1)\n",
        "                    loss = criterion(outputs, labels)\n",
        "                    # backward + optimize only if in training phase\n",
        "                    if phase == 'train':\n",
        "                        loss.backward()\n",
        "                        optimizer.step()\n",
        "                # statistics\n",
        "                running_loss += loss.item() * inputs.size(0)\n",
        "                running_corrects += torch.sum(preds == labels.data)\n",
        "                #print(phase,preds,labels.data)\n",
        "            epoch_loss = running_loss / dataset_sizes[phase]\n",
        "            epoch_acc = running_corrects.double() / dataset_sizes[phase]\n",
        "            print('{} Loss: {:.4f} Acc: {:.4f}'.format(\n",
        "                phase, epoch_loss, epoch_acc))\n",
        "            #print(preds[1:10],labels.data[1:10])\n",
        "            # deep copy the model\n",
        "            if phase == 'val' and epoch_acc > best_acc:\n",
        "                best_acc = epoch_acc\n",
        "                best_model_wts = copy.deepcopy(model.state_dict())\n",
        "        #print()\n",
        "    time_elapsed = time.time() - since\n",
        "    print('Training complete in {:.0f}m {:.0f}s'.format(\n",
        "        time_elapsed // 60, time_elapsed % 60))\n",
        "    print('Best val Acc: {:4f}'.format(best_acc))\n",
        "    # load best model weights\n",
        "    model.load_state_dict(best_model_wts)\n",
        "    return model"
      ],
      "execution_count": 28,
      "outputs": [
        {
          "output_type": "stream",
          "text": [
            "{'train': 1825, 'val': 301}\n"
          ],
          "name": "stdout"
        }
      ]
    },
    {
      "metadata": {
        "id": "-JTh0EuEkrXd",
        "colab_type": "code",
        "colab": {
          "base_uri": "https://localhost:8080/",
          "height": 85
        },
        "outputId": "9460edb9-cb8c-4744-bf6f-140b96f5a630"
      },
      "cell_type": "code",
      "source": [
        "# Load Pretrained model\n",
        "\n",
        "#model_ft = models.resnet18(pretrained=True)\n",
        "model_ft = models.densenet169(pretrained=True)\n",
        "\n",
        "# Freeze specific layers of the model\n",
        "\n",
        "freeze_till('transition2.conv.weight',model_ft)\n",
        "\n",
        "# num_ftrs = model_ft.fc.in_features # fc for resnet\n",
        "num_ftrs = model_ft.classifier.in_features\n",
        "model_ft.classifier = nn.Linear(num_ftrs, 2)\n",
        "model_ft = model_ft.to(device)\n",
        "\n",
        "criterion = nn.CrossEntropyLoss(weight = torch.tensor([1, 1.05]).type(torch.cuda.FloatTensor))"
      ],
      "execution_count": 29,
      "outputs": [
        {
          "output_type": "stream",
          "text": [
            "/usr/local/lib/python3.6/dist-packages/torchvision/models/densenet.py:212: UserWarning: nn.init.kaiming_normal is now deprecated in favor of nn.init.kaiming_normal_.\n",
            "  nn.init.kaiming_normal(m.weight.data)\n",
            "Downloading: \"https://download.pytorch.org/models/densenet169-b2777c0a.pth\" to /content/.torch/models/densenet169-b2777c0a.pth\n",
            "100.0%\n"
          ],
          "name": "stderr"
        }
      ]
    },
    {
      "metadata": {
        "id": "azC1GRcWngca",
        "colab_type": "code",
        "colab": {
          "base_uri": "https://localhost:8080/",
          "height": 1071
        },
        "outputId": "8cd9cb6e-efc0-48b5-e5ee-7de391b311ec"
      },
      "cell_type": "code",
      "source": [
        "optimizer_ft = optim.Adam(list(filter(lambda p: p.requires_grad, model_ft.parameters())), lr = 1e-4, betas=(0.9, 0.999), eps=1e-08, weight_decay=0, amsgrad=False)\n",
        "exp_lr_scheduler = lr_scheduler.StepLR(optimizer_ft, step_size=5, gamma=0.1)\n",
        "model_ft = train_model(model_ft, criterion, optimizer_ft, exp_lr_scheduler,\n",
        "                       num_epochs=15)"
      ],
      "execution_count": 30,
      "outputs": [
        {
          "output_type": "stream",
          "text": [
            "Epoch 0/14\n",
            "----------\n",
            "train Loss: 0.4858 Acc: 0.7847\n",
            "val Loss: 0.5359 Acc: 0.7508\n",
            "Epoch 1/14\n",
            "----------\n",
            "train Loss: 0.3600 Acc: 0.8597\n",
            "val Loss: 0.4945 Acc: 0.7741\n",
            "Epoch 2/14\n",
            "----------\n",
            "train Loss: 0.3144 Acc: 0.8762\n",
            "val Loss: 0.4588 Acc: 0.8073\n",
            "Epoch 3/14\n",
            "----------\n",
            "train Loss: 0.2647 Acc: 0.8975\n",
            "val Loss: 0.6974 Acc: 0.7542\n",
            "Epoch 4/14\n",
            "----------\n",
            "train Loss: 0.2180 Acc: 0.9112\n",
            "val Loss: 0.6665 Acc: 0.7741\n",
            "Epoch 5/14\n",
            "----------\n",
            "train Loss: 0.1649 Acc: 0.9414\n",
            "val Loss: 0.6696 Acc: 0.7841\n",
            "Epoch 6/14\n",
            "----------\n",
            "train Loss: 0.1395 Acc: 0.9468\n",
            "val Loss: 0.6134 Acc: 0.7674\n",
            "Epoch 7/14\n",
            "----------\n",
            "train Loss: 0.1217 Acc: 0.9600\n",
            "val Loss: 0.6044 Acc: 0.7907\n",
            "Epoch 8/14\n",
            "----------\n",
            "train Loss: 0.1218 Acc: 0.9644\n",
            "val Loss: 0.6484 Acc: 0.7674\n",
            "Epoch 9/14\n",
            "----------\n",
            "train Loss: 0.1175 Acc: 0.9644\n",
            "val Loss: 0.6300 Acc: 0.7841\n",
            "Epoch 10/14\n",
            "----------\n",
            "train Loss: 0.1014 Acc: 0.9715\n",
            "val Loss: 0.5831 Acc: 0.7874\n",
            "Epoch 11/14\n",
            "----------\n",
            "train Loss: 0.0998 Acc: 0.9710\n",
            "val Loss: 0.7161 Acc: 0.7641\n",
            "Epoch 12/14\n",
            "----------\n",
            "train Loss: 0.1013 Acc: 0.9671\n",
            "val Loss: 0.6970 Acc: 0.7708\n",
            "Epoch 13/14\n",
            "----------\n",
            "train Loss: 0.0932 Acc: 0.9742\n",
            "val Loss: 0.7021 Acc: 0.7641\n",
            "Epoch 14/14\n",
            "----------\n",
            "train Loss: 0.0924 Acc: 0.9748\n",
            "val Loss: 0.6124 Acc: 0.7907\n",
            "Training complete in 13m 55s\n",
            "Best val Acc: 0.807309\n"
          ],
          "name": "stdout"
        }
      ]
    },
    {
      "metadata": {
        "id": "jp3IOUEX_dxb",
        "colab_type": "code",
        "colab": {}
      },
      "cell_type": "code",
      "source": [
        "model_res = models.resnet18(pretrained=True)\n",
        "num_ftrs = model_res.fc.in_features # fc for resnet\n",
        "model_res.fc = nn.Linear(num_ftrs, 2)\n",
        "model_res = model_res.to(device)\n",
        "criterion = nn.CrossEntropyLoss()"
      ],
      "execution_count": 0,
      "outputs": []
    },
    {
      "metadata": {
        "id": "4lO1kfZ1ntjU",
        "colab_type": "code",
        "colab": {
          "base_uri": "https://localhost:8080/",
          "height": 1071
        },
        "outputId": "b54e2648-ba95-4dc6-e38b-ad66cc187b3e"
      },
      "cell_type": "code",
      "source": [
        "optimizer_res = optim.Adam(list(filter(lambda p: p.requires_grad, model_res.parameters())),betas=(0.9, 0.999), eps=1e-08, weight_decay=0, amsgrad=False)\n",
        "exp_lr_scheduler = lr_scheduler.StepLR(optimizer_res, step_size=5, gamma=0.1)\n",
        "model_res = train_model(model_res, criterion, optimizer_res, exp_lr_scheduler,\n",
        "                       num_epochs=15)"
      ],
      "execution_count": 0,
      "outputs": [
        {
          "output_type": "stream",
          "text": [
            "Epoch 0/14\n",
            "----------\n",
            "train Loss: 0.7502 Acc: 0.6208\n",
            "val Loss: 0.7189 Acc: 0.5150\n",
            "Epoch 1/14\n",
            "----------\n",
            "train Loss: 0.6283 Acc: 0.6816\n",
            "val Loss: 0.8881 Acc: 0.5814\n",
            "Epoch 2/14\n",
            "----------\n",
            "train Loss: 0.5431 Acc: 0.7507\n",
            "val Loss: 0.6111 Acc: 0.6844\n",
            "Epoch 3/14\n",
            "----------\n",
            "train Loss: 0.5360 Acc: 0.7655\n",
            "val Loss: 0.5783 Acc: 0.6910\n",
            "Epoch 4/14\n",
            "----------\n",
            "train Loss: 0.5056 Acc: 0.7770\n",
            "val Loss: 0.5298 Acc: 0.7309\n",
            "Epoch 5/14\n",
            "----------\n",
            "train Loss: 0.4389 Acc: 0.8153\n",
            "val Loss: 0.5596 Acc: 0.7409\n",
            "Epoch 6/14\n",
            "----------\n",
            "train Loss: 0.4180 Acc: 0.8340\n",
            "val Loss: 0.5204 Acc: 0.7508\n",
            "Epoch 7/14\n",
            "----------\n",
            "train Loss: 0.3988 Acc: 0.8395\n",
            "val Loss: 0.5102 Acc: 0.7475\n",
            "Epoch 8/14\n",
            "----------\n",
            "train Loss: 0.3891 Acc: 0.8362\n",
            "val Loss: 0.5419 Acc: 0.7542\n",
            "Epoch 9/14\n",
            "----------\n",
            "train Loss: 0.3992 Acc: 0.8340\n",
            "val Loss: 0.5423 Acc: 0.7409\n",
            "Epoch 10/14\n",
            "----------\n",
            "train Loss: 0.3729 Acc: 0.8488\n",
            "val Loss: 0.5053 Acc: 0.7475\n",
            "Epoch 11/14\n",
            "----------\n",
            "train Loss: 0.3726 Acc: 0.8510\n",
            "val Loss: 0.5505 Acc: 0.7409\n",
            "Epoch 12/14\n",
            "----------\n",
            "train Loss: 0.3661 Acc: 0.8542\n",
            "val Loss: 0.5110 Acc: 0.7442\n",
            "Epoch 13/14\n",
            "----------\n",
            "train Loss: 0.3647 Acc: 0.8537\n",
            "val Loss: 0.5335 Acc: 0.7409\n",
            "Epoch 14/14\n",
            "----------\n",
            "train Loss: 0.3569 Acc: 0.8526\n",
            "val Loss: 0.5321 Acc: 0.7342\n",
            "Training complete in 8m 19s\n",
            "Best val Acc: 0.754153\n"
          ],
          "name": "stdout"
        }
      ]
    },
    {
      "metadata": {
        "id": "3F_Cj1tanQRg",
        "colab_type": "code",
        "colab": {}
      },
      "cell_type": "code",
      "source": [
        ""
      ],
      "execution_count": 0,
      "outputs": []
    },
    {
      "metadata": {
        "id": "tlon7oTEnQZV",
        "colab_type": "code",
        "colab": {}
      },
      "cell_type": "code",
      "source": [
        ""
      ],
      "execution_count": 0,
      "outputs": []
    },
    {
      "metadata": {
        "id": "WSZZvq6qkzDP",
        "colab_type": "code",
        "colab": {
          "base_uri": "https://localhost:8080/",
          "height": 54
        },
        "outputId": "5d37324f-9c87-425a-ea10-8f97dec095dd"
      },
      "cell_type": "code",
      "source": [
        "'''learning_rates = [1e-4, 1e-3, 1e-2]\n",
        "for lr in learning_rates:\n",
        "    #optimizer_ft = optim.SGD(model_ft.classifier.parameters(),lr, momentum=0.9)\n",
        "    optimizer_ft = optim.Adam(list(filter(lambda p: p.requires_grad, model_ft.parameters())), lr = lr, betas=(0.9, 0.999), eps=1e-08, weight_decay=0, amsgrad=False)\n",
        "    model_ft = train_model(model_ft, criterion, optimizer_ft, exp_lr_scheduler,\n",
        "                       num_epochs=3)'''"
      ],
      "execution_count": 0,
      "outputs": [
        {
          "output_type": "execute_result",
          "data": {
            "text/plain": [
              "'learning_rates = [1e-4, 1e-3, 1e-2]\\nfor lr in learning_rates:\\n    #optimizer_ft = optim.SGD(model_ft.classifier.parameters(),lr, momentum=0.9)\\n    optimizer_ft = optim.Adam(list(filter(lambda p: p.requires_grad, model_ft.parameters())), lr = lr, betas=(0.9, 0.999), eps=1e-08, weight_decay=0, amsgrad=False)\\n    model_ft = train_model(model_ft, criterion, optimizer_ft, exp_lr_scheduler,\\n                       num_epochs=3)'"
            ]
          },
          "metadata": {
            "tags": []
          },
          "execution_count": 41
        }
      ]
    },
    {
      "metadata": {
        "id": "Jogs_GFCk4Gu",
        "colab_type": "code",
        "colab": {
          "base_uri": "https://localhost:8080/",
          "height": 85
        },
        "outputId": "f11709b7-b411-4194-8184-109698db359d"
      },
      "cell_type": "code",
      "source": [
        "!pip install torchsummary"
      ],
      "execution_count": 0,
      "outputs": [
        {
          "output_type": "stream",
          "text": [
            "Collecting torchsummary\n",
            "  Downloading https://files.pythonhosted.org/packages/2a/61/21b44bb29aedb820fec4716a102e802397f0c21512764a9d98206c17417d/torchsummary-1.4-py3-none-any.whl\n",
            "Installing collected packages: torchsummary\n",
            "Successfully installed torchsummary-1.4\n"
          ],
          "name": "stdout"
        }
      ]
    },
    {
      "metadata": {
        "id": "nyr7e-DYqGuQ",
        "colab_type": "code",
        "colab": {}
      },
      "cell_type": "code",
      "source": [
        "from torchsummary import summary\n",
        "summary(model_ft, (3, 224, 224))"
      ],
      "execution_count": 0,
      "outputs": []
    },
    {
      "metadata": {
        "id": "plScrcA2r4DP",
        "colab_type": "code",
        "colab": {}
      },
      "cell_type": "code",
      "source": [
        "summary(model_res, (3, 224, 224))"
      ],
      "execution_count": 0,
      "outputs": []
    },
    {
      "metadata": {
        "id": "HJJHmWlVp6yf",
        "colab_type": "code",
        "colab": {}
      },
      "cell_type": "code",
      "source": [
        "def softmax1(X, theta = 1.0, axis = None):\n",
        "    \"\"\"\n",
        "    Compute the softmax of each element along an axis of X.\n",
        "    Parameters\n",
        "    ----------\n",
        "    X: ND-Array. Probably should be floats. \n",
        "    theta (optional): float parameter, used as a multiplier\n",
        "        prior to exponentiation. Default = 1.0\n",
        "    axis (optional): axis to compute values along. Default is the \n",
        "        first non-singleton axis.\n",
        "    Returns an array the same size as X. The result will sum to 1\n",
        "    along the specified axis.\n",
        "    \"\"\"\n",
        "\n",
        "    # make X at least 2d\n",
        "    y = np.atleast_2d(X)\n",
        "\n",
        "    # find axis\n",
        "    if axis is None:\n",
        "        axis = next(j[0] for j in enumerate(y.shape) if j[1] > 1)\n",
        "\n",
        "    # multiply y against the theta parameter, \n",
        "    y = y * float(theta)\n",
        "\n",
        "    # subtract the max for numerical stability\n",
        "    y = y - np.expand_dims(np.max(y, axis = axis), axis)\n",
        "    \n",
        "    # exponentiate y\n",
        "    y = np.exp(y)\n",
        "\n",
        "    # take the sum along the specified axis\n",
        "    ax_sum = np.expand_dims(np.sum(y, axis = axis), axis)\n",
        "\n",
        "    # finally: divide elementwise\n",
        "    p = y / ax_sum\n",
        "\n",
        "    # flatten if X was 1D\n",
        "    if len(X.shape) == 1: p = p.flatten()\n",
        "\n",
        "    return p"
      ],
      "execution_count": 0,
      "outputs": []
    },
    {
      "metadata": {
        "id": "j0RssK_6scjK",
        "colab_type": "code",
        "colab": {}
      },
      "cell_type": "code",
      "source": [
        "model_ft.eval()\n",
        "#model_res.eval()\n",
        "pred_list_dense = []\n",
        "label_list_dense = []\n",
        "softmax_list = []\n",
        "image_list_dense = []\n",
        "pred_list_res = []\n",
        "Id_list = []\n",
        "\n",
        "ct12 = 0 \n",
        "for inputs1, labels1, Id1 in dataloaders['val']:\n",
        "                ct12 += 1\n",
        "                inputs1 = inputs1.to(device)\n",
        "                labels1 = labels1.to(device)\n",
        "                labels1 = labels1.type(torch.cuda.LongTensor)\n",
        "                Id1 = Id1.to(device)\n",
        "                Id1 = Id1.type(torch.cuda.LongTensor)\n",
        "                # zero the parameter gradients\n",
        "                # optimizer.zero_grad()\n",
        "                # forward\n",
        "                # track history if only in train\n",
        "                # with torch.set_grad_enabled(phase == 'train'):\n",
        "                outputs1 = model_ft(inputs1)\n",
        "                  \n",
        "                    #print(outputs.shape)\n",
        "                _, preds1 = torch.max(outputs1, 1)\n",
        "                pred_list_dense.extend(preds1.cpu().numpy())\n",
        "                label_list_dense.extend(labels1.data)\n",
        "                Id_list.extend(Id1.data)\n",
        "                softmax_list.extend(softmax1(outputs1.cpu().detach().numpy(),axis =1))\n",
        "                image_list_dense.extend(inputs1)\n",
        "                #outputs2 = model_res(inputs1)\n",
        "                  \n",
        "                    #print(outputs.shape)\n",
        "                #_, preds2 = torch.max(outputs2, 1)\n",
        "                #pred_list_res.extend(preds2.cpu().numpy())\n",
        "                "
      ],
      "execution_count": 0,
      "outputs": []
    },
    {
      "metadata": {
        "id": "0V2OevgSv13q",
        "colab_type": "code",
        "colab": {
          "base_uri": "https://localhost:8080/",
          "height": 5134
        },
        "outputId": "e43e8919-efd0-47c2-a6c1-514f81e357a2"
      },
      "cell_type": "code",
      "source": [
        "Id_list"
      ],
      "execution_count": 43,
      "outputs": [
        {
          "output_type": "execute_result",
          "data": {
            "text/plain": [
              "[tensor(673, device='cuda:0'),\n",
              " tensor(931, device='cuda:0'),\n",
              " tensor(700, device='cuda:0'),\n",
              " tensor(716, device='cuda:0'),\n",
              " tensor(667, device='cuda:0'),\n",
              " tensor(761, device='cuda:0'),\n",
              " tensor(754, device='cuda:0'),\n",
              " tensor(729, device='cuda:0'),\n",
              " tensor(833, device='cuda:0'),\n",
              " tensor(888, device='cuda:0'),\n",
              " tensor(861, device='cuda:0'),\n",
              " tensor(669, device='cuda:0'),\n",
              " tensor(762, device='cuda:0'),\n",
              " tensor(750, device='cuda:0'),\n",
              " tensor(918, device='cuda:0'),\n",
              " tensor(846, device='cuda:0'),\n",
              " tensor(854, device='cuda:0'),\n",
              " tensor(865, device='cuda:0'),\n",
              " tensor(780, device='cuda:0'),\n",
              " tensor(809, device='cuda:0'),\n",
              " tensor(735, device='cuda:0'),\n",
              " tensor(897, device='cuda:0'),\n",
              " tensor(719, device='cuda:0'),\n",
              " tensor(915, device='cuda:0'),\n",
              " tensor(722, device='cuda:0'),\n",
              " tensor(850, device='cuda:0'),\n",
              " tensor(768, device='cuda:0'),\n",
              " tensor(687, device='cuda:0'),\n",
              " tensor(796, device='cuda:0'),\n",
              " tensor(787, device='cuda:0'),\n",
              " tensor(710, device='cuda:0'),\n",
              " tensor(937, device='cuda:0'),\n",
              " tensor(776, device='cuda:0'),\n",
              " tensor(843, device='cuda:0'),\n",
              " tensor(760, device='cuda:0'),\n",
              " tensor(726, device='cuda:0'),\n",
              " tensor(713, device='cuda:0'),\n",
              " tensor(944, device='cuda:0'),\n",
              " tensor(743, device='cuda:0'),\n",
              " tensor(811, device='cuda:0'),\n",
              " tensor(711, device='cuda:0'),\n",
              " tensor(800, device='cuda:0'),\n",
              " tensor(790, device='cuda:0'),\n",
              " tensor(851, device='cuda:0'),\n",
              " tensor(940, device='cuda:0'),\n",
              " tensor(842, device='cuda:0'),\n",
              " tensor(836, device='cuda:0'),\n",
              " tensor(740, device='cuda:0'),\n",
              " tensor(806, device='cuda:0'),\n",
              " tensor(804, device='cuda:0'),\n",
              " tensor(759, device='cuda:0'),\n",
              " tensor(715, device='cuda:0'),\n",
              " tensor(825, device='cuda:0'),\n",
              " tensor(823, device='cuda:0'),\n",
              " tensor(661, device='cuda:0'),\n",
              " tensor(816, device='cuda:0'),\n",
              " tensor(952, device='cuda:0'),\n",
              " tensor(901, device='cuda:0'),\n",
              " tensor(688, device='cuda:0'),\n",
              " tensor(681, device='cuda:0'),\n",
              " tensor(943, device='cuda:0'),\n",
              " tensor(697, device='cuda:0'),\n",
              " tensor(847, device='cuda:0'),\n",
              " tensor(953, device='cuda:0'),\n",
              " tensor(674, device='cuda:0'),\n",
              " tensor(849, device='cuda:0'),\n",
              " tensor(890, device='cuda:0'),\n",
              " tensor(817, device='cuda:0'),\n",
              " tensor(753, device='cuda:0'),\n",
              " tensor(889, device='cuda:0'),\n",
              " tensor(693, device='cuda:0'),\n",
              " tensor(866, device='cuda:0'),\n",
              " tensor(770, device='cuda:0'),\n",
              " tensor(745, device='cuda:0'),\n",
              " tensor(792, device='cuda:0'),\n",
              " tensor(835, device='cuda:0'),\n",
              " tensor(703, device='cuda:0'),\n",
              " tensor(670, device='cuda:0'),\n",
              " tensor(786, device='cuda:0'),\n",
              " tensor(685, device='cuda:0'),\n",
              " tensor(848, device='cuda:0'),\n",
              " tensor(736, device='cuda:0'),\n",
              " tensor(766, device='cuda:0'),\n",
              " tensor(871, device='cuda:0'),\n",
              " tensor(950, device='cuda:0'),\n",
              " tensor(837, device='cuda:0'),\n",
              " tensor(917, device='cuda:0'),\n",
              " tensor(686, device='cuda:0'),\n",
              " tensor(824, device='cuda:0'),\n",
              " tensor(812, device='cuda:0'),\n",
              " tensor(738, device='cuda:0'),\n",
              " tensor(731, device='cuda:0'),\n",
              " tensor(951, device='cuda:0'),\n",
              " tensor(774, device='cuda:0'),\n",
              " tensor(813, device='cuda:0'),\n",
              " tensor(923, device='cuda:0'),\n",
              " tensor(744, device='cuda:0'),\n",
              " tensor(868, device='cuda:0'),\n",
              " tensor(679, device='cuda:0'),\n",
              " tensor(926, device='cuda:0'),\n",
              " tensor(739, device='cuda:0'),\n",
              " tensor(799, device='cuda:0'),\n",
              " tensor(922, device='cuda:0'),\n",
              " tensor(948, device='cuda:0'),\n",
              " tensor(882, device='cuda:0'),\n",
              " tensor(839, device='cuda:0'),\n",
              " tensor(671, device='cuda:0'),\n",
              " tensor(695, device='cuda:0'),\n",
              " tensor(756, device='cuda:0'),\n",
              " tensor(855, device='cuda:0'),\n",
              " tensor(827, device='cuda:0'),\n",
              " tensor(826, device='cuda:0'),\n",
              " tensor(921, device='cuda:0'),\n",
              " tensor(875, device='cuda:0'),\n",
              " tensor(755, device='cuda:0'),\n",
              " tensor(932, device='cuda:0'),\n",
              " tensor(752, device='cuda:0'),\n",
              " tensor(733, device='cuda:0'),\n",
              " tensor(925, device='cuda:0'),\n",
              " tensor(832, device='cuda:0'),\n",
              " tensor(887, device='cuda:0'),\n",
              " tensor(867, device='cuda:0'),\n",
              " tensor(878, device='cuda:0'),\n",
              " tensor(793, device='cuda:0'),\n",
              " tensor(895, device='cuda:0'),\n",
              " tensor(712, device='cuda:0'),\n",
              " tensor(877, device='cuda:0'),\n",
              " tensor(721, device='cuda:0'),\n",
              " tensor(906, device='cuda:0'),\n",
              " tensor(904, device='cuda:0'),\n",
              " tensor(773, device='cuda:0'),\n",
              " tensor(905, device='cuda:0'),\n",
              " tensor(699, device='cuda:0'),\n",
              " tensor(808, device='cuda:0'),\n",
              " tensor(702, device='cuda:0'),\n",
              " tensor(660, device='cuda:0'),\n",
              " tensor(853, device='cuda:0'),\n",
              " tensor(781, device='cuda:0'),\n",
              " tensor(802, device='cuda:0'),\n",
              " tensor(728, device='cuda:0'),\n",
              " tensor(880, device='cuda:0'),\n",
              " tensor(863, device='cuda:0'),\n",
              " tensor(779, device='cuda:0'),\n",
              " tensor(701, device='cuda:0'),\n",
              " tensor(737, device='cuda:0'),\n",
              " tensor(784, device='cuda:0'),\n",
              " tensor(941, device='cuda:0'),\n",
              " tensor(959, device='cuda:0'),\n",
              " tensor(869, device='cuda:0'),\n",
              " tensor(933, device='cuda:0'),\n",
              " tensor(911, device='cuda:0'),\n",
              " tensor(714, device='cuda:0'),\n",
              " tensor(692, device='cuda:0'),\n",
              " tensor(942, device='cuda:0'),\n",
              " tensor(819, device='cuda:0'),\n",
              " tensor(928, device='cuda:0'),\n",
              " tensor(680, device='cuda:0'),\n",
              " tensor(708, device='cuda:0'),\n",
              " tensor(821, device='cuda:0'),\n",
              " tensor(664, device='cuda:0'),\n",
              " tensor(873, device='cuda:0'),\n",
              " tensor(845, device='cuda:0'),\n",
              " tensor(757, device='cuda:0'),\n",
              " tensor(879, device='cuda:0'),\n",
              " tensor(899, device='cuda:0'),\n",
              " tensor(947, device='cuda:0'),\n",
              " tensor(876, device='cuda:0'),\n",
              " tensor(957, device='cuda:0'),\n",
              " tensor(717, device='cuda:0'),\n",
              " tensor(696, device='cuda:0'),\n",
              " tensor(778, device='cuda:0'),\n",
              " tensor(929, device='cuda:0'),\n",
              " tensor(858, device='cuda:0'),\n",
              " tensor(927, device='cuda:0'),\n",
              " tensor(829, device='cuda:0'),\n",
              " tensor(907, device='cuda:0'),\n",
              " tensor(838, device='cuda:0'),\n",
              " tensor(818, device='cuda:0'),\n",
              " tensor(734, device='cuda:0'),\n",
              " tensor(758, device='cuda:0'),\n",
              " tensor(767, device='cuda:0'),\n",
              " tensor(945, device='cuda:0'),\n",
              " tensor(689, device='cuda:0'),\n",
              " tensor(707, device='cuda:0'),\n",
              " tensor(872, device='cuda:0'),\n",
              " tensor(946, device='cuda:0'),\n",
              " tensor(886, device='cuda:0'),\n",
              " tensor(732, device='cuda:0'),\n",
              " tensor(785, device='cuda:0'),\n",
              " tensor(834, device='cuda:0'),\n",
              " tensor(663, device='cuda:0'),\n",
              " tensor(746, device='cuda:0'),\n",
              " tensor(801, device='cuda:0'),\n",
              " tensor(684, device='cuda:0'),\n",
              " tensor(955, device='cuda:0'),\n",
              " tensor(676, device='cuda:0'),\n",
              " tensor(908, device='cuda:0'),\n",
              " tensor(892, device='cuda:0'),\n",
              " tensor(920, device='cuda:0'),\n",
              " tensor(930, device='cuda:0'),\n",
              " tensor(783, device='cuda:0'),\n",
              " tensor(844, device='cuda:0'),\n",
              " tensor(747, device='cuda:0'),\n",
              " tensor(828, device='cuda:0'),\n",
              " tensor(730, device='cuda:0'),\n",
              " tensor(841, device='cuda:0'),\n",
              " tensor(852, device='cuda:0'),\n",
              " tensor(830, device='cuda:0'),\n",
              " tensor(939, device='cuda:0'),\n",
              " tensor(893, device='cuda:0'),\n",
              " tensor(949, device='cuda:0'),\n",
              " tensor(666, device='cuda:0'),\n",
              " tensor(725, device='cuda:0'),\n",
              " tensor(870, device='cuda:0'),\n",
              " tensor(862, device='cuda:0'),\n",
              " tensor(919, device='cuda:0'),\n",
              " tensor(807, device='cuda:0'),\n",
              " tensor(820, device='cuda:0'),\n",
              " tensor(958, device='cuda:0'),\n",
              " tensor(771, device='cuda:0'),\n",
              " tensor(683, device='cuda:0'),\n",
              " tensor(791, device='cuda:0'),\n",
              " tensor(935, device='cuda:0'),\n",
              " tensor(894, device='cuda:0'),\n",
              " tensor(720, device='cuda:0'),\n",
              " tensor(672, device='cuda:0'),\n",
              " tensor(751, device='cuda:0'),\n",
              " tensor(902, device='cuda:0'),\n",
              " tensor(678, device='cuda:0'),\n",
              " tensor(662, device='cuda:0'),\n",
              " tensor(665, device='cuda:0'),\n",
              " tensor(884, device='cuda:0'),\n",
              " tensor(706, device='cuda:0'),\n",
              " tensor(857, device='cuda:0'),\n",
              " tensor(795, device='cuda:0'),\n",
              " tensor(903, device='cuda:0'),\n",
              " tensor(815, device='cuda:0'),\n",
              " tensor(881, device='cuda:0'),\n",
              " tensor(900, device='cuda:0'),\n",
              " tensor(814, device='cuda:0'),\n",
              " tensor(909, device='cuda:0'),\n",
              " tensor(775, device='cuda:0'),\n",
              " tensor(659, device='cuda:0'),\n",
              " tensor(805, device='cuda:0'),\n",
              " tensor(912, device='cuda:0'),\n",
              " tensor(910, device='cuda:0'),\n",
              " tensor(677, device='cuda:0'),\n",
              " tensor(956, device='cuda:0'),\n",
              " tensor(914, device='cuda:0'),\n",
              " tensor(859, device='cuda:0'),\n",
              " tensor(769, device='cuda:0'),\n",
              " tensor(924, device='cuda:0'),\n",
              " tensor(913, device='cuda:0'),\n",
              " tensor(668, device='cuda:0'),\n",
              " tensor(694, device='cuda:0'),\n",
              " tensor(691, device='cuda:0'),\n",
              " tensor(772, device='cuda:0'),\n",
              " tensor(898, device='cuda:0'),\n",
              " tensor(954, device='cuda:0'),\n",
              " tensor(840, device='cuda:0'),\n",
              " tensor(797, device='cuda:0'),\n",
              " tensor(765, device='cuda:0'),\n",
              " tensor(704, device='cuda:0'),\n",
              " tensor(938, device='cuda:0'),\n",
              " tensor(705, device='cuda:0'),\n",
              " tensor(831, device='cuda:0'),\n",
              " tensor(860, device='cuda:0'),\n",
              " tensor(822, device='cuda:0'),\n",
              " tensor(764, device='cuda:0'),\n",
              " tensor(724, device='cuda:0'),\n",
              " tensor(896, device='cuda:0'),\n",
              " tensor(718, device='cuda:0'),\n",
              " tensor(741, device='cuda:0'),\n",
              " tensor(777, device='cuda:0'),\n",
              " tensor(727, device='cuda:0'),\n",
              " tensor(748, device='cuda:0'),\n",
              " tensor(891, device='cuda:0'),\n",
              " tensor(883, device='cuda:0'),\n",
              " tensor(810, device='cuda:0'),\n",
              " tensor(885, device='cuda:0'),\n",
              " tensor(788, device='cuda:0'),\n",
              " tensor(934, device='cuda:0'),\n",
              " tensor(864, device='cuda:0'),\n",
              " tensor(763, device='cuda:0'),\n",
              " tensor(856, device='cuda:0'),\n",
              " tensor(675, device='cuda:0'),\n",
              " tensor(798, device='cuda:0'),\n",
              " tensor(690, device='cuda:0'),\n",
              " tensor(936, device='cuda:0'),\n",
              " tensor(742, device='cuda:0'),\n",
              " tensor(782, device='cuda:0'),\n",
              " tensor(803, device='cuda:0'),\n",
              " tensor(916, device='cuda:0'),\n",
              " tensor(709, device='cuda:0'),\n",
              " tensor(698, device='cuda:0'),\n",
              " tensor(682, device='cuda:0'),\n",
              " tensor(794, device='cuda:0'),\n",
              " tensor(723, device='cuda:0'),\n",
              " tensor(789, device='cuda:0'),\n",
              " tensor(874, device='cuda:0'),\n",
              " tensor(749, device='cuda:0')]"
            ]
          },
          "metadata": {
            "tags": []
          },
          "execution_count": 43
        }
      ]
    },
    {
      "metadata": {
        "id": "svo4RyxNwRyf",
        "colab_type": "code",
        "colab": {
          "base_uri": "https://localhost:8080/",
          "height": 238
        },
        "outputId": "f1523eea-f7cb-48b8-8058-eefbd470103e"
      },
      "cell_type": "code",
      "source": [
        "outputs1"
      ],
      "execution_count": 0,
      "outputs": [
        {
          "output_type": "execute_result",
          "data": {
            "text/plain": [
              "tensor([[ 2.1682, -1.9483],\n",
              "        [ 1.8311, -1.7592],\n",
              "        [-1.6570,  1.3600],\n",
              "        [ 0.0709,  0.0966],\n",
              "        [ 2.4798, -2.6115],\n",
              "        [ 0.4930, -0.8109],\n",
              "        [ 3.5277, -4.0409],\n",
              "        [-1.1609,  0.8294],\n",
              "        [ 2.0498, -2.0162],\n",
              "        [ 2.2447, -2.6433],\n",
              "        [ 0.9027, -1.1765],\n",
              "        [ 1.2090, -1.2924],\n",
              "        [-2.1100,  2.6320]], device='cuda:0')"
            ]
          },
          "metadata": {
            "tags": []
          },
          "execution_count": 90
        }
      ]
    },
    {
      "metadata": {
        "id": "WVnZ1Q3dHrfW",
        "colab_type": "code",
        "colab": {}
      },
      "cell_type": "code",
      "source": [
        "Compare_result = pd.DataFrame(np.column_stack([label_list_dense,pred_list_dense,softmax_list,Id_list]),columns=['Actual','DenseBlock','Softmax0','Softmax1','Id'])"
      ],
      "execution_count": 0,
      "outputs": []
    },
    {
      "metadata": {
        "id": "kxoBmCrfP3l4",
        "colab_type": "code",
        "colab": {}
      },
      "cell_type": "code",
      "source": [
        "Compare_result.to_csv(\"Result_Compare1.csv\")"
      ],
      "execution_count": 0,
      "outputs": []
    },
    {
      "metadata": {
        "id": "zlm8nMiFQrM4",
        "colab_type": "code",
        "colab": {
          "base_uri": "https://localhost:8080/",
          "height": 68
        },
        "outputId": "aa68f802-2355-43b7-fbba-e95571b61b56"
      },
      "cell_type": "code",
      "source": [
        "!ls"
      ],
      "execution_count": 0,
      "outputs": [
        {
          "output_type": "stream",
          "text": [
            "datalab\t\t__MACOSX\t    XR_ELBOW_v1.1.zip\r\n",
            "Image_Path\tResult_Compare.csv  XR_FOREARM\r\n",
            "Image_Path.zip\tXR_ELBOW_v1.1\t    XR_FOREARM.zip\r\n"
          ],
          "name": "stdout"
        }
      ]
    },
    {
      "metadata": {
        "id": "Ws5XCKD7Qnm-",
        "colab_type": "code",
        "colab": {}
      },
      "cell_type": "code",
      "source": [
        "from google.colab import files\n",
        "files.download('Result_Compare1.csv')"
      ],
      "execution_count": 0,
      "outputs": []
    },
    {
      "metadata": {
        "id": "s6vSX2rJqIem",
        "colab_type": "code",
        "colab": {}
      },
      "cell_type": "code",
      "source": [
        "!pip install pycm\n",
        "from pycm import *"
      ],
      "execution_count": 0,
      "outputs": []
    },
    {
      "metadata": {
        "id": "EjAzbC7nqPPc",
        "colab_type": "code",
        "colab": {
          "base_uri": "https://localhost:8080/",
          "height": 34
        },
        "outputId": "15573490-7e13-4c09-affd-5fa36ff0bfbd"
      },
      "cell_type": "code",
      "source": [
        "cm = ConfusionMatrix(actual_vector=result_df.Actual.values, predict_vector=result_df.DenseBlock.values)# Create CM From Data\n",
        "cm.classes"
      ],
      "execution_count": 0,
      "outputs": [
        {
          "output_type": "execute_result",
          "data": {
            "text/plain": [
              "[0, 1]"
            ]
          },
          "metadata": {
            "tags": []
          },
          "execution_count": 107
        }
      ]
    },
    {
      "metadata": {
        "id": "fsUs19q9tAoW",
        "colab_type": "code",
        "colab": {}
      },
      "cell_type": "code",
      "source": [
        "result_df = pd.read_csv(\"Result_Compare1.csv\")"
      ],
      "execution_count": 0,
      "outputs": []
    },
    {
      "metadata": {
        "id": "RvD-1bKltKnG",
        "colab_type": "code",
        "colab": {
          "base_uri": "https://localhost:8080/",
          "height": 204
        },
        "outputId": "5ed624b4-db19-480d-ff9f-c4d6a0e2c7e0"
      },
      "cell_type": "code",
      "source": [
        "result_df.head()"
      ],
      "execution_count": 0,
      "outputs": [
        {
          "output_type": "execute_result",
          "data": {
            "text/html": [
              "<div>\n",
              "<style scoped>\n",
              "    .dataframe tbody tr th:only-of-type {\n",
              "        vertical-align: middle;\n",
              "    }\n",
              "\n",
              "    .dataframe tbody tr th {\n",
              "        vertical-align: top;\n",
              "    }\n",
              "\n",
              "    .dataframe thead th {\n",
              "        text-align: right;\n",
              "    }\n",
              "</style>\n",
              "<table border=\"1\" class=\"dataframe\">\n",
              "  <thead>\n",
              "    <tr style=\"text-align: right;\">\n",
              "      <th></th>\n",
              "      <th>Unnamed: 0</th>\n",
              "      <th>Actual</th>\n",
              "      <th>DenseBlock</th>\n",
              "      <th>ResNet</th>\n",
              "    </tr>\n",
              "  </thead>\n",
              "  <tbody>\n",
              "    <tr>\n",
              "      <th>0</th>\n",
              "      <td>0</td>\n",
              "      <td>0</td>\n",
              "      <td>0</td>\n",
              "      <td>0</td>\n",
              "    </tr>\n",
              "    <tr>\n",
              "      <th>1</th>\n",
              "      <td>1</td>\n",
              "      <td>1</td>\n",
              "      <td>0</td>\n",
              "      <td>0</td>\n",
              "    </tr>\n",
              "    <tr>\n",
              "      <th>2</th>\n",
              "      <td>2</td>\n",
              "      <td>1</td>\n",
              "      <td>1</td>\n",
              "      <td>1</td>\n",
              "    </tr>\n",
              "    <tr>\n",
              "      <th>3</th>\n",
              "      <td>3</td>\n",
              "      <td>0</td>\n",
              "      <td>0</td>\n",
              "      <td>0</td>\n",
              "    </tr>\n",
              "    <tr>\n",
              "      <th>4</th>\n",
              "      <td>4</td>\n",
              "      <td>0</td>\n",
              "      <td>0</td>\n",
              "      <td>0</td>\n",
              "    </tr>\n",
              "  </tbody>\n",
              "</table>\n",
              "</div>"
            ],
            "text/plain": [
              "   Unnamed: 0  Actual  DenseBlock  ResNet\n",
              "0           0       0           0       0\n",
              "1           1       1           0       0\n",
              "2           2       1           1       1\n",
              "3           3       0           0       0\n",
              "4           4       0           0       0"
            ]
          },
          "metadata": {
            "tags": []
          },
          "execution_count": 101
        }
      ]
    },
    {
      "metadata": {
        "id": "OFBySwbjtQJz",
        "colab_type": "code",
        "colab": {}
      },
      "cell_type": "code",
      "source": [
        ""
      ],
      "execution_count": 0,
      "outputs": []
    },
    {
      "metadata": {
        "id": "Uh9G9nDeqkZV",
        "colab_type": "code",
        "colab": {
          "base_uri": "https://localhost:8080/",
          "height": 1448
        },
        "outputId": "465543e2-04c1-470d-a3c9-72fadd478579"
      },
      "cell_type": "code",
      "source": [
        "print(cm)"
      ],
      "execution_count": 0,
      "outputs": [
        {
          "output_type": "stream",
          "text": [
            "Predict          0        1        \n",
            "Actual\n",
            "0                137      13       \n",
            "1                55       96       \n",
            "\n",
            "\n",
            "\n",
            "\n",
            "Overall Statistics : \n",
            "\n",
            "95% CI                                                           (0.72684,0.82133)\n",
            "Bennett_S                                                        0.54817\n",
            "Chi-Squared                                                      98.22043\n",
            "Chi-Squared DF                                                   1\n",
            "Conditional Entropy                                              0.68656\n",
            "Cramer_V                                                         0.57124\n",
            "Cross Entropy                                                    1.0584\n",
            "Gwet_AC1                                                         0.5564\n",
            "Joint Entropy                                                    1.68655\n",
            "KL Divergence                                                    0.05841\n",
            "Kappa                                                            0.54859\n",
            "Kappa 95% CI                                                     (0.45419,0.64299)\n",
            "Kappa No Prevalence                                              0.54817\n",
            "Kappa Standard Error                                             0.04816\n",
            "Kappa Unbiased                                                   0.53963\n",
            "Lambda A                                                         0.54667\n",
            "Lambda B                                                         0.37615\n",
            "Mutual Information                                               0.25787\n",
            "Overall_ACC                                                      0.77409\n",
            "Overall_J                                                        (1.25366,0.62683)\n",
            "Overall_RACC                                                     0.49954\n",
            "Overall_RACCU                                                    0.50928\n",
            "PPV_Macro                                                        0.79714\n",
            "PPV_Micro                                                        0.77409\n",
            "Phi-Squared                                                      0.32631\n",
            "Reference Entropy                                                0.99999\n",
            "Response Entropy                                                 0.94443\n",
            "Scott_PI                                                         0.53963\n",
            "Standard Error                                                   0.0241\n",
            "Strength_Of_Agreement(Altman)                                    Moderate\n",
            "Strength_Of_Agreement(Cicchetti)                                 Fair\n",
            "Strength_Of_Agreement(Fleiss)                                    Intermediate to Good\n",
            "Strength_Of_Agreement(Landis and Koch)                           Moderate\n",
            "TPR_Macro                                                        0.77455\n",
            "TPR_Micro                                                        0.77409\n",
            "\n",
            "Class Statistics :\n",
            "\n",
            "Classes                                                          0                       1                       \n",
            "ACC(Accuracy)                                                    0.77409                 0.77409                 \n",
            "BM(Informedness or bookmaker informedness)                       0.54909                 0.54909                 \n",
            "DOR(Diagnostic odds ratio)                                       18.39441                18.39441                \n",
            "ERR(Error rate)                                                  0.22591                 0.22591                 \n",
            "F0.5(F0.5 score)                                                 0.74619                 0.81772                 \n",
            "F1(F1 score - harmonic mean of precision and sensitivity)        0.80117                 0.73846                 \n",
            "F2(F2 score)                                                     0.8649                  0.67321                 \n",
            "FDR(False discovery rate)                                        0.28646                 0.11927                 \n",
            "FN(False negative/miss/type 2 error)                             13                      55                      \n",
            "FNR(Miss rate or false negative rate)                            0.08667                 0.36424                 \n",
            "FOR(False omission rate)                                         0.11927                 0.28646                 \n",
            "FP(False positive/type 1 error/false alarm)                      55                      13                      \n",
            "FPR(Fall-out or false positive rate)                             0.36424                 0.08667                 \n",
            "G(G-measure geometric mean of precision and sensitivity)         0.80728                 0.74829                 \n",
            "J(Jaccard index)                                                 0.66829                 0.58537                 \n",
            "LR+(Positive likelihood ratio)                                   2.50752                 7.33571                 \n",
            "LR-(Negative likelihood ratio)                                   0.13632                 0.3988                  \n",
            "MCC(Matthews correlation coefficient)                            0.57124                 0.57124                 \n",
            "MK(Markedness)                                                   0.59428                 0.59428                 \n",
            "N(Condition negative)                                            151                     150                     \n",
            "NPV(Negative predictive value)                                   0.88073                 0.71354                 \n",
            "P(Condition positive)                                            150                     151                     \n",
            "POP(Population)                                                  301                     301                     \n",
            "PPV(Precision or positive predictive value)                      0.71354                 0.88073                 \n",
            "PRE(Prevalence)                                                  0.49834                 0.50166                 \n",
            "RACC(Random accuracy)                                            0.31788                 0.18166                 \n",
            "RACCU(Random accuracy unbiased)                                  0.32274                 0.18653                 \n",
            "TN(True negative/correct rejection)                              96                      137                     \n",
            "TNR(Specificity or true negative rate)                           0.63576                 0.91333                 \n",
            "TON(Test outcome negative)                                       109                     192                     \n",
            "TOP(Test outcome positive)                                       192                     109                     \n",
            "TP(True positive/hit)                                            137                     96                      \n",
            "TPR(Sensitivity, recall, hit rate, or true positive rate)        0.91333                 0.63576                 \n",
            "\n"
          ],
          "name": "stdout"
        }
      ]
    },
    {
      "metadata": {
        "id": "hz0mwS51tJc9",
        "colab_type": "code",
        "colab": {}
      },
      "cell_type": "code",
      "source": [
        ""
      ],
      "execution_count": 0,
      "outputs": []
    },
    {
      "metadata": {
        "id": "Wr6W80zy7qXG",
        "colab_type": "code",
        "colab": {
          "base_uri": "https://localhost:8080/",
          "height": 34
        },
        "outputId": "b41b2ac0-34b0-41df-a398-075088dd46e5"
      },
      "cell_type": "code",
      "source": [
        "!ls"
      ],
      "execution_count": 0,
      "outputs": [
        {
          "output_type": "stream",
          "text": [
            "datalab  __MACOSX  MURA-v1.1  MURA-v1.1.zip  Result_Compare.csv\r\n"
          ],
          "name": "stdout"
        }
      ]
    },
    {
      "metadata": {
        "id": "0ZnVAIP2P_n9",
        "colab_type": "code",
        "colab": {
          "base_uri": "https://localhost:8080/",
          "height": 1969
        },
        "outputId": "d0bd1c41-5c13-479f-b7ab-a284b084aee7"
      },
      "cell_type": "code",
      "source": [
        "Compare_result"
      ],
      "execution_count": 0,
      "outputs": [
        {
          "output_type": "execute_result",
          "data": {
            "text/html": [
              "<div>\n",
              "<style scoped>\n",
              "    .dataframe tbody tr th:only-of-type {\n",
              "        vertical-align: middle;\n",
              "    }\n",
              "\n",
              "    .dataframe tbody tr th {\n",
              "        vertical-align: top;\n",
              "    }\n",
              "\n",
              "    .dataframe thead th {\n",
              "        text-align: right;\n",
              "    }\n",
              "</style>\n",
              "<table border=\"1\" class=\"dataframe\">\n",
              "  <thead>\n",
              "    <tr style=\"text-align: right;\">\n",
              "      <th></th>\n",
              "      <th>Actaul</th>\n",
              "      <th>DenseBlock</th>\n",
              "      <th>ResNet</th>\n",
              "    </tr>\n",
              "  </thead>\n",
              "  <tbody>\n",
              "    <tr>\n",
              "      <th>0</th>\n",
              "      <td>1</td>\n",
              "      <td>0</td>\n",
              "      <td>1</td>\n",
              "    </tr>\n",
              "    <tr>\n",
              "      <th>1</th>\n",
              "      <td>1</td>\n",
              "      <td>1</td>\n",
              "      <td>1</td>\n",
              "    </tr>\n",
              "    <tr>\n",
              "      <th>2</th>\n",
              "      <td>1</td>\n",
              "      <td>0</td>\n",
              "      <td>1</td>\n",
              "    </tr>\n",
              "    <tr>\n",
              "      <th>3</th>\n",
              "      <td>0</td>\n",
              "      <td>0</td>\n",
              "      <td>0</td>\n",
              "    </tr>\n",
              "    <tr>\n",
              "      <th>4</th>\n",
              "      <td>0</td>\n",
              "      <td>1</td>\n",
              "      <td>0</td>\n",
              "    </tr>\n",
              "    <tr>\n",
              "      <th>5</th>\n",
              "      <td>0</td>\n",
              "      <td>0</td>\n",
              "      <td>0</td>\n",
              "    </tr>\n",
              "    <tr>\n",
              "      <th>6</th>\n",
              "      <td>1</td>\n",
              "      <td>1</td>\n",
              "      <td>1</td>\n",
              "    </tr>\n",
              "    <tr>\n",
              "      <th>7</th>\n",
              "      <td>0</td>\n",
              "      <td>1</td>\n",
              "      <td>1</td>\n",
              "    </tr>\n",
              "    <tr>\n",
              "      <th>8</th>\n",
              "      <td>1</td>\n",
              "      <td>1</td>\n",
              "      <td>1</td>\n",
              "    </tr>\n",
              "    <tr>\n",
              "      <th>9</th>\n",
              "      <td>0</td>\n",
              "      <td>1</td>\n",
              "      <td>1</td>\n",
              "    </tr>\n",
              "    <tr>\n",
              "      <th>10</th>\n",
              "      <td>0</td>\n",
              "      <td>1</td>\n",
              "      <td>0</td>\n",
              "    </tr>\n",
              "    <tr>\n",
              "      <th>11</th>\n",
              "      <td>0</td>\n",
              "      <td>0</td>\n",
              "      <td>0</td>\n",
              "    </tr>\n",
              "    <tr>\n",
              "      <th>12</th>\n",
              "      <td>1</td>\n",
              "      <td>1</td>\n",
              "      <td>1</td>\n",
              "    </tr>\n",
              "    <tr>\n",
              "      <th>13</th>\n",
              "      <td>1</td>\n",
              "      <td>1</td>\n",
              "      <td>1</td>\n",
              "    </tr>\n",
              "    <tr>\n",
              "      <th>14</th>\n",
              "      <td>0</td>\n",
              "      <td>0</td>\n",
              "      <td>0</td>\n",
              "    </tr>\n",
              "    <tr>\n",
              "      <th>15</th>\n",
              "      <td>1</td>\n",
              "      <td>1</td>\n",
              "      <td>1</td>\n",
              "    </tr>\n",
              "    <tr>\n",
              "      <th>16</th>\n",
              "      <td>1</td>\n",
              "      <td>0</td>\n",
              "      <td>0</td>\n",
              "    </tr>\n",
              "    <tr>\n",
              "      <th>17</th>\n",
              "      <td>1</td>\n",
              "      <td>1</td>\n",
              "      <td>1</td>\n",
              "    </tr>\n",
              "    <tr>\n",
              "      <th>18</th>\n",
              "      <td>1</td>\n",
              "      <td>0</td>\n",
              "      <td>0</td>\n",
              "    </tr>\n",
              "    <tr>\n",
              "      <th>19</th>\n",
              "      <td>1</td>\n",
              "      <td>1</td>\n",
              "      <td>1</td>\n",
              "    </tr>\n",
              "    <tr>\n",
              "      <th>20</th>\n",
              "      <td>0</td>\n",
              "      <td>0</td>\n",
              "      <td>0</td>\n",
              "    </tr>\n",
              "    <tr>\n",
              "      <th>21</th>\n",
              "      <td>1</td>\n",
              "      <td>1</td>\n",
              "      <td>1</td>\n",
              "    </tr>\n",
              "    <tr>\n",
              "      <th>22</th>\n",
              "      <td>1</td>\n",
              "      <td>1</td>\n",
              "      <td>1</td>\n",
              "    </tr>\n",
              "    <tr>\n",
              "      <th>23</th>\n",
              "      <td>1</td>\n",
              "      <td>0</td>\n",
              "      <td>0</td>\n",
              "    </tr>\n",
              "    <tr>\n",
              "      <th>24</th>\n",
              "      <td>1</td>\n",
              "      <td>1</td>\n",
              "      <td>1</td>\n",
              "    </tr>\n",
              "    <tr>\n",
              "      <th>25</th>\n",
              "      <td>0</td>\n",
              "      <td>1</td>\n",
              "      <td>1</td>\n",
              "    </tr>\n",
              "    <tr>\n",
              "      <th>26</th>\n",
              "      <td>1</td>\n",
              "      <td>0</td>\n",
              "      <td>0</td>\n",
              "    </tr>\n",
              "    <tr>\n",
              "      <th>27</th>\n",
              "      <td>1</td>\n",
              "      <td>0</td>\n",
              "      <td>0</td>\n",
              "    </tr>\n",
              "    <tr>\n",
              "      <th>28</th>\n",
              "      <td>1</td>\n",
              "      <td>0</td>\n",
              "      <td>0</td>\n",
              "    </tr>\n",
              "    <tr>\n",
              "      <th>29</th>\n",
              "      <td>1</td>\n",
              "      <td>1</td>\n",
              "      <td>1</td>\n",
              "    </tr>\n",
              "    <tr>\n",
              "      <th>...</th>\n",
              "      <td>...</td>\n",
              "      <td>...</td>\n",
              "      <td>...</td>\n",
              "    </tr>\n",
              "    <tr>\n",
              "      <th>431</th>\n",
              "      <td>1</td>\n",
              "      <td>0</td>\n",
              "      <td>1</td>\n",
              "    </tr>\n",
              "    <tr>\n",
              "      <th>432</th>\n",
              "      <td>1</td>\n",
              "      <td>1</td>\n",
              "      <td>0</td>\n",
              "    </tr>\n",
              "    <tr>\n",
              "      <th>433</th>\n",
              "      <td>0</td>\n",
              "      <td>0</td>\n",
              "      <td>0</td>\n",
              "    </tr>\n",
              "    <tr>\n",
              "      <th>434</th>\n",
              "      <td>1</td>\n",
              "      <td>1</td>\n",
              "      <td>1</td>\n",
              "    </tr>\n",
              "    <tr>\n",
              "      <th>435</th>\n",
              "      <td>0</td>\n",
              "      <td>0</td>\n",
              "      <td>0</td>\n",
              "    </tr>\n",
              "    <tr>\n",
              "      <th>436</th>\n",
              "      <td>1</td>\n",
              "      <td>0</td>\n",
              "      <td>0</td>\n",
              "    </tr>\n",
              "    <tr>\n",
              "      <th>437</th>\n",
              "      <td>0</td>\n",
              "      <td>0</td>\n",
              "      <td>0</td>\n",
              "    </tr>\n",
              "    <tr>\n",
              "      <th>438</th>\n",
              "      <td>0</td>\n",
              "      <td>0</td>\n",
              "      <td>0</td>\n",
              "    </tr>\n",
              "    <tr>\n",
              "      <th>439</th>\n",
              "      <td>0</td>\n",
              "      <td>0</td>\n",
              "      <td>0</td>\n",
              "    </tr>\n",
              "    <tr>\n",
              "      <th>440</th>\n",
              "      <td>0</td>\n",
              "      <td>0</td>\n",
              "      <td>0</td>\n",
              "    </tr>\n",
              "    <tr>\n",
              "      <th>441</th>\n",
              "      <td>0</td>\n",
              "      <td>0</td>\n",
              "      <td>0</td>\n",
              "    </tr>\n",
              "    <tr>\n",
              "      <th>442</th>\n",
              "      <td>0</td>\n",
              "      <td>0</td>\n",
              "      <td>0</td>\n",
              "    </tr>\n",
              "    <tr>\n",
              "      <th>443</th>\n",
              "      <td>1</td>\n",
              "      <td>1</td>\n",
              "      <td>0</td>\n",
              "    </tr>\n",
              "    <tr>\n",
              "      <th>444</th>\n",
              "      <td>1</td>\n",
              "      <td>1</td>\n",
              "      <td>1</td>\n",
              "    </tr>\n",
              "    <tr>\n",
              "      <th>445</th>\n",
              "      <td>1</td>\n",
              "      <td>1</td>\n",
              "      <td>1</td>\n",
              "    </tr>\n",
              "    <tr>\n",
              "      <th>446</th>\n",
              "      <td>0</td>\n",
              "      <td>0</td>\n",
              "      <td>0</td>\n",
              "    </tr>\n",
              "    <tr>\n",
              "      <th>447</th>\n",
              "      <td>0</td>\n",
              "      <td>0</td>\n",
              "      <td>0</td>\n",
              "    </tr>\n",
              "    <tr>\n",
              "      <th>448</th>\n",
              "      <td>1</td>\n",
              "      <td>1</td>\n",
              "      <td>1</td>\n",
              "    </tr>\n",
              "    <tr>\n",
              "      <th>449</th>\n",
              "      <td>0</td>\n",
              "      <td>0</td>\n",
              "      <td>0</td>\n",
              "    </tr>\n",
              "    <tr>\n",
              "      <th>450</th>\n",
              "      <td>0</td>\n",
              "      <td>0</td>\n",
              "      <td>1</td>\n",
              "    </tr>\n",
              "    <tr>\n",
              "      <th>451</th>\n",
              "      <td>1</td>\n",
              "      <td>0</td>\n",
              "      <td>1</td>\n",
              "    </tr>\n",
              "    <tr>\n",
              "      <th>452</th>\n",
              "      <td>0</td>\n",
              "      <td>0</td>\n",
              "      <td>1</td>\n",
              "    </tr>\n",
              "    <tr>\n",
              "      <th>453</th>\n",
              "      <td>0</td>\n",
              "      <td>1</td>\n",
              "      <td>0</td>\n",
              "    </tr>\n",
              "    <tr>\n",
              "      <th>454</th>\n",
              "      <td>1</td>\n",
              "      <td>1</td>\n",
              "      <td>1</td>\n",
              "    </tr>\n",
              "    <tr>\n",
              "      <th>455</th>\n",
              "      <td>1</td>\n",
              "      <td>1</td>\n",
              "      <td>0</td>\n",
              "    </tr>\n",
              "    <tr>\n",
              "      <th>456</th>\n",
              "      <td>1</td>\n",
              "      <td>1</td>\n",
              "      <td>1</td>\n",
              "    </tr>\n",
              "    <tr>\n",
              "      <th>457</th>\n",
              "      <td>0</td>\n",
              "      <td>1</td>\n",
              "      <td>0</td>\n",
              "    </tr>\n",
              "    <tr>\n",
              "      <th>458</th>\n",
              "      <td>1</td>\n",
              "      <td>0</td>\n",
              "      <td>0</td>\n",
              "    </tr>\n",
              "    <tr>\n",
              "      <th>459</th>\n",
              "      <td>0</td>\n",
              "      <td>0</td>\n",
              "      <td>0</td>\n",
              "    </tr>\n",
              "    <tr>\n",
              "      <th>460</th>\n",
              "      <td>1</td>\n",
              "      <td>1</td>\n",
              "      <td>1</td>\n",
              "    </tr>\n",
              "  </tbody>\n",
              "</table>\n",
              "<p>461 rows × 3 columns</p>\n",
              "</div>"
            ],
            "text/plain": [
              "     Actaul  DenseBlock  ResNet\n",
              "0         1           0       1\n",
              "1         1           1       1\n",
              "2         1           0       1\n",
              "3         0           0       0\n",
              "4         0           1       0\n",
              "5         0           0       0\n",
              "6         1           1       1\n",
              "7         0           1       1\n",
              "8         1           1       1\n",
              "9         0           1       1\n",
              "10        0           1       0\n",
              "11        0           0       0\n",
              "12        1           1       1\n",
              "13        1           1       1\n",
              "14        0           0       0\n",
              "15        1           1       1\n",
              "16        1           0       0\n",
              "17        1           1       1\n",
              "18        1           0       0\n",
              "19        1           1       1\n",
              "20        0           0       0\n",
              "21        1           1       1\n",
              "22        1           1       1\n",
              "23        1           0       0\n",
              "24        1           1       1\n",
              "25        0           1       1\n",
              "26        1           0       0\n",
              "27        1           0       0\n",
              "28        1           0       0\n",
              "29        1           1       1\n",
              "..      ...         ...     ...\n",
              "431       1           0       1\n",
              "432       1           1       0\n",
              "433       0           0       0\n",
              "434       1           1       1\n",
              "435       0           0       0\n",
              "436       1           0       0\n",
              "437       0           0       0\n",
              "438       0           0       0\n",
              "439       0           0       0\n",
              "440       0           0       0\n",
              "441       0           0       0\n",
              "442       0           0       0\n",
              "443       1           1       0\n",
              "444       1           1       1\n",
              "445       1           1       1\n",
              "446       0           0       0\n",
              "447       0           0       0\n",
              "448       1           1       1\n",
              "449       0           0       0\n",
              "450       0           0       1\n",
              "451       1           0       1\n",
              "452       0           0       1\n",
              "453       0           1       0\n",
              "454       1           1       1\n",
              "455       1           1       0\n",
              "456       1           1       1\n",
              "457       0           1       0\n",
              "458       1           0       0\n",
              "459       0           0       0\n",
              "460       1           1       1\n",
              "\n",
              "[461 rows x 3 columns]"
            ]
          },
          "metadata": {
            "tags": []
          },
          "execution_count": 51
        }
      ]
    },
    {
      "metadata": {
        "id": "PMNiYVSeQLmO",
        "colab_type": "code",
        "colab": {}
      },
      "cell_type": "code",
      "source": [
        ""
      ],
      "execution_count": 0,
      "outputs": []
    }
  ]
}