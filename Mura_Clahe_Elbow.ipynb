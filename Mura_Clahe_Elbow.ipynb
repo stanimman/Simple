{
  "nbformat": 4,
  "nbformat_minor": 0,
  "metadata": {
    "colab": {
      "name": "Hello, Colaboratory",
      "version": "0.3.2",
      "provenance": [],
      "collapsed_sections": [],
      "toc_visible": true,
      "include_colab_link": true
    },
    "kernelspec": {
      "display_name": "Python 3",
      "name": "python3"
    },
    "accelerator": "GPU"
  },
  "cells": [
    {
      "cell_type": "markdown",
      "metadata": {
        "id": "view-in-github",
        "colab_type": "text"
      },
      "source": [
        "[View in Colaboratory](https://colab.research.google.com/github/stanimman/Simple/blob/master/Mura_Clahe_Elbow.ipynb)"
      ]
    },
    {
      "metadata": {
        "id": "9J7p406abzgl",
        "colab_type": "text"
      },
      "cell_type": "markdown",
      "source": [
        "<img height=\"60px\" src=\"https://colab.research.google.com/img/colab_favicon.ico\" align=\"left\" hspace=\"20px\" vspace=\"5px\">\n",
        "\n",
        "## Welcome to Colaboratory!\n",
        "\n",
        "Colaboratory is a free Jupyter notebook environment that requires no setup and runs entirely in the cloud. See our [FAQ](https://research.google.com/colaboratory/faq.html) for more info."
      ]
    },
    {
      "metadata": {
        "id": "-Rh3-Vt9Nev9",
        "colab_type": "text"
      },
      "cell_type": "markdown",
      "source": [
        "## Getting Started\n",
        "- [Overview of Colaboratory](/notebooks/basic_features_overview.ipynb)\n",
        "- [Loading and saving data: Local files, Drive, Sheets, Google Cloud Storage](/notebooks/io.ipynb)\n",
        "- [Importing libraries and installing dependencies](/notebooks/snippets/importing_libraries.ipynb)\n",
        "- [Using Google Cloud BigQuery](/notebooks/bigquery.ipynb)\n",
        "- [Forms](/notebooks/forms.ipynb), [Charts](/notebooks/charts.ipynb), [Markdown](/notebooks/markdown_guide.ipynb), & [Widgets](/notebooks/widgets.ipynb)\n",
        "- [TensorFlow with GPU](/notebooks/gpu.ipynb)\n",
        "- [Machine Learning Crash Course](https://developers.google.com/machine-learning/crash-course/): [Intro to Pandas](/notebooks/mlcc/intro_to_pandas.ipynb) & [First Steps with TensorFlow](/notebooks/mlcc/first_steps_with_tensor_flow.ipynb)\n"
      ]
    },
    {
      "metadata": {
        "id": "1fr51oVCHRZU",
        "colab_type": "text"
      },
      "cell_type": "markdown",
      "source": [
        "## Highlighted Features\n",
        "### Seedbank\n",
        "\n",
        "Looking for Colab notebooks to learn from? Check out [Seedbank](https://tools.google.com/seedbank/), a place to discover interactive machine learning examples."
      ]
    },
    {
      "metadata": {
        "id": "9wi5kfGdhK0R",
        "colab_type": "text"
      },
      "cell_type": "markdown",
      "source": [
        "### TensorFlow execution"
      ]
    },
    {
      "metadata": {
        "id": "S9GW-n-oYWIj",
        "colab_type": "text"
      },
      "cell_type": "markdown",
      "source": [
        "Colaboratory allows you to execute TensorFlow code in your browser with a single click. The example below adds two matrices.\n",
        "\n",
        "$\\begin{bmatrix}\n",
        "  1. & 1. & 1. \\\\\n",
        "  1. & 1. & 1. \\\\\n",
        "\\end{bmatrix} +\n",
        "\\begin{bmatrix}\n",
        "  1. & 2. & 3. \\\\\n",
        "  4. & 5. & 6. \\\\\n",
        "\\end{bmatrix} =\n",
        "\\begin{bmatrix}\n",
        "  2. & 3. & 4. \\\\\n",
        "  5. & 6. & 7. \\\\\n",
        "\\end{bmatrix}$"
      ]
    },
    {
      "metadata": {
        "id": "oYZkU7ZN3CL0",
        "colab_type": "code",
        "colab": {
          "base_uri": "https://localhost:8080/",
          "height": 224
        },
        "outputId": "783250a8-2427-4614-e35e-5ee6ec16a3dc"
      },
      "cell_type": "code",
      "source": [
        "!wget https://fs8.transfernow.net/download/5b7251e352ad5/master/XR_ELBOW_v1.1.zip"
      ],
      "execution_count": 1,
      "outputs": [
        {
          "output_type": "stream",
          "text": [
            "--2018-08-15 06:16:56--  https://fs8.transfernow.net/download/5b7251e352ad5/master/XR_ELBOW_v1.1.zip\n",
            "Resolving fs8.transfernow.net (fs8.transfernow.net)... 163.172.21.23\n",
            "Connecting to fs8.transfernow.net (fs8.transfernow.net)|163.172.21.23|:443... connected.\n",
            "HTTP request sent, awaiting response... 200 OK\n",
            "Length: 446967685 (426M) [application/zip]\n",
            "Saving to: ‘XR_ELBOW_v1.1.zip’\n",
            "\n",
            "XR_ELBOW_v1.1.zip   100%[===================>] 426.26M  4.91MB/s    in 87s     \n",
            "\n",
            "2018-08-15 06:18:24 (4.90 MB/s) - ‘XR_ELBOW_v1.1.zip’ saved [446967685/446967685]\n",
            "\n"
          ],
          "name": "stdout"
        }
      ]
    },
    {
      "metadata": {
        "id": "EVj9QXyeOlxI",
        "colab_type": "code",
        "colab": {
          "base_uri": "https://localhost:8080/",
          "height": 204
        },
        "outputId": "177e79e4-ee09-4efe-b4a5-88dc0773ce3a"
      },
      "cell_type": "code",
      "source": [
        "!wget https://fs5.transfernow.net/download/5b73c4464b5cc/master/Image_Path.zip"
      ],
      "execution_count": 3,
      "outputs": [
        {
          "output_type": "stream",
          "text": [
            "--2018-08-15 06:21:30--  https://fs5.transfernow.net/download/5b73c4464b5cc/master/Image_Path.zip\n",
            "Resolving fs5.transfernow.net (fs5.transfernow.net)... 62.210.248.133\n",
            "Connecting to fs5.transfernow.net (fs5.transfernow.net)|62.210.248.133|:443... connected.\n",
            "HTTP request sent, awaiting response... 200 OK\n",
            "Length: 372727 (364K) [application/zip]\n",
            "Saving to: ‘Image_Path.zip’\n",
            "\n",
            "Image_Path.zip      100%[===================>] 363.99K   668KB/s    in 0.5s    \n",
            "\n",
            "2018-08-15 06:21:31 (668 KB/s) - ‘Image_Path.zip’ saved [372727/372727]\n",
            "\n"
          ],
          "name": "stdout"
        }
      ]
    },
    {
      "metadata": {
        "id": "u__OdhTxPyov",
        "colab_type": "code",
        "colab": {
          "base_uri": "https://localhost:8080/",
          "height": 170
        },
        "outputId": "f1d519f9-263e-4a2c-f152-746a57d4be6b"
      },
      "cell_type": "code",
      "source": [
        "!unzip Image_Path"
      ],
      "execution_count": 4,
      "outputs": [
        {
          "output_type": "stream",
          "text": [
            "Archive:  Image_Path.zip\r\n",
            "   creating: Image_Path/\r\n",
            "  inflating: Image_Path/.DS_Store    \r\n",
            "   creating: __MACOSX/Image_Path/\r\n",
            "  inflating: __MACOSX/Image_Path/._.DS_Store  \r\n",
            "  inflating: Image_Path/train_lmagepath_label.xlsx  \r\n",
            "  inflating: __MACOSX/Image_Path/._train_lmagepath_label.xlsx  \r\n",
            "  inflating: Image_Path/valid_imagepath_label.csv  \r\n",
            "  inflating: __MACOSX/Image_Path/._valid_imagepath_label.csv  \r\n"
          ],
          "name": "stdout"
        }
      ]
    },
    {
      "metadata": {
        "id": "PuPxn9jL1WQa",
        "colab_type": "code",
        "colab": {}
      },
      "cell_type": "code",
      "source": [
        "%%capture\n",
        "!unzip XR_ELBOW_v1.1.zip"
      ],
      "execution_count": 0,
      "outputs": []
    },
    {
      "metadata": {
        "id": "Qiycsx124XNJ",
        "colab_type": "code",
        "colab": {}
      },
      "cell_type": "code",
      "source": [
        "rm -r __MACOSX"
      ],
      "execution_count": 0,
      "outputs": []
    },
    {
      "metadata": {
        "id": "JcuJVfZ-1zbX",
        "colab_type": "code",
        "colab": {
          "base_uri": "https://localhost:8080/",
          "height": 34
        },
        "outputId": "71580e36-6d66-475b-e310-240073fc1951"
      },
      "cell_type": "code",
      "source": [
        "!ls "
      ],
      "execution_count": 0,
      "outputs": [
        {
          "output_type": "stream",
          "text": [
            "datalab  __MACOSX  XR_ELBOW_v1.1  XR_ELBOW_v1.1.zip\r\n"
          ],
          "name": "stdout"
        }
      ]
    },
    {
      "metadata": {
        "id": "gu1yxs2oSOgB",
        "colab_type": "code",
        "colab": {
          "base_uri": "https://localhost:8080/",
          "height": 122
        },
        "outputId": "fe945068-0a5b-480d-b6b6-624a894e57b0"
      },
      "cell_type": "code",
      "source": [
        "!pip install xlrd"
      ],
      "execution_count": 7,
      "outputs": [
        {
          "output_type": "stream",
          "text": [
            "Collecting xlrd\n",
            "\u001b[?25l  Downloading https://files.pythonhosted.org/packages/07/e6/e95c4eec6221bfd8528bcc4ea252a850bffcc4be88ebc367e23a1a84b0bb/xlrd-1.1.0-py2.py3-none-any.whl (108kB)\n",
            "\u001b[K    100% |████████████████████████████████| 112kB 4.3MB/s \n",
            "\u001b[?25hInstalling collected packages: xlrd\n",
            "Successfully installed xlrd-1.1.0\n"
          ],
          "name": "stdout"
        }
      ]
    },
    {
      "metadata": {
        "id": "oGcFutWI1j0U",
        "colab_type": "code",
        "colab": {}
      },
      "cell_type": "code",
      "source": [
        "import pandas as pd \n",
        "train_set = pd.read_excel('Image_Path/train_lmagepath_label.xlsx')\n",
        "valid_set = pd.read_csv('Image_Path/valid_imagepath_label.csv')"
      ],
      "execution_count": 0,
      "outputs": []
    },
    {
      "metadata": {
        "id": "RRuA78Gj-ca9",
        "colab_type": "code",
        "colab": {
          "base_uri": "https://localhost:8080/",
          "height": 204
        },
        "outputId": "5ea66979-5d01-4d3f-e98f-8b2d3b407666"
      },
      "cell_type": "code",
      "source": [
        "#train_set.head()\n",
        "valid_set.head()"
      ],
      "execution_count": 2,
      "outputs": [
        {
          "output_type": "execute_result",
          "data": {
            "text/html": [
              "<div>\n",
              "<style scoped>\n",
              "    .dataframe tbody tr th:only-of-type {\n",
              "        vertical-align: middle;\n",
              "    }\n",
              "\n",
              "    .dataframe tbody tr th {\n",
              "        vertical-align: top;\n",
              "    }\n",
              "\n",
              "    .dataframe thead th {\n",
              "        text-align: right;\n",
              "    }\n",
              "</style>\n",
              "<table border=\"1\" class=\"dataframe\">\n",
              "  <thead>\n",
              "    <tr style=\"text-align: right;\">\n",
              "      <th></th>\n",
              "      <th>path</th>\n",
              "      <th>label_string</th>\n",
              "      <th>label</th>\n",
              "    </tr>\n",
              "  </thead>\n",
              "  <tbody>\n",
              "    <tr>\n",
              "      <th>0</th>\n",
              "      <td>MURA-v1.1/valid/XR_WRIST/patient11185/study1_p...</td>\n",
              "      <td>positive</td>\n",
              "      <td>1</td>\n",
              "    </tr>\n",
              "    <tr>\n",
              "      <th>1</th>\n",
              "      <td>MURA-v1.1/valid/XR_WRIST/patient11185/study1_p...</td>\n",
              "      <td>positive</td>\n",
              "      <td>1</td>\n",
              "    </tr>\n",
              "    <tr>\n",
              "      <th>2</th>\n",
              "      <td>MURA-v1.1/valid/XR_WRIST/patient11185/study1_p...</td>\n",
              "      <td>positive</td>\n",
              "      <td>1</td>\n",
              "    </tr>\n",
              "    <tr>\n",
              "      <th>3</th>\n",
              "      <td>MURA-v1.1/valid/XR_WRIST/patient11185/study1_p...</td>\n",
              "      <td>positive</td>\n",
              "      <td>1</td>\n",
              "    </tr>\n",
              "    <tr>\n",
              "      <th>4</th>\n",
              "      <td>MURA-v1.1/valid/XR_WRIST/patient11186/study1_p...</td>\n",
              "      <td>positive</td>\n",
              "      <td>1</td>\n",
              "    </tr>\n",
              "  </tbody>\n",
              "</table>\n",
              "</div>"
            ],
            "text/plain": [
              "                                                path label_string  label\n",
              "0  MURA-v1.1/valid/XR_WRIST/patient11185/study1_p...     positive      1\n",
              "1  MURA-v1.1/valid/XR_WRIST/patient11185/study1_p...     positive      1\n",
              "2  MURA-v1.1/valid/XR_WRIST/patient11185/study1_p...     positive      1\n",
              "3  MURA-v1.1/valid/XR_WRIST/patient11185/study1_p...     positive      1\n",
              "4  MURA-v1.1/valid/XR_WRIST/patient11186/study1_p...     positive      1"
            ]
          },
          "metadata": {
            "tags": []
          },
          "execution_count": 2
        }
      ]
    },
    {
      "metadata": {
        "id": "shJs16vVTdJx",
        "colab_type": "code",
        "colab": {}
      },
      "cell_type": "code",
      "source": [
        ""
      ],
      "execution_count": 0,
      "outputs": []
    },
    {
      "metadata": {
        "id": "43jIDk1tMixe",
        "colab_type": "code",
        "colab": {
          "base_uri": "https://localhost:8080/",
          "height": 51
        },
        "outputId": "80cf5266-1801-4310-ec93-e28539783c7e"
      },
      "cell_type": "code",
      "source": [
        "print(train_set.paths.astype(str).str[16:24][0])\n",
        "print(valid_set.path.astype(str).str[16:24][0])"
      ],
      "execution_count": 23,
      "outputs": [
        {
          "output_type": "stream",
          "text": [
            "XR_SHOUL\n",
            "XR_WRIST\n"
          ],
          "name": "stdout"
        }
      ]
    },
    {
      "metadata": {
        "id": "2Y-8umfOO1va",
        "colab_type": "code",
        "colab": {}
      },
      "cell_type": "code",
      "source": [
        "train_elbow = train_set.loc[train_set.paths.astype(str).str[16:24].isin(['XR_ELBOW'])]\n",
        "valid_elbow = valid_set.loc[valid_set.path.astype(str).str[16:24].isin(['XR_ELBOW'])]"
      ],
      "execution_count": 0,
      "outputs": []
    },
    {
      "metadata": {
        "id": "QI-9Yn31S7-8",
        "colab_type": "code",
        "colab": {
          "base_uri": "https://localhost:8080/",
          "height": 34
        },
        "outputId": "62ccd16e-fa02-4abd-c465-97c9412f98a4"
      },
      "cell_type": "code",
      "source": [
        "valid_elbow.shape"
      ],
      "execution_count": 4,
      "outputs": [
        {
          "output_type": "execute_result",
          "data": {
            "text/plain": [
              "(465, 3)"
            ]
          },
          "metadata": {
            "tags": []
          },
          "execution_count": 4
        }
      ]
    },
    {
      "metadata": {
        "id": "9A0V9R-6ROsl",
        "colab_type": "code",
        "colab": {
          "base_uri": "https://localhost:8080/",
          "height": 204
        },
        "outputId": "30654838-0158-4d43-ea64-bc055f6bd6ca"
      },
      "cell_type": "code",
      "source": [
        "valid_elbow.tail()"
      ],
      "execution_count": 6,
      "outputs": [
        {
          "output_type": "execute_result",
          "data": {
            "text/html": [
              "<div>\n",
              "<style scoped>\n",
              "    .dataframe tbody tr th:only-of-type {\n",
              "        vertical-align: middle;\n",
              "    }\n",
              "\n",
              "    .dataframe tbody tr th {\n",
              "        vertical-align: top;\n",
              "    }\n",
              "\n",
              "    .dataframe thead th {\n",
              "        text-align: right;\n",
              "    }\n",
              "</style>\n",
              "<table border=\"1\" class=\"dataframe\">\n",
              "  <thead>\n",
              "    <tr style=\"text-align: right;\">\n",
              "      <th></th>\n",
              "      <th>path</th>\n",
              "      <th>label_string</th>\n",
              "      <th>label</th>\n",
              "    </tr>\n",
              "  </thead>\n",
              "  <tbody>\n",
              "    <tr>\n",
              "      <th>2731</th>\n",
              "      <td>XR_ELBOW_v1.1/valid/XR_ELBOW/patient11205/stud...</td>\n",
              "      <td>negative</td>\n",
              "      <td>0</td>\n",
              "    </tr>\n",
              "    <tr>\n",
              "      <th>2732</th>\n",
              "      <td>XR_ELBOW_v1.1/valid/XR_ELBOW/patient11881/stud...</td>\n",
              "      <td>negative</td>\n",
              "      <td>0</td>\n",
              "    </tr>\n",
              "    <tr>\n",
              "      <th>2733</th>\n",
              "      <td>XR_ELBOW_v1.1/valid/XR_ELBOW/patient11881/stud...</td>\n",
              "      <td>negative</td>\n",
              "      <td>0</td>\n",
              "    </tr>\n",
              "    <tr>\n",
              "      <th>2734</th>\n",
              "      <td>XR_ELBOW_v1.1/valid/XR_ELBOW/patient11334/stud...</td>\n",
              "      <td>negative</td>\n",
              "      <td>0</td>\n",
              "    </tr>\n",
              "    <tr>\n",
              "      <th>2735</th>\n",
              "      <td>XR_ELBOW_v1.1/valid/XR_ELBOW/patient11334/stud...</td>\n",
              "      <td>negative</td>\n",
              "      <td>0</td>\n",
              "    </tr>\n",
              "  </tbody>\n",
              "</table>\n",
              "</div>"
            ],
            "text/plain": [
              "                                                   path label_string  label\n",
              "2731  XR_ELBOW_v1.1/valid/XR_ELBOW/patient11205/stud...     negative      0\n",
              "2732  XR_ELBOW_v1.1/valid/XR_ELBOW/patient11881/stud...     negative      0\n",
              "2733  XR_ELBOW_v1.1/valid/XR_ELBOW/patient11881/stud...     negative      0\n",
              "2734  XR_ELBOW_v1.1/valid/XR_ELBOW/patient11334/stud...     negative      0\n",
              "2735  XR_ELBOW_v1.1/valid/XR_ELBOW/patient11334/stud...     negative      0"
            ]
          },
          "metadata": {
            "tags": []
          },
          "execution_count": 6
        }
      ]
    },
    {
      "metadata": {
        "id": "6nGKzobXSL7v",
        "colab_type": "code",
        "colab": {
          "base_uri": "https://localhost:8080/",
          "height": 241
        },
        "outputId": "c65c6838-9f53-4383-f123-1688aec87631"
      },
      "cell_type": "code",
      "source": [
        "train_elbow['paths'] = train_elbow['paths'].str[0:9].replace(to_replace='MURA-v1.1',value='XR_ELBOW_v1.1'+train_elbow['paths'].str[9:])\n",
        "valid_elbow['path'] = valid_elbow['path'].str[0:9].replace(to_replace='MURA-v1.1',value='XR_ELBOW_v1.1'+valid_elbow['path'].str[9:])"
      ],
      "execution_count": 5,
      "outputs": [
        {
          "output_type": "stream",
          "text": [
            "/usr/local/lib/python3.6/dist-packages/ipykernel_launcher.py:1: SettingWithCopyWarning: \n",
            "A value is trying to be set on a copy of a slice from a DataFrame.\n",
            "Try using .loc[row_indexer,col_indexer] = value instead\n",
            "\n",
            "See the caveats in the documentation: http://pandas.pydata.org/pandas-docs/stable/indexing.html#indexing-view-versus-copy\n",
            "  \"\"\"Entry point for launching an IPython kernel.\n",
            "/usr/local/lib/python3.6/dist-packages/ipykernel_launcher.py:2: SettingWithCopyWarning: \n",
            "A value is trying to be set on a copy of a slice from a DataFrame.\n",
            "Try using .loc[row_indexer,col_indexer] = value instead\n",
            "\n",
            "See the caveats in the documentation: http://pandas.pydata.org/pandas-docs/stable/indexing.html#indexing-view-versus-copy\n",
            "  \n"
          ],
          "name": "stderr"
        }
      ]
    },
    {
      "metadata": {
        "id": "ILZvB2HSQNA9",
        "colab_type": "code",
        "colab": {
          "base_uri": "https://localhost:8080/",
          "height": 34
        },
        "outputId": "cbd7b16a-8005-4ca4-f7e2-0c2bcea76b7c"
      },
      "cell_type": "code",
      "source": [
        "train_set.shape"
      ],
      "execution_count": 0,
      "outputs": [
        {
          "output_type": "execute_result",
          "data": {
            "text/plain": [
              "(13457, 2)"
            ]
          },
          "metadata": {
            "tags": []
          },
          "execution_count": 48
        }
      ]
    },
    {
      "metadata": {
        "id": "o6fD8K100Bt6",
        "colab_type": "code",
        "colab": {
          "base_uri": "https://localhost:8080/",
          "height": 156
        },
        "outputId": "668b8335-7229-4c6e-aca0-b759953e8038"
      },
      "cell_type": "code",
      "source": [
        "!pip uninstall Pillow -y\n",
        "\n",
        "!pip install Pillow"
      ],
      "execution_count": 36,
      "outputs": [
        {
          "output_type": "stream",
          "text": [
            "Uninstalling Pillow-4.0.0:\n",
            "  Successfully uninstalled Pillow-4.0.0\n",
            "Collecting Pillow\n",
            "\u001b[?25l  Downloading https://files.pythonhosted.org/packages/d1/24/f53ff6b61b3d728b90934bddb4f03f8ab584a7f49299bf3bde56e2952612/Pillow-5.2.0-cp36-cp36m-manylinux1_x86_64.whl (2.0MB)\n",
            "\u001b[K    100% |████████████████████████████████| 2.0MB 9.5MB/s \n",
            "\u001b[?25hInstalling collected packages: Pillow\n",
            "Successfully installed Pillow-5.2.0\n"
          ],
          "name": "stdout"
        }
      ]
    },
    {
      "metadata": {
        "id": "2tKP1gNl1U96",
        "colab_type": "code",
        "colab": {}
      },
      "cell_type": "code",
      "source": [
        "%%capture\n",
        "!unzip MURA-v1.1.zip"
      ],
      "execution_count": 0,
      "outputs": []
    },
    {
      "metadata": {
        "id": "NZAUDWV10Y2N",
        "colab_type": "code",
        "colab": {
          "base_uri": "https://localhost:8080/",
          "height": 105
        },
        "outputId": "9d54d491-b00f-4d22-de9b-82cd731e1262"
      },
      "cell_type": "code",
      "source": [
        "import PIL\n",
        "print(PIL.PILLOW_VERSION)\n",
        "from os import path\n",
        "from wheel.pep425tags import get_abbr_impl, get_impl_ver, get_abi_tag\n",
        "platform = '{}{}-{}'.format(get_abbr_impl(), get_impl_ver(), get_abi_tag())\n",
        "\n",
        "accelerator = 'cu80' if path.exists('/opt/bin/nvidia-smi') else 'cpu'\n",
        "\n",
        "!pip install -q http://download.pytorch.org/whl/{accelerator}/torch-0.4.0-{platform}-linux_x86_64.whl torchvision\n",
        "import torch\n",
        "print(torch.__version__)\n",
        "print(torch.cuda.is_available())\n",
        "\n",
        "import torch \n",
        "import torchvision\n",
        "import torch.nn as nn\n",
        "import numpy as np\n",
        "import torchvision.transforms as transforms\n",
        "\n",
        "from torch.utils.data import DataLoader, Dataset\n",
        "from torchvision.datasets.folder import pil_loader\n",
        "from torchvision import transforms, utils\n",
        "import pandas as pd\n",
        "import matplotlib.pyplot as plt\n",
        "from skimage import io, transform\n",
        "import matplotlib.pyplot as plt\n",
        "import os\n",
        "from torchvision import  models\n",
        "import torch.nn as nn\n",
        "import torch.optim as optim\n",
        "import copy\n",
        "from torch.optim import lr_scheduler\n",
        "import time\n",
        "import datetime as dt\n",
        "from PIL import Image\n",
        "import cv2"
      ],
      "execution_count": 7,
      "outputs": [
        {
          "output_type": "stream",
          "text": [
            "5.2.0\n",
            "tcmalloc: large alloc 1073750016 bytes == 0x5c51e000 @  0x7f440c0b61c4 0x46d6a4 0x5fcbcc 0x4c494d 0x54f3c4 0x553aaf 0x54e4c8 0x54f4f6 0x553aaf 0x54efc1 0x54f24d 0x553aaf 0x54efc1 0x54f24d 0x553aaf 0x54efc1 0x54f24d 0x551ee0 0x54e4c8 0x54f4f6 0x553aaf 0x54efc1 0x54f24d 0x551ee0 0x54efc1 0x54f24d 0x551ee0 0x54e4c8 0x54f4f6 0x553aaf 0x54e4c8\n",
            "0.4.0\n",
            "True\n"
          ],
          "name": "stdout"
        }
      ]
    },
    {
      "metadata": {
        "id": "8eGn5Igp1rVo",
        "colab_type": "code",
        "colab": {}
      },
      "cell_type": "code",
      "source": [
        "%%capture\n",
        "!unzip MURA-v1.1.zip\n"
      ],
      "execution_count": 0,
      "outputs": []
    },
    {
      "metadata": {
        "id": "GL59SifMhtQu",
        "colab_type": "code",
        "colab": {
          "base_uri": "https://localhost:8080/",
          "height": 34
        },
        "outputId": "072f8f9c-3bf7-4bbf-af44-14b226a10414"
      },
      "cell_type": "code",
      "source": [
        "!ls"
      ],
      "execution_count": 0,
      "outputs": [
        {
          "output_type": "stream",
          "text": [
            "datalab  __MACOSX  MURA-v1.1  MURA-v1.1.zip\r\n"
          ],
          "name": "stdout"
        }
      ]
    },
    {
      "metadata": {
        "id": "kkxtqSJM1rxY",
        "colab_type": "code",
        "colab": {}
      },
      "cell_type": "code",
      "source": [
        "train_path_df = train_elbow\n",
        "valid_path_df = valid_elbow"
      ],
      "execution_count": 0,
      "outputs": []
    },
    {
      "metadata": {
        "id": "_W-tz9Ue2Af7",
        "colab_type": "code",
        "colab": {}
      },
      "cell_type": "code",
      "source": [
        "#image_list = train_path_df.iloc[1000:1015,0]\n",
        "#im_path = image_list.iloc[2]"
      ],
      "execution_count": 0,
      "outputs": []
    },
    {
      "metadata": {
        "id": "PDhwVOXh2aL2",
        "colab_type": "code",
        "colab": {}
      },
      "cell_type": "code",
      "source": [
        "#im_path"
      ],
      "execution_count": 0,
      "outputs": []
    },
    {
      "metadata": {
        "id": "LlUwiVCN1sIv",
        "colab_type": "code",
        "colab": {}
      },
      "cell_type": "code",
      "source": [
        "#im = cv2.imread(im_path)"
      ],
      "execution_count": 0,
      "outputs": []
    },
    {
      "metadata": {
        "id": "p-Vg4tEH2xOP",
        "colab_type": "code",
        "colab": {
          "base_uri": "https://localhost:8080/",
          "height": 54
        },
        "outputId": "9979bfdc-2ce7-42d9-fa99-191151d3ec0d"
      },
      "cell_type": "code",
      "source": [
        "'''def channel_check(im):\n",
        "  channel0 = im[:,:,0]\n",
        "  channel1 = im[:,:,1]\n",
        "  channel2 = im[:,:,2]\n",
        "  diff = channel0 - channel1\n",
        "  print(channel0.sum(),channel1.sum(),channel2.sum())\n",
        "  print(diff.sum())'''"
      ],
      "execution_count": 0,
      "outputs": [
        {
          "output_type": "execute_result",
          "data": {
            "text/plain": [
              "'def channel_check(im):\\n  channel0 = im[:,:,0]\\n  channel1 = im[:,:,1]\\n  channel2 = im[:,:,2]\\n  diff = channel0 - channel1\\n  print(channel0.sum(),channel1.sum(),channel2.sum())\\n  print(diff.sum())'"
            ]
          },
          "metadata": {
            "tags": []
          },
          "execution_count": 9
        }
      ]
    },
    {
      "metadata": {
        "id": "FwLOdNLB3M-P",
        "colab_type": "code",
        "colab": {}
      },
      "cell_type": "code",
      "source": [
        "#diff = channel0 - channel1\n",
        "#print(channel0.sum(),channel1.sum(),channel2.sum())\n",
        "#print(diff.sum())"
      ],
      "execution_count": 0,
      "outputs": []
    },
    {
      "metadata": {
        "id": "rmcnsXyD35zX",
        "colab_type": "code",
        "colab": {
          "base_uri": "https://localhost:8080/",
          "height": 54
        },
        "outputId": "1ca72e6c-7ea1-4e41-bb33-7ea1b0b838b5"
      },
      "cell_type": "code",
      "source": [
        "'''def refix(image_path) :\n",
        "  desired_size = 512\n",
        "  im_pth = image_path\n",
        "  #img = cv2.imread(image_path,0)\n",
        "  # create a CLAHE object (Arguments are optional).\n",
        "  #clahe = cv2.createCLAHE(clipLimit=2.0, tileGridSize=(8,8))\n",
        "  #img = clahe.apply(img)\n",
        "  #im = np.stack((img,)*3, -1)\n",
        "  im = cv2.imread(im_pth)\n",
        "  #im = im_pth\n",
        "  original_im = im\n",
        "  old_size = im.shape[:2] # old_size is in (height, width) format\n",
        "\n",
        "  ratio = float(desired_size)/max(old_size)\n",
        "  new_size = tuple([int(x*ratio) for x in old_size])\n",
        "\n",
        "  # new_size should be in (width, height) format\n",
        "\n",
        "  im = cv2.resize(im, (new_size[1], new_size[0]))\n",
        "\n",
        "  delta_w = desired_size - new_size[1]\n",
        "  delta_h = desired_size - new_size[0]\n",
        "  top, bottom = delta_h//2, delta_h-(delta_h//2)\n",
        "  left, right = delta_w//2, delta_w-(delta_w//2)\n",
        "\n",
        "  color = [0, 0, 0]\n",
        "  new_im = cv2.copyMakeBorder(im, top, bottom, left, right, cv2.BORDER_CONSTANT,\n",
        "      value=color)\n",
        "  return original_im, new_im'''"
      ],
      "execution_count": 0,
      "outputs": [
        {
          "output_type": "execute_result",
          "data": {
            "text/plain": [
              "'def refix(image_path) :\\n  desired_size = 512\\n  im_pth = image_path\\n  #img = cv2.imread(image_path,0)\\n  # create a CLAHE object (Arguments are optional).\\n  #clahe = cv2.createCLAHE(clipLimit=2.0, tileGridSize=(8,8))\\n  #img = clahe.apply(img)\\n  #im = np.stack((img,)*3, -1)\\n  im = cv2.imread(im_pth)\\n  #im = im_pth\\n  original_im = im\\n  old_size = im.shape[:2] # old_size is in (height, width) format\\n\\n  ratio = float(desired_size)/max(old_size)\\n  new_size = tuple([int(x*ratio) for x in old_size])\\n\\n  # new_size should be in (width, height) format\\n\\n  im = cv2.resize(im, (new_size[1], new_size[0]))\\n\\n  delta_w = desired_size - new_size[1]\\n  delta_h = desired_size - new_size[0]\\n  top, bottom = delta_h//2, delta_h-(delta_h//2)\\n  left, right = delta_w//2, delta_w-(delta_w//2)\\n\\n  color = [0, 0, 0]\\n  new_im = cv2.copyMakeBorder(im, top, bottom, left, right, cv2.BORDER_CONSTANT,\\n      value=color)\\n  return original_im, new_im'"
            ]
          },
          "metadata": {
            "tags": []
          },
          "execution_count": 11
        }
      ]
    },
    {
      "metadata": {
        "id": "i6j-QyAP4Mkl",
        "colab_type": "code",
        "colab": {}
      },
      "cell_type": "code",
      "source": [
        "#x,y = refix(im_path)"
      ],
      "execution_count": 0,
      "outputs": []
    },
    {
      "metadata": {
        "id": "AjSmtbqN4W5s",
        "colab_type": "code",
        "colab": {}
      },
      "cell_type": "code",
      "source": [
        "#channel_check(y)"
      ],
      "execution_count": 0,
      "outputs": []
    },
    {
      "metadata": {
        "id": "XSh7Fc5b4qvV",
        "colab_type": "code",
        "colab": {}
      },
      "cell_type": "code",
      "source": [
        "#img = cv2.imread(im_path,0)"
      ],
      "execution_count": 0,
      "outputs": []
    },
    {
      "metadata": {
        "id": "VcuLQxv24us7",
        "colab_type": "code",
        "colab": {}
      },
      "cell_type": "code",
      "source": [
        "#img.shape"
      ],
      "execution_count": 0,
      "outputs": []
    },
    {
      "metadata": {
        "id": "KRJjkJ4C41K7",
        "colab_type": "code",
        "colab": {}
      },
      "cell_type": "code",
      "source": [
        "#y.shape"
      ],
      "execution_count": 0,
      "outputs": []
    },
    {
      "metadata": {
        "id": "P6xPJj0t438d",
        "colab_type": "code",
        "colab": {}
      },
      "cell_type": "code",
      "source": [
        "#new_x = y[:,:,0]\n",
        "#new_x.shape"
      ],
      "execution_count": 0,
      "outputs": []
    },
    {
      "metadata": {
        "id": "E5K_FX6K79H_",
        "colab_type": "code",
        "colab": {
          "base_uri": "https://localhost:8080/",
          "height": 54
        },
        "outputId": "35af8806-538d-4ac5-c130-d08422a8b16a"
      },
      "cell_type": "code",
      "source": [
        "'''def Clahe(img,ind):\n",
        "  if ind == 0:\n",
        "    img = cv2.imread(img,0)\n",
        "  if ind == 1:\n",
        "    img = img \n",
        "    # create a CLAHE object (Arguments are optional).\n",
        "  clahe = cv2.createCLAHE(clipLimit=2.0, tileGridSize=(8,8))\n",
        "  img = clahe.apply(img)\n",
        "  image = np.stack((img,)*3, -1)\n",
        "  return image\n",
        "        '''\n",
        "\n",
        "  "
      ],
      "execution_count": 0,
      "outputs": [
        {
          "output_type": "execute_result",
          "data": {
            "text/plain": [
              "'def Clahe(img,ind):\\n  if ind == 0:\\n    img = cv2.imread(img,0)\\n  if ind == 1:\\n    img = img \\n    # create a CLAHE object (Arguments are optional).\\n  clahe = cv2.createCLAHE(clipLimit=2.0, tileGridSize=(8,8))\\n  img = clahe.apply(img)\\n  image = np.stack((img,)*3, -1)\\n  return image\\n        '"
            ]
          },
          "metadata": {
            "tags": []
          },
          "execution_count": 18
        }
      ]
    },
    {
      "metadata": {
        "id": "zPG06FWT9RqI",
        "colab_type": "code",
        "colab": {}
      },
      "cell_type": "code",
      "source": [
        "#Clahe and then Refix\n",
        "#Clahe_Image = Clahe(im_path,0)\n",
        "#x,y = refix(Clahe_Image)\n",
        "#im_to_see_1 = y"
      ],
      "execution_count": 0,
      "outputs": []
    },
    {
      "metadata": {
        "id": "QkwqQJQY-MWB",
        "colab_type": "code",
        "colab": {}
      },
      "cell_type": "code",
      "source": [
        "#channel_check(im_to_see_1)"
      ],
      "execution_count": 0,
      "outputs": []
    },
    {
      "metadata": {
        "id": "o961qW89-Xmy",
        "colab_type": "code",
        "colab": {}
      },
      "cell_type": "code",
      "source": [
        "#Refix and then Clahe\n",
        "#x,y = refix(im_path)\n",
        "#img_refix = y[:,:,0]\n",
        "#Clahe_Image = Clahe(img_refix,1)\n",
        "#im_to_see_2 = Clahe_Image"
      ],
      "execution_count": 0,
      "outputs": []
    },
    {
      "metadata": {
        "id": "_CNvZxj2DBq8",
        "colab_type": "code",
        "colab": {}
      },
      "cell_type": "code",
      "source": [
        "#Refix and then Clahe\n",
        "#x,y = refix(im_path)\n",
        "#img_refix = y[:,:,0]\n",
        "#Clahe_Image = Clahe(img_refix,1)\n",
        "#im_to_see_3 = Clahe_Image"
      ],
      "execution_count": 0,
      "outputs": []
    },
    {
      "metadata": {
        "id": "lRNnOvaP_Ml-",
        "colab_type": "code",
        "colab": {}
      },
      "cell_type": "code",
      "source": [
        "#channel_check(im_to_see_2)"
      ],
      "execution_count": 0,
      "outputs": []
    },
    {
      "metadata": {
        "id": "aBeuC5sD_2rq",
        "colab_type": "code",
        "colab": {}
      },
      "cell_type": "code",
      "source": [
        "#transform=transforms.Compose([transforms.ToPILImage(),\n",
        "                              #transforms.Resize((224,224)),\n",
        " #                             transforms.CenterCrop(224),\n",
        " #                             transforms.ToTensor()\n",
        " #                                                                           \n",
        " #                                          ])"
      ],
      "execution_count": 0,
      "outputs": []
    },
    {
      "metadata": {
        "id": "ozAStIN1AnJT",
        "colab_type": "code",
        "colab": {}
      },
      "cell_type": "code",
      "source": [
        "#transformed_x = transform(im_to_see_3)"
      ],
      "execution_count": 0,
      "outputs": []
    },
    {
      "metadata": {
        "id": "JrIn96DAArLs",
        "colab_type": "code",
        "colab": {}
      },
      "cell_type": "code",
      "source": [
        "#transformed_x.shape"
      ],
      "execution_count": 0,
      "outputs": []
    },
    {
      "metadata": {
        "id": "FjChdv2mA5La",
        "colab_type": "code",
        "colab": {}
      },
      "cell_type": "code",
      "source": [
        "#inp = transformed_x.numpy().transpose((1, 2, 0))\n"
      ],
      "execution_count": 0,
      "outputs": []
    },
    {
      "metadata": {
        "id": "nRCbJYmSBZ3M",
        "colab_type": "code",
        "colab": {}
      },
      "cell_type": "code",
      "source": [
        "#inp.shape"
      ],
      "execution_count": 0,
      "outputs": []
    },
    {
      "metadata": {
        "id": "F6EMzK6KCKXw",
        "colab_type": "code",
        "colab": {}
      },
      "cell_type": "code",
      "source": [
        "#x.shape\n"
      ],
      "execution_count": 0,
      "outputs": []
    },
    {
      "metadata": {
        "id": "DHGs11_H7vIp",
        "colab_type": "code",
        "colab": {
          "base_uri": "https://localhost:8080/",
          "height": 54
        },
        "outputId": "87533cb6-50c7-4bee-d61a-dbca364b0171"
      },
      "cell_type": "code",
      "source": [
        "'''def imshow(axis, inp):\n",
        "  \n",
        "    \"\"\"Denormalize and show\"\"\"\n",
        "    #inp = inp.numpy()\n",
        "    #mean = np.array([0.485, 0.456, 0.406])\n",
        "    #std = np.array([0.229, 0.224, 0.225])\n",
        "    #inp = std * inp + mean\n",
        "    #inp = np.clip(inp, 0, 1)\n",
        "    axis.imshow(inp)'''"
      ],
      "execution_count": 0,
      "outputs": [
        {
          "output_type": "execute_result",
          "data": {
            "text/plain": [
              "'def imshow(axis, inp):\\n  \\n    \"\"\"Denormalize and show\"\"\"\\n    #inp = inp.numpy()\\n    #mean = np.array([0.485, 0.456, 0.406])\\n    #std = np.array([0.229, 0.224, 0.225])\\n    #inp = std * inp + mean\\n    #inp = np.clip(inp, 0, 1)\\n    axis.imshow(inp)'"
            ]
          },
          "metadata": {
            "tags": []
          },
          "execution_count": 29
        }
      ]
    },
    {
      "metadata": {
        "id": "6jBOtpLg76Xx",
        "colab_type": "code",
        "colab": {
          "base_uri": "https://localhost:8080/",
          "height": 54
        },
        "outputId": "17ea12b8-7d98-448f-d330-74fb2ed95b7e"
      },
      "cell_type": "code",
      "source": [
        "'''from mpl_toolkits.axes_grid1 import AxesGrid, ImageGrid\n",
        "fig = plt.figure(1, figsize=(10, 10))\n",
        "grid = ImageGrid(fig, 111, nrows_ncols=(2, 3), axes_pad=0.05)\n",
        "ax = grid[0]\n",
        "imshow(ax,im_to_see_1)\n",
        "ax = grid[1]\n",
        "imshow(ax,im_to_see_2)\n",
        "ax = grid[3]\n",
        "imshow(ax,x)\n",
        "ax = grid[2]\n",
        "imshow(ax,inp)\n",
        "ax = grid[4]\n",
        "imshow(ax,im_to_see_3)'''"
      ],
      "execution_count": 0,
      "outputs": [
        {
          "output_type": "execute_result",
          "data": {
            "text/plain": [
              "'from mpl_toolkits.axes_grid1 import AxesGrid, ImageGrid\\nfig = plt.figure(1, figsize=(10, 10))\\ngrid = ImageGrid(fig, 111, nrows_ncols=(2, 3), axes_pad=0.05)\\nax = grid[0]\\nimshow(ax,im_to_see_1)\\nax = grid[1]\\nimshow(ax,im_to_see_2)\\nax = grid[3]\\nimshow(ax,x)\\nax = grid[2]\\nimshow(ax,inp)\\nax = grid[4]\\nimshow(ax,im_to_see_3)'"
            ]
          },
          "metadata": {
            "tags": []
          },
          "execution_count": 30
        }
      ]
    },
    {
      "metadata": {
        "id": "98DgJGA5h4CY",
        "colab_type": "code",
        "colab": {}
      },
      "cell_type": "code",
      "source": [
        "class MuraImageDataset(Dataset):\n",
        "    \"\"\"Mura dataset.\"\"\"\n",
        "    def __init__(self, df, root_dir, transform=None):\n",
        "        \"\"\"\n",
        "        Args:\n",
        "            df (dataframe): Path to the image file with annotations.\n",
        "            root_dir (string): Directory with all the images.\n",
        "            transform (callable, optional): Optional transform to be applied\n",
        "                on a sample.\n",
        "        \"\"\"\n",
        "        self.df = df\n",
        "        self.root_dir = root_dir\n",
        "        self.transform = transform\n",
        "    def __len__(self):\n",
        "        return len(self.df)\n",
        "    def __getitem__(self, idx):\n",
        "        img_name = os.path.join(self.root_dir,\n",
        "                                self.df.iloc[idx, 0])\n",
        "        ###-- Try refix at the centre -- ##\n",
        "        #desired_size = 512\n",
        "        #im = cv2.imread(img_name)\n",
        "        #old_size = im.shape[:2] # old_size is in (height, width) format\n",
        "\n",
        "        #ratio = float(desired_size)/max(old_size)\n",
        "        #new_size = tuple([int(x*ratio) for x in old_size])\n",
        "\n",
        "        # new_size should be in (width, height) format\n",
        "\n",
        "        #im = cv2.resize(im, (new_size[1], new_size[0]))\n",
        "\n",
        "        #delta_w = desired_size - new_size[1]\n",
        "        #delta_h = desired_size - new_size[0]\n",
        "        #top, bottom = delta_h//2, delta_h-(delta_h//2)\n",
        "        #left, right = delta_w//2, delta_w-(delta_w//2)\n",
        "\n",
        "        #color = [0, 0, 0]\n",
        "        #image = cv2.copyMakeBorder(im, top, bottom, left, right, cv2.BORDER_CONSTANT,\n",
        "        #    value=color)\n",
        "        #image = image[:,:,0]\n",
        "        # create a CLAHE object (Arguments are optional).\n",
        "        #clahe = cv2.createCLAHE(clipLimit=2.0, tileGridSize=(8,8))\n",
        "        #image = clahe.apply(image)\n",
        "        #image = np.stack((image,)*3, -1)\n",
        "        \n",
        "        ###-- Refix at the centre Ends -- ##\n",
        "        \n",
        "        #print(img_name)\n",
        "        #image = pil_loader(img_name)\n",
        "        ### -- Try Clahe Transformation -- ##\n",
        "        img = cv2.imread(img_name,0)\n",
        "        #create a CLAHE object (Arguments are optional).\n",
        "        clahe = cv2.createCLAHE(clipLimit=2.0, tileGridSize=(8,8))\n",
        "        img = clahe.apply(img)\n",
        "        image = np.stack((img,)*3, -1)\n",
        "        ### -- Clahe Transformation Ends -- ##\n",
        "        \n",
        "        labels = self.df.iloc[idx, 2]\n",
        "        labels = labels.astype('float')\n",
        "        if self.transform:\n",
        "            image = self.transform(image)\n",
        "        return [image, labels]"
      ],
      "execution_count": 0,
      "outputs": []
    },
    {
      "metadata": {
        "id": "x8woKhYzh5RE",
        "colab_type": "code",
        "colab": {}
      },
      "cell_type": "code",
      "source": [
        "transformed_train_dataset = MuraImageDataset(df=train_path_df,\n",
        "                                    root_dir='/content',\n",
        "                                    transform=transforms.Compose([\n",
        "                                               transforms.ToPILImage(),\n",
        "                                               transforms.RandomRotation(10),\n",
        "                                               #transforms.Resize(224),\n",
        "                                               transforms.CenterCrop(224),\n",
        "                                               transforms.RandomHorizontalFlip(),\n",
        "                                               transforms.ToTensor(),\n",
        "                                               transforms.Normalize([0.485, 0.456, 0.406], [0.229, 0.224, 0.225])\n",
        "                                               \n",
        "                                           ]))\n",
        "\n",
        "transformed_valid_dataset = MuraImageDataset(df=valid_path_df,\n",
        "                                    root_dir='/content',\n",
        "                                    transform=transforms.Compose([\n",
        "                                               transforms.ToPILImage(),\n",
        "                                               transforms.RandomRotation(10),\n",
        "                                               #transforms.Resize(224),\n",
        "                                               transforms.CenterCrop(224),\n",
        "                                               transforms.RandomHorizontalFlip(),\n",
        "                                               transforms.ToTensor(),\n",
        "                                               transforms.Normalize([0.485, 0.456, 0.406], [0.229, 0.224, 0.225])\n",
        "                                               \n",
        "                                           ]))"
      ],
      "execution_count": 0,
      "outputs": []
    },
    {
      "metadata": {
        "id": "CKfIyclFkiyy",
        "colab_type": "code",
        "colab": {}
      },
      "cell_type": "code",
      "source": [
        "transformed_train_dl = DataLoader(transformed_train_dataset,batch_size=8,shuffle=True)\n",
        "transformed_valid_dl = DataLoader(transformed_valid_dataset,batch_size=8,shuffle=True)"
      ],
      "execution_count": 0,
      "outputs": []
    },
    {
      "metadata": {
        "id": "OeBq-Eakl4tT",
        "colab_type": "code",
        "colab": {}
      },
      "cell_type": "code",
      "source": [
        "from mpl_toolkits.axes_grid1 import AxesGrid, ImageGrid\n",
        "#@title Default title text\n",
        "## imshow works when we have transformed the image using some transformation\n",
        "def imshow(axis, inp):\n",
        "    \"\"\"Denormalize and show\"\"\"\n",
        "    inp = inp.numpy().transpose((1, 2, 0)) ## This line of code corrects the dimension issue that occurs during transformation \n",
        "    mean = np.array([0.485, 0.456, 0.406])\n",
        "    std = np.array([0.229, 0.224, 0.225])\n",
        "    inp = std * inp + mean\n",
        "    inp = np.clip(inp, 0, 1)\n",
        "    axis.imshow(inp)"
      ],
      "execution_count": 0,
      "outputs": []
    },
    {
      "metadata": {
        "id": "brhZa0IXl6bs",
        "colab_type": "code",
        "colab": {
          "base_uri": "https://localhost:8080/",
          "height": 432
        },
        "outputId": "731c3980-2208-44bc-e541-4ffa91f33c3e"
      },
      "cell_type": "code",
      "source": [
        "imgview, label = next(iter(transformed_valid_dl))\n",
        "#print(img, label.size())\n",
        "fig = plt.figure(1, figsize=(16, 8))\n",
        "grid = ImageGrid(fig, 111, nrows_ncols=(1, 8), axes_pad=0.05)  \n",
        "for i in range(imgview.size()[0]):\n",
        "  #print(img)\n",
        "  ax = grid[i]\n",
        "  print(imgview.shape)\n",
        "  imshow(ax,imgview[i])\n",
        "  print(label[i])"
      ],
      "execution_count": 0,
      "outputs": [
        {
          "output_type": "stream",
          "text": [
            "torch.Size([8, 3, 224, 224])\n",
            "tensor(0., dtype=torch.float64)\n",
            "torch.Size([8, 3, 224, 224])\n",
            "tensor(0., dtype=torch.float64)\n",
            "torch.Size([8, 3, 224, 224])\n",
            "tensor(1., dtype=torch.float64)\n",
            "torch.Size([8, 3, 224, 224])\n",
            "tensor(0., dtype=torch.float64)\n",
            "torch.Size([8, 3, 224, 224])\n",
            "tensor(1., dtype=torch.float64)\n",
            "torch.Size([8, 3, 224, 224])\n",
            "tensor(1., dtype=torch.float64)\n",
            "torch.Size([8, 3, 224, 224])\n",
            "tensor(0., dtype=torch.float64)\n",
            "torch.Size([8, 3, 224, 224])\n",
            "tensor(1., dtype=torch.float64)\n"
          ],
          "name": "stdout"
        },
        {
          "output_type": "display_data",
          "data": {
            "image/png": "[encoded data removed]",
            "text/plain": [
              "<matplotlib.figure.Figure at 0x7f8ca2a06cc0>"
            ]
          },
          "metadata": {
            "tags": []
          }
        }
      ]
    },
    {
      "metadata": {
        "id": "IRf3o4Qgkl8G",
        "colab_type": "code",
        "colab": {
          "base_uri": "https://localhost:8080/",
          "height": 34
        },
        "outputId": "67e3b055-34b0-4754-b2b1-47eb0ae4d191"
      },
      "cell_type": "code",
      "source": [
        "def get_count(layer_name,model_name):\n",
        "  ct  = 0 \n",
        "  layer_count ={}\n",
        "  for name, child in model_name.named_children():\n",
        "      for name2, params in child.named_parameters():\n",
        "        layer_count[name2] = ct\n",
        "        ct +=1\n",
        "  return layer_count[layer_name]\n",
        "\n",
        "def freeze_till(layer_name,model_name):\n",
        "  ct  = 0 \n",
        "  count = get_count(layer_name,model_name)\n",
        "  \n",
        "  for name, child in model_name.named_children():\n",
        "    for name2, params in child.named_parameters():\n",
        "      \n",
        "      if ct > count :\n",
        "          \n",
        "            params.requires_grad = True\n",
        "      else :\n",
        "            params.requires_grad = False\n",
        "      ct +=1\n",
        "\n",
        "device = torch.device(\"cuda:0\" if torch.cuda.is_available() else \"cpu\")\n",
        "\n",
        "dataloaders = {\"train\": transformed_train_dl, \"val\": transformed_valid_dl}\n",
        "dataset_sizes = {\"train\": len(transformed_train_dataset),\"val\":len(transformed_valid_dataset)}\n",
        "print(dataset_sizes)\n",
        "\n",
        "## This function just evaluate the loss / optimize  and returns model and the weight of the epoch which has highest accuracy\n",
        "def train_model(model, criterion, optimizer, scheduler, num_epochs=25):\n",
        "    since = time.time()\n",
        "    best_model_wts = copy.deepcopy(model.state_dict())\n",
        "    best_acc = 0.0\n",
        "    for epoch in range(num_epochs):\n",
        "        print('Epoch {}/{}'.format(epoch, num_epochs - 1))\n",
        "        print('-' * 10)\n",
        "        # Each epoch has a training and validation phase\n",
        "        # In train phase they are settting 2 variable in model class - train() and schedular  = step()\n",
        "        # In Validation phase setting the model class - eval()\n",
        "        for phase in ['train', 'val']:\n",
        "            if phase == 'train':\n",
        "                scheduler.step()\n",
        "                model.train()  # Set model to training mode\n",
        "            else:\n",
        "                model.eval()   # Set model to evaluate mode\n",
        "            running_loss = 0.0\n",
        "            running_corrects = 0\n",
        "            # Iterate over data.# phase - train or validation\n",
        "            for inputs, labels in dataloaders[phase]:\n",
        "                inputs = inputs.to(device)\n",
        "                labels = labels.to(device)\n",
        "                labels = labels.type(torch.cuda.LongTensor)\n",
        "                # zero the parameter gradients\n",
        "                optimizer.zero_grad()\n",
        "                # forward\n",
        "                # track history if only in train\n",
        "                with torch.set_grad_enabled(phase == 'train'):\n",
        "                    outputs = model(inputs)\n",
        "                    \n",
        "                    #print(outputs.shape)\n",
        "                    _, preds = torch.max(outputs, 1)\n",
        "                    loss = criterion(outputs, labels)\n",
        "                    # backward + optimize only if in training phase\n",
        "                    if phase == 'train':\n",
        "                        loss.backward()\n",
        "                        optimizer.step()\n",
        "                # statistics\n",
        "                running_loss += loss.item() * inputs.size(0)\n",
        "                running_corrects += torch.sum(preds == labels.data)\n",
        "                #print(phase,preds,labels.data)\n",
        "            epoch_loss = running_loss / dataset_sizes[phase]\n",
        "            epoch_acc = running_corrects.double() / dataset_sizes[phase]\n",
        "            print('{} Loss: {:.4f} Acc: {:.4f}'.format(\n",
        "                phase, epoch_loss, epoch_acc))\n",
        "            #print(preds[1:10],labels.data[1:10])\n",
        "            # deep copy the model\n",
        "            if phase == 'val' and epoch_acc > best_acc:\n",
        "                best_acc = epoch_acc\n",
        "                best_model_wts = copy.deepcopy(model.state_dict())\n",
        "        #print()\n",
        "    time_elapsed = time.time() - since\n",
        "    print('Training complete in {:.0f}m {:.0f}s'.format(\n",
        "        time_elapsed // 60, time_elapsed % 60))\n",
        "    print('Best val Acc: {:4f}'.format(best_acc))\n",
        "    # load best model weights\n",
        "    model.load_state_dict(best_model_wts)\n",
        "    return model"
      ],
      "execution_count": 0,
      "outputs": [
        {
          "output_type": "stream",
          "text": [
            "{'train': 5106, 'val': 461}\n"
          ],
          "name": "stdout"
        }
      ]
    },
    {
      "metadata": {
        "id": "-JTh0EuEkrXd",
        "colab_type": "code",
        "colab": {
          "base_uri": "https://localhost:8080/",
          "height": 85
        },
        "outputId": "1d1c93ef-261a-49a0-97b7-7905ed79ad07"
      },
      "cell_type": "code",
      "source": [
        "# Load Pretrained model\n",
        "\n",
        "#model_ft = models.resnet18(pretrained=True)\n",
        "model_ft = models.densenet169(pretrained=True)\n",
        "\n",
        "# Freeze specific layers of the model\n",
        "\n",
        "freeze_till('transition2.conv.weight',model_ft)\n",
        "\n",
        "# num_ftrs = model_ft.fc.in_features # fc for resnet\n",
        "num_ftrs = model_ft.classifier.in_features\n",
        "model_ft.classifier = nn.Linear(num_ftrs, 2)\n",
        "model_ft = model_ft.to(device)\n",
        "\n",
        "criterion = nn.CrossEntropyLoss(weight = torch.tensor([1, 1.05]).type(torch.cuda.FloatTensor))"
      ],
      "execution_count": 0,
      "outputs": [
        {
          "output_type": "stream",
          "text": [
            "/usr/local/lib/python3.6/dist-packages/torchvision/models/densenet.py:212: UserWarning: nn.init.kaiming_normal is now deprecated in favor of nn.init.kaiming_normal_.\n",
            "  nn.init.kaiming_normal(m.weight.data)\n",
            "Downloading: \"https://download.pytorch.org/models/densenet169-b2777c0a.pth\" to /content/.torch/models/densenet169-b2777c0a.pth\n",
            "100.0%\n"
          ],
          "name": "stderr"
        }
      ]
    },
    {
      "metadata": {
        "id": "azC1GRcWngca",
        "colab_type": "code",
        "colab": {
          "base_uri": "https://localhost:8080/",
          "height": 1071
        },
        "outputId": "1409ddb8-a2e2-4dc8-d9c5-482e8f0cfc14"
      },
      "cell_type": "code",
      "source": [
        "optimizer_ft = optim.Adam(list(filter(lambda p: p.requires_grad, model_ft.parameters())), lr = 1e-4, betas=(0.9, 0.999), eps=1e-08, weight_decay=0, amsgrad=False)\n",
        "exp_lr_scheduler = lr_scheduler.StepLR(optimizer_ft, step_size=5, gamma=0.1)\n",
        "model_ft = train_model(model_ft, criterion, optimizer_ft, exp_lr_scheduler,\n",
        "                       num_epochs=15)"
      ],
      "execution_count": 0,
      "outputs": [
        {
          "output_type": "stream",
          "text": [
            "Epoch 0/14\n",
            "----------\n",
            "train Loss: 0.5531 Acc: 0.7231\n",
            "val Loss: 0.6085 Acc: 0.6985\n",
            "Epoch 1/14\n",
            "----------\n",
            "train Loss: 0.4942 Acc: 0.7662\n",
            "val Loss: 0.5464 Acc: 0.7354\n",
            "Epoch 2/14\n",
            "----------\n",
            "train Loss: 0.4528 Acc: 0.7934\n",
            "val Loss: 0.5596 Acc: 0.7267\n",
            "Epoch 3/14\n",
            "----------\n",
            "train Loss: 0.4275 Acc: 0.8075\n",
            "val Loss: 0.4965 Acc: 0.7939\n",
            "Epoch 4/14\n",
            "----------\n",
            "train Loss: 0.4081 Acc: 0.8179\n",
            "val Loss: 0.5179 Acc: 0.7809\n",
            "Epoch 5/14\n",
            "----------\n",
            "train Loss: 0.3313 Acc: 0.8602\n",
            "val Loss: 0.5051 Acc: 0.7939\n",
            "Epoch 6/14\n",
            "----------\n",
            "train Loss: 0.3168 Acc: 0.8709\n",
            "val Loss: 0.5136 Acc: 0.7939\n",
            "Epoch 7/14\n",
            "----------\n",
            "train Loss: 0.2966 Acc: 0.8815\n",
            "val Loss: 0.5203 Acc: 0.7570\n",
            "Epoch 8/14\n",
            "----------\n",
            "train Loss: 0.2690 Acc: 0.8956\n",
            "val Loss: 0.4788 Acc: 0.7918\n",
            "Epoch 9/14\n",
            "----------\n",
            "train Loss: 0.2464 Acc: 0.8986\n",
            "val Loss: 0.4973 Acc: 0.7852\n",
            "Epoch 10/14\n",
            "----------\n",
            "train Loss: 0.2404 Acc: 0.9072\n",
            "val Loss: 0.5044 Acc: 0.7701\n",
            "Epoch 11/14\n",
            "----------\n",
            "train Loss: 0.2191 Acc: 0.9183\n",
            "val Loss: 0.5317 Acc: 0.7896\n",
            "Epoch 12/14\n",
            "----------\n",
            "train Loss: 0.2297 Acc: 0.9093\n",
            "val Loss: 0.5788 Acc: 0.8156\n",
            "Epoch 13/14\n",
            "----------\n",
            "train Loss: 0.2174 Acc: 0.9160\n",
            "val Loss: 0.5870 Acc: 0.7787\n",
            "Epoch 14/14\n",
            "----------\n",
            "train Loss: 0.2190 Acc: 0.9138\n",
            "val Loss: 0.5017 Acc: 0.7852\n",
            "Training complete in 52m 26s\n",
            "Best val Acc: 0.815618\n"
          ],
          "name": "stdout"
        }
      ]
    },
    {
      "metadata": {
        "id": "jp3IOUEX_dxb",
        "colab_type": "code",
        "colab": {
          "base_uri": "https://localhost:8080/",
          "height": 51
        },
        "outputId": "369bc45d-827b-454b-c29b-5f6e291fa2f7"
      },
      "cell_type": "code",
      "source": [
        "model_res = models.resnet18(pretrained=True)\n",
        "num_ftrs = model_res.fc.in_features # fc for resnet\n",
        "model_res.fc = nn.Linear(num_ftrs, 2)\n",
        "model_res = model_res.to(device)\n",
        "criterion = nn.CrossEntropyLoss()"
      ],
      "execution_count": 0,
      "outputs": [
        {
          "output_type": "stream",
          "text": [
            "Downloading: \"https://download.pytorch.org/models/resnet18-5c106cde.pth\" to /content/.torch/models/resnet18-5c106cde.pth\n",
            "100.0%\n"
          ],
          "name": "stderr"
        }
      ]
    },
    {
      "metadata": {
        "id": "4lO1kfZ1ntjU",
        "colab_type": "code",
        "colab": {
          "base_uri": "https://localhost:8080/",
          "height": 1751
        },
        "outputId": "360d2941-a1a7-44d7-9d14-148fc103033b"
      },
      "cell_type": "code",
      "source": [
        "optimizer_res = optim.Adam(list(filter(lambda p: p.requires_grad, model_res.parameters())),betas=(0.9, 0.999), eps=1e-08, weight_decay=0, amsgrad=False)\n",
        "exp_lr_scheduler = lr_scheduler.StepLR(optimizer_res, step_size=5, gamma=0.1)\n",
        "model_res = train_model(model_res, criterion, optimizer_res, exp_lr_scheduler,\n",
        "                       num_epochs=25)"
      ],
      "execution_count": 0,
      "outputs": [
        {
          "output_type": "stream",
          "text": [
            "Epoch 0/24\n",
            "----------\n",
            "train Loss: 0.6657 Acc: 0.6271\n",
            "val Loss: 0.6514 Acc: 0.6377\n",
            "Epoch 1/24\n",
            "----------\n",
            "train Loss: 0.6378 Acc: 0.6344\n",
            "val Loss: 0.6862 Acc: 0.5944\n",
            "Epoch 2/24\n",
            "----------\n",
            "train Loss: 0.6135 Acc: 0.6635\n",
            "val Loss: 0.8780 Acc: 0.5857\n",
            "Epoch 3/24\n",
            "----------\n",
            "train Loss: 0.5919 Acc: 0.6804\n",
            "val Loss: 0.7068 Acc: 0.5618\n",
            "Epoch 4/24\n",
            "----------\n",
            "train Loss: 0.5793 Acc: 0.7004\n",
            "val Loss: 0.6049 Acc: 0.6616\n",
            "Epoch 5/24\n",
            "----------\n",
            "train Loss: 0.5470 Acc: 0.7248\n",
            "val Loss: 0.5927 Acc: 0.6725\n",
            "Epoch 6/24\n",
            "----------\n",
            "train Loss: 0.5288 Acc: 0.7380\n",
            "val Loss: 0.5777 Acc: 0.7072\n",
            "Epoch 7/24\n",
            "----------\n",
            "train Loss: 0.5180 Acc: 0.7446\n",
            "val Loss: 0.5685 Acc: 0.6963\n",
            "Epoch 8/24\n",
            "----------\n",
            "train Loss: 0.5065 Acc: 0.7571\n",
            "val Loss: 0.5659 Acc: 0.7137\n",
            "Epoch 9/24\n",
            "----------\n",
            "train Loss: 0.4971 Acc: 0.7656\n",
            "val Loss: 0.5208 Acc: 0.7570\n",
            "Epoch 10/24\n",
            "----------\n",
            "train Loss: 0.4869 Acc: 0.7662\n",
            "val Loss: 0.5268 Acc: 0.7354\n",
            "Epoch 11/24\n",
            "----------\n",
            "train Loss: 0.4742 Acc: 0.7775\n",
            "val Loss: 0.5336 Acc: 0.7202\n",
            "Epoch 12/24\n",
            "----------\n",
            "train Loss: 0.4768 Acc: 0.7720\n",
            "val Loss: 0.5490 Acc: 0.7440\n",
            "Epoch 13/24\n",
            "----------\n",
            "train Loss: 0.4707 Acc: 0.7822\n",
            "val Loss: 0.5139 Acc: 0.7614\n",
            "Epoch 14/24\n",
            "----------\n",
            "train Loss: 0.4624 Acc: 0.7742\n",
            "val Loss: 0.5064 Acc: 0.7484\n",
            "Epoch 15/24\n",
            "----------\n",
            "train Loss: 0.4649 Acc: 0.7842\n",
            "val Loss: 0.5225 Acc: 0.7354\n",
            "Epoch 16/24\n",
            "----------\n",
            "train Loss: 0.4599 Acc: 0.7861\n",
            "val Loss: 0.5260 Acc: 0.7462\n",
            "Epoch 17/24\n",
            "----------\n",
            "train Loss: 0.4713 Acc: 0.7754\n",
            "val Loss: 0.5988 Acc: 0.7072\n",
            "Epoch 18/24\n",
            "----------\n",
            "train Loss: 0.4491 Acc: 0.7920\n",
            "val Loss: 0.5364 Acc: 0.7375\n",
            "Epoch 19/24\n",
            "----------\n",
            "train Loss: 0.4624 Acc: 0.7805\n",
            "val Loss: 0.5200 Acc: 0.7397\n",
            "Epoch 20/24\n",
            "----------\n",
            "train Loss: 0.4593 Acc: 0.7855\n",
            "val Loss: 0.5273 Acc: 0.7440\n",
            "Epoch 21/24\n",
            "----------\n",
            "train Loss: 0.4615 Acc: 0.7852\n",
            "val Loss: 0.5125 Acc: 0.7375\n",
            "Epoch 22/24\n",
            "----------\n",
            "train Loss: 0.4611 Acc: 0.7855\n",
            "val Loss: 0.5576 Acc: 0.7310\n",
            "Epoch 23/24\n",
            "----------\n",
            "train Loss: 0.4582 Acc: 0.7901\n",
            "val Loss: 0.5595 Acc: 0.7289\n",
            "Epoch 24/24\n",
            "----------\n",
            "train Loss: 0.4627 Acc: 0.7797\n",
            "val Loss: 0.5587 Acc: 0.7289\n",
            "Training complete in 41m 4s\n",
            "Best val Acc: 0.761388\n"
          ],
          "name": "stdout"
        }
      ]
    },
    {
      "metadata": {
        "id": "WSZZvq6qkzDP",
        "colab_type": "code",
        "colab": {
          "base_uri": "https://localhost:8080/",
          "height": 54
        },
        "outputId": "5d37324f-9c87-425a-ea10-8f97dec095dd"
      },
      "cell_type": "code",
      "source": [
        "'''learning_rates = [1e-4, 1e-3, 1e-2]\n",
        "for lr in learning_rates:\n",
        "    #optimizer_ft = optim.SGD(model_ft.classifier.parameters(),lr, momentum=0.9)\n",
        "    optimizer_ft = optim.Adam(list(filter(lambda p: p.requires_grad, model_ft.parameters())), lr = lr, betas=(0.9, 0.999), eps=1e-08, weight_decay=0, amsgrad=False)\n",
        "    model_ft = train_model(model_ft, criterion, optimizer_ft, exp_lr_scheduler,\n",
        "                       num_epochs=3)'''"
      ],
      "execution_count": 0,
      "outputs": [
        {
          "output_type": "execute_result",
          "data": {
            "text/plain": [
              "'learning_rates = [1e-4, 1e-3, 1e-2]\\nfor lr in learning_rates:\\n    #optimizer_ft = optim.SGD(model_ft.classifier.parameters(),lr, momentum=0.9)\\n    optimizer_ft = optim.Adam(list(filter(lambda p: p.requires_grad, model_ft.parameters())), lr = lr, betas=(0.9, 0.999), eps=1e-08, weight_decay=0, amsgrad=False)\\n    model_ft = train_model(model_ft, criterion, optimizer_ft, exp_lr_scheduler,\\n                       num_epochs=3)'"
            ]
          },
          "metadata": {
            "tags": []
          },
          "execution_count": 41
        }
      ]
    },
    {
      "metadata": {
        "id": "Jogs_GFCk4Gu",
        "colab_type": "code",
        "colab": {
          "base_uri": "https://localhost:8080/",
          "height": 85
        },
        "outputId": "f11709b7-b411-4194-8184-109698db359d"
      },
      "cell_type": "code",
      "source": [
        "!pip install torchsummary"
      ],
      "execution_count": 0,
      "outputs": [
        {
          "output_type": "stream",
          "text": [
            "Collecting torchsummary\n",
            "  Downloading https://files.pythonhosted.org/packages/2a/61/21b44bb29aedb820fec4716a102e802397f0c21512764a9d98206c17417d/torchsummary-1.4-py3-none-any.whl\n",
            "Installing collected packages: torchsummary\n",
            "Successfully installed torchsummary-1.4\n"
          ],
          "name": "stdout"
        }
      ]
    },
    {
      "metadata": {
        "id": "nyr7e-DYqGuQ",
        "colab_type": "code",
        "colab": {
          "base_uri": "https://localhost:8080/",
          "height": 8908
        },
        "outputId": "1eaafd03-b50e-4e24-8a6f-17cc0e7592c9"
      },
      "cell_type": "code",
      "source": [
        "from torchsummary import summary\n",
        "summary(model_ft, (3, 224, 224))"
      ],
      "execution_count": 0,
      "outputs": [
        {
          "output_type": "stream",
          "text": [
            "----------------------------------------------------------------\n",
            "        Layer (type)               Output Shape         Param #\n",
            "================================================================\n",
            "            Conv2d-1         [-1, 64, 112, 112]           9,408\n",
            "       BatchNorm2d-2         [-1, 64, 112, 112]             128\n",
            "              ReLU-3         [-1, 64, 112, 112]               0\n",
            "         MaxPool2d-4           [-1, 64, 56, 56]               0\n",
            "       BatchNorm2d-5           [-1, 64, 56, 56]             128\n",
            "              ReLU-6           [-1, 64, 56, 56]               0\n",
            "            Conv2d-7          [-1, 128, 56, 56]           8,192\n",
            "       BatchNorm2d-8          [-1, 128, 56, 56]             256\n",
            "              ReLU-9          [-1, 128, 56, 56]               0\n",
            "           Conv2d-10           [-1, 32, 56, 56]          36,864\n",
            "      BatchNorm2d-11           [-1, 96, 56, 56]             192\n",
            "             ReLU-12           [-1, 96, 56, 56]               0\n",
            "           Conv2d-13          [-1, 128, 56, 56]          12,288\n",
            "      BatchNorm2d-14          [-1, 128, 56, 56]             256\n",
            "             ReLU-15          [-1, 128, 56, 56]               0\n",
            "           Conv2d-16           [-1, 32, 56, 56]          36,864\n",
            "      BatchNorm2d-17          [-1, 128, 56, 56]             256\n",
            "             ReLU-18          [-1, 128, 56, 56]               0\n",
            "           Conv2d-19          [-1, 128, 56, 56]          16,384\n",
            "      BatchNorm2d-20          [-1, 128, 56, 56]             256\n",
            "             ReLU-21          [-1, 128, 56, 56]               0\n",
            "           Conv2d-22           [-1, 32, 56, 56]          36,864\n",
            "      BatchNorm2d-23          [-1, 160, 56, 56]             320\n",
            "             ReLU-24          [-1, 160, 56, 56]               0\n",
            "           Conv2d-25          [-1, 128, 56, 56]          20,480\n",
            "      BatchNorm2d-26          [-1, 128, 56, 56]             256\n",
            "             ReLU-27          [-1, 128, 56, 56]               0\n",
            "           Conv2d-28           [-1, 32, 56, 56]          36,864\n",
            "      BatchNorm2d-29          [-1, 192, 56, 56]             384\n",
            "             ReLU-30          [-1, 192, 56, 56]               0\n",
            "           Conv2d-31          [-1, 128, 56, 56]          24,576\n",
            "      BatchNorm2d-32          [-1, 128, 56, 56]             256\n",
            "             ReLU-33          [-1, 128, 56, 56]               0\n",
            "           Conv2d-34           [-1, 32, 56, 56]          36,864\n",
            "      BatchNorm2d-35          [-1, 224, 56, 56]             448\n",
            "             ReLU-36          [-1, 224, 56, 56]               0\n",
            "           Conv2d-37          [-1, 128, 56, 56]          28,672\n",
            "      BatchNorm2d-38          [-1, 128, 56, 56]             256\n",
            "             ReLU-39          [-1, 128, 56, 56]               0\n",
            "           Conv2d-40           [-1, 32, 56, 56]          36,864\n",
            "      BatchNorm2d-41          [-1, 256, 56, 56]             512\n",
            "             ReLU-42          [-1, 256, 56, 56]               0\n",
            "           Conv2d-43          [-1, 128, 56, 56]          32,768\n",
            "        AvgPool2d-44          [-1, 128, 28, 28]               0\n",
            "      BatchNorm2d-45          [-1, 128, 28, 28]             256\n",
            "             ReLU-46          [-1, 128, 28, 28]               0\n",
            "           Conv2d-47          [-1, 128, 28, 28]          16,384\n",
            "      BatchNorm2d-48          [-1, 128, 28, 28]             256\n",
            "             ReLU-49          [-1, 128, 28, 28]               0\n",
            "           Conv2d-50           [-1, 32, 28, 28]          36,864\n",
            "      BatchNorm2d-51          [-1, 160, 28, 28]             320\n",
            "             ReLU-52          [-1, 160, 28, 28]               0\n",
            "           Conv2d-53          [-1, 128, 28, 28]          20,480\n",
            "      BatchNorm2d-54          [-1, 128, 28, 28]             256\n",
            "             ReLU-55          [-1, 128, 28, 28]               0\n",
            "           Conv2d-56           [-1, 32, 28, 28]          36,864\n",
            "      BatchNorm2d-57          [-1, 192, 28, 28]             384\n",
            "             ReLU-58          [-1, 192, 28, 28]               0\n",
            "           Conv2d-59          [-1, 128, 28, 28]          24,576\n",
            "      BatchNorm2d-60          [-1, 128, 28, 28]             256\n",
            "             ReLU-61          [-1, 128, 28, 28]               0\n",
            "           Conv2d-62           [-1, 32, 28, 28]          36,864\n",
            "      BatchNorm2d-63          [-1, 224, 28, 28]             448\n",
            "             ReLU-64          [-1, 224, 28, 28]               0\n",
            "           Conv2d-65          [-1, 128, 28, 28]          28,672\n",
            "      BatchNorm2d-66          [-1, 128, 28, 28]             256\n",
            "             ReLU-67          [-1, 128, 28, 28]               0\n",
            "           Conv2d-68           [-1, 32, 28, 28]          36,864\n",
            "      BatchNorm2d-69          [-1, 256, 28, 28]             512\n",
            "             ReLU-70          [-1, 256, 28, 28]               0\n",
            "           Conv2d-71          [-1, 128, 28, 28]          32,768\n",
            "      BatchNorm2d-72          [-1, 128, 28, 28]             256\n",
            "             ReLU-73          [-1, 128, 28, 28]               0\n",
            "           Conv2d-74           [-1, 32, 28, 28]          36,864\n",
            "      BatchNorm2d-75          [-1, 288, 28, 28]             576\n",
            "             ReLU-76          [-1, 288, 28, 28]               0\n",
            "           Conv2d-77          [-1, 128, 28, 28]          36,864\n",
            "      BatchNorm2d-78          [-1, 128, 28, 28]             256\n",
            "             ReLU-79          [-1, 128, 28, 28]               0\n",
            "           Conv2d-80           [-1, 32, 28, 28]          36,864\n",
            "      BatchNorm2d-81          [-1, 320, 28, 28]             640\n",
            "             ReLU-82          [-1, 320, 28, 28]               0\n",
            "           Conv2d-83          [-1, 128, 28, 28]          40,960\n",
            "      BatchNorm2d-84          [-1, 128, 28, 28]             256\n",
            "             ReLU-85          [-1, 128, 28, 28]               0\n",
            "           Conv2d-86           [-1, 32, 28, 28]          36,864\n",
            "      BatchNorm2d-87          [-1, 352, 28, 28]             704\n",
            "             ReLU-88          [-1, 352, 28, 28]               0\n",
            "           Conv2d-89          [-1, 128, 28, 28]          45,056\n",
            "      BatchNorm2d-90          [-1, 128, 28, 28]             256\n",
            "             ReLU-91          [-1, 128, 28, 28]               0\n",
            "           Conv2d-92           [-1, 32, 28, 28]          36,864\n",
            "      BatchNorm2d-93          [-1, 384, 28, 28]             768\n",
            "             ReLU-94          [-1, 384, 28, 28]               0\n",
            "           Conv2d-95          [-1, 128, 28, 28]          49,152\n",
            "      BatchNorm2d-96          [-1, 128, 28, 28]             256\n",
            "             ReLU-97          [-1, 128, 28, 28]               0\n",
            "           Conv2d-98           [-1, 32, 28, 28]          36,864\n",
            "      BatchNorm2d-99          [-1, 416, 28, 28]             832\n",
            "            ReLU-100          [-1, 416, 28, 28]               0\n",
            "          Conv2d-101          [-1, 128, 28, 28]          53,248\n",
            "     BatchNorm2d-102          [-1, 128, 28, 28]             256\n",
            "            ReLU-103          [-1, 128, 28, 28]               0\n",
            "          Conv2d-104           [-1, 32, 28, 28]          36,864\n",
            "     BatchNorm2d-105          [-1, 448, 28, 28]             896\n",
            "            ReLU-106          [-1, 448, 28, 28]               0\n",
            "          Conv2d-107          [-1, 128, 28, 28]          57,344\n",
            "     BatchNorm2d-108          [-1, 128, 28, 28]             256\n",
            "            ReLU-109          [-1, 128, 28, 28]               0\n",
            "          Conv2d-110           [-1, 32, 28, 28]          36,864\n",
            "     BatchNorm2d-111          [-1, 480, 28, 28]             960\n",
            "            ReLU-112          [-1, 480, 28, 28]               0\n",
            "          Conv2d-113          [-1, 128, 28, 28]          61,440\n",
            "     BatchNorm2d-114          [-1, 128, 28, 28]             256\n",
            "            ReLU-115          [-1, 128, 28, 28]               0\n",
            "          Conv2d-116           [-1, 32, 28, 28]          36,864\n",
            "     BatchNorm2d-117          [-1, 512, 28, 28]           1,024\n",
            "            ReLU-118          [-1, 512, 28, 28]               0\n",
            "          Conv2d-119          [-1, 256, 28, 28]         131,072\n",
            "       AvgPool2d-120          [-1, 256, 14, 14]               0\n",
            "     BatchNorm2d-121          [-1, 256, 14, 14]             512\n",
            "            ReLU-122          [-1, 256, 14, 14]               0\n",
            "          Conv2d-123          [-1, 128, 14, 14]          32,768\n",
            "     BatchNorm2d-124          [-1, 128, 14, 14]             256\n",
            "            ReLU-125          [-1, 128, 14, 14]               0\n",
            "          Conv2d-126           [-1, 32, 14, 14]          36,864\n",
            "     BatchNorm2d-127          [-1, 288, 14, 14]             576\n",
            "            ReLU-128          [-1, 288, 14, 14]               0\n",
            "          Conv2d-129          [-1, 128, 14, 14]          36,864\n",
            "     BatchNorm2d-130          [-1, 128, 14, 14]             256\n",
            "            ReLU-131          [-1, 128, 14, 14]               0\n",
            "          Conv2d-132           [-1, 32, 14, 14]          36,864\n",
            "     BatchNorm2d-133          [-1, 320, 14, 14]             640\n",
            "            ReLU-134          [-1, 320, 14, 14]               0\n",
            "          Conv2d-135          [-1, 128, 14, 14]          40,960\n",
            "     BatchNorm2d-136          [-1, 128, 14, 14]             256\n",
            "            ReLU-137          [-1, 128, 14, 14]               0\n",
            "          Conv2d-138           [-1, 32, 14, 14]          36,864\n",
            "     BatchNorm2d-139          [-1, 352, 14, 14]             704\n",
            "            ReLU-140          [-1, 352, 14, 14]               0\n",
            "          Conv2d-141          [-1, 128, 14, 14]          45,056\n",
            "     BatchNorm2d-142          [-1, 128, 14, 14]             256\n",
            "            ReLU-143          [-1, 128, 14, 14]               0\n",
            "          Conv2d-144           [-1, 32, 14, 14]          36,864\n",
            "     BatchNorm2d-145          [-1, 384, 14, 14]             768\n",
            "            ReLU-146          [-1, 384, 14, 14]               0\n",
            "          Conv2d-147          [-1, 128, 14, 14]          49,152\n",
            "     BatchNorm2d-148          [-1, 128, 14, 14]             256\n",
            "            ReLU-149          [-1, 128, 14, 14]               0\n",
            "          Conv2d-150           [-1, 32, 14, 14]          36,864\n",
            "     BatchNorm2d-151          [-1, 416, 14, 14]             832\n",
            "            ReLU-152          [-1, 416, 14, 14]               0\n",
            "          Conv2d-153          [-1, 128, 14, 14]          53,248\n",
            "     BatchNorm2d-154          [-1, 128, 14, 14]             256\n",
            "            ReLU-155          [-1, 128, 14, 14]               0\n",
            "          Conv2d-156           [-1, 32, 14, 14]          36,864\n",
            "     BatchNorm2d-157          [-1, 448, 14, 14]             896\n",
            "            ReLU-158          [-1, 448, 14, 14]               0\n",
            "          Conv2d-159          [-1, 128, 14, 14]          57,344\n",
            "     BatchNorm2d-160          [-1, 128, 14, 14]             256\n",
            "            ReLU-161          [-1, 128, 14, 14]               0\n",
            "          Conv2d-162           [-1, 32, 14, 14]          36,864\n",
            "     BatchNorm2d-163          [-1, 480, 14, 14]             960\n",
            "            ReLU-164          [-1, 480, 14, 14]               0\n",
            "          Conv2d-165          [-1, 128, 14, 14]          61,440\n",
            "     BatchNorm2d-166          [-1, 128, 14, 14]             256\n",
            "            ReLU-167          [-1, 128, 14, 14]               0\n",
            "          Conv2d-168           [-1, 32, 14, 14]          36,864\n",
            "     BatchNorm2d-169          [-1, 512, 14, 14]           1,024\n",
            "            ReLU-170          [-1, 512, 14, 14]               0\n",
            "          Conv2d-171          [-1, 128, 14, 14]          65,536\n",
            "     BatchNorm2d-172          [-1, 128, 14, 14]             256\n",
            "            ReLU-173          [-1, 128, 14, 14]               0\n",
            "          Conv2d-174           [-1, 32, 14, 14]          36,864\n",
            "     BatchNorm2d-175          [-1, 544, 14, 14]           1,088\n",
            "            ReLU-176          [-1, 544, 14, 14]               0\n",
            "          Conv2d-177          [-1, 128, 14, 14]          69,632\n",
            "     BatchNorm2d-178          [-1, 128, 14, 14]             256\n",
            "            ReLU-179          [-1, 128, 14, 14]               0\n",
            "          Conv2d-180           [-1, 32, 14, 14]          36,864\n",
            "     BatchNorm2d-181          [-1, 576, 14, 14]           1,152\n",
            "            ReLU-182          [-1, 576, 14, 14]               0\n",
            "          Conv2d-183          [-1, 128, 14, 14]          73,728\n",
            "     BatchNorm2d-184          [-1, 128, 14, 14]             256\n",
            "            ReLU-185          [-1, 128, 14, 14]               0\n",
            "          Conv2d-186           [-1, 32, 14, 14]          36,864\n",
            "     BatchNorm2d-187          [-1, 608, 14, 14]           1,216\n",
            "            ReLU-188          [-1, 608, 14, 14]               0\n",
            "          Conv2d-189          [-1, 128, 14, 14]          77,824\n",
            "     BatchNorm2d-190          [-1, 128, 14, 14]             256\n",
            "            ReLU-191          [-1, 128, 14, 14]               0\n",
            "          Conv2d-192           [-1, 32, 14, 14]          36,864\n",
            "     BatchNorm2d-193          [-1, 640, 14, 14]           1,280\n",
            "            ReLU-194          [-1, 640, 14, 14]               0\n",
            "          Conv2d-195          [-1, 128, 14, 14]          81,920\n",
            "     BatchNorm2d-196          [-1, 128, 14, 14]             256\n",
            "            ReLU-197          [-1, 128, 14, 14]               0\n",
            "          Conv2d-198           [-1, 32, 14, 14]          36,864\n",
            "     BatchNorm2d-199          [-1, 672, 14, 14]           1,344\n",
            "            ReLU-200          [-1, 672, 14, 14]               0\n",
            "          Conv2d-201          [-1, 128, 14, 14]          86,016\n",
            "     BatchNorm2d-202          [-1, 128, 14, 14]             256\n",
            "            ReLU-203          [-1, 128, 14, 14]               0\n",
            "          Conv2d-204           [-1, 32, 14, 14]          36,864\n",
            "     BatchNorm2d-205          [-1, 704, 14, 14]           1,408\n",
            "            ReLU-206          [-1, 704, 14, 14]               0\n",
            "          Conv2d-207          [-1, 128, 14, 14]          90,112\n",
            "     BatchNorm2d-208          [-1, 128, 14, 14]             256\n",
            "            ReLU-209          [-1, 128, 14, 14]               0\n",
            "          Conv2d-210           [-1, 32, 14, 14]          36,864\n",
            "     BatchNorm2d-211          [-1, 736, 14, 14]           1,472\n",
            "            ReLU-212          [-1, 736, 14, 14]               0\n",
            "          Conv2d-213          [-1, 128, 14, 14]          94,208\n",
            "     BatchNorm2d-214          [-1, 128, 14, 14]             256\n",
            "            ReLU-215          [-1, 128, 14, 14]               0\n",
            "          Conv2d-216           [-1, 32, 14, 14]          36,864\n",
            "     BatchNorm2d-217          [-1, 768, 14, 14]           1,536\n",
            "            ReLU-218          [-1, 768, 14, 14]               0\n",
            "          Conv2d-219          [-1, 128, 14, 14]          98,304\n",
            "     BatchNorm2d-220          [-1, 128, 14, 14]             256\n",
            "            ReLU-221          [-1, 128, 14, 14]               0\n",
            "          Conv2d-222           [-1, 32, 14, 14]          36,864\n",
            "     BatchNorm2d-223          [-1, 800, 14, 14]           1,600\n",
            "            ReLU-224          [-1, 800, 14, 14]               0\n",
            "          Conv2d-225          [-1, 128, 14, 14]         102,400\n",
            "     BatchNorm2d-226          [-1, 128, 14, 14]             256\n",
            "            ReLU-227          [-1, 128, 14, 14]               0\n",
            "          Conv2d-228           [-1, 32, 14, 14]          36,864\n",
            "     BatchNorm2d-229          [-1, 832, 14, 14]           1,664\n",
            "            ReLU-230          [-1, 832, 14, 14]               0\n",
            "          Conv2d-231          [-1, 128, 14, 14]         106,496\n",
            "     BatchNorm2d-232          [-1, 128, 14, 14]             256\n",
            "            ReLU-233          [-1, 128, 14, 14]               0\n",
            "          Conv2d-234           [-1, 32, 14, 14]          36,864\n",
            "     BatchNorm2d-235          [-1, 864, 14, 14]           1,728\n",
            "            ReLU-236          [-1, 864, 14, 14]               0\n",
            "          Conv2d-237          [-1, 128, 14, 14]         110,592\n",
            "     BatchNorm2d-238          [-1, 128, 14, 14]             256\n",
            "            ReLU-239          [-1, 128, 14, 14]               0\n",
            "          Conv2d-240           [-1, 32, 14, 14]          36,864\n",
            "     BatchNorm2d-241          [-1, 896, 14, 14]           1,792\n",
            "            ReLU-242          [-1, 896, 14, 14]               0\n",
            "          Conv2d-243          [-1, 128, 14, 14]         114,688\n",
            "     BatchNorm2d-244          [-1, 128, 14, 14]             256\n",
            "            ReLU-245          [-1, 128, 14, 14]               0\n",
            "          Conv2d-246           [-1, 32, 14, 14]          36,864\n",
            "     BatchNorm2d-247          [-1, 928, 14, 14]           1,856\n",
            "            ReLU-248          [-1, 928, 14, 14]               0\n",
            "          Conv2d-249          [-1, 128, 14, 14]         118,784\n",
            "     BatchNorm2d-250          [-1, 128, 14, 14]             256\n",
            "            ReLU-251          [-1, 128, 14, 14]               0\n",
            "          Conv2d-252           [-1, 32, 14, 14]          36,864\n",
            "     BatchNorm2d-253          [-1, 960, 14, 14]           1,920\n",
            "            ReLU-254          [-1, 960, 14, 14]               0\n",
            "          Conv2d-255          [-1, 128, 14, 14]         122,880\n",
            "     BatchNorm2d-256          [-1, 128, 14, 14]             256\n",
            "            ReLU-257          [-1, 128, 14, 14]               0\n",
            "          Conv2d-258           [-1, 32, 14, 14]          36,864\n",
            "     BatchNorm2d-259          [-1, 992, 14, 14]           1,984\n",
            "            ReLU-260          [-1, 992, 14, 14]               0\n",
            "          Conv2d-261          [-1, 128, 14, 14]         126,976\n",
            "     BatchNorm2d-262          [-1, 128, 14, 14]             256\n",
            "            ReLU-263          [-1, 128, 14, 14]               0\n",
            "          Conv2d-264           [-1, 32, 14, 14]          36,864\n",
            "     BatchNorm2d-265         [-1, 1024, 14, 14]           2,048\n",
            "            ReLU-266         [-1, 1024, 14, 14]               0\n",
            "          Conv2d-267          [-1, 128, 14, 14]         131,072\n",
            "     BatchNorm2d-268          [-1, 128, 14, 14]             256\n",
            "            ReLU-269          [-1, 128, 14, 14]               0\n",
            "          Conv2d-270           [-1, 32, 14, 14]          36,864\n",
            "     BatchNorm2d-271         [-1, 1056, 14, 14]           2,112\n",
            "            ReLU-272         [-1, 1056, 14, 14]               0\n",
            "          Conv2d-273          [-1, 128, 14, 14]         135,168\n",
            "     BatchNorm2d-274          [-1, 128, 14, 14]             256\n",
            "            ReLU-275          [-1, 128, 14, 14]               0\n",
            "          Conv2d-276           [-1, 32, 14, 14]          36,864\n",
            "     BatchNorm2d-277         [-1, 1088, 14, 14]           2,176\n",
            "            ReLU-278         [-1, 1088, 14, 14]               0\n",
            "          Conv2d-279          [-1, 128, 14, 14]         139,264\n",
            "     BatchNorm2d-280          [-1, 128, 14, 14]             256\n",
            "            ReLU-281          [-1, 128, 14, 14]               0\n",
            "          Conv2d-282           [-1, 32, 14, 14]          36,864\n",
            "     BatchNorm2d-283         [-1, 1120, 14, 14]           2,240\n",
            "            ReLU-284         [-1, 1120, 14, 14]               0\n",
            "          Conv2d-285          [-1, 128, 14, 14]         143,360\n",
            "     BatchNorm2d-286          [-1, 128, 14, 14]             256\n",
            "            ReLU-287          [-1, 128, 14, 14]               0\n",
            "          Conv2d-288           [-1, 32, 14, 14]          36,864\n",
            "     BatchNorm2d-289         [-1, 1152, 14, 14]           2,304\n",
            "            ReLU-290         [-1, 1152, 14, 14]               0\n",
            "          Conv2d-291          [-1, 128, 14, 14]         147,456\n",
            "     BatchNorm2d-292          [-1, 128, 14, 14]             256\n",
            "            ReLU-293          [-1, 128, 14, 14]               0\n",
            "          Conv2d-294           [-1, 32, 14, 14]          36,864\n",
            "     BatchNorm2d-295         [-1, 1184, 14, 14]           2,368\n",
            "            ReLU-296         [-1, 1184, 14, 14]               0\n",
            "          Conv2d-297          [-1, 128, 14, 14]         151,552\n",
            "     BatchNorm2d-298          [-1, 128, 14, 14]             256\n",
            "            ReLU-299          [-1, 128, 14, 14]               0\n",
            "          Conv2d-300           [-1, 32, 14, 14]          36,864\n",
            "     BatchNorm2d-301         [-1, 1216, 14, 14]           2,432\n",
            "            ReLU-302         [-1, 1216, 14, 14]               0\n",
            "          Conv2d-303          [-1, 128, 14, 14]         155,648\n",
            "     BatchNorm2d-304          [-1, 128, 14, 14]             256\n",
            "            ReLU-305          [-1, 128, 14, 14]               0\n",
            "          Conv2d-306           [-1, 32, 14, 14]          36,864\n",
            "     BatchNorm2d-307         [-1, 1248, 14, 14]           2,496\n",
            "            ReLU-308         [-1, 1248, 14, 14]               0\n",
            "          Conv2d-309          [-1, 128, 14, 14]         159,744\n",
            "     BatchNorm2d-310          [-1, 128, 14, 14]             256\n",
            "            ReLU-311          [-1, 128, 14, 14]               0\n",
            "          Conv2d-312           [-1, 32, 14, 14]          36,864\n",
            "     BatchNorm2d-313         [-1, 1280, 14, 14]           2,560\n",
            "            ReLU-314         [-1, 1280, 14, 14]               0\n",
            "          Conv2d-315          [-1, 640, 14, 14]         819,200\n",
            "       AvgPool2d-316            [-1, 640, 7, 7]               0\n",
            "     BatchNorm2d-317            [-1, 640, 7, 7]           1,280\n",
            "            ReLU-318            [-1, 640, 7, 7]               0\n",
            "          Conv2d-319            [-1, 128, 7, 7]          81,920\n",
            "     BatchNorm2d-320            [-1, 128, 7, 7]             256\n",
            "            ReLU-321            [-1, 128, 7, 7]               0\n",
            "          Conv2d-322             [-1, 32, 7, 7]          36,864\n",
            "     BatchNorm2d-323            [-1, 672, 7, 7]           1,344\n",
            "            ReLU-324            [-1, 672, 7, 7]               0\n",
            "          Conv2d-325            [-1, 128, 7, 7]          86,016\n",
            "     BatchNorm2d-326            [-1, 128, 7, 7]             256\n",
            "            ReLU-327            [-1, 128, 7, 7]               0\n",
            "          Conv2d-328             [-1, 32, 7, 7]          36,864\n",
            "     BatchNorm2d-329            [-1, 704, 7, 7]           1,408\n",
            "            ReLU-330            [-1, 704, 7, 7]               0\n",
            "          Conv2d-331            [-1, 128, 7, 7]          90,112\n",
            "     BatchNorm2d-332            [-1, 128, 7, 7]             256\n",
            "            ReLU-333            [-1, 128, 7, 7]               0\n",
            "          Conv2d-334             [-1, 32, 7, 7]          36,864\n",
            "     BatchNorm2d-335            [-1, 736, 7, 7]           1,472\n",
            "            ReLU-336            [-1, 736, 7, 7]               0\n",
            "          Conv2d-337            [-1, 128, 7, 7]          94,208\n",
            "     BatchNorm2d-338            [-1, 128, 7, 7]             256\n",
            "            ReLU-339            [-1, 128, 7, 7]               0\n",
            "          Conv2d-340             [-1, 32, 7, 7]          36,864\n",
            "     BatchNorm2d-341            [-1, 768, 7, 7]           1,536\n",
            "            ReLU-342            [-1, 768, 7, 7]               0\n",
            "          Conv2d-343            [-1, 128, 7, 7]          98,304\n",
            "     BatchNorm2d-344            [-1, 128, 7, 7]             256\n",
            "            ReLU-345            [-1, 128, 7, 7]               0\n",
            "          Conv2d-346             [-1, 32, 7, 7]          36,864\n",
            "     BatchNorm2d-347            [-1, 800, 7, 7]           1,600\n",
            "            ReLU-348            [-1, 800, 7, 7]               0\n",
            "          Conv2d-349            [-1, 128, 7, 7]         102,400\n",
            "     BatchNorm2d-350            [-1, 128, 7, 7]             256\n",
            "            ReLU-351            [-1, 128, 7, 7]               0\n",
            "          Conv2d-352             [-1, 32, 7, 7]          36,864\n",
            "     BatchNorm2d-353            [-1, 832, 7, 7]           1,664\n",
            "            ReLU-354            [-1, 832, 7, 7]               0\n",
            "          Conv2d-355            [-1, 128, 7, 7]         106,496\n",
            "     BatchNorm2d-356            [-1, 128, 7, 7]             256\n",
            "            ReLU-357            [-1, 128, 7, 7]               0\n",
            "          Conv2d-358             [-1, 32, 7, 7]          36,864\n",
            "     BatchNorm2d-359            [-1, 864, 7, 7]           1,728\n",
            "            ReLU-360            [-1, 864, 7, 7]               0\n",
            "          Conv2d-361            [-1, 128, 7, 7]         110,592\n",
            "     BatchNorm2d-362            [-1, 128, 7, 7]             256\n",
            "            ReLU-363            [-1, 128, 7, 7]               0\n",
            "          Conv2d-364             [-1, 32, 7, 7]          36,864\n",
            "     BatchNorm2d-365            [-1, 896, 7, 7]           1,792\n",
            "            ReLU-366            [-1, 896, 7, 7]               0\n",
            "          Conv2d-367            [-1, 128, 7, 7]         114,688\n",
            "     BatchNorm2d-368            [-1, 128, 7, 7]             256\n",
            "            ReLU-369            [-1, 128, 7, 7]               0\n",
            "          Conv2d-370             [-1, 32, 7, 7]          36,864\n",
            "     BatchNorm2d-371            [-1, 928, 7, 7]           1,856\n",
            "            ReLU-372            [-1, 928, 7, 7]               0\n",
            "          Conv2d-373            [-1, 128, 7, 7]         118,784\n",
            "     BatchNorm2d-374            [-1, 128, 7, 7]             256\n",
            "            ReLU-375            [-1, 128, 7, 7]               0\n",
            "          Conv2d-376             [-1, 32, 7, 7]          36,864\n",
            "     BatchNorm2d-377            [-1, 960, 7, 7]           1,920\n",
            "            ReLU-378            [-1, 960, 7, 7]               0\n",
            "          Conv2d-379            [-1, 128, 7, 7]         122,880\n",
            "     BatchNorm2d-380            [-1, 128, 7, 7]             256\n",
            "            ReLU-381            [-1, 128, 7, 7]               0\n",
            "          Conv2d-382             [-1, 32, 7, 7]          36,864\n",
            "     BatchNorm2d-383            [-1, 992, 7, 7]           1,984\n",
            "            ReLU-384            [-1, 992, 7, 7]               0\n",
            "          Conv2d-385            [-1, 128, 7, 7]         126,976\n",
            "     BatchNorm2d-386            [-1, 128, 7, 7]             256\n",
            "            ReLU-387            [-1, 128, 7, 7]               0\n",
            "          Conv2d-388             [-1, 32, 7, 7]          36,864\n",
            "     BatchNorm2d-389           [-1, 1024, 7, 7]           2,048\n",
            "            ReLU-390           [-1, 1024, 7, 7]               0\n",
            "          Conv2d-391            [-1, 128, 7, 7]         131,072\n",
            "     BatchNorm2d-392            [-1, 128, 7, 7]             256\n",
            "            ReLU-393            [-1, 128, 7, 7]               0\n",
            "          Conv2d-394             [-1, 32, 7, 7]          36,864\n",
            "     BatchNorm2d-395           [-1, 1056, 7, 7]           2,112\n",
            "            ReLU-396           [-1, 1056, 7, 7]               0\n",
            "          Conv2d-397            [-1, 128, 7, 7]         135,168\n",
            "     BatchNorm2d-398            [-1, 128, 7, 7]             256\n",
            "            ReLU-399            [-1, 128, 7, 7]               0\n",
            "          Conv2d-400             [-1, 32, 7, 7]          36,864\n",
            "     BatchNorm2d-401           [-1, 1088, 7, 7]           2,176\n",
            "            ReLU-402           [-1, 1088, 7, 7]               0\n",
            "          Conv2d-403            [-1, 128, 7, 7]         139,264\n",
            "     BatchNorm2d-404            [-1, 128, 7, 7]             256\n",
            "            ReLU-405            [-1, 128, 7, 7]               0\n",
            "          Conv2d-406             [-1, 32, 7, 7]          36,864\n",
            "     BatchNorm2d-407           [-1, 1120, 7, 7]           2,240\n",
            "            ReLU-408           [-1, 1120, 7, 7]               0\n",
            "          Conv2d-409            [-1, 128, 7, 7]         143,360\n",
            "     BatchNorm2d-410            [-1, 128, 7, 7]             256\n",
            "            ReLU-411            [-1, 128, 7, 7]               0\n",
            "          Conv2d-412             [-1, 32, 7, 7]          36,864\n",
            "     BatchNorm2d-413           [-1, 1152, 7, 7]           2,304\n",
            "            ReLU-414           [-1, 1152, 7, 7]               0\n",
            "          Conv2d-415            [-1, 128, 7, 7]         147,456\n",
            "     BatchNorm2d-416            [-1, 128, 7, 7]             256\n",
            "            ReLU-417            [-1, 128, 7, 7]               0\n",
            "          Conv2d-418             [-1, 32, 7, 7]          36,864\n",
            "     BatchNorm2d-419           [-1, 1184, 7, 7]           2,368\n",
            "            ReLU-420           [-1, 1184, 7, 7]               0\n",
            "          Conv2d-421            [-1, 128, 7, 7]         151,552\n",
            "     BatchNorm2d-422            [-1, 128, 7, 7]             256\n",
            "            ReLU-423            [-1, 128, 7, 7]               0\n",
            "          Conv2d-424             [-1, 32, 7, 7]          36,864\n",
            "     BatchNorm2d-425           [-1, 1216, 7, 7]           2,432\n",
            "            ReLU-426           [-1, 1216, 7, 7]               0\n",
            "          Conv2d-427            [-1, 128, 7, 7]         155,648\n",
            "     BatchNorm2d-428            [-1, 128, 7, 7]             256\n",
            "            ReLU-429            [-1, 128, 7, 7]               0\n",
            "          Conv2d-430             [-1, 32, 7, 7]          36,864\n",
            "     BatchNorm2d-431           [-1, 1248, 7, 7]           2,496\n",
            "            ReLU-432           [-1, 1248, 7, 7]               0\n",
            "          Conv2d-433            [-1, 128, 7, 7]         159,744\n",
            "     BatchNorm2d-434            [-1, 128, 7, 7]             256\n",
            "            ReLU-435            [-1, 128, 7, 7]               0\n",
            "          Conv2d-436             [-1, 32, 7, 7]          36,864\n",
            "     BatchNorm2d-437           [-1, 1280, 7, 7]           2,560\n",
            "            ReLU-438           [-1, 1280, 7, 7]               0\n",
            "          Conv2d-439            [-1, 128, 7, 7]         163,840\n",
            "     BatchNorm2d-440            [-1, 128, 7, 7]             256\n",
            "            ReLU-441            [-1, 128, 7, 7]               0\n",
            "          Conv2d-442             [-1, 32, 7, 7]          36,864\n",
            "     BatchNorm2d-443           [-1, 1312, 7, 7]           2,624\n",
            "            ReLU-444           [-1, 1312, 7, 7]               0\n",
            "          Conv2d-445            [-1, 128, 7, 7]         167,936\n",
            "     BatchNorm2d-446            [-1, 128, 7, 7]             256\n",
            "            ReLU-447            [-1, 128, 7, 7]               0\n",
            "          Conv2d-448             [-1, 32, 7, 7]          36,864\n",
            "     BatchNorm2d-449           [-1, 1344, 7, 7]           2,688\n",
            "            ReLU-450           [-1, 1344, 7, 7]               0\n",
            "          Conv2d-451            [-1, 128, 7, 7]         172,032\n",
            "     BatchNorm2d-452            [-1, 128, 7, 7]             256\n",
            "            ReLU-453            [-1, 128, 7, 7]               0\n",
            "          Conv2d-454             [-1, 32, 7, 7]          36,864\n",
            "     BatchNorm2d-455           [-1, 1376, 7, 7]           2,752\n",
            "            ReLU-456           [-1, 1376, 7, 7]               0\n",
            "          Conv2d-457            [-1, 128, 7, 7]         176,128\n",
            "     BatchNorm2d-458            [-1, 128, 7, 7]             256\n",
            "            ReLU-459            [-1, 128, 7, 7]               0\n",
            "          Conv2d-460             [-1, 32, 7, 7]          36,864\n",
            "     BatchNorm2d-461           [-1, 1408, 7, 7]           2,816\n",
            "            ReLU-462           [-1, 1408, 7, 7]               0\n",
            "          Conv2d-463            [-1, 128, 7, 7]         180,224\n",
            "     BatchNorm2d-464            [-1, 128, 7, 7]             256\n",
            "            ReLU-465            [-1, 128, 7, 7]               0\n",
            "          Conv2d-466             [-1, 32, 7, 7]          36,864\n",
            "     BatchNorm2d-467           [-1, 1440, 7, 7]           2,880\n",
            "            ReLU-468           [-1, 1440, 7, 7]               0\n",
            "          Conv2d-469            [-1, 128, 7, 7]         184,320\n",
            "     BatchNorm2d-470            [-1, 128, 7, 7]             256\n",
            "            ReLU-471            [-1, 128, 7, 7]               0\n",
            "          Conv2d-472             [-1, 32, 7, 7]          36,864\n",
            "     BatchNorm2d-473           [-1, 1472, 7, 7]           2,944\n",
            "            ReLU-474           [-1, 1472, 7, 7]               0\n",
            "          Conv2d-475            [-1, 128, 7, 7]         188,416\n",
            "     BatchNorm2d-476            [-1, 128, 7, 7]             256\n",
            "            ReLU-477            [-1, 128, 7, 7]               0\n",
            "          Conv2d-478             [-1, 32, 7, 7]          36,864\n",
            "     BatchNorm2d-479           [-1, 1504, 7, 7]           3,008\n",
            "            ReLU-480           [-1, 1504, 7, 7]               0\n",
            "          Conv2d-481            [-1, 128, 7, 7]         192,512\n",
            "     BatchNorm2d-482            [-1, 128, 7, 7]             256\n",
            "            ReLU-483            [-1, 128, 7, 7]               0\n",
            "          Conv2d-484             [-1, 32, 7, 7]          36,864\n",
            "     BatchNorm2d-485           [-1, 1536, 7, 7]           3,072\n",
            "            ReLU-486           [-1, 1536, 7, 7]               0\n",
            "          Conv2d-487            [-1, 128, 7, 7]         196,608\n",
            "     BatchNorm2d-488            [-1, 128, 7, 7]             256\n",
            "            ReLU-489            [-1, 128, 7, 7]               0\n",
            "          Conv2d-490             [-1, 32, 7, 7]          36,864\n",
            "     BatchNorm2d-491           [-1, 1568, 7, 7]           3,136\n",
            "            ReLU-492           [-1, 1568, 7, 7]               0\n",
            "          Conv2d-493            [-1, 128, 7, 7]         200,704\n",
            "     BatchNorm2d-494            [-1, 128, 7, 7]             256\n",
            "            ReLU-495            [-1, 128, 7, 7]               0\n",
            "          Conv2d-496             [-1, 32, 7, 7]          36,864\n",
            "     BatchNorm2d-497           [-1, 1600, 7, 7]           3,200\n",
            "            ReLU-498           [-1, 1600, 7, 7]               0\n",
            "          Conv2d-499            [-1, 128, 7, 7]         204,800\n",
            "     BatchNorm2d-500            [-1, 128, 7, 7]             256\n",
            "            ReLU-501            [-1, 128, 7, 7]               0\n",
            "          Conv2d-502             [-1, 32, 7, 7]          36,864\n",
            "     BatchNorm2d-503           [-1, 1632, 7, 7]           3,264\n",
            "            ReLU-504           [-1, 1632, 7, 7]               0\n",
            "          Conv2d-505            [-1, 128, 7, 7]         208,896\n",
            "     BatchNorm2d-506            [-1, 128, 7, 7]             256\n",
            "            ReLU-507            [-1, 128, 7, 7]               0\n",
            "          Conv2d-508             [-1, 32, 7, 7]          36,864\n",
            "     BatchNorm2d-509           [-1, 1664, 7, 7]           3,328\n",
            "          Linear-510                    [-1, 2]           3,330\n",
            "================================================================\n",
            "Total params: 12,487,810\n",
            "Trainable params: 11,058,178\n",
            "Non-trainable params: 1,429,632\n",
            "----------------------------------------------------------------\n",
            "Input size (MB): 0.57\n",
            "Forward/backward pass size (MB): 348.26\n",
            "Params size (MB): 47.64\n",
            "Estimated Total Size (MB): 396.48\n",
            "----------------------------------------------------------------\n"
          ],
          "name": "stdout"
        }
      ]
    },
    {
      "metadata": {
        "id": "plScrcA2r4DP",
        "colab_type": "code",
        "colab": {
          "base_uri": "https://localhost:8080/",
          "height": 1394
        },
        "outputId": "fafda9e7-01d6-4987-dbc2-e75108ca876d"
      },
      "cell_type": "code",
      "source": [
        "summary(model_res, (3, 224, 224))"
      ],
      "execution_count": 0,
      "outputs": [
        {
          "output_type": "stream",
          "text": [
            "----------------------------------------------------------------\n",
            "        Layer (type)               Output Shape         Param #\n",
            "================================================================\n",
            "            Conv2d-1         [-1, 64, 112, 112]           9,408\n",
            "       BatchNorm2d-2         [-1, 64, 112, 112]             128\n",
            "              ReLU-3         [-1, 64, 112, 112]               0\n",
            "         MaxPool2d-4           [-1, 64, 56, 56]               0\n",
            "            Conv2d-5           [-1, 64, 56, 56]          36,864\n",
            "       BatchNorm2d-6           [-1, 64, 56, 56]             128\n",
            "              ReLU-7           [-1, 64, 56, 56]               0\n",
            "            Conv2d-8           [-1, 64, 56, 56]          36,864\n",
            "       BatchNorm2d-9           [-1, 64, 56, 56]             128\n",
            "             ReLU-10           [-1, 64, 56, 56]               0\n",
            "       BasicBlock-11           [-1, 64, 56, 56]               0\n",
            "           Conv2d-12           [-1, 64, 56, 56]          36,864\n",
            "      BatchNorm2d-13           [-1, 64, 56, 56]             128\n",
            "             ReLU-14           [-1, 64, 56, 56]               0\n",
            "           Conv2d-15           [-1, 64, 56, 56]          36,864\n",
            "      BatchNorm2d-16           [-1, 64, 56, 56]             128\n",
            "             ReLU-17           [-1, 64, 56, 56]               0\n",
            "       BasicBlock-18           [-1, 64, 56, 56]               0\n",
            "           Conv2d-19          [-1, 128, 28, 28]          73,728\n",
            "      BatchNorm2d-20          [-1, 128, 28, 28]             256\n",
            "             ReLU-21          [-1, 128, 28, 28]               0\n",
            "           Conv2d-22          [-1, 128, 28, 28]         147,456\n",
            "      BatchNorm2d-23          [-1, 128, 28, 28]             256\n",
            "           Conv2d-24          [-1, 128, 28, 28]           8,192\n",
            "      BatchNorm2d-25          [-1, 128, 28, 28]             256\n",
            "             ReLU-26          [-1, 128, 28, 28]               0\n",
            "       BasicBlock-27          [-1, 128, 28, 28]               0\n",
            "           Conv2d-28          [-1, 128, 28, 28]         147,456\n",
            "      BatchNorm2d-29          [-1, 128, 28, 28]             256\n",
            "             ReLU-30          [-1, 128, 28, 28]               0\n",
            "           Conv2d-31          [-1, 128, 28, 28]         147,456\n",
            "      BatchNorm2d-32          [-1, 128, 28, 28]             256\n",
            "             ReLU-33          [-1, 128, 28, 28]               0\n",
            "       BasicBlock-34          [-1, 128, 28, 28]               0\n",
            "           Conv2d-35          [-1, 256, 14, 14]         294,912\n",
            "      BatchNorm2d-36          [-1, 256, 14, 14]             512\n",
            "             ReLU-37          [-1, 256, 14, 14]               0\n",
            "           Conv2d-38          [-1, 256, 14, 14]         589,824\n",
            "      BatchNorm2d-39          [-1, 256, 14, 14]             512\n",
            "           Conv2d-40          [-1, 256, 14, 14]          32,768\n",
            "      BatchNorm2d-41          [-1, 256, 14, 14]             512\n",
            "             ReLU-42          [-1, 256, 14, 14]               0\n",
            "       BasicBlock-43          [-1, 256, 14, 14]               0\n",
            "           Conv2d-44          [-1, 256, 14, 14]         589,824\n",
            "      BatchNorm2d-45          [-1, 256, 14, 14]             512\n",
            "             ReLU-46          [-1, 256, 14, 14]               0\n",
            "           Conv2d-47          [-1, 256, 14, 14]         589,824\n",
            "      BatchNorm2d-48          [-1, 256, 14, 14]             512\n",
            "             ReLU-49          [-1, 256, 14, 14]               0\n",
            "       BasicBlock-50          [-1, 256, 14, 14]               0\n",
            "           Conv2d-51            [-1, 512, 7, 7]       1,179,648\n",
            "      BatchNorm2d-52            [-1, 512, 7, 7]           1,024\n",
            "             ReLU-53            [-1, 512, 7, 7]               0\n",
            "           Conv2d-54            [-1, 512, 7, 7]       2,359,296\n",
            "      BatchNorm2d-55            [-1, 512, 7, 7]           1,024\n",
            "           Conv2d-56            [-1, 512, 7, 7]         131,072\n",
            "      BatchNorm2d-57            [-1, 512, 7, 7]           1,024\n",
            "             ReLU-58            [-1, 512, 7, 7]               0\n",
            "       BasicBlock-59            [-1, 512, 7, 7]               0\n",
            "           Conv2d-60            [-1, 512, 7, 7]       2,359,296\n",
            "      BatchNorm2d-61            [-1, 512, 7, 7]           1,024\n",
            "             ReLU-62            [-1, 512, 7, 7]               0\n",
            "           Conv2d-63            [-1, 512, 7, 7]       2,359,296\n",
            "      BatchNorm2d-64            [-1, 512, 7, 7]           1,024\n",
            "             ReLU-65            [-1, 512, 7, 7]               0\n",
            "       BasicBlock-66            [-1, 512, 7, 7]               0\n",
            "        AvgPool2d-67            [-1, 512, 1, 1]               0\n",
            "           Linear-68                    [-1, 2]           1,026\n",
            "================================================================\n",
            "Total params: 11,177,538\n",
            "Trainable params: 11,177,538\n",
            "Non-trainable params: 0\n",
            "----------------------------------------------------------------\n",
            "Input size (MB): 0.57\n",
            "Forward/backward pass size (MB): 62.79\n",
            "Params size (MB): 42.64\n",
            "Estimated Total Size (MB): 106.00\n",
            "----------------------------------------------------------------\n"
          ],
          "name": "stdout"
        }
      ]
    },
    {
      "metadata": {
        "id": "j0RssK_6scjK",
        "colab_type": "code",
        "colab": {}
      },
      "cell_type": "code",
      "source": [
        "model_ft.eval()\n",
        "model_res.eval()\n",
        "pred_list_dense = []\n",
        "label_list_dense = []\n",
        "#softmax_list = []\n",
        "image_list_dense = []\n",
        "pred_list_res = []\n",
        "\n",
        "ct12 = 0 \n",
        "for inputs1, labels1 in dataloaders['val']:\n",
        "                ct12 += 1\n",
        "                inputs1 = inputs1.to(device)\n",
        "                labels1 = labels1.to(device)\n",
        "                labels1 = labels1.type(torch.cuda.LongTensor)\n",
        "                # zero the parameter gradients\n",
        "                # optimizer.zero_grad()\n",
        "                # forward\n",
        "                # track history if only in train\n",
        "                # with torch.set_grad_enabled(phase == 'train'):\n",
        "                outputs1 = model_ft(inputs1)\n",
        "                  \n",
        "                    #print(outputs.shape)\n",
        "                _, preds1 = torch.max(outputs1, 1)\n",
        "                pred_list_dense.extend(preds1.cpu().numpy())\n",
        "                label_list_dense.extend(labels1.data)\n",
        "                #softmax_list.extend(softmax1(outputs1.cpu().detach().numpy(),axis =1))\n",
        "                image_list_dense.extend(inputs1)\n",
        "                outputs2 = model_res(inputs1)\n",
        "                  \n",
        "                    #print(outputs.shape)\n",
        "                _, preds2 = torch.max(outputs2, 1)\n",
        "                pred_list_res.extend(preds2.cpu().numpy())\n",
        "                "
      ],
      "execution_count": 0,
      "outputs": []
    },
    {
      "metadata": {
        "id": "WVnZ1Q3dHrfW",
        "colab_type": "code",
        "colab": {}
      },
      "cell_type": "code",
      "source": [
        "Compare_result = pd.DataFrame(np.column_stack([label_list_dense,pred_list_dense,pred_list_res]),columns=['Actual','DenseBlock','ResNet'])"
      ],
      "execution_count": 0,
      "outputs": []
    },
    {
      "metadata": {
        "id": "kxoBmCrfP3l4",
        "colab_type": "code",
        "colab": {}
      },
      "cell_type": "code",
      "source": [
        "Compare_result.to_csv(\"Result_Compare.csv\")"
      ],
      "execution_count": 0,
      "outputs": []
    },
    {
      "metadata": {
        "id": "zlm8nMiFQrM4",
        "colab_type": "code",
        "colab": {
          "base_uri": "https://localhost:8080/",
          "height": 34
        },
        "outputId": "d0d9ebe7-2e6f-494a-f0a9-180edafbf26d"
      },
      "cell_type": "code",
      "source": [
        "!ls"
      ],
      "execution_count": 0,
      "outputs": [
        {
          "output_type": "stream",
          "text": [
            "datalab  __MACOSX  XR_ELBOW_v1.1  XR_ELBOW_v1.1.zip\r\n"
          ],
          "name": "stdout"
        }
      ]
    },
    {
      "metadata": {
        "id": "Ws5XCKD7Qnm-",
        "colab_type": "code",
        "colab": {}
      },
      "cell_type": "code",
      "source": [
        "from google.colab import files\n",
        "files.download('XR_ELBOW_v1.1/train_labeled_studies.csv')"
      ],
      "execution_count": 0,
      "outputs": []
    },
    {
      "metadata": {
        "id": "Wr6W80zy7qXG",
        "colab_type": "code",
        "colab": {
          "base_uri": "https://localhost:8080/",
          "height": 34
        },
        "outputId": "b41b2ac0-34b0-41df-a398-075088dd46e5"
      },
      "cell_type": "code",
      "source": [
        "!ls"
      ],
      "execution_count": 0,
      "outputs": [
        {
          "output_type": "stream",
          "text": [
            "datalab  __MACOSX  MURA-v1.1  MURA-v1.1.zip  Result_Compare.csv\r\n"
          ],
          "name": "stdout"
        }
      ]
    },
    {
      "metadata": {
        "id": "0ZnVAIP2P_n9",
        "colab_type": "code",
        "colab": {
          "base_uri": "https://localhost:8080/",
          "height": 1969
        },
        "outputId": "d0bd1c41-5c13-479f-b7ab-a284b084aee7"
      },
      "cell_type": "code",
      "source": [
        "Compare_result"
      ],
      "execution_count": 0,
      "outputs": [
        {
          "output_type": "execute_result",
          "data": {
            "text/html": [
              "<div>\n",
              "<style scoped>\n",
              "    .dataframe tbody tr th:only-of-type {\n",
              "        vertical-align: middle;\n",
              "    }\n",
              "\n",
              "    .dataframe tbody tr th {\n",
              "        vertical-align: top;\n",
              "    }\n",
              "\n",
              "    .dataframe thead th {\n",
              "        text-align: right;\n",
              "    }\n",
              "</style>\n",
              "<table border=\"1\" class=\"dataframe\">\n",
              "  <thead>\n",
              "    <tr style=\"text-align: right;\">\n",
              "      <th></th>\n",
              "      <th>Actaul</th>\n",
              "      <th>DenseBlock</th>\n",
              "      <th>ResNet</th>\n",
              "    </tr>\n",
              "  </thead>\n",
              "  <tbody>\n",
              "    <tr>\n",
              "      <th>0</th>\n",
              "      <td>1</td>\n",
              "      <td>0</td>\n",
              "      <td>1</td>\n",
              "    </tr>\n",
              "    <tr>\n",
              "      <th>1</th>\n",
              "      <td>1</td>\n",
              "      <td>1</td>\n",
              "      <td>1</td>\n",
              "    </tr>\n",
              "    <tr>\n",
              "      <th>2</th>\n",
              "      <td>1</td>\n",
              "      <td>0</td>\n",
              "      <td>1</td>\n",
              "    </tr>\n",
              "    <tr>\n",
              "      <th>3</th>\n",
              "      <td>0</td>\n",
              "      <td>0</td>\n",
              "      <td>0</td>\n",
              "    </tr>\n",
              "    <tr>\n",
              "      <th>4</th>\n",
              "      <td>0</td>\n",
              "      <td>1</td>\n",
              "      <td>0</td>\n",
              "    </tr>\n",
              "    <tr>\n",
              "      <th>5</th>\n",
              "      <td>0</td>\n",
              "      <td>0</td>\n",
              "      <td>0</td>\n",
              "    </tr>\n",
              "    <tr>\n",
              "      <th>6</th>\n",
              "      <td>1</td>\n",
              "      <td>1</td>\n",
              "      <td>1</td>\n",
              "    </tr>\n",
              "    <tr>\n",
              "      <th>7</th>\n",
              "      <td>0</td>\n",
              "      <td>1</td>\n",
              "      <td>1</td>\n",
              "    </tr>\n",
              "    <tr>\n",
              "      <th>8</th>\n",
              "      <td>1</td>\n",
              "      <td>1</td>\n",
              "      <td>1</td>\n",
              "    </tr>\n",
              "    <tr>\n",
              "      <th>9</th>\n",
              "      <td>0</td>\n",
              "      <td>1</td>\n",
              "      <td>1</td>\n",
              "    </tr>\n",
              "    <tr>\n",
              "      <th>10</th>\n",
              "      <td>0</td>\n",
              "      <td>1</td>\n",
              "      <td>0</td>\n",
              "    </tr>\n",
              "    <tr>\n",
              "      <th>11</th>\n",
              "      <td>0</td>\n",
              "      <td>0</td>\n",
              "      <td>0</td>\n",
              "    </tr>\n",
              "    <tr>\n",
              "      <th>12</th>\n",
              "      <td>1</td>\n",
              "      <td>1</td>\n",
              "      <td>1</td>\n",
              "    </tr>\n",
              "    <tr>\n",
              "      <th>13</th>\n",
              "      <td>1</td>\n",
              "      <td>1</td>\n",
              "      <td>1</td>\n",
              "    </tr>\n",
              "    <tr>\n",
              "      <th>14</th>\n",
              "      <td>0</td>\n",
              "      <td>0</td>\n",
              "      <td>0</td>\n",
              "    </tr>\n",
              "    <tr>\n",
              "      <th>15</th>\n",
              "      <td>1</td>\n",
              "      <td>1</td>\n",
              "      <td>1</td>\n",
              "    </tr>\n",
              "    <tr>\n",
              "      <th>16</th>\n",
              "      <td>1</td>\n",
              "      <td>0</td>\n",
              "      <td>0</td>\n",
              "    </tr>\n",
              "    <tr>\n",
              "      <th>17</th>\n",
              "      <td>1</td>\n",
              "      <td>1</td>\n",
              "      <td>1</td>\n",
              "    </tr>\n",
              "    <tr>\n",
              "      <th>18</th>\n",
              "      <td>1</td>\n",
              "      <td>0</td>\n",
              "      <td>0</td>\n",
              "    </tr>\n",
              "    <tr>\n",
              "      <th>19</th>\n",
              "      <td>1</td>\n",
              "      <td>1</td>\n",
              "      <td>1</td>\n",
              "    </tr>\n",
              "    <tr>\n",
              "      <th>20</th>\n",
              "      <td>0</td>\n",
              "      <td>0</td>\n",
              "      <td>0</td>\n",
              "    </tr>\n",
              "    <tr>\n",
              "      <th>21</th>\n",
              "      <td>1</td>\n",
              "      <td>1</td>\n",
              "      <td>1</td>\n",
              "    </tr>\n",
              "    <tr>\n",
              "      <th>22</th>\n",
              "      <td>1</td>\n",
              "      <td>1</td>\n",
              "      <td>1</td>\n",
              "    </tr>\n",
              "    <tr>\n",
              "      <th>23</th>\n",
              "      <td>1</td>\n",
              "      <td>0</td>\n",
              "      <td>0</td>\n",
              "    </tr>\n",
              "    <tr>\n",
              "      <th>24</th>\n",
              "      <td>1</td>\n",
              "      <td>1</td>\n",
              "      <td>1</td>\n",
              "    </tr>\n",
              "    <tr>\n",
              "      <th>25</th>\n",
              "      <td>0</td>\n",
              "      <td>1</td>\n",
              "      <td>1</td>\n",
              "    </tr>\n",
              "    <tr>\n",
              "      <th>26</th>\n",
              "      <td>1</td>\n",
              "      <td>0</td>\n",
              "      <td>0</td>\n",
              "    </tr>\n",
              "    <tr>\n",
              "      <th>27</th>\n",
              "      <td>1</td>\n",
              "      <td>0</td>\n",
              "      <td>0</td>\n",
              "    </tr>\n",
              "    <tr>\n",
              "      <th>28</th>\n",
              "      <td>1</td>\n",
              "      <td>0</td>\n",
              "      <td>0</td>\n",
              "    </tr>\n",
              "    <tr>\n",
              "      <th>29</th>\n",
              "      <td>1</td>\n",
              "      <td>1</td>\n",
              "      <td>1</td>\n",
              "    </tr>\n",
              "    <tr>\n",
              "      <th>...</th>\n",
              "      <td>...</td>\n",
              "      <td>...</td>\n",
              "      <td>...</td>\n",
              "    </tr>\n",
              "    <tr>\n",
              "      <th>431</th>\n",
              "      <td>1</td>\n",
              "      <td>0</td>\n",
              "      <td>1</td>\n",
              "    </tr>\n",
              "    <tr>\n",
              "      <th>432</th>\n",
              "      <td>1</td>\n",
              "      <td>1</td>\n",
              "      <td>0</td>\n",
              "    </tr>\n",
              "    <tr>\n",
              "      <th>433</th>\n",
              "      <td>0</td>\n",
              "      <td>0</td>\n",
              "      <td>0</td>\n",
              "    </tr>\n",
              "    <tr>\n",
              "      <th>434</th>\n",
              "      <td>1</td>\n",
              "      <td>1</td>\n",
              "      <td>1</td>\n",
              "    </tr>\n",
              "    <tr>\n",
              "      <th>435</th>\n",
              "      <td>0</td>\n",
              "      <td>0</td>\n",
              "      <td>0</td>\n",
              "    </tr>\n",
              "    <tr>\n",
              "      <th>436</th>\n",
              "      <td>1</td>\n",
              "      <td>0</td>\n",
              "      <td>0</td>\n",
              "    </tr>\n",
              "    <tr>\n",
              "      <th>437</th>\n",
              "      <td>0</td>\n",
              "      <td>0</td>\n",
              "      <td>0</td>\n",
              "    </tr>\n",
              "    <tr>\n",
              "      <th>438</th>\n",
              "      <td>0</td>\n",
              "      <td>0</td>\n",
              "      <td>0</td>\n",
              "    </tr>\n",
              "    <tr>\n",
              "      <th>439</th>\n",
              "      <td>0</td>\n",
              "      <td>0</td>\n",
              "      <td>0</td>\n",
              "    </tr>\n",
              "    <tr>\n",
              "      <th>440</th>\n",
              "      <td>0</td>\n",
              "      <td>0</td>\n",
              "      <td>0</td>\n",
              "    </tr>\n",
              "    <tr>\n",
              "      <th>441</th>\n",
              "      <td>0</td>\n",
              "      <td>0</td>\n",
              "      <td>0</td>\n",
              "    </tr>\n",
              "    <tr>\n",
              "      <th>442</th>\n",
              "      <td>0</td>\n",
              "      <td>0</td>\n",
              "      <td>0</td>\n",
              "    </tr>\n",
              "    <tr>\n",
              "      <th>443</th>\n",
              "      <td>1</td>\n",
              "      <td>1</td>\n",
              "      <td>0</td>\n",
              "    </tr>\n",
              "    <tr>\n",
              "      <th>444</th>\n",
              "      <td>1</td>\n",
              "      <td>1</td>\n",
              "      <td>1</td>\n",
              "    </tr>\n",
              "    <tr>\n",
              "      <th>445</th>\n",
              "      <td>1</td>\n",
              "      <td>1</td>\n",
              "      <td>1</td>\n",
              "    </tr>\n",
              "    <tr>\n",
              "      <th>446</th>\n",
              "      <td>0</td>\n",
              "      <td>0</td>\n",
              "      <td>0</td>\n",
              "    </tr>\n",
              "    <tr>\n",
              "      <th>447</th>\n",
              "      <td>0</td>\n",
              "      <td>0</td>\n",
              "      <td>0</td>\n",
              "    </tr>\n",
              "    <tr>\n",
              "      <th>448</th>\n",
              "      <td>1</td>\n",
              "      <td>1</td>\n",
              "      <td>1</td>\n",
              "    </tr>\n",
              "    <tr>\n",
              "      <th>449</th>\n",
              "      <td>0</td>\n",
              "      <td>0</td>\n",
              "      <td>0</td>\n",
              "    </tr>\n",
              "    <tr>\n",
              "      <th>450</th>\n",
              "      <td>0</td>\n",
              "      <td>0</td>\n",
              "      <td>1</td>\n",
              "    </tr>\n",
              "    <tr>\n",
              "      <th>451</th>\n",
              "      <td>1</td>\n",
              "      <td>0</td>\n",
              "      <td>1</td>\n",
              "    </tr>\n",
              "    <tr>\n",
              "      <th>452</th>\n",
              "      <td>0</td>\n",
              "      <td>0</td>\n",
              "      <td>1</td>\n",
              "    </tr>\n",
              "    <tr>\n",
              "      <th>453</th>\n",
              "      <td>0</td>\n",
              "      <td>1</td>\n",
              "      <td>0</td>\n",
              "    </tr>\n",
              "    <tr>\n",
              "      <th>454</th>\n",
              "      <td>1</td>\n",
              "      <td>1</td>\n",
              "      <td>1</td>\n",
              "    </tr>\n",
              "    <tr>\n",
              "      <th>455</th>\n",
              "      <td>1</td>\n",
              "      <td>1</td>\n",
              "      <td>0</td>\n",
              "    </tr>\n",
              "    <tr>\n",
              "      <th>456</th>\n",
              "      <td>1</td>\n",
              "      <td>1</td>\n",
              "      <td>1</td>\n",
              "    </tr>\n",
              "    <tr>\n",
              "      <th>457</th>\n",
              "      <td>0</td>\n",
              "      <td>1</td>\n",
              "      <td>0</td>\n",
              "    </tr>\n",
              "    <tr>\n",
              "      <th>458</th>\n",
              "      <td>1</td>\n",
              "      <td>0</td>\n",
              "      <td>0</td>\n",
              "    </tr>\n",
              "    <tr>\n",
              "      <th>459</th>\n",
              "      <td>0</td>\n",
              "      <td>0</td>\n",
              "      <td>0</td>\n",
              "    </tr>\n",
              "    <tr>\n",
              "      <th>460</th>\n",
              "      <td>1</td>\n",
              "      <td>1</td>\n",
              "      <td>1</td>\n",
              "    </tr>\n",
              "  </tbody>\n",
              "</table>\n",
              "<p>461 rows × 3 columns</p>\n",
              "</div>"
            ],
            "text/plain": [
              "     Actaul  DenseBlock  ResNet\n",
              "0         1           0       1\n",
              "1         1           1       1\n",
              "2         1           0       1\n",
              "3         0           0       0\n",
              "4         0           1       0\n",
              "5         0           0       0\n",
              "6         1           1       1\n",
              "7         0           1       1\n",
              "8         1           1       1\n",
              "9         0           1       1\n",
              "10        0           1       0\n",
              "11        0           0       0\n",
              "12        1           1       1\n",
              "13        1           1       1\n",
              "14        0           0       0\n",
              "15        1           1       1\n",
              "16        1           0       0\n",
              "17        1           1       1\n",
              "18        1           0       0\n",
              "19        1           1       1\n",
              "20        0           0       0\n",
              "21        1           1       1\n",
              "22        1           1       1\n",
              "23        1           0       0\n",
              "24        1           1       1\n",
              "25        0           1       1\n",
              "26        1           0       0\n",
              "27        1           0       0\n",
              "28        1           0       0\n",
              "29        1           1       1\n",
              "..      ...         ...     ...\n",
              "431       1           0       1\n",
              "432       1           1       0\n",
              "433       0           0       0\n",
              "434       1           1       1\n",
              "435       0           0       0\n",
              "436       1           0       0\n",
              "437       0           0       0\n",
              "438       0           0       0\n",
              "439       0           0       0\n",
              "440       0           0       0\n",
              "441       0           0       0\n",
              "442       0           0       0\n",
              "443       1           1       0\n",
              "444       1           1       1\n",
              "445       1           1       1\n",
              "446       0           0       0\n",
              "447       0           0       0\n",
              "448       1           1       1\n",
              "449       0           0       0\n",
              "450       0           0       1\n",
              "451       1           0       1\n",
              "452       0           0       1\n",
              "453       0           1       0\n",
              "454       1           1       1\n",
              "455       1           1       0\n",
              "456       1           1       1\n",
              "457       0           1       0\n",
              "458       1           0       0\n",
              "459       0           0       0\n",
              "460       1           1       1\n",
              "\n",
              "[461 rows x 3 columns]"
            ]
          },
          "metadata": {
            "tags": []
          },
          "execution_count": 51
        }
      ]
    },
    {
      "metadata": {
        "id": "PMNiYVSeQLmO",
        "colab_type": "code",
        "colab": {}
      },
      "cell_type": "code",
      "source": [
        ""
      ],
      "execution_count": 0,
      "outputs": []
    }
  ]
}