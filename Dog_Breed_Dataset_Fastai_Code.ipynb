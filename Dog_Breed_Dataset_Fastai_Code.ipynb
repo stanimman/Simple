{
  "nbformat": 4,
  "nbformat_minor": 0,
  "metadata": {
    "colab": {
      "name": "Dog_Breed_Dataset.ipynb",
      "version": "0.3.2",
      "provenance": [],
      "include_colab_link": true
    },
    "kernelspec": {
      "name": "python3",
      "display_name": "Python 3"
    },
    "accelerator": "GPU"
  },
  "cells": [
    {
      "cell_type": "markdown",
      "metadata": {
        "id": "view-in-github",
        "colab_type": "text"
      },
      "source": [
        "<a href=\"https://colab.research.google.com/github/stanimman/Simple/blob/master/Dog_Breed_Dataset_Fastai_Code.ipynb\" target=\"_parent\"><img src=\"https://colab.research.google.com/assets/colab-badge.svg\" alt=\"Open In Colab\"/></a>"
      ]
    },
    {
      "metadata": {
        "id": "2kfs36vfUK8W",
        "colab_type": "code",
        "outputId": "29473939-4451-490c-841d-9eedfeb89d0e",
        "colab": {
          "base_uri": "https://localhost:8080/",
          "height": 88
        }
      },
      "cell_type": "code",
      "source": [
        "from os import path\n",
        "from wheel.pep425tags import get_abbr_impl, get_impl_ver, get_abi_tag\n",
        "platform = '{}{}-{}'.format(get_abbr_impl(), get_impl_ver(), get_abi_tag())\n",
        "\n",
        "accelerator = 'cu80' if path.exists('/opt/bin/nvidia-smi') else 'cpu'\n",
        "\n",
        "!pip install -q http://download.pytorch.org/whl/{accelerator}/torch-0.4.0-{platform}-linux_x86_64.whl torchvision\n",
        "import torch\n",
        "print(torch.__version__)\n",
        "print(torch.cuda.is_available())"
      ],
      "execution_count": 3,
      "outputs": [
        {
          "output_type": "stream",
          "text": [
            "tcmalloc: large alloc 1073750016 bytes == 0x5bcea000 @  0x7f32f1cbe2a4 0x594e17 0x626104 0x51190a 0x4f5277 0x510c78 0x5119bd 0x4f5277 0x4f3338 0x510fb0 0x5119bd 0x4f5277 0x4f3338 0x510fb0 0x5119bd 0x4f5277 0x4f3338 0x510fb0 0x5119bd 0x4f6070 0x510c78 0x5119bd 0x4f5277 0x4f3338 0x510fb0 0x5119bd 0x4f6070 0x4f3338 0x510fb0 0x5119bd 0x4f6070\n",
            "0.4.0\n",
            "True\n"
          ],
          "name": "stdout"
        }
      ]
    },
    {
      "metadata": {
        "id": "uM9W5gX3WAJr",
        "colab_type": "code",
        "outputId": "374c65cc-382a-4bda-9872-bdda9f262958",
        "colab": {
          "base_uri": "https://localhost:8080/",
          "height": 119
        }
      },
      "cell_type": "code",
      "source": [
        "!pip uninstall Pillow -y\n",
        "\n",
        "!pip install Pillow"
      ],
      "execution_count": 4,
      "outputs": [
        {
          "output_type": "stream",
          "text": [
            "Uninstalling Pillow-5.3.0:\n",
            "  Successfully uninstalled Pillow-5.3.0\n",
            "Collecting Pillow\n",
            "  Using cached https://files.pythonhosted.org/packages/62/94/5430ebaa83f91cc7a9f687ff5238e26164a779cca2ef9903232268b0a318/Pillow-5.3.0-cp36-cp36m-manylinux1_x86_64.whl\n",
            "Installing collected packages: Pillow\n",
            "Successfully installed Pillow-5.3.0\n"
          ],
          "name": "stdout"
        }
      ]
    },
    {
      "metadata": {
        "id": "AE_TWJD2AVkJ",
        "colab_type": "code",
        "colab": {
          "base_uri": "https://localhost:8080/",
          "height": 34
        },
        "outputId": "7d829a41-d1e1-477f-b3e9-0bdc4abc9ffd"
      },
      "cell_type": "code",
      "source": [
        "import PIL\n",
        "print(PIL.PILLOW_VERSION)\n",
        "import sys"
      ],
      "execution_count": 1,
      "outputs": [
        {
          "output_type": "stream",
          "text": [
            "5.3.0\n"
          ],
          "name": "stdout"
        }
      ]
    },
    {
      "metadata": {
        "id": "M6Prx0t6AjWq",
        "colab_type": "code",
        "colab": {
          "base_uri": "https://localhost:8080/",
          "height": 1397
        },
        "outputId": "b3ef9471-9b1e-45ca-b49c-12b10793924b"
      },
      "cell_type": "code",
      "source": [
        "!pip install kaggle-cli\n",
        "!kg download -u 'stanimman' -p 'Legspinner@1' -c 'dog-breed-identification'"
      ],
      "execution_count": 2,
      "outputs": [
        {
          "output_type": "stream",
          "text": [
            "Collecting kaggle-cli\n",
            "  Downloading https://files.pythonhosted.org/packages/67/61/710d02460bc4367ffd1f5e71cd9c031fb278f78aa0e8e32ca9dd99a2add8/kaggle-cli-0.12.13.tar.gz\n",
            "Collecting cliff<2.9,>=2.8.0 (from kaggle-cli)\n",
            "\u001b[?25l  Downloading https://files.pythonhosted.org/packages/c2/ba/f45621f885ecd8527142811c279740367eb6c552ceb8debfdb7c5fca0677/cliff-2.8.2.tar.gz (72kB)\n",
            "\u001b[K    100% |████████████████████████████████| 81kB 6.7MB/s \n",
            "\u001b[?25hCollecting MechanicalSoup<0.9,>=0.7.0 (from kaggle-cli)\n",
            "  Downloading https://files.pythonhosted.org/packages/5c/2e/f63ed26b51e36efa4cc22cad18187fcb0a253f756d548c96bb931f13de98/MechanicalSoup-0.8.0-py2.py3-none-any.whl\n",
            "Collecting lxml<4.1,>=4.0.0 (from kaggle-cli)\n",
            "\u001b[?25l  Downloading https://files.pythonhosted.org/packages/a0/b5/4c6995f8f259f0858f79460e6d277888f8498ce1c1a466dfbb24f06ba83f/lxml-4.0.0-cp36-cp36m-manylinux1_x86_64.whl (5.3MB)\n",
            "\u001b[K    100% |████████████████████████████████| 5.3MB 5.8MB/s \n",
            "\u001b[?25hCollecting cssselect<1.1,>=1.0.1 (from kaggle-cli)\n",
            "  Downloading https://files.pythonhosted.org/packages/7b/44/25b7283e50585f0b4156960691d951b05d061abf4a714078393e51929b30/cssselect-1.0.3-py2.py3-none-any.whl\n",
            "Collecting configparser (from kaggle-cli)\n",
            "  Downloading https://files.pythonhosted.org/packages/7c/69/c2ce7e91c89dc073eb1aa74c0621c3eefbffe8216b3f9af9d3885265c01c/configparser-3.5.0.tar.gz\n",
            "Collecting progressbar2<3.35,>=3.34.3 (from kaggle-cli)\n",
            "  Downloading https://files.pythonhosted.org/packages/87/31/b984e17bcc7491c1baeda3906fe3abc14cb5cd5dbd046ab46d9fc7a2edfd/progressbar2-3.34.3-py2.py3-none-any.whl\n",
            "Requirement already satisfied: beautifulsoup4<4.7,>=4.6.0 in /usr/local/lib/python3.6/dist-packages (from kaggle-cli) (4.6.3)\n",
            "Collecting pbr!=2.1.0,>=2.0.0 (from cliff<2.9,>=2.8.0->kaggle-cli)\n",
            "\u001b[?25l  Downloading https://files.pythonhosted.org/packages/f3/04/fddc1c2dd75b256eda4d360024692231a2c19a0c61ad7f4a162407c1ab58/pbr-5.1.1-py2.py3-none-any.whl (106kB)\n",
            "\u001b[K    100% |████████████████████████████████| 112kB 26.3MB/s \n",
            "\u001b[?25hCollecting cmd2>=0.6.7 (from cliff<2.9,>=2.8.0->kaggle-cli)\n",
            "\u001b[?25l  Downloading https://files.pythonhosted.org/packages/ca/21/bcad9e336ca318614d52b25375f20286e6a6522e30ec2422be520f6ebedd/cmd2-0.9.6-py3-none-any.whl (86kB)\n",
            "\u001b[K    100% |████████████████████████████████| 92kB 23.9MB/s \n",
            "\u001b[?25hCollecting PrettyTable<0.8,>=0.7.1 (from cliff<2.9,>=2.8.0->kaggle-cli)\n",
            "  Downloading https://files.pythonhosted.org/packages/ef/30/4b0746848746ed5941f052479e7c23d2b56d174b82f4fd34a25e389831f5/prettytable-0.7.2.tar.bz2\n",
            "Requirement already satisfied: pyparsing>=2.1.0 in /usr/local/lib/python3.6/dist-packages (from cliff<2.9,>=2.8.0->kaggle-cli) (2.3.0)\n",
            "Requirement already satisfied: six>=1.9.0 in /usr/local/lib/python3.6/dist-packages (from cliff<2.9,>=2.8.0->kaggle-cli) (1.11.0)\n",
            "Collecting stevedore>=1.20.0 (from cliff<2.9,>=2.8.0->kaggle-cli)\n",
            "\u001b[?25l  Downloading https://files.pythonhosted.org/packages/35/fa/8683fab2a6e15ecfe107996e56fab91e52fe3ec0b40ca9440a0e1ffe6892/stevedore-1.30.0-py2.py3-none-any.whl (42kB)\n",
            "\u001b[K    100% |████████████████████████████████| 51kB 20.9MB/s \n",
            "\u001b[?25hRequirement already satisfied: PyYAML>=3.10.0 in /usr/local/lib/python3.6/dist-packages (from cliff<2.9,>=2.8.0->kaggle-cli) (3.13)\n",
            "Requirement already satisfied: requests>=2.0 in /usr/local/lib/python3.6/dist-packages (from MechanicalSoup<0.9,>=0.7.0->kaggle-cli) (2.18.4)\n",
            "Collecting python-utils>=2.1.0 (from progressbar2<3.35,>=3.34.3->kaggle-cli)\n",
            "  Downloading https://files.pythonhosted.org/packages/eb/a0/19119d8b7c05be49baf6c593f11c432d571b70d805f2fe94c0585e55e4c8/python_utils-2.3.0-py2.py3-none-any.whl\n",
            "Collecting attrs>=16.3.0 (from cmd2>=0.6.7->cliff<2.9,>=2.8.0->kaggle-cli)\n",
            "  Downloading https://files.pythonhosted.org/packages/3a/e1/5f9023cc983f1a628a8c2fd051ad19e76ff7b142a0faf329336f9a62a514/attrs-18.2.0-py2.py3-none-any.whl\n",
            "Requirement already satisfied: wcwidth>=0.1.7 in /usr/local/lib/python3.6/dist-packages (from cmd2>=0.6.7->cliff<2.9,>=2.8.0->kaggle-cli) (0.1.7)\n",
            "Collecting pyperclip>=1.5.27 (from cmd2>=0.6.7->cliff<2.9,>=2.8.0->kaggle-cli)\n",
            "  Downloading https://files.pythonhosted.org/packages/2d/0f/4eda562dffd085945d57c2d9a5da745cfb5228c02bc90f2c74bbac746243/pyperclip-1.7.0.tar.gz\n",
            "Collecting colorama (from cmd2>=0.6.7->cliff<2.9,>=2.8.0->kaggle-cli)\n",
            "  Downloading https://files.pythonhosted.org/packages/0a/93/6e8289231675d561d476d656c2ee3a868c1cca207e16c118d4503b25e2bf/colorama-0.4.0-py2.py3-none-any.whl\n",
            "Requirement already satisfied: urllib3<1.23,>=1.21.1 in /usr/local/lib/python3.6/dist-packages (from requests>=2.0->MechanicalSoup<0.9,>=0.7.0->kaggle-cli) (1.22)\n",
            "Requirement already satisfied: certifi>=2017.4.17 in /usr/local/lib/python3.6/dist-packages (from requests>=2.0->MechanicalSoup<0.9,>=0.7.0->kaggle-cli) (2018.10.15)\n",
            "Requirement already satisfied: idna<2.7,>=2.5 in /usr/local/lib/python3.6/dist-packages (from requests>=2.0->MechanicalSoup<0.9,>=0.7.0->kaggle-cli) (2.6)\n",
            "Requirement already satisfied: chardet<3.1.0,>=3.0.2 in /usr/local/lib/python3.6/dist-packages (from requests>=2.0->MechanicalSoup<0.9,>=0.7.0->kaggle-cli) (3.0.4)\n",
            "Building wheels for collected packages: kaggle-cli, cliff, configparser, PrettyTable, pyperclip\n",
            "  Running setup.py bdist_wheel for kaggle-cli ... \u001b[?25l-\b \bdone\n",
            "\u001b[?25h  Stored in directory: /root/.cache/pip/wheels/d5/bb/10/c1dd1b08c7433c943cb55c46367ae3f891415e8a37300ff8a7\n",
            "  Running setup.py bdist_wheel for cliff ... \u001b[?25l-\b \b\\\b \bdone\n",
            "\u001b[?25h  Stored in directory: /root/.cache/pip/wheels/02/22/09/66f8c243f9c68dee7e6456a0fd6c117439a64394fdaf02d965\n",
            "  Running setup.py bdist_wheel for configparser ... \u001b[?25l-\b \bdone\n",
            "\u001b[?25h  Stored in directory: /root/.cache/pip/wheels/a3/61/79/424ef897a2f3b14684a7de5d89e8600b460b89663e6ce9d17c\n",
            "  Running setup.py bdist_wheel for PrettyTable ... \u001b[?25l-\b \bdone\n",
            "\u001b[?25h  Stored in directory: /root/.cache/pip/wheels/80/34/1c/3967380d9676d162cb59513bd9dc862d0584e045a162095606\n",
            "  Running setup.py bdist_wheel for pyperclip ... \u001b[?25l-\b \bdone\n",
            "\u001b[?25h  Stored in directory: /root/.cache/pip/wheels/92/f0/ac/2ba2972034e98971c3654ece337ac61e546bdeb34ca960dc8c\n",
            "Successfully built kaggle-cli cliff configparser PrettyTable pyperclip\n",
            "Installing collected packages: pbr, attrs, pyperclip, colorama, cmd2, PrettyTable, stevedore, cliff, MechanicalSoup, lxml, cssselect, configparser, python-utils, progressbar2, kaggle-cli\n",
            "Successfully installed MechanicalSoup-0.8.0 PrettyTable-0.7.2 attrs-18.2.0 cliff-2.8.2 cmd2-0.9.6 colorama-0.4.0 configparser-3.5.0 cssselect-1.0.3 kaggle-cli-0.12.13 lxml-4.0.0 pbr-5.1.1 progressbar2-3.34.3 pyperclip-1.7.0 python-utils-2.3.0 stevedore-1.30.0\n",
            "/usr/local/lib/python3.6/dist-packages/mechanicalsoup/browser.py:37: UserWarning: No parser was explicitly specified, so I'm using the best available HTML parser for this system (\"lxml\"). This usually isn't a problem, but if you run this code on another system, or in a different virtual environment, it may use a different parser and behave differently.\n",
            "\n",
            "The code that caused this warning is on line 37 of the file /usr/local/lib/python3.6/dist-packages/mechanicalsoup/browser.py. To get rid of this warning, pass the additional argument 'features=\"lxml\"' to the BeautifulSoup constructor.\n",
            "\n",
            "  response.content, **soup_config)\n",
            "downloading https://www.kaggle.com/c/dog-breed-identification/download/labels.csv.zip\n",
            "\n",
            "labels.csv.zip 100% |################################| Time: 0:00:00 578.6 KiB/s\n",
            "\n",
            "downloading https://www.kaggle.com/c/dog-breed-identification/download/sample_submission.csv.zip\n",
            "\n",
            "sample_submission.csv.zip 100% |#####################| Time: 0:00:00 480.8 KiB/s\n",
            "\n",
            "downloading https://www.kaggle.com/c/dog-breed-identification/download/test.zip\n",
            "\n",
            "test.zip 100% |######################################| Time: 0:00:11  29.5 MiB/s\n",
            "\n",
            "downloading https://www.kaggle.com/c/dog-breed-identification/download/train.zip\n",
            "\n",
            "train.zip 100% |#####################################| Time: 0:00:12  26.6 MiB/s\n",
            "\n"
          ],
          "name": "stdout"
        }
      ]
    },
    {
      "metadata": {
        "id": "DNHzKBM4BHqE",
        "colab_type": "code",
        "colab": {
          "base_uri": "https://localhost:8080/",
          "height": 34
        },
        "outputId": "53d0c3f4-58e8-4697-edc6-f4f78d392336"
      },
      "cell_type": "code",
      "source": [
        "!ls"
      ],
      "execution_count": 1,
      "outputs": [
        {
          "output_type": "stream",
          "text": [
            "sample_data\n"
          ],
          "name": "stdout"
        }
      ]
    },
    {
      "metadata": {
        "id": "GT5zssp8UoT-",
        "colab_type": "code",
        "colab": {}
      },
      "cell_type": "code",
      "source": [
        "!unzip -q labels.csv.zip\n",
        "!unzip -q train.zip"
      ],
      "execution_count": 0,
      "outputs": []
    },
    {
      "metadata": {
        "id": "hu1HNJI9UrrX",
        "colab_type": "code",
        "outputId": "7332c925-d4f8-4152-bcd3-69f49ed2230a",
        "colab": {
          "base_uri": "https://localhost:8080/",
          "height": 51
        }
      },
      "cell_type": "code",
      "source": [
        "!unzip sample_submission.csv.zip"
      ],
      "execution_count": 4,
      "outputs": [
        {
          "output_type": "stream",
          "text": [
            "Archive:  sample_submission.csv.zip\n",
            "  inflating: sample_submission.csv   \n"
          ],
          "name": "stdout"
        }
      ]
    },
    {
      "metadata": {
        "id": "uXVQKTvBWYDf",
        "colab_type": "code",
        "colab": {}
      },
      "cell_type": "code",
      "source": [
        "#%matplotlib inline\n",
        "import time\n",
        "import numpy as np\n",
        "import pandas as pd\n",
        "import datetime as dt\n",
        "import matplotlib.pyplot as plt\n",
        "from os import listdir, makedirs, getcwd, remove\n",
        "from os.path import isfile, join, abspath, exists, isdir, expanduser\n",
        "from PIL import Image\n",
        "import torch\n",
        "from torch.optim import lr_scheduler\n",
        "from torch.autograd import Variable\n",
        "from torch.utils.data import Dataset, DataLoader\n",
        "import torchvision\n",
        "from torchvision import transforms, datasets, models"
      ],
      "execution_count": 0,
      "outputs": []
    },
    {
      "metadata": {
        "id": "oqoUXOimVr93",
        "colab_type": "code",
        "outputId": "ee63322d-fad7-4753-9d09-de6c66478ddc",
        "colab": {
          "base_uri": "https://localhost:8080/",
          "height": 34
        }
      },
      "cell_type": "code",
      "source": [
        "INPUT_SIZE = 224\n",
        "NUM_CLASSES = 120\n",
        "data_dir = '/content'\n",
        "labels = pd.read_csv(join(data_dir, 'labels.csv'))\n",
        "sample_submission = pd.read_csv(join(data_dir, 'sample_submission.csv'))\n",
        "print(len(listdir(join(data_dir, 'train'))), len(labels))\n",
        "#print(len(listdir(join(data_dir, 'test'))), len(sample_submission))"
      ],
      "execution_count": 6,
      "outputs": [
        {
          "output_type": "stream",
          "text": [
            "10222 10222\n"
          ],
          "name": "stdout"
        }
      ]
    },
    {
      "metadata": {
        "id": "KLZHr_K9Wwle",
        "colab_type": "code",
        "outputId": "f2dc55ae-8c8e-41a5-9153-a6b4c70984f1",
        "colab": {
          "base_uri": "https://localhost:8080/",
          "height": 34
        }
      },
      "cell_type": "code",
      "source": [
        "selected_breed_list = list(labels.groupby('breed').count().sort_values(by='id', ascending=False).head(NUM_CLASSES).index)\n",
        "labels = labels[labels['breed'].isin(selected_breed_list)]\n",
        "labels['target'] = 1\n",
        "labels['rank'] = labels.groupby('breed').rank()['id']\n",
        "labels_pivot = labels.pivot('id', 'breed', 'target').reset_index().fillna(0)\n",
        "\n",
        "train = labels_pivot.sample(frac=0.8)\n",
        "valid = labels_pivot[~labels_pivot['id'].isin(train['id'])]\n",
        "print(train.shape, valid.shape) # The shape is 121 because 120 class + Id (Column)"
      ],
      "execution_count": 7,
      "outputs": [
        {
          "output_type": "stream",
          "text": [
            "(8178, 121) (2044, 121)\n"
          ],
          "name": "stdout"
        }
      ]
    },
    {
      "metadata": {
        "id": "NVChCUMmcDM7",
        "colab_type": "code",
        "colab": {
          "base_uri": "https://localhost:8080/",
          "height": 270
        },
        "outputId": "eefdc7f6-3742-47a4-ad16-7e68ae703c14"
      },
      "cell_type": "code",
      "source": [
        "valid.head()"
      ],
      "execution_count": 14,
      "outputs": [
        {
          "output_type": "execute_result",
          "data": {
            "text/html": [
              "<div>\n",
              "<style scoped>\n",
              "    .dataframe tbody tr th:only-of-type {\n",
              "        vertical-align: middle;\n",
              "    }\n",
              "\n",
              "    .dataframe tbody tr th {\n",
              "        vertical-align: top;\n",
              "    }\n",
              "\n",
              "    .dataframe thead th {\n",
              "        text-align: right;\n",
              "    }\n",
              "</style>\n",
              "<table border=\"1\" class=\"dataframe\">\n",
              "  <thead>\n",
              "    <tr style=\"text-align: right;\">\n",
              "      <th>breed</th>\n",
              "      <th>id</th>\n",
              "      <th>affenpinscher</th>\n",
              "      <th>afghan_hound</th>\n",
              "      <th>african_hunting_dog</th>\n",
              "      <th>airedale</th>\n",
              "      <th>american_staffordshire_terrier</th>\n",
              "      <th>appenzeller</th>\n",
              "      <th>australian_terrier</th>\n",
              "      <th>basenji</th>\n",
              "      <th>basset</th>\n",
              "      <th>...</th>\n",
              "      <th>toy_poodle</th>\n",
              "      <th>toy_terrier</th>\n",
              "      <th>vizsla</th>\n",
              "      <th>walker_hound</th>\n",
              "      <th>weimaraner</th>\n",
              "      <th>welsh_springer_spaniel</th>\n",
              "      <th>west_highland_white_terrier</th>\n",
              "      <th>whippet</th>\n",
              "      <th>wire-haired_fox_terrier</th>\n",
              "      <th>yorkshire_terrier</th>\n",
              "    </tr>\n",
              "  </thead>\n",
              "  <tbody>\n",
              "    <tr>\n",
              "      <th>5</th>\n",
              "      <td>002211c81b498ef88e1b40b9abf84e1d</td>\n",
              "      <td>0.0</td>\n",
              "      <td>0.0</td>\n",
              "      <td>0.0</td>\n",
              "      <td>0.0</td>\n",
              "      <td>0.0</td>\n",
              "      <td>0.0</td>\n",
              "      <td>0.0</td>\n",
              "      <td>0.0</td>\n",
              "      <td>0.0</td>\n",
              "      <td>...</td>\n",
              "      <td>0.0</td>\n",
              "      <td>0.0</td>\n",
              "      <td>0.0</td>\n",
              "      <td>0.0</td>\n",
              "      <td>0.0</td>\n",
              "      <td>0.0</td>\n",
              "      <td>0.0</td>\n",
              "      <td>0.0</td>\n",
              "      <td>0.0</td>\n",
              "      <td>0.0</td>\n",
              "    </tr>\n",
              "    <tr>\n",
              "      <th>6</th>\n",
              "      <td>00290d3e1fdd27226ba27a8ce248ce85</td>\n",
              "      <td>0.0</td>\n",
              "      <td>0.0</td>\n",
              "      <td>0.0</td>\n",
              "      <td>0.0</td>\n",
              "      <td>0.0</td>\n",
              "      <td>0.0</td>\n",
              "      <td>0.0</td>\n",
              "      <td>0.0</td>\n",
              "      <td>0.0</td>\n",
              "      <td>...</td>\n",
              "      <td>0.0</td>\n",
              "      <td>0.0</td>\n",
              "      <td>0.0</td>\n",
              "      <td>0.0</td>\n",
              "      <td>0.0</td>\n",
              "      <td>0.0</td>\n",
              "      <td>0.0</td>\n",
              "      <td>0.0</td>\n",
              "      <td>0.0</td>\n",
              "      <td>0.0</td>\n",
              "    </tr>\n",
              "    <tr>\n",
              "      <th>12</th>\n",
              "      <td>00693b8bc2470375cc744a6391d397ec</td>\n",
              "      <td>0.0</td>\n",
              "      <td>0.0</td>\n",
              "      <td>0.0</td>\n",
              "      <td>0.0</td>\n",
              "      <td>0.0</td>\n",
              "      <td>0.0</td>\n",
              "      <td>0.0</td>\n",
              "      <td>0.0</td>\n",
              "      <td>0.0</td>\n",
              "      <td>...</td>\n",
              "      <td>0.0</td>\n",
              "      <td>0.0</td>\n",
              "      <td>0.0</td>\n",
              "      <td>0.0</td>\n",
              "      <td>0.0</td>\n",
              "      <td>0.0</td>\n",
              "      <td>0.0</td>\n",
              "      <td>0.0</td>\n",
              "      <td>0.0</td>\n",
              "      <td>0.0</td>\n",
              "    </tr>\n",
              "    <tr>\n",
              "      <th>18</th>\n",
              "      <td>007ff9a78eba2aebb558afea3a51c469</td>\n",
              "      <td>0.0</td>\n",
              "      <td>0.0</td>\n",
              "      <td>0.0</td>\n",
              "      <td>0.0</td>\n",
              "      <td>0.0</td>\n",
              "      <td>0.0</td>\n",
              "      <td>0.0</td>\n",
              "      <td>0.0</td>\n",
              "      <td>0.0</td>\n",
              "      <td>...</td>\n",
              "      <td>0.0</td>\n",
              "      <td>0.0</td>\n",
              "      <td>0.0</td>\n",
              "      <td>0.0</td>\n",
              "      <td>0.0</td>\n",
              "      <td>0.0</td>\n",
              "      <td>0.0</td>\n",
              "      <td>0.0</td>\n",
              "      <td>0.0</td>\n",
              "      <td>0.0</td>\n",
              "    </tr>\n",
              "    <tr>\n",
              "      <th>26</th>\n",
              "      <td>00a862390341c5be090dd72bd2bc19ef</td>\n",
              "      <td>0.0</td>\n",
              "      <td>0.0</td>\n",
              "      <td>0.0</td>\n",
              "      <td>0.0</td>\n",
              "      <td>0.0</td>\n",
              "      <td>0.0</td>\n",
              "      <td>0.0</td>\n",
              "      <td>0.0</td>\n",
              "      <td>0.0</td>\n",
              "      <td>...</td>\n",
              "      <td>0.0</td>\n",
              "      <td>0.0</td>\n",
              "      <td>0.0</td>\n",
              "      <td>0.0</td>\n",
              "      <td>0.0</td>\n",
              "      <td>0.0</td>\n",
              "      <td>0.0</td>\n",
              "      <td>0.0</td>\n",
              "      <td>0.0</td>\n",
              "      <td>0.0</td>\n",
              "    </tr>\n",
              "  </tbody>\n",
              "</table>\n",
              "<p>5 rows × 121 columns</p>\n",
              "</div>"
            ],
            "text/plain": [
              "breed                                id  affenpinscher  afghan_hound  \\\n",
              "5      002211c81b498ef88e1b40b9abf84e1d            0.0           0.0   \n",
              "6      00290d3e1fdd27226ba27a8ce248ce85            0.0           0.0   \n",
              "12     00693b8bc2470375cc744a6391d397ec            0.0           0.0   \n",
              "18     007ff9a78eba2aebb558afea3a51c469            0.0           0.0   \n",
              "26     00a862390341c5be090dd72bd2bc19ef            0.0           0.0   \n",
              "\n",
              "breed  african_hunting_dog  airedale  american_staffordshire_terrier  \\\n",
              "5                      0.0       0.0                             0.0   \n",
              "6                      0.0       0.0                             0.0   \n",
              "12                     0.0       0.0                             0.0   \n",
              "18                     0.0       0.0                             0.0   \n",
              "26                     0.0       0.0                             0.0   \n",
              "\n",
              "breed  appenzeller  australian_terrier  basenji  basset        ...          \\\n",
              "5              0.0                 0.0      0.0     0.0        ...           \n",
              "6              0.0                 0.0      0.0     0.0        ...           \n",
              "12             0.0                 0.0      0.0     0.0        ...           \n",
              "18             0.0                 0.0      0.0     0.0        ...           \n",
              "26             0.0                 0.0      0.0     0.0        ...           \n",
              "\n",
              "breed  toy_poodle  toy_terrier  vizsla  walker_hound  weimaraner  \\\n",
              "5             0.0          0.0     0.0           0.0         0.0   \n",
              "6             0.0          0.0     0.0           0.0         0.0   \n",
              "12            0.0          0.0     0.0           0.0         0.0   \n",
              "18            0.0          0.0     0.0           0.0         0.0   \n",
              "26            0.0          0.0     0.0           0.0         0.0   \n",
              "\n",
              "breed  welsh_springer_spaniel  west_highland_white_terrier  whippet  \\\n",
              "5                         0.0                          0.0      0.0   \n",
              "6                         0.0                          0.0      0.0   \n",
              "12                        0.0                          0.0      0.0   \n",
              "18                        0.0                          0.0      0.0   \n",
              "26                        0.0                          0.0      0.0   \n",
              "\n",
              "breed  wire-haired_fox_terrier  yorkshire_terrier  \n",
              "5                          0.0                0.0  \n",
              "6                          0.0                0.0  \n",
              "12                         0.0                0.0  \n",
              "18                         0.0                0.0  \n",
              "26                         0.0                0.0  \n",
              "\n",
              "[5 rows x 121 columns]"
            ]
          },
          "metadata": {
            "tags": []
          },
          "execution_count": 14
        }
      ]
    },
    {
      "metadata": {
        "id": "TlsHnL5OYOib",
        "colab_type": "code",
        "colab": {
          "base_uri": "https://localhost:8080/",
          "height": 34
        },
        "outputId": "69236e6f-25ea-4e46-c4c2-4068210b5207"
      },
      "cell_type": "code",
      "source": [
        "mat = valid.iloc[:,1:].as_matrix().astype('float')\n",
        "classes = np.argmax(mat, axis=1)\n",
        "len(classes)"
      ],
      "execution_count": 20,
      "outputs": [
        {
          "output_type": "execute_result",
          "data": {
            "text/plain": [
              "2044"
            ]
          },
          "metadata": {
            "tags": []
          },
          "execution_count": 20
        }
      ]
    },
    {
      "metadata": {
        "id": "0azF1o3xcziU",
        "colab_type": "code",
        "colab": {
          "base_uri": "https://localhost:8080/",
          "height": 34
        },
        "outputId": "3f442c41-f855-465a-8e2c-2c73bb5bd9a5"
      },
      "cell_type": "code",
      "source": [
        "class_element = np.bincount(classes)\n",
        "len(class_element)"
      ],
      "execution_count": 22,
      "outputs": [
        {
          "output_type": "execute_result",
          "data": {
            "text/plain": [
              "120"
            ]
          },
          "metadata": {
            "tags": []
          },
          "execution_count": 22
        }
      ]
    },
    {
      "metadata": {
        "id": "_Jl7Oh56W_Df",
        "colab_type": "code",
        "outputId": "99f0f15f-c56e-4609-d5b7-17956e61316c",
        "colab": {
          "base_uri": "https://localhost:8080/",
          "height": 34
        }
      },
      "cell_type": "code",
      "source": [
        "print(train.iloc[0].unique())"
      ],
      "execution_count": 10,
      "outputs": [
        {
          "output_type": "stream",
          "text": [
            "['bd6927dadc87d3e7c5beb8009ecac5e2' 0.0 1.0]\n"
          ],
          "name": "stdout"
        }
      ]
    },
    {
      "metadata": {
        "id": "bnzJje_-rTXY",
        "colab_type": "code",
        "colab": {}
      },
      "cell_type": "code",
      "source": [
        "train[train.id == '000bec180eb18c7604dcecc8fe0dba07'].T.head(25)"
      ],
      "execution_count": 0,
      "outputs": []
    },
    {
      "metadata": {
        "id": "z2QPlW7Vp-qD",
        "colab_type": "code",
        "colab": {}
      },
      "cell_type": "code",
      "source": [
        "df = pd.DataFrame(train.groupby('id').idxmax(axis=1).reset_index())"
      ],
      "execution_count": 0,
      "outputs": []
    },
    {
      "metadata": {
        "id": "onXjFnVLsBi5",
        "colab_type": "code",
        "colab": {}
      },
      "cell_type": "code",
      "source": [
        "df.iloc[:,2].value_counts()"
      ],
      "execution_count": 0,
      "outputs": []
    },
    {
      "metadata": {
        "id": "Rtsjing4XAsV",
        "colab_type": "code",
        "colab": {}
      },
      "cell_type": "code",
      "source": [
        "class DogsDataset(Dataset):\n",
        "    def __init__(self, labels, root_dir, subset=False, transform=None):\n",
        "        self.labels = labels\n",
        "        self.root_dir = root_dir\n",
        "        self.transform = transform\n",
        "    \n",
        "    def __len__(self):\n",
        "        return len(self.labels)\n",
        "    \n",
        "    def __getitem__(self, idx):\n",
        "        img_name = '{}.jpg'.format(self.labels.iloc[idx, 0])\n",
        "        fullname = join(self.root_dir, img_name)\n",
        "        image = Image.open(fullname)\n",
        "        labels = self.labels.iloc[idx, 1:].as_matrix().astype('float')\n",
        "        labels = np.argmax(labels)\n",
        "        if self.transform:\n",
        "            image = self.transform(image)\n",
        "        return [image, labels]"
      ],
      "execution_count": 0,
      "outputs": []
    },
    {
      "metadata": {
        "id": "NgMtnwnmYqeV",
        "colab_type": "code",
        "colab": {}
      },
      "cell_type": "code",
      "source": [
        "TRAIN_IMG_PATH = \"/content/train\"\n",
        "#TEST_IMG_PATH = \"/content/test\"\n",
        "LABELS_CSV_PATH = \"/content/labels.csv\"\n",
        "SAMPLE_SUB_PATH = \"/content/sample_submission.csv\""
      ],
      "execution_count": 0,
      "outputs": []
    },
    {
      "metadata": {
        "id": "FHpmSseeW3PY",
        "colab_type": "code",
        "colab": {}
      },
      "cell_type": "code",
      "source": [
        ""
      ],
      "execution_count": 0,
      "outputs": []
    },
    {
      "metadata": {
        "id": "CWHHDDT7XXtn",
        "colab_type": "code",
        "outputId": "d5793ecb-961a-4cdd-894f-c42aca215ee6",
        "colab": {
          "base_uri": "https://localhost:8080/",
          "height": 51
        }
      },
      "cell_type": "code",
      "source": [
        "normalize = transforms.Normalize(\n",
        "   mean=[0.485, 0.456, 0.406],\n",
        "   std=[0.229, 0.224, 0.225]\n",
        ")\n",
        "ds_trans = transforms.Compose([transforms.Scale(224),\n",
        "                               transforms.CenterCrop(224),\n",
        "                               transforms.ToTensor(),\n",
        "                               normalize])\n",
        "train_ds = DogsDataset(train, TRAIN_IMG_PATH, transform=ds_trans)\n",
        "valid_ds = DogsDataset(valid, TRAIN_IMG_PATH, transform=ds_trans)\n",
        "\n",
        "\n",
        "train_dl = DataLoader(train_ds, batch_size=8, shuffle=True, num_workers=4)\n",
        "valid_dl = DataLoader(valid_ds, batch_size=8, shuffle=True, num_workers=4)"
      ],
      "execution_count": 10,
      "outputs": [
        {
          "output_type": "stream",
          "text": [
            "/usr/local/lib/python3.6/dist-packages/torchvision/transforms/transforms.py:188: UserWarning: The use of the transforms.Scale transform is deprecated, please use transforms.Resize instead.\n",
            "  \"please use transforms.Resize instead.\")\n"
          ],
          "name": "stderr"
        }
      ]
    },
    {
      "metadata": {
        "id": "RBKbzVFZCOTO",
        "colab_type": "code",
        "colab": {}
      },
      "cell_type": "code",
      "source": [
        "dataloaders = {\"train\": train_dl, \"valid\": valid_dl}"
      ],
      "execution_count": 0,
      "outputs": []
    },
    {
      "metadata": {
        "id": "VL7XKlqRXdgz",
        "colab_type": "code",
        "colab": {
          "base_uri": "https://localhost:8080/",
          "height": 51
        },
        "outputId": "a9f7408a-5ca2-4c53-f765-e37f43c623bd"
      },
      "cell_type": "code",
      "source": [
        "model = torchvision.models.resnet34(pretrained=True)"
      ],
      "execution_count": 13,
      "outputs": [
        {
          "output_type": "stream",
          "text": [
            "Downloading: \"https://download.pytorch.org/models/resnet34-333f7ec4.pth\" to /root/.torch/models/resnet34-333f7ec4.pth\n",
            "100%|██████████| 87306240/87306240 [00:00<00:00, 89366942.62it/s]\n"
          ],
          "name": "stderr"
        }
      ]
    },
    {
      "metadata": {
        "id": "hoNwfxsVD2qP",
        "colab_type": "code",
        "colab": {}
      },
      "cell_type": "code",
      "source": [
        "for param in model.parameters():\n",
        "    param.requires_grad = False"
      ],
      "execution_count": 0,
      "outputs": []
    },
    {
      "metadata": {
        "id": "aQ2vjKx4aE7H",
        "colab_type": "code",
        "colab": {}
      },
      "cell_type": "code",
      "source": [
        "import torch.nn as nn\n",
        "model.fc = nn.Linear(model.fc.in_features, 120)"
      ],
      "execution_count": 0,
      "outputs": []
    },
    {
      "metadata": {
        "id": "fYxcNeJJebsR",
        "colab_type": "code",
        "colab": {}
      },
      "cell_type": "code",
      "source": [
        "device = torch.device(\"cuda:0\" if torch.cuda.is_available() else \"cpu\")"
      ],
      "execution_count": 0,
      "outputs": []
    },
    {
      "metadata": {
        "id": "cXAg4JLSr_iO",
        "colab_type": "code",
        "colab": {}
      },
      "cell_type": "code",
      "source": [
        "import torch.optim as optim\n",
        "criterion = nn.CrossEntropyLoss()\n",
        "optimizer = optim.Adam(filter(lambda p: p.requires_grad, model.parameters()), lr=0.003)"
      ],
      "execution_count": 0,
      "outputs": []
    },
    {
      "metadata": {
        "id": "Pu7gQpBUuW_Y",
        "colab_type": "code",
        "colab": {}
      },
      "cell_type": "code",
      "source": [
        "from time import time\n",
        "import copy\n",
        "import sys\n",
        "dataset_sizes = {\"train\": len(train_ds),\"valid\":len(valid_ds)}"
      ],
      "execution_count": 0,
      "outputs": []
    },
    {
      "metadata": {
        "id": "f-rz5npJs5ZF",
        "colab_type": "code",
        "colab": {}
      },
      "cell_type": "code",
      "source": [
        "def train_model(model, criterion, optimizer, dataloaders, device, num_epochs=25):\n",
        "    since = time()\n",
        "    model = model.to(device)\n",
        "\n",
        "    best_model_wts = copy.deepcopy(model.state_dict())\n",
        "    best_acc = 0.0\n",
        "    \n",
        "    # Count training and validation examples\n",
        "    train_examples = len(dataloaders['train'].dataset)\n",
        "    valid_examples = len(dataloaders['valid'].dataset)\n",
        "\n",
        "    train_bs = dataloaders['train'].batch_size\n",
        "    valid_bs = dataloaders['valid'].batch_size\n",
        "    \n",
        "    # Calculate number of minibatches for training and validation\n",
        "    num_minibatch = {'train': int(np.ceil(train_examples / train_bs)), \n",
        "                     'valid': int(np.ceil(valid_examples / valid_bs))}\n",
        "\n",
        "    for epoch in range(num_epochs):\n",
        "        print(f'Epoch {epoch+1}/{num_epochs}')\n",
        "        print('-' * 10)\n",
        "\n",
        "        # Each epoch has a training and validation phase\n",
        "        for phase in ['train', 'valid']:\n",
        "            if phase == 'train':\n",
        "                model.train()  # Set model to training mode\n",
        "            else:\n",
        "                model.eval()   # Set model to evaluate mode\n",
        "\n",
        "            running_loss = 0.0\n",
        "            running_corrects = 0\n",
        "\n",
        "            # Iterate over data.\n",
        "            mini_batch = 0\n",
        "            for inputs, labels in dataloaders[phase]:\n",
        "                inputs = inputs.to(device)\n",
        "                labels = labels.to(device)\n",
        "\n",
        "                mini_batch += 1\n",
        "                # Print status bar\n",
        "                if phase == 'train':\n",
        "                    mini_batch_comp = int((mini_batch/num_minibatch[phase])*100)//2\n",
        "                    sys.stdout.write('\\r')\n",
        "                    sys.stdout.write(\"%s[%-50s] %d%%\" %(phase, \"=\"*mini_batch_comp, 2*mini_batch_comp))\n",
        "                else:\n",
        "                    mini_batch_comp = int((mini_batch/num_minibatch[phase])*100)//5\n",
        "                    sys.stdout.write('\\r')\n",
        "                    sys.stdout.write(\"%s[%-20s] %d%%\" %(phase, \"=\"*mini_batch_comp, 5*mini_batch_comp))\n",
        "\n",
        "                optimizer.zero_grad()\n",
        "\n",
        "                # forward\n",
        "                # track history if only in train\n",
        "                with torch.set_grad_enabled(phase == 'train'):\n",
        "                    outputs = model(inputs)\n",
        "                    _, preds = torch.max(outputs, 1)\n",
        "                    loss = criterion(outputs, labels)\n",
        "\n",
        "                    # backward + optimize only if in training phase\n",
        "                    if phase == 'train':\n",
        "                        loss.backward()\n",
        "                        optimizer.step()\n",
        "\n",
        "                # statistics\n",
        "                running_loss += loss.item() * inputs.size(0)\n",
        "                running_corrects += torch.sum(preds == labels.data)\n",
        "\n",
        "            epoch_loss = running_loss / dataset_sizes[phase]\n",
        "            epoch_acc = running_corrects.double() / dataset_sizes[phase]\n",
        "\n",
        "            print(\"\")\n",
        "            print(f'{phase} Loss: {epoch_loss} Acc: {epoch_acc}')\n",
        "\n",
        "            # deep copy the model\n",
        "            if phase == 'valid' and epoch_acc > best_acc:\n",
        "                best_acc = epoch_acc\n",
        "                best_model_wts = copy.deepcopy(model.state_dict())\n",
        "\n",
        "        print()\n",
        "\n",
        "    time_elapsed = time() - since\n",
        "    print(f'Training complete in {time_elapsed // 60}m {time_elapsed % 60}s')\n",
        "    print(f'Best val Acc: {best_acc}')\n",
        "\n",
        "    # load best model weights\n",
        "    model.load_state_dict(best_model_wts)\n",
        "    return model"
      ],
      "execution_count": 0,
      "outputs": []
    },
    {
      "metadata": {
        "id": "fskueM8ZtBpW",
        "colab_type": "code",
        "colab": {
          "base_uri": "https://localhost:8080/",
          "height": 408
        },
        "outputId": "2d930dd1-7bcb-45cc-9986-932be471e8d7"
      },
      "cell_type": "code",
      "source": [
        "model = train_model(model, criterion, optimizer, dataloaders, device, num_epochs=3)"
      ],
      "execution_count": 34,
      "outputs": [
        {
          "output_type": "stream",
          "text": [
            "Epoch 1/3\n",
            "----------\n",
            "train[==================================================] 100%\n",
            "train Loss: 1.2827251515052638 Acc: 0.6872095866960137\n",
            "valid[====================] 100%\n",
            "valid Loss: 1.3473306597810086 Acc: 0.7206457925636007\n",
            "\n",
            "Epoch 2/3\n",
            "----------\n",
            "train[==================================================] 100%\n",
            "train Loss: 1.2555606317610517 Acc: 0.7092198581560284\n",
            "valid[====================] 100%\n",
            "valid Loss: 1.4037232650061175 Acc: 0.7402152641878669\n",
            "\n",
            "Epoch 3/3\n",
            "----------\n",
            "train[==================================================] 100%\n",
            "train Loss: 1.2090853269360677 Acc: 0.723159696747371\n",
            "valid[====================] 100%\n",
            "valid Loss: 1.4286484673050635 Acc: 0.7446183953033267\n",
            "\n",
            "Training complete in 6.0m 0.7746415138244629s\n",
            "Best val Acc: 0.7446183953033267\n"
          ],
          "name": "stdout"
        }
      ]
    },
    {
      "metadata": {
        "id": "IgVTgsfre3LP",
        "colab_type": "code",
        "colab": {}
      },
      "cell_type": "code",
      "source": [
        "torch.save(model, \"dogscats_resnet34\")"
      ],
      "execution_count": 0,
      "outputs": []
    },
    {
      "metadata": {
        "id": "I8LdRbiEwrsd",
        "colab_type": "code",
        "colab": {}
      },
      "cell_type": "code",
      "source": [
        "model = torch.load(\"dogscats_resnet34\")"
      ],
      "execution_count": 0,
      "outputs": []
    },
    {
      "metadata": {
        "id": "nW5r3pUiww0i",
        "colab_type": "code",
        "colab": {}
      },
      "cell_type": "code",
      "source": [
        ""
      ],
      "execution_count": 0,
      "outputs": []
    },
    {
      "metadata": {
        "id": "5wklkId3eoAB",
        "colab_type": "code",
        "colab": {}
      },
      "cell_type": "code",
      "source": [
        "model_ft = models.resnet18(pretrained=True)\n",
        "num_ftrs = model_ft.fc.in_features\n",
        "model_ft.fc = nn.Linear(num_ftrs, 120)\n",
        "\n",
        "model_ft = model_ft.to(device)\n",
        "\n",
        "criterion = nn.CrossEntropyLoss()\n",
        "\n",
        "# Observe that all parameters are being optimized / we have updated all the layer in the resnet architecture by passing model_ft.parameters()\n",
        "#to the optimizer , again SGD with momentum is preferred over Adam ?? \n",
        "optimizer_ft = optim.SGD(model_ft.parameters(), lr=0.01, momentum=0.9)\n",
        "\n",
        "# Decay LR by a factor of 0.1 every 7 epochs\n",
        "exp_lr_scheduler = lr_scheduler.StepLR(optimizer_ft, step_size=7, gamma=0.1)"
      ],
      "execution_count": 0,
      "outputs": []
    },
    {
      "metadata": {
        "id": "7PtEMPbMfj0R",
        "colab_type": "code",
        "colab": {}
      },
      "cell_type": "code",
      "source": [
        "lr_find = lr_finder(model_ft, criterion, optimizer_ft, dataloaders, device)"
      ],
      "execution_count": 0,
      "outputs": []
    },
    {
      "metadata": {
        "id": "uA8Vfjlo8Ap3",
        "colab_type": "code",
        "colab": {
          "base_uri": "https://localhost:8080/",
          "height": 34
        },
        "outputId": "174d7a30-9af9-4d57-edbf-7b6215231728"
      },
      "cell_type": "code",
      "source": [
        "lr_find.fit()"
      ],
      "execution_count": 138,
      "outputs": [
        {
          "output_type": "stream",
          "text": [
            "[============================                      ] 56%"
          ],
          "name": "stdout"
        }
      ]
    },
    {
      "metadata": {
        "id": "bZW_VmgW8EsV",
        "colab_type": "code",
        "colab": {
          "base_uri": "https://localhost:8080/",
          "height": 351
        },
        "outputId": "4d530836-fcc8-4d82-900b-d51242e79ebd"
      },
      "cell_type": "code",
      "source": [
        "lr_find.plot_lr()"
      ],
      "execution_count": 139,
      "outputs": [
        {
          "output_type": "display_data",
          "data": {
            "image/png": "[encoded data removed]",
            "text/plain": [
              "<matplotlib.figure.Figure at 0x7f0e90cf0748>"
            ]
          },
          "metadata": {
            "tags": []
          }
        }
      ]
    },
    {
      "metadata": {
        "id": "CuD63W5uglet",
        "colab_type": "code",
        "colab": {}
      },
      "cell_type": "code",
      "source": [
        "dataset_sizes = {\"train\": len(train_ds),\"val\":len(valid_ds)}"
      ],
      "execution_count": 0,
      "outputs": []
    },
    {
      "metadata": {
        "id": "DVZso10k8DgT",
        "colab_type": "code",
        "colab": {}
      },
      "cell_type": "code",
      "source": [
        ""
      ],
      "execution_count": 0,
      "outputs": []
    },
    {
      "metadata": {
        "id": "_Y_SwdVRhN35",
        "colab_type": "code",
        "outputId": "170e0058-5afc-41bc-e6b7-4d287336110e",
        "colab": {
          "base_uri": "https://localhost:8080/",
          "height": 34
        }
      },
      "cell_type": "code",
      "source": [
        "print(dataset_sizes)"
      ],
      "execution_count": 72,
      "outputs": [
        {
          "output_type": "stream",
          "text": [
            "{'train': 8178, 'val': 2044}\n"
          ],
          "name": "stdout"
        }
      ]
    },
    {
      "metadata": {
        "id": "hPSjAZLe9oZr",
        "colab_type": "code",
        "colab": {
          "base_uri": "https://localhost:8080/",
          "height": 3026
        },
        "outputId": "b5995654-ed46-4124-8cd0-8be191fe80b5"
      },
      "cell_type": "code",
      "source": [
        "model, lr_hist = train_model(model_ft, criterion, optimizer_ft, dataloaders, device, scheduler, num_epochs=25)"
      ],
      "execution_count": 143,
      "outputs": [
        {
          "output_type": "stream",
          "text": [
            "Epoch 1/25\n",
            "----------\n",
            "train[==================================================] 100%\n",
            "train Loss: 1.063960767602769 Acc: 0.6724137931034483\n",
            "val[====================] 100%\n",
            "val Loss: 2.808013797972767 Acc: 0.3845401174168297\n",
            "\n",
            "Epoch 2/25\n",
            "----------\n",
            "train[==================================================] 100%\n",
            "train Loss: 0.7867576776550229 Acc: 0.7578870139398386\n",
            "val[====================] 100%\n",
            "val Loss: 2.7865011904337633 Acc: 0.39774951076320936\n",
            "\n",
            "Epoch 3/25\n",
            "----------\n",
            "train[==================================================] 100%\n",
            "train Loss: 0.5919074528839454 Acc: 0.8165810711665444\n",
            "val[====================] 100%\n",
            "val Loss: 3.4135780390461363 Acc: 0.36350293542074363\n",
            "\n",
            "Epoch 4/25\n",
            "----------\n",
            "train[==================================================] 100%\n",
            "train Loss: 0.4393373880855143 Acc: 0.8630471998043532\n",
            "val[====================] 100%\n",
            "val Loss: 3.0258722988826654 Acc: 0.4207436399217221\n",
            "\n",
            "Epoch 5/25\n",
            "----------\n",
            "train[==================================================] 100%\n",
            "train Loss: 0.34375611850643367 Acc: 0.8920273905600392\n",
            "val[====================] 100%\n",
            "val Loss: 3.0194288688163233 Acc: 0.39970645792563597\n",
            "\n",
            "Epoch 6/25\n",
            "----------\n",
            "train[==================================================] 100%\n",
            "train Loss: 0.22885878988687203 Acc: 0.9295671313279531\n",
            "val[====================] 100%\n",
            "val Loss: 2.9382161095650927 Acc: 0.4432485322896281\n",
            "\n",
            "Epoch 7/25\n",
            "----------\n",
            "train[==================================================] 100%\n",
            "train Loss: 0.1691429286459076 Acc: 0.9496209342137443\n",
            "val[====================] 100%\n",
            "val Loss: 3.0343167392241743 Acc: 0.45058708414872795\n",
            "\n",
            "Epoch 8/25\n",
            "----------\n",
            "train[==================================================] 100%\n",
            "train Loss: 0.13326997300994867 Acc: 0.9608706285155295\n",
            "val[====================] 100%\n",
            "val Loss: 2.8386807635339038 Acc: 0.45939334637964774\n",
            "\n",
            "Epoch 9/25\n",
            "----------\n",
            "train[==================================================] 100%\n",
            "train Loss: 0.06941576276906518 Acc: 0.9805575935436538\n",
            "val[====================] 100%\n",
            "val Loss: 2.8068640759313177 Acc: 0.4740704500978473\n",
            "\n",
            "Epoch 10/25\n",
            "----------\n",
            "train[==================================================] 100%\n",
            "train Loss: 0.0531042569072534 Acc: 0.9858156028368795\n",
            "val[====================] 100%\n",
            "val Loss: 2.7540337068927263 Acc: 0.5073385518590998\n",
            "\n",
            "Epoch 11/25\n",
            "----------\n",
            "train[==================================================] 100%\n",
            "train Loss: 0.05517823942776384 Acc: 0.9855710442651016\n",
            "val[====================] 100%\n",
            "val Loss: 2.7857058601136777 Acc: 0.48336594911937375\n",
            "\n",
            "Epoch 12/25\n",
            "----------\n",
            "train[==================================================] 100%\n",
            "train Loss: 0.054594978839559875 Acc: 0.9852042064074347\n",
            "val[====================] 100%\n",
            "val Loss: 2.665110680455098 Acc: 0.485812133072407\n",
            "\n",
            "Epoch 13/25\n",
            "----------\n",
            "train[==================================================] 100%\n",
            "train Loss: 0.026796999640032144 Acc: 0.9938860357055516\n",
            "val[====================] 100%\n",
            "val Loss: 2.502229400810197 Acc: 0.5264187866927592\n",
            "\n",
            "Epoch 14/25\n",
            "----------\n",
            "train[==================================================] 100%\n",
            "train Loss: 0.032651415195404446 Acc: 0.9905844949865493\n",
            "val[====================] 100%\n",
            "val Loss: 2.6876861384236883 Acc: 0.49363992172211346\n",
            "\n",
            "Epoch 15/25\n",
            "----------\n",
            "train[==================================================] 100%\n",
            "train Loss: 0.03532405994608397 Acc: 0.9902176571288824\n",
            "val[====================] 100%\n",
            "val Loss: 2.633531391503993 Acc: 0.49902152641878667\n",
            "\n",
            "Epoch 16/25\n",
            "----------\n",
            "train[==================================================] 100%\n",
            "train Loss: 0.024434926137273483 Acc: 0.9933969185619956\n",
            "val[====================] 100%\n",
            "val Loss: 2.679817155615924 Acc: 0.5146771037181996\n",
            "\n",
            "Epoch 17/25\n",
            "----------\n",
            "train[==================================================] 100%\n",
            "train Loss: 0.021423058802529343 Acc: 0.9951088285644413\n",
            "val[====================] 100%\n",
            "val Loss: 2.717041641532092 Acc: 0.5034246575342466\n",
            "\n",
            "Epoch 18/25\n",
            "----------\n",
            "train[==================================================] 100%\n",
            "train Loss: 0.010368305769780645 Acc: 0.9981658107116655\n",
            "val[====================] 100%\n",
            "val Loss: 2.6474896389444282 Acc: 0.5229941291585127\n",
            "\n",
            "Epoch 19/25\n",
            "----------\n",
            "train[==================================================] 100%\n",
            "train Loss: 0.012849232246135843 Acc: 0.9966984592809979\n",
            "val[====================] 100%\n",
            "val Loss: 2.6251496624806623 Acc: 0.5161448140900196\n",
            "\n",
            "Epoch 20/25\n",
            "----------\n",
            "train[==================================================] 100%\n",
            "train Loss: 0.008565600328265848 Acc: 0.9982880899975545\n",
            "val[====================] 100%\n",
            "val Loss: 2.59150722978633 Acc: 0.5200587084148728\n",
            "\n",
            "Epoch 21/25\n",
            "----------\n",
            "train[==================================================] 100%\n",
            "train Loss: 0.004557099660704089 Acc: 0.9991440449987773\n",
            "val[====================] 100%\n",
            "val Loss: 2.6819474470825346 Acc: 0.5122309197651663\n",
            "\n",
            "Epoch 22/25\n",
            "----------\n",
            "train[==================================================] 100%\n",
            "train Loss: 0.010349113511467773 Acc: 0.9979212521398876\n",
            "val[====================] 100%\n",
            "val Loss: 2.737662490100077 Acc: 0.5029354207436398\n",
            "\n",
            "Epoch 23/25\n",
            "----------\n",
            "train[==================================================] 100%\n",
            "train Loss: 0.006568843620451426 Acc: 0.9986549278552214\n",
            "val[====================] 100%\n",
            "val Loss: 2.664798330887423 Acc: 0.5151663405088063\n",
            "\n",
            "Epoch 24/25\n",
            "----------\n",
            "train[==================================================] 100%\n",
            "train Loss: 0.006238522113287877 Acc: 0.9987772071411104\n",
            "val[====================] 100%\n",
            "val Loss: 2.661937414783321 Acc: 0.5181017612524461\n",
            "\n",
            "Epoch 25/25\n",
            "----------\n",
            "train[==================================================] 100%\n",
            "train Loss: 0.008093630547452364 Acc: 0.9981658107116655\n",
            "val[====================] 100%\n",
            "val Loss: 2.6320952130390474 Acc: 0.5161448140900196\n",
            "\n",
            "Training complete in 56.0m 2.4834671020507812s\n",
            "Best val Acc: 0.5264187866927592\n"
          ],
          "name": "stdout"
        }
      ]
    },
    {
      "metadata": {
        "id": "ZbAJdYosfDI-",
        "colab_type": "code",
        "outputId": "49c8eee5-9616-4d14-866f-3ea848d70a1a",
        "colab": {
          "base_uri": "https://localhost:8080/",
          "height": 180
        }
      },
      "cell_type": "code",
      "source": [
        "model_ft = train_model(model_ft, criterion, optimizer_ft, exp_lr_scheduler,device,\n",
        "                       num_epochs=5)"
      ],
      "execution_count": 141,
      "outputs": [
        {
          "output_type": "error",
          "ename": "TypeError",
          "evalue": "ignored",
          "traceback": [
            "\u001b[0;31m---------------------------------------------------------------------------\u001b[0m",
            "\u001b[0;31mTypeError\u001b[0m                                 Traceback (most recent call last)",
            "\u001b[0;32m<ipython-input-141-327733e582a6>\u001b[0m in \u001b[0;36m<module>\u001b[0;34m()\u001b[0m\n\u001b[1;32m      1\u001b[0m model_ft = train_model(model_ft, criterion, optimizer_ft, exp_lr_scheduler,\n\u001b[0;32m----> 2\u001b[0;31m                        num_epochs=5)\n\u001b[0m",
            "\u001b[0;31mTypeError\u001b[0m: train_model() missing 2 required positional arguments: 'device' and 'scheduler'"
          ]
        }
      ]
    },
    {
      "metadata": {
        "id": "9iihBtkApeRt",
        "colab_type": "code",
        "colab": {
          "base_uri": "https://localhost:8080/",
          "height": 51
        },
        "outputId": "f7858f83-fdb0-4146-d23d-1883f4ffcb24"
      },
      "cell_type": "code",
      "source": [
        "!ls"
      ],
      "execution_count": 144,
      "outputs": [
        {
          "output_type": "stream",
          "text": [
            "labels.csv\tsample_data\t       sample_submission.csv.zip  train\n",
            "labels.csv.zip\tsample_submission.csv  test.zip\t\t\t  train.zip\n"
          ],
          "name": "stdout"
        }
      ]
    },
    {
      "metadata": {
        "id": "uKRb6JlO5xlF",
        "colab_type": "code",
        "colab": {}
      },
      "cell_type": "code",
      "source": [
        "# Identifying the layer name in the ResNet is difficult bcoz same name is given for the conv / relu / for each layer , so it is better to find the freeze layer manually and use it as below \n",
        "'''def get_count(layer_name,model_name):\n",
        "  ct  = 0 \n",
        "  layer_count ={}\n",
        "  for name, child in model_name.named_children():\n",
        "      for name2, params in child.named_parameters():\n",
        "        layer_count[name2] = ct\n",
        "        ct +=1\n",
        "  return layer_count[layer_name]\n",
        "\n",
        "def freeze_till(layer_name,model_name):\n",
        "  ct  = 0 \n",
        "  count = get_count(layer_name,model_name)\n",
        "  \n",
        "  for name, child in model_name.named_children():\n",
        "    for name2, params in child.named_parameters():\n",
        "      \n",
        "      if ct > count :\n",
        "          \n",
        "            params.requires_grad = True\n",
        "      else :\n",
        "            params.requires_grad = False\n",
        "      ct +=1 '''"
      ],
      "execution_count": 0,
      "outputs": []
    },
    {
      "metadata": {
        "id": "Q1zHFKpgMBht",
        "colab_type": "code",
        "colab": {}
      },
      "cell_type": "code",
      "source": [
        "model_conv = torchvision.models.resnet50(pretrained=True)\n",
        "\n",
        "ct = 0\n",
        "for name, child in model_conv.named_children():\n",
        "    ct += 1\n",
        "    if ct < 8:\n",
        "        for name2, params in child.named_parameters():\n",
        "          params.requires_grad = False       "
      ],
      "execution_count": 0,
      "outputs": []
    },
    {
      "metadata": {
        "id": "jedAaPQQPcGv",
        "colab_type": "code",
        "colab": {
          "base_uri": "https://localhost:8080/",
          "height": 2924
        },
        "outputId": "95a3bd13-29cb-4120-f565-ba8fb22687c7"
      },
      "cell_type": "code",
      "source": [
        "# To view which layers are freeze and which layers are not freezed:\n",
        "\n",
        "for name, child in model_conv.named_children():\n",
        "  print ('name :',name)\n",
        "  for name_2, params in child.named_parameters():\n",
        "    print(name_2, params.requires_grad)"
      ],
      "execution_count": 95,
      "outputs": [
        {
          "output_type": "stream",
          "text": [
            "name : conv1\n",
            "weight False\n",
            "name : bn1\n",
            "weight False\n",
            "bias False\n",
            "name : relu\n",
            "name : maxpool\n",
            "name : layer1\n",
            "0.conv1.weight False\n",
            "0.bn1.weight False\n",
            "0.bn1.bias False\n",
            "0.conv2.weight False\n",
            "0.bn2.weight False\n",
            "0.bn2.bias False\n",
            "0.conv3.weight False\n",
            "0.bn3.weight False\n",
            "0.bn3.bias False\n",
            "0.downsample.0.weight False\n",
            "0.downsample.1.weight False\n",
            "0.downsample.1.bias False\n",
            "1.conv1.weight False\n",
            "1.bn1.weight False\n",
            "1.bn1.bias False\n",
            "1.conv2.weight False\n",
            "1.bn2.weight False\n",
            "1.bn2.bias False\n",
            "1.conv3.weight False\n",
            "1.bn3.weight False\n",
            "1.bn3.bias False\n",
            "2.conv1.weight False\n",
            "2.bn1.weight False\n",
            "2.bn1.bias False\n",
            "2.conv2.weight False\n",
            "2.bn2.weight False\n",
            "2.bn2.bias False\n",
            "2.conv3.weight False\n",
            "2.bn3.weight False\n",
            "2.bn3.bias False\n",
            "name : layer2\n",
            "0.conv1.weight False\n",
            "0.bn1.weight False\n",
            "0.bn1.bias False\n",
            "0.conv2.weight False\n",
            "0.bn2.weight False\n",
            "0.bn2.bias False\n",
            "0.conv3.weight False\n",
            "0.bn3.weight False\n",
            "0.bn3.bias False\n",
            "0.downsample.0.weight False\n",
            "0.downsample.1.weight False\n",
            "0.downsample.1.bias False\n",
            "1.conv1.weight False\n",
            "1.bn1.weight False\n",
            "1.bn1.bias False\n",
            "1.conv2.weight False\n",
            "1.bn2.weight False\n",
            "1.bn2.bias False\n",
            "1.conv3.weight False\n",
            "1.bn3.weight False\n",
            "1.bn3.bias False\n",
            "2.conv1.weight False\n",
            "2.bn1.weight False\n",
            "2.bn1.bias False\n",
            "2.conv2.weight False\n",
            "2.bn2.weight False\n",
            "2.bn2.bias False\n",
            "2.conv3.weight False\n",
            "2.bn3.weight False\n",
            "2.bn3.bias False\n",
            "3.conv1.weight False\n",
            "3.bn1.weight False\n",
            "3.bn1.bias False\n",
            "3.conv2.weight False\n",
            "3.bn2.weight False\n",
            "3.bn2.bias False\n",
            "3.conv3.weight False\n",
            "3.bn3.weight False\n",
            "3.bn3.bias False\n",
            "name : layer3\n",
            "0.conv1.weight False\n",
            "0.bn1.weight False\n",
            "0.bn1.bias False\n",
            "0.conv2.weight False\n",
            "0.bn2.weight False\n",
            "0.bn2.bias False\n",
            "0.conv3.weight False\n",
            "0.bn3.weight False\n",
            "0.bn3.bias False\n",
            "0.downsample.0.weight False\n",
            "0.downsample.1.weight False\n",
            "0.downsample.1.bias False\n",
            "1.conv1.weight False\n",
            "1.bn1.weight False\n",
            "1.bn1.bias False\n",
            "1.conv2.weight False\n",
            "1.bn2.weight False\n",
            "1.bn2.bias False\n",
            "1.conv3.weight False\n",
            "1.bn3.weight False\n",
            "1.bn3.bias False\n",
            "2.conv1.weight False\n",
            "2.bn1.weight False\n",
            "2.bn1.bias False\n",
            "2.conv2.weight False\n",
            "2.bn2.weight False\n",
            "2.bn2.bias False\n",
            "2.conv3.weight False\n",
            "2.bn3.weight False\n",
            "2.bn3.bias False\n",
            "3.conv1.weight False\n",
            "3.bn1.weight False\n",
            "3.bn1.bias False\n",
            "3.conv2.weight False\n",
            "3.bn2.weight False\n",
            "3.bn2.bias False\n",
            "3.conv3.weight False\n",
            "3.bn3.weight False\n",
            "3.bn3.bias False\n",
            "4.conv1.weight False\n",
            "4.bn1.weight False\n",
            "4.bn1.bias False\n",
            "4.conv2.weight False\n",
            "4.bn2.weight False\n",
            "4.bn2.bias False\n",
            "4.conv3.weight False\n",
            "4.bn3.weight False\n",
            "4.bn3.bias False\n",
            "5.conv1.weight False\n",
            "5.bn1.weight False\n",
            "5.bn1.bias False\n",
            "5.conv2.weight False\n",
            "5.bn2.weight False\n",
            "5.bn2.bias False\n",
            "5.conv3.weight False\n",
            "5.bn3.weight False\n",
            "5.bn3.bias False\n",
            "name : layer4\n",
            "0.conv1.weight True\n",
            "0.bn1.weight True\n",
            "0.bn1.bias True\n",
            "0.conv2.weight True\n",
            "0.bn2.weight True\n",
            "0.bn2.bias True\n",
            "0.conv3.weight True\n",
            "0.bn3.weight True\n",
            "0.bn3.bias True\n",
            "0.downsample.0.weight True\n",
            "0.downsample.1.weight True\n",
            "0.downsample.1.bias True\n",
            "1.conv1.weight True\n",
            "1.bn1.weight True\n",
            "1.bn1.bias True\n",
            "1.conv2.weight True\n",
            "1.bn2.weight True\n",
            "1.bn2.bias True\n",
            "1.conv3.weight True\n",
            "1.bn3.weight True\n",
            "1.bn3.bias True\n",
            "2.conv1.weight True\n",
            "2.bn1.weight True\n",
            "2.bn1.bias True\n",
            "2.conv2.weight True\n",
            "2.bn2.weight True\n",
            "2.bn2.bias True\n",
            "2.conv3.weight True\n",
            "2.bn3.weight True\n",
            "2.bn3.bias True\n",
            "name : avgpool\n",
            "name : fc\n",
            "weight True\n",
            "bias True\n"
          ],
          "name": "stdout"
        }
      ]
    },
    {
      "metadata": {
        "id": "JZQ1nLYHEDDN",
        "colab_type": "code",
        "colab": {
          "base_uri": "https://localhost:8080/",
          "height": 34
        },
        "outputId": "28b0cb93-7932-4f73-9174-add241408a6c"
      },
      "cell_type": "code",
      "source": [
        "len(list(filter(lambda p: p.requires_grad, model_conv.parameters())))"
      ],
      "execution_count": 79,
      "outputs": [
        {
          "output_type": "execute_result",
          "data": {
            "text/plain": [
              "32"
            ]
          },
          "metadata": {
            "tags": []
          },
          "execution_count": 79
        }
      ]
    },
    {
      "metadata": {
        "id": "BOVwB05isbSF",
        "colab_type": "code",
        "colab": {}
      },
      "cell_type": "code",
      "source": [
        ""
      ],
      "execution_count": 0,
      "outputs": []
    },
    {
      "metadata": {
        "id": "JtJEnbjjibPH",
        "colab_type": "code",
        "colab": {}
      },
      "cell_type": "code",
      "source": [
        "# Parameters of newly constructed modules have requires_grad=True by default\n",
        "num_ftrs = model_conv.fc.in_features\n",
        "model_conv.fc = nn.Linear(num_ftrs, 120)\n",
        "\n",
        "model_conv = model_conv.to(device)\n",
        "\n",
        "\n",
        "criterion = nn.CrossEntropyLoss()\n",
        "\n",
        "#model_conv = freeze_till('transition2.conv.weight',model_conv)\n",
        "\n",
        "# Observe that only parameters of final layer are being optimized as\n",
        "# opoosed to before.\n",
        "optimizer_conv = optim.SGD(list(filter(lambda p: p.requires_grad, model_conv.parameters())), lr=0.001, momentum=0.9)\n",
        ".\n",
        "\n",
        "# Decay LR by a factor of 0.1 every 7 epochs\n",
        "exp_lr_scheduler = lr_scheduler.StepLR(optimizer_conv, step_size=7, gamma=0.1)"
      ],
      "execution_count": 0,
      "outputs": []
    },
    {
      "metadata": {
        "id": "k3EQ72LcjglF",
        "colab_type": "code",
        "outputId": "a6437a40-3079-4199-b307-be52240b1e25",
        "colab": {
          "base_uri": "https://localhost:8080/",
          "height": 476
        }
      },
      "cell_type": "code",
      "source": [
        "model_conv = train_model(model_conv, criterion, optimizer_conv,\n",
        "                         exp_lr_scheduler, num_epochs=5)"
      ],
      "execution_count": 81,
      "outputs": [
        {
          "output_type": "stream",
          "text": [
            "Epoch 0/4\n",
            "----------\n",
            "train Loss: 2.3948 Acc: 0.4585\n",
            "val Loss: 0.7969 Acc: 0.7588\n",
            "\n",
            "Epoch 1/4\n",
            "----------\n",
            "train Loss: 0.9838 Acc: 0.7402\n",
            "val Loss: 0.6855 Acc: 0.7779\n",
            "\n",
            "Epoch 2/4\n",
            "----------\n",
            "train Loss: 0.6495 Acc: 0.8276\n",
            "val Loss: 0.6459 Acc: 0.7935\n",
            "\n",
            "Epoch 3/4\n",
            "----------\n",
            "train Loss: 0.4361 Acc: 0.8842\n",
            "val Loss: 0.6362 Acc: 0.8082\n",
            "\n",
            "Epoch 4/4\n",
            "----------\n",
            "train Loss: 0.2886 Acc: 0.9274\n",
            "val Loss: 0.6789 Acc: 0.7975\n",
            "\n",
            "Training complete in 11m 55s\n",
            "Best val Acc: 0.808219\n"
          ],
          "name": "stdout"
        }
      ]
    },
    {
      "metadata": {
        "id": "UxujhiGJsMYc",
        "colab_type": "code",
        "colab": {}
      },
      "cell_type": "code",
      "source": [
        "class lr_finder():\n",
        "    \n",
        "    \"\"\"Implementation of LR Find function explained in the paper:\n",
        "        https://arxiv.org/abs/1506.01186\n",
        "        Tries a range of Learning Rates and returns the loss for\n",
        "        the entire range.\n",
        "        \n",
        "        Args:\n",
        "            model: Network for which the LR has to be found\n",
        "            criterion: Loss function\n",
        "            optimizer: pytorch optimizer\n",
        "                Optimizer can have different param_groups for\n",
        "                    different layers of the network to have \n",
        "                    different LRs. The layers should be in order\n",
        "                    of closeness to the input. i.e. the layer \n",
        "                    closest to the input should be the first and\n",
        "                    the last layer before the loss function should\n",
        "                    be the last\n",
        "            dataloaders: Dictionary containing DataLoader for \"train\"\n",
        "            device: \"CPU\" or \"CUDA\"\n",
        "            factor: Factor by which the LR has to be reduced for the\n",
        "                earlier groups. For e.g. if the factor is 10, then if \n",
        "                the last group has a LR of 0.2, the group ahead of it \n",
        "                will have a LR of 0.02 and the one ahead of the second\n",
        "                group will have an LR of 0.002 and so on.\n",
        "    \"\"\"\n",
        "    \n",
        "    def __init__(self, model, criterion, optimizer, dataloaders, device, factor=10):\n",
        "        \n",
        "        model = model.to(device)\n",
        "        self.model = model.train()\n",
        "        self.criterion = criterion\n",
        "        self.optimizer = optimizer\n",
        "        self.dataloaders = dataloaders\n",
        "        self.device = device\n",
        "        self.results = None\n",
        "        self.factor = factor\n",
        "        \n",
        "    def fit(self):\n",
        "        \n",
        "        # Count number of examples in train dataset\n",
        "        train_examples = len(self.dataloaders['train'].dataset)\n",
        "        train_bs = self.dataloaders['train'].batch_size\n",
        "        # Count number of mini batches\n",
        "        mini_batches = train_examples // train_bs\n",
        "        increment = 16 / mini_batches\n",
        "        \n",
        "        # Start with a very low LR for the last layer\n",
        "        lr_hist = []\n",
        "        # Save loss history of the last layer\n",
        "        loss_hist = []\n",
        "        cur_lr = 1e-3\n",
        "        \n",
        "        mini_batch = 0\n",
        "        for inputs, labels in self.dataloaders['train']:\n",
        "            \n",
        "            # Print status bar\n",
        "            mini_batch_comp = int((mini_batch/mini_batches)*100)//2\n",
        "            sys.stdout.write('\\r')\n",
        "            sys.stdout.write(\"[%-50s] %d%%\" %(\"=\"*mini_batch_comp, 2*mini_batch_comp))\n",
        "            mini_batch += 1\n",
        "            \n",
        "            model = self.model\n",
        "            criterion = self.criterion\n",
        "            optimizer = self.optimizer\n",
        "            device = self.device\n",
        "            \n",
        "            # Set differential learning rates for various param groups based \n",
        "            # on factor value\n",
        "            fa = 0\n",
        "            for pg in optimizer.param_groups[::-1]:\n",
        "                pg['lr'] = cur_lr / (self.factor ** fa)\n",
        "                fa += 1\n",
        "            lr_ = []\n",
        "            for pg in optimizer.param_groups:\n",
        "                lr_.append(pg['lr'])\n",
        "            lr_hist.append(lr_)\n",
        "            optimizer.zero_grad()\n",
        "            \n",
        "            inputs = inputs.to(device)\n",
        "            labels = labels.to(device)\n",
        "            \n",
        "            outputs = model(inputs)\n",
        "            loss = criterion(outputs, labels)\n",
        "            loss.backward()\n",
        "            optimizer.step()\n",
        "            \n",
        "            loss_hist.append(loss.item())\n",
        "            cur_lr = cur_lr + (lr_hist[-1][-1] * increment)\n",
        "            \n",
        "            if cur_lr == 0:\n",
        "                cur_lr += increment\n",
        "            \n",
        "            # Stop iteration at a LR of 1e1\n",
        "            if cur_lr > 10:\n",
        "                break\n",
        "                \n",
        "            # Stop iteration is loss is getting too high\n",
        "            if (loss > (5*loss_hist[0])) & (cur_lr > .1):\n",
        "                break\n",
        "            \n",
        "            if (lr_hist[-1][-1] * 10 - cur_lr) < (increment * lr_hist[-1][-1]):\n",
        "                # Reset when LR is reduced by a factor of 10 \n",
        "                cur_lr = round(lr_hist[-1][-1]*10, 8)\n",
        "        \n",
        "        if len(lr_hist) > len(loss_hist):\n",
        "            lr_hist.pop(-1)\n",
        "                \n",
        "        self.results = {'lr': lr_hist, 'loss': loss_hist}\n",
        "        self.results['loss'] = self.moving_average()\n",
        "                     \n",
        "    def plot_lr(self):\n",
        "        \n",
        "        # Plot LR vs Loss\n",
        "        if self.results:\n",
        "            lr_ = [i[-1] for i in self.results[\"lr\"]]\n",
        "            plt.plot(lr_, self.results['loss'])\n",
        "            plt.xscale(\"log\")\n",
        "            plt.show()\n",
        "        else:\n",
        "            print(\"Results not available\")\n",
        "            \n",
        "    def moving_average(self):\n",
        "        # Smoothen the loss by calculating moving average\n",
        "        loss_hist = np.cumsum(self.results['loss'])\n",
        "        loss_hist /= np.arange(1, len(loss_hist)+1)\n",
        "        return loss_hist\n",
        "    \n",
        "    def lr_schedule(self, group = -1):\n",
        "        # Plot LR schedule\n",
        "        lr_ = [i[group] for i in self.results[\"lr\"]]\n",
        "        plt.plot(lr_)"
      ],
      "execution_count": 0,
      "outputs": []
    },
    {
      "metadata": {
        "id": "xmS18tjxFSfz",
        "colab_type": "code",
        "colab": {}
      },
      "cell_type": "code",
      "source": [
        "lr_find = lr_finder(model_conv, criterion, optimizer_conv, dataloaders, device)"
      ],
      "execution_count": 0,
      "outputs": []
    },
    {
      "metadata": {
        "id": "tf2BPOJOtba3",
        "colab_type": "code",
        "colab": {
          "base_uri": "https://localhost:8080/",
          "height": 34
        },
        "outputId": "c02f1544-d039-44ff-e471-5e93bd4c0cc9"
      },
      "cell_type": "code",
      "source": [
        "lr_find.fit()"
      ],
      "execution_count": 116,
      "outputs": [
        {
          "output_type": "stream",
          "text": [
            "[==============                                    ] 28%"
          ],
          "name": "stdout"
        }
      ]
    },
    {
      "metadata": {
        "id": "xgbyAvOjt4Tb",
        "colab_type": "code",
        "colab": {
          "base_uri": "https://localhost:8080/",
          "height": 347
        },
        "outputId": "294b327e-f7fd-4ebb-f44e-8f4627c5ae83"
      },
      "cell_type": "code",
      "source": [
        "lr_find.lr_schedule()"
      ],
      "execution_count": 117,
      "outputs": [
        {
          "output_type": "display_data",
          "data": {
            "image/png": "[encoded data removed]",
            "text/plain": [
              "<matplotlib.figure.Figure at 0x7f0e91481ef0>"
            ]
          },
          "metadata": {
            "tags": []
          }
        }
      ]
    },
    {
      "metadata": {
        "id": "A-zXee7atjt3",
        "colab_type": "code",
        "colab": {
          "base_uri": "https://localhost:8080/",
          "height": 351
        },
        "outputId": "c351cb3c-0cbc-4344-b1af-d636200ca7b2"
      },
      "cell_type": "code",
      "source": [
        "lr_find.plot_lr()"
      ],
      "execution_count": 118,
      "outputs": [
        {
          "output_type": "display_data",
          "data": {
            "image/png": "[encoded data removed]",
            "text/plain": [
              "<matplotlib.figure.Figure at 0x7f0e9178bf28>"
            ]
          },
          "metadata": {
            "tags": []
          }
        }
      ]
    },
    {
      "metadata": {
        "id": "wRnirI6yuVBr",
        "colab_type": "code",
        "colab": {}
      },
      "cell_type": "code",
      "source": [
        "data_transforms = {\n",
        "    'train': transforms.Compose([\n",
        "        transforms.RandomResizedCrop(224),\n",
        "        transforms.RandomHorizontalFlip(),\n",
        "        transforms.ColorJitter(brightness=0.1, contrast=0.1, saturation=0.1, hue=0.05),\n",
        "        transforms.RandomRotation(degrees=10, resample=False, expand=False, center=None),\n",
        "        transforms.ToTensor(),\n",
        "        transforms.Normalize([0.485, 0.456, 0.406], [0.229, 0.224, 0.225])\n",
        "    ]),\n",
        "    'valid': transforms.Compose([\n",
        "        transforms.Resize(256),\n",
        "        transforms.CenterCrop(224),\n",
        "        transforms.ToTensor(),\n",
        "        transforms.Normalize([0.485, 0.456, 0.406], [0.229, 0.224, 0.225])\n",
        "    ]),\n",
        "}"
      ],
      "execution_count": 0,
      "outputs": []
    },
    {
      "metadata": {
        "id": "AMxd1xSHwciD",
        "colab_type": "code",
        "colab": {}
      },
      "cell_type": "code",
      "source": [
        "class _LRScheduler_(object):\n",
        "    # Modified code from torch.optim.lr_scheduler\n",
        "    def __init__(self, optimizer, last_batch=-1):\n",
        "        if not isinstance(optimizer, Optimizer):\n",
        "            raise TypeError('{} is not an Optimizer'.format(\n",
        "                type(optimizer).__name__))\n",
        "        self.optimizer = optimizer\n",
        "        if last_batch == -1:\n",
        "            for group in optimizer.param_groups:\n",
        "                group.setdefault('initial_lr', group['lr'])\n",
        "        else:\n",
        "            for i, group in enumerate(optimizer.param_groups):\n",
        "                if 'initial_lr' not in group:\n",
        "                    raise KeyError(\"param 'initial_lr' is not specified \"\n",
        "                                   \"in param_groups[{}] when resuming an optimizer\".format(i))\n",
        "        self.base_lrs = list(map(lambda group: group['initial_lr'], optimizer.param_groups))\n",
        "        self.step(last_batch + 1)\n",
        "        self.last_batch = last_batch\n",
        "\n",
        "    def state_dict(self):\n",
        "        \"\"\"Returns the state of the scheduler as a :class:`dict`.\n",
        "\n",
        "        It contains an entry for every variable in self.__dict__ which\n",
        "        is not the optimizer.\n",
        "        \"\"\"\n",
        "        return {key: value for key, value in self.__dict__.items() if key != 'optimizer'}\n",
        "\n",
        "    def load_state_dict(self, state_dict):\n",
        "        \"\"\"Loads the schedulers state.\n",
        "\n",
        "        Arguments:\n",
        "            state_dict (dict): scheduler state. Should be an object returned\n",
        "                from a call to :meth:`state_dict`.\n",
        "        \"\"\"\n",
        "        self.__dict__.update(state_dict)\n",
        "\n",
        "    def get_lr(self):\n",
        "        raise NotImplementedError\n",
        "\n",
        "    def step(self, batch=None):\n",
        "        if batch is None:\n",
        "            batch = self.last_batch + 1\n",
        "        self.last_batch = batch\n",
        "        for param_group, lr in zip(self.optimizer.param_groups, self.get_lr()):\n",
        "            param_group['lr'] = lr"
      ],
      "execution_count": 0,
      "outputs": []
    },
    {
      "metadata": {
        "id": "cg-BopQ7wjPI",
        "colab_type": "code",
        "colab": {}
      },
      "cell_type": "code",
      "source": [
        "class CosineAnnealingLR_(_LRScheduler_):\n",
        "    # Modified code from torch.optim.lr_scheduler\n",
        "    r\"\"\"Set the learning rate of each parameter group using a cosine annealing\n",
        "    schedule, where :math:`\\eta_{max}` is set to the initial lr and\n",
        "    :math:`T_{cur}` is the number of epochs since the last restart in SGDR:\n",
        "\n",
        "    .. math::\n",
        "\n",
        "        \\eta_t = \\eta_{min} + \\frac{1}{2}(\\eta_{max} - \\eta_{min})(1 +\n",
        "        \\cos(\\frac{T_{cur}}{T_{max}}\\pi))\n",
        "\n",
        "    When last_epoch=-1, sets initial lr as lr.\n",
        "\n",
        "    It has been proposed in\n",
        "    `SGDR: Stochastic Gradient Descent with Warm Restarts`_. Note that this only\n",
        "    implements the cosine annealing part of SGDR, and not the restarts.\n",
        "\n",
        "    Args:\n",
        "        optimizer (Optimizer): Wrapped optimizer.\n",
        "        T_max (int): Maximum number of iterations.\n",
        "        eta_min (float): Minimum learning rate. Default: 0.\n",
        "        last_epoch (int): The index of last epoch. Default: -1.\n",
        "\n",
        "    .. _SGDR\\: Stochastic Gradient Descent with Warm Restarts:\n",
        "        https://arxiv.org/abs/1608.03983\n",
        "    \"\"\"\n",
        "\n",
        "    def __init__(self, optimizer, T_max, eta_min=0, last_batch=-1):\n",
        "        self.T_max = T_max\n",
        "        self.eta_min = eta_min\n",
        "        super(CosineAnnealingLR_, self).__init__(optimizer, last_batch)\n",
        "\n",
        "    def get_lr(self):\n",
        "        return [self.eta_min + (base_lr - self.eta_min) *\n",
        "                (1 + math.cos(math.pi * self.last_batch / self.T_max)) / 2\n",
        "                for base_lr in self.base_lrs]"
      ],
      "execution_count": 0,
      "outputs": []
    },
    {
      "metadata": {
        "id": "wt-xQ4BXworZ",
        "colab_type": "code",
        "colab": {}
      },
      "cell_type": "code",
      "source": [
        "class SGDR(CosineAnnealingLR_):\n",
        "    r\"\"\"Implements cosine annealing of LR\n",
        "    Args:\n",
        "        iterations: no. of iterations after which LR has to be reset\n",
        "            in general iterations must be equal to no. of minibatches in \n",
        "            a training epoch\n",
        "        cycle_mult: factor by which the iteration cycle has to be \n",
        "            increased after every cycle. Default: 1\n",
        "    \"\"\"\n",
        "    def __init__(self, optimizer, T_max, eta_min = 0, last_batch = -1, cycle_mult = 1):\n",
        "        self.cycle_mult = cycle_mult\n",
        "        super(SGDR, self).__init__(optimizer, T_max, eta_min, last_batch)\n",
        "        \n",
        "    def step(self, batch=None):\n",
        "        if batch is None:\n",
        "            batch = self.last_batch + 1\n",
        "        self.last_batch = batch\n",
        "        if ((self.last_batch%self.T_max) == 0) & (self.last_batch != 0):\n",
        "            # Reset after T_max number of iterations are reached\n",
        "            self.last_batch = 0\n",
        "            self.T_max = self.T_max * self.cycle_mult\n",
        "            # Increase T_max by cycle_mult after each cycle\n",
        "        for param_group, lr in zip(self.optimizer.param_groups, self.get_lr()):\n",
        "            param_group['lr'] = lr"
      ],
      "execution_count": 0,
      "outputs": []
    },
    {
      "metadata": {
        "id": "4GsiX7BjzKAE",
        "colab_type": "code",
        "colab": {}
      },
      "cell_type": "code",
      "source": [
        "import os\n",
        "import sys\n",
        "import PIL\n",
        "import math\n",
        "import copy\n",
        "import torch\n",
        "import torchvision\n",
        "import numpy as np\n",
        "import pandas as pd\n",
        "from time import time\n",
        "from PIL import Image\n",
        "import torch.nn as nn\n",
        "import torch.optim as optim\n",
        "from functools import partial\n",
        "import torch.nn.functional as F\n",
        "import matplotlib.pyplot as plt\n",
        "from bisect import bisect_right\n",
        "from torch.optim import Optimizer\n",
        "from torch.utils.data import Dataset, DataLoader\n",
        "from torchvision import transforms, utils, datasets, models, transforms"
      ],
      "execution_count": 0,
      "outputs": []
    },
    {
      "metadata": {
        "id": "sXz74xDswvf6",
        "colab_type": "code",
        "colab": {}
      },
      "cell_type": "code",
      "source": [
        "\n",
        "scheduler = SGDR(optimizer = optimizer_conv, T_max = 360)"
      ],
      "execution_count": 0,
      "outputs": []
    },
    {
      "metadata": {
        "id": "ZRMFkPnfxE5t",
        "colab_type": "code",
        "colab": {}
      },
      "cell_type": "code",
      "source": [
        "def train_model(model, criterion, optimizer, dataloaders, device, scheduler, num_epochs=25):\n",
        "    lr_hist = []\n",
        "    since = time()\n",
        "    model = model.to(device)\n",
        "\n",
        "    best_model_wts = copy.deepcopy(model.state_dict())\n",
        "    best_acc = 0.0\n",
        "    \n",
        "    # Count training and validation examples\n",
        "    train_examples = len(dataloaders['train'].dataset)\n",
        "    valid_examples = len(dataloaders['val'].dataset)\n",
        "\n",
        "    train_bs = dataloaders['train'].batch_size\n",
        "    valid_bs = dataloaders['val'].batch_size\n",
        "    \n",
        "    # Calculate number of minibatches for training and validation\n",
        "    num_minibatch = {'train': int(np.ceil(train_examples / train_bs)), \n",
        "                     'val': int(np.ceil(valid_examples / valid_bs))}\n",
        "\n",
        "    for epoch in range(num_epochs):\n",
        "        print(f'Epoch {epoch+1}/{num_epochs}')\n",
        "        print('-' * 10)\n",
        "\n",
        "        # Each epoch has a training and validation phase\n",
        "        for phase in ['train', 'val']:\n",
        "            if phase == 'train':\n",
        "                model.train()  # Set model to training mode\n",
        "            else:\n",
        "                model.eval()   # Set model to evaluate mode\n",
        "\n",
        "            running_loss = 0.0\n",
        "            running_corrects = 0\n",
        "\n",
        "            # Iterate over data.\n",
        "            mini_batch = 0\n",
        "            for inputs, labels in dataloaders[phase]:\n",
        "                inputs = inputs.to(device)\n",
        "                labels = labels.to(device)\n",
        "\n",
        "                mini_batch += 1\n",
        "                # Print status bar\n",
        "                if phase == 'train':\n",
        "                    mini_batch_comp = int((mini_batch/num_minibatch[phase])*100)//2\n",
        "                    sys.stdout.write('\\r')\n",
        "                    sys.stdout.write(\"%s[%-50s] %d%%\" %(phase, \"=\"*mini_batch_comp, 2*mini_batch_comp))\n",
        "                else:\n",
        "                    mini_batch_comp = int((mini_batch/num_minibatch[phase])*100)//5\n",
        "                    sys.stdout.write('\\r')\n",
        "                    sys.stdout.write(\"%s[%-20s] %d%%\" %(phase, \"=\"*mini_batch_comp, 5*mini_batch_comp))\n",
        "\n",
        "                optimizer.zero_grad()\n",
        "\n",
        "                # forward\n",
        "                # track history if only in train\n",
        "                with torch.set_grad_enabled(phase == 'train'):\n",
        "                    outputs = model(inputs)\n",
        "                    _, preds = torch.max(outputs, 1)\n",
        "                    loss = criterion(outputs, labels)\n",
        "\n",
        "                    # backward + optimize only if in training phase\n",
        "                    if phase == 'train':\n",
        "                        loss.backward()\n",
        "                        optimizer.step()\n",
        "                        scheduler.step()\n",
        "                        lr_ = []\n",
        "                        for group in optimizer.param_groups:\n",
        "                            lr_.append(group[\"lr\"])\n",
        "                        lr_hist.append(lr_)\n",
        "\n",
        "                # statistics\n",
        "                running_loss += loss.item() * inputs.size(0)\n",
        "                running_corrects += torch.sum(preds == labels.data)\n",
        "\n",
        "            epoch_loss = running_loss / dataset_sizes[phase]\n",
        "            epoch_acc = running_corrects.double() / dataset_sizes[phase]\n",
        "\n",
        "            print(\"\")\n",
        "            print(f'{phase} Loss: {epoch_loss} Acc: {epoch_acc}')\n",
        "\n",
        "            # deep copy the model\n",
        "            if phase == 'val' and epoch_acc > best_acc:\n",
        "                best_acc = epoch_acc\n",
        "                best_model_wts = copy.deepcopy(model.state_dict())\n",
        "\n",
        "        print()\n",
        "\n",
        "    time_elapsed = time() - since\n",
        "    print(f'Training complete in {time_elapsed // 60}m {time_elapsed % 60}s')\n",
        "    print(f'Best val Acc: {best_acc}')\n",
        "\n",
        "    # load best model weights\n",
        "    model.load_state_dict(best_model_wts)\n",
        "    return model, lr_hist"
      ],
      "execution_count": 0,
      "outputs": []
    },
    {
      "metadata": {
        "id": "W74XetL63Q6U",
        "colab_type": "code",
        "colab": {}
      },
      "cell_type": "code",
      "source": [
        "model = torchvision.models.resnet34(pretrained=True)\n",
        "\n",
        "for param in model.parameters():\n",
        "    param.requires_grad = False\n",
        "\n",
        "model.fc = nn.Linear(model.fc.in_features, 120)\n",
        "\n",
        "criterion = nn.CrossEntropyLoss()\n",
        "optimizer = optim.Adam(filter(lambda p: p.requires_grad, model.parameters()), lr=0.01)"
      ],
      "execution_count": 0,
      "outputs": []
    },
    {
      "metadata": {
        "id": "2i0tGTSv4x_t",
        "colab_type": "code",
        "colab": {}
      },
      "cell_type": "code",
      "source": [
        ""
      ],
      "execution_count": 0,
      "outputs": []
    },
    {
      "metadata": {
        "id": "X5UEfcQNzf9l",
        "colab_type": "code",
        "colab": {
          "base_uri": "https://localhost:8080/",
          "height": 1982
        },
        "outputId": "58190219-b037-49a1-cb44-7cc2c229959b"
      },
      "cell_type": "code",
      "source": [
        "model, lr_hist = train_model(model, criterion, optimizer_conv, dataloaders, device, scheduler, num_epochs=3)"
      ],
      "execution_count": 128,
      "outputs": [
        {
          "output_type": "stream",
          "text": [
            "Epoch 1/3\n",
            "----------\n",
            "train[==================================================] 100%\n",
            "train Loss: 5.048536408877542 Acc: 0.007825874296894107\n",
            "val[====================] 100%\n",
            "val Loss: 5.049256294907423 Acc: 0.008806262230919765\n",
            "\n",
            "Epoch 2/3\n",
            "----------\n",
            "train[============                                      ] 24%"
          ],
          "name": "stdout"
        },
        {
          "output_type": "stream",
          "text": [
            "Process Process-165:\n",
            "Process Process-168:\n",
            "Process Process-167:\n",
            "Traceback (most recent call last):\n",
            "Traceback (most recent call last):\n",
            "  File \"/usr/lib/python3.6/multiprocessing/process.py\", line 258, in _bootstrap\n",
            "    self.run()\n",
            "  File \"/usr/lib/python3.6/multiprocessing/process.py\", line 93, in run\n",
            "    self._target(*self._args, **self._kwargs)\n",
            "  File \"/usr/local/lib/python3.6/dist-packages/torch/utils/data/dataloader.py\", line 57, in _worker_loop\n",
            "    samples = collate_fn([dataset[i] for i in batch_indices])\n",
            "  File \"/usr/local/lib/python3.6/dist-packages/torch/utils/data/dataloader.py\", line 57, in <listcomp>\n",
            "    samples = collate_fn([dataset[i] for i in batch_indices])\n",
            "Traceback (most recent call last):\n",
            "Process Process-166:\n",
            "  File \"/usr/lib/python3.6/multiprocessing/process.py\", line 258, in _bootstrap\n",
            "    self.run()\n",
            "  File \"/usr/lib/python3.6/multiprocessing/process.py\", line 258, in _bootstrap\n",
            "    self.run()\n",
            "  File \"<ipython-input-11-6b8623b41ca1>\", line 17, in __getitem__\n",
            "    image = self.transform(image)\n",
            "  File \"/usr/lib/python3.6/multiprocessing/process.py\", line 93, in run\n",
            "    self._target(*self._args, **self._kwargs)\n",
            "  File \"/usr/local/lib/python3.6/dist-packages/torch/utils/data/dataloader.py\", line 57, in _worker_loop\n",
            "    samples = collate_fn([dataset[i] for i in batch_indices])\n",
            "  File \"/usr/lib/python3.6/multiprocessing/process.py\", line 93, in run\n",
            "    self._target(*self._args, **self._kwargs)\n",
            "Traceback (most recent call last):\n",
            "  File \"/usr/local/lib/python3.6/dist-packages/torch/utils/data/dataloader.py\", line 57, in _worker_loop\n",
            "    samples = collate_fn([dataset[i] for i in batch_indices])\n",
            "  File \"/usr/lib/python3.6/multiprocessing/process.py\", line 258, in _bootstrap\n",
            "    self.run()\n",
            "  File \"/usr/lib/python3.6/multiprocessing/process.py\", line 93, in run\n",
            "    self._target(*self._args, **self._kwargs)\n",
            "  File \"/usr/local/lib/python3.6/dist-packages/torchvision/transforms/transforms.py\", line 49, in __call__\n",
            "    img = t(img)\n",
            "  File \"/usr/local/lib/python3.6/dist-packages/torch/utils/data/dataloader.py\", line 57, in _worker_loop\n",
            "    samples = collate_fn([dataset[i] for i in batch_indices])\n",
            "  File \"/usr/local/lib/python3.6/dist-packages/torch/utils/data/dataloader.py\", line 57, in <listcomp>\n",
            "    samples = collate_fn([dataset[i] for i in batch_indices])\n",
            "  File \"/usr/local/lib/python3.6/dist-packages/torch/utils/data/dataloader.py\", line 138, in default_collate\n",
            "    return [default_collate(samples) for samples in transposed]\n",
            "  File \"/usr/local/lib/python3.6/dist-packages/torch/utils/data/dataloader.py\", line 57, in <listcomp>\n",
            "    samples = collate_fn([dataset[i] for i in batch_indices])\n",
            "  File \"<ipython-input-11-6b8623b41ca1>\", line 17, in __getitem__\n",
            "    image = self.transform(image)\n",
            "  File \"/usr/local/lib/python3.6/dist-packages/torchvision/transforms/transforms.py\", line 175, in __call__\n",
            "    return F.resize(img, self.size, self.interpolation)\n"
          ],
          "name": "stderr"
        },
        {
          "output_type": "error",
          "ename": "KeyboardInterrupt",
          "evalue": "ignored",
          "traceback": [
            "\u001b[0;31m---------------------------------------------------------------------------\u001b[0m",
            "\u001b[0;31mKeyboardInterrupt\u001b[0m                         Traceback (most recent call last)",
            "\u001b[0;32m<ipython-input-128-534eafa75eb1>\u001b[0m in \u001b[0;36m<module>\u001b[0;34m()\u001b[0m\n\u001b[0;32m----> 1\u001b[0;31m \u001b[0mmodel\u001b[0m\u001b[0;34m,\u001b[0m \u001b[0mlr_hist\u001b[0m \u001b[0;34m=\u001b[0m \u001b[0mtrain_model\u001b[0m\u001b[0;34m(\u001b[0m\u001b[0mmodel\u001b[0m\u001b[0;34m,\u001b[0m \u001b[0mcriterion\u001b[0m\u001b[0;34m,\u001b[0m \u001b[0moptimizer_conv\u001b[0m\u001b[0;34m,\u001b[0m \u001b[0mdataloaders\u001b[0m\u001b[0;34m,\u001b[0m \u001b[0mdevice\u001b[0m\u001b[0;34m,\u001b[0m \u001b[0mscheduler\u001b[0m\u001b[0;34m,\u001b[0m \u001b[0mnum_epochs\u001b[0m\u001b[0;34m=\u001b[0m\u001b[0;36m3\u001b[0m\u001b[0;34m)\u001b[0m\u001b[0;34m\u001b[0m\u001b[0m\n\u001b[0m",
            "\u001b[0;32m<ipython-input-112-6e1663dbcc15>\u001b[0m in \u001b[0;36mtrain_model\u001b[0;34m(model, criterion, optimizer, dataloaders, device, scheduler, num_epochs)\u001b[0m\n\u001b[1;32m     61\u001b[0m                     \u001b[0;32mif\u001b[0m \u001b[0mphase\u001b[0m \u001b[0;34m==\u001b[0m \u001b[0;34m'train'\u001b[0m\u001b[0;34m:\u001b[0m\u001b[0;34m\u001b[0m\u001b[0m\n\u001b[1;32m     62\u001b[0m                         \u001b[0mloss\u001b[0m\u001b[0;34m.\u001b[0m\u001b[0mbackward\u001b[0m\u001b[0;34m(\u001b[0m\u001b[0;34m)\u001b[0m\u001b[0;34m\u001b[0m\u001b[0m\n\u001b[0;32m---> 63\u001b[0;31m                         \u001b[0moptimizer\u001b[0m\u001b[0;34m.\u001b[0m\u001b[0mstep\u001b[0m\u001b[0;34m(\u001b[0m\u001b[0;34m)\u001b[0m\u001b[0;34m\u001b[0m\u001b[0m\n\u001b[0m\u001b[1;32m     64\u001b[0m                         \u001b[0mscheduler\u001b[0m\u001b[0;34m.\u001b[0m\u001b[0mstep\u001b[0m\u001b[0;34m(\u001b[0m\u001b[0;34m)\u001b[0m\u001b[0;34m\u001b[0m\u001b[0m\n\u001b[1;32m     65\u001b[0m                         \u001b[0mlr_\u001b[0m \u001b[0;34m=\u001b[0m \u001b[0;34m[\u001b[0m\u001b[0;34m]\u001b[0m\u001b[0;34m\u001b[0m\u001b[0m\n",
            "\u001b[0;32m/usr/local/lib/python3.6/dist-packages/torch/optim/sgd.py\u001b[0m in \u001b[0;36mstep\u001b[0;34m(self, closure)\u001b[0m\n\u001b[1;32m     99\u001b[0m                     \u001b[0;32melse\u001b[0m\u001b[0;34m:\u001b[0m\u001b[0;34m\u001b[0m\u001b[0m\n\u001b[1;32m    100\u001b[0m                         \u001b[0mbuf\u001b[0m \u001b[0;34m=\u001b[0m \u001b[0mparam_state\u001b[0m\u001b[0;34m[\u001b[0m\u001b[0;34m'momentum_buffer'\u001b[0m\u001b[0;34m]\u001b[0m\u001b[0;34m\u001b[0m\u001b[0m\n\u001b[0;32m--> 101\u001b[0;31m                         \u001b[0mbuf\u001b[0m\u001b[0;34m.\u001b[0m\u001b[0mmul_\u001b[0m\u001b[0;34m(\u001b[0m\u001b[0mmomentum\u001b[0m\u001b[0;34m)\u001b[0m\u001b[0;34m.\u001b[0m\u001b[0madd_\u001b[0m\u001b[0;34m(\u001b[0m\u001b[0;36m1\u001b[0m \u001b[0;34m-\u001b[0m \u001b[0mdampening\u001b[0m\u001b[0;34m,\u001b[0m \u001b[0md_p\u001b[0m\u001b[0;34m)\u001b[0m\u001b[0;34m\u001b[0m\u001b[0m\n\u001b[0m\u001b[1;32m    102\u001b[0m                     \u001b[0;32mif\u001b[0m \u001b[0mnesterov\u001b[0m\u001b[0;34m:\u001b[0m\u001b[0;34m\u001b[0m\u001b[0m\n\u001b[1;32m    103\u001b[0m                         \u001b[0md_p\u001b[0m \u001b[0;34m=\u001b[0m \u001b[0md_p\u001b[0m\u001b[0;34m.\u001b[0m\u001b[0madd\u001b[0m\u001b[0;34m(\u001b[0m\u001b[0mmomentum\u001b[0m\u001b[0;34m,\u001b[0m \u001b[0mbuf\u001b[0m\u001b[0;34m)\u001b[0m\u001b[0;34m\u001b[0m\u001b[0m\n",
            "\u001b[0;31mKeyboardInterrupt\u001b[0m: "
          ]
        },
        {
          "output_type": "stream",
          "text": [
            "  File \"/usr/local/lib/python3.6/dist-packages/torch/utils/data/dataloader.py\", line 138, in <listcomp>\n",
            "    return [default_collate(samples) for samples in transposed]\n",
            "  File \"<ipython-input-11-6b8623b41ca1>\", line 17, in __getitem__\n",
            "    image = self.transform(image)\n",
            "  File \"/usr/local/lib/python3.6/dist-packages/torchvision/transforms/transforms.py\", line 49, in __call__\n",
            "    img = t(img)\n",
            "  File \"/usr/local/lib/python3.6/dist-packages/torchvision/transforms/functional.py\", line 204, in resize\n",
            "    return img.resize((ow, oh), interpolation)\n",
            "  File \"/usr/local/lib/python3.6/dist-packages/PIL/Image.py\", line 1782, in resize\n",
            "    self.load()\n",
            "  File \"/usr/local/lib/python3.6/dist-packages/torchvision/transforms/transforms.py\", line 49, in __call__\n",
            "    img = t(img)\n",
            "  File \"/usr/local/lib/python3.6/dist-packages/torchvision/transforms/transforms.py\", line 175, in __call__\n",
            "    return F.resize(img, self.size, self.interpolation)\n",
            "  File \"/usr/local/lib/python3.6/dist-packages/torch/utils/data/dataloader.py\", line 115, in default_collate\n",
            "    return torch.stack(batch, 0, out=out)\n",
            "  File \"/usr/local/lib/python3.6/dist-packages/PIL/ImageFile.py\", line 239, in load\n",
            "    n, err_code = decoder.decode(b)\n",
            "KeyboardInterrupt\n",
            "  File \"/usr/local/lib/python3.6/dist-packages/torchvision/transforms/transforms.py\", line 175, in __call__\n",
            "    return F.resize(img, self.size, self.interpolation)\n",
            "  File \"/usr/local/lib/python3.6/dist-packages/torchvision/transforms/functional.py\", line 200, in resize\n",
            "    return img.resize((ow, oh), interpolation)\n",
            "KeyboardInterrupt\n",
            "  File \"/usr/local/lib/python3.6/dist-packages/PIL/Image.py\", line 1782, in resize\n",
            "    self.load()\n",
            "  File \"/usr/local/lib/python3.6/dist-packages/PIL/ImageFile.py\", line 239, in load\n",
            "    n, err_code = decoder.decode(b)\n",
            "  File \"/usr/local/lib/python3.6/dist-packages/torchvision/transforms/functional.py\", line 200, in resize\n",
            "    return img.resize((ow, oh), interpolation)\n",
            "  File \"/usr/local/lib/python3.6/dist-packages/PIL/Image.py\", line 1782, in resize\n",
            "    self.load()\n",
            "KeyboardInterrupt\n",
            "  File \"/usr/local/lib/python3.6/dist-packages/PIL/ImageFile.py\", line 239, in load\n",
            "    n, err_code = decoder.decode(b)\n",
            "KeyboardInterrupt\n"
          ],
          "name": "stderr"
        }
      ]
    },
    {
      "metadata": {
        "id": "5DgOA5xeznf1",
        "colab_type": "code",
        "colab": {}
      },
      "cell_type": "code",
      "source": [
        "lr_find = lr_finder(model, criterion, optimizer_conv, dataloaders, device)"
      ],
      "execution_count": 0,
      "outputs": []
    },
    {
      "metadata": {
        "id": "vvSw5AJx44-V",
        "colab_type": "code",
        "colab": {
          "base_uri": "https://localhost:8080/",
          "height": 34
        },
        "outputId": "b0481fd8-16f6-491a-8aa8-042d8af0cb03"
      },
      "cell_type": "code",
      "source": [
        "lr_find.fit()"
      ],
      "execution_count": 125,
      "outputs": [
        {
          "output_type": "stream",
          "text": [
            "[==============                                    ] 28%"
          ],
          "name": "stdout"
        }
      ]
    },
    {
      "metadata": {
        "id": "ReIc-e5D47pM",
        "colab_type": "code",
        "colab": {
          "base_uri": "https://localhost:8080/",
          "height": 351
        },
        "outputId": "2c04c759-5e61-41ca-ec6a-91cd4080d9b3"
      },
      "cell_type": "code",
      "source": [
        "lr_find.plot_lr()"
      ],
      "execution_count": 126,
      "outputs": [
        {
          "output_type": "display_data",
          "data": {
            "image/png": "[encoded data removed]",
            "text/plain": [
              "<matplotlib.figure.Figure at 0x7f0e95f856a0>"
            ]
          },
          "metadata": {
            "tags": []
          }
        }
      ]
    },
    {
      "metadata": {
        "id": "XQ43-BO15H7m",
        "colab_type": "code",
        "colab": {}
      },
      "cell_type": "code",
      "source": [
        ""
      ],
      "execution_count": 0,
      "outputs": []
    }
  ]
}